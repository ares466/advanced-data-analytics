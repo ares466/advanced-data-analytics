{
 "cells": [
  {
   "cell_type": "markdown",
   "id": "00c57bae-c867-4420-a0b7-2801b98eb77b",
   "metadata": {},
   "source": [
    "# Python"
   ]
  },
  {
   "cell_type": "markdown",
   "id": "a8f117a7-5b1b-4b68-86b0-fe62454d7a97",
   "metadata": {},
   "source": [
    "\n",
    "## Intro to Python"
   ]
  },
  {
   "cell_type": "markdown",
   "id": "6370f247-3235-4ad9-a99f-b87e0802b756",
   "metadata": {},
   "source": [
    "*Computer programming* is the process of giving instructions to a computer to perform an action or set of actions. Computer programming is done using a *programming language*--the words and symbols we use to write instructions for computers to follow.\n",
    "\n",
    "Data professionals use Python to analyze data in faster, more efficient, and more powerful ways because it optimizes every phase of the data workflow--exploring, cleaning, visualizing data, and creating machine learning models."
   ]
  },
  {
   "cell_type": "markdown",
   "id": "f78115ca-3820-40e1-a7d2-94489dedc5fc",
   "metadata": {},
   "source": [
    "Python, R, Java, and C++ are four of the most commonly used programming languages for data analysis. The following chart compares them using five considerations: speed, accessibility, variable, data science focus, and programming paradigm.\n",
    "- Speed: Compile time, runtime, hardware, installed dependencies, and code efficiency all contribute to the speed of a program's execution.\n",
    "- Accessibility: Refers to how easy the programming language is to learn and use.\n",
    "- Variables: The way a program uses variables will have an effect on a systems core operations or kernel speed. Languages that use *static variables* (i.e., strongly-typed) maintain a value throughout the entire run of a program. Languages that use *dynamic variables* (i.e., weakly-typed) allow values to be determined when the program is run.\n",
    "- Data science focus: Some programming languages have individual characteristics that better serve tasks in data analysis.\n",
    "- Programming paradigm: *Object-oriented* programming languages are modeled around data objects. *Functional* programming languages are modeled around functions. *Imperative* lanaguages are modeled around code statements that can alter the state of the program itself.\n",
    "\n",
    "\n",
    "| Features by software | Python | R | Java | C++ |\n",
    "| --- | --- | --- | --- | --- |\n",
    "| Speed | Slower | Depends on configuration and add-ons | Faster | Very Fast |\n",
    "| Accessibility | Easy to learn | Complex | Easy to learn | Complex |\n",
    "| Variable | Dynamic | Dynamic | Static | Declarative |\n",
    "| Data science focus | Machine learning and automated analysis | Exploratory data analysis and building extensive statistical libraries | Used across projects with open-source assets | Not as widely used but very powerful implementations | \n",
    "| Programming paradigm | Object-oriented | Functional | Object-oriented | Multi-paradigm (imperative & object oriented |"
   ]
  },
  {
   "cell_type": "markdown",
   "id": "1434eb3c-8736-4422-9eaa-51c01f8e98c7",
   "metadata": {},
   "source": [
    "<a name=\"jupyter-notebooks\"></a>\n",
    "## Jupyter Notebooks"
   ]
  },
  {
   "cell_type": "markdown",
   "id": "9df81fdd-985c-44f7-8277-5f0295bef07e",
   "metadata": {},
   "source": [
    "*Jupyter notebooks* are open-source web appplications for creating and sharing documents containing live code, mathematical formuals, visualizations, and text.\n",
    "\n",
    "Jupyter notebooks are partitioned into *cells*--modular code input or output fields.\n",
    "\n",
    "Learn more about Jupyter notebooks and the Jupyter project online: [docs.jupyter.org](https://docs.jupyter.org/en/latest/https://docs.jupyter.org/en/latest/)."
   ]
  },
  {
   "cell_type": "markdown",
   "id": "eae65bfe-07c3-4cfd-b650-4ed403c529db",
   "metadata": {},
   "source": [
    "## Object-Oriented Programming"
   ]
  },
  {
   "cell_type": "markdown",
   "id": "5ddb885c-97bc-43a4-bc20-8e436e672b89",
   "metadata": {},
   "source": [
    "Object-oriented programming is a programming system that is based around objects, which can contain both data and code that manipulates that data.\n",
    "\n",
    "An *object* is an instance of a class; a fundamental building block of Python. A *class* is an object's data type that bundles data and functionality together."
   ]
  },
  {
   "cell_type": "markdown",
   "id": "b905878d-4515-4b2a-a012-34ec6e69c684",
   "metadata": {},
   "source": [
    "As an example, by assigning a value to the *string* class, it enables us to use functionality of a string, including `swapcase`, `replace`, and `split`."
   ]
  },
  {
   "cell_type": "code",
   "execution_count": 3,
   "id": "1bb6704c-bacc-45ac-b3e1-8068888236a3",
   "metadata": {},
   "outputs": [
    {
     "name": "stdout",
     "output_type": "stream",
     "text": [
      "<class 'str'>\n"
     ]
    }
   ],
   "source": [
    "# Assign a string to a variable and check its type\n",
    "magic = 'HOCUS POCUS'\n",
    "print(type(magic))"
   ]
  },
  {
   "cell_type": "code",
   "execution_count": 4,
   "id": "08489fd2-b529-4e8b-b5a7-c65c29c7f06b",
   "metadata": {},
   "outputs": [
    {
     "data": {
      "text/plain": [
       "'hocus pocus'"
      ]
     },
     "execution_count": 4,
     "metadata": {},
     "output_type": "execute_result"
    }
   ],
   "source": [
    "# Use swapcase() string method to convert from caps to lowercase\n",
    "magic = 'HOCUS POCUS'\n",
    "magic = magic.swapcase()\n",
    "magic"
   ]
  },
  {
   "cell_type": "code",
   "execution_count": 5,
   "id": "16986fb2-3f39-42d6-a743-f0a66a59b57c",
   "metadata": {},
   "outputs": [
    {
     "data": {
      "text/plain": [
       "'hokey pokey'"
      ]
     },
     "execution_count": 5,
     "metadata": {},
     "output_type": "execute_result"
    }
   ],
   "source": [
    "# Use replace() string method to replace some letters with other letters\n",
    "magic = magic.replace('cus', 'key')\n",
    "magic"
   ]
  },
  {
   "cell_type": "code",
   "execution_count": 6,
   "id": "fbf59f7d-a4ee-40a0-b28a-36e3eb7f9f7a",
   "metadata": {},
   "outputs": [
    {
     "data": {
      "text/plain": [
       "['hokey', 'pokey']"
      ]
     },
     "execution_count": 6,
     "metadata": {},
     "output_type": "execute_result"
    }
   ],
   "source": [
    "# Use split() string method to split the string into 2 strings\n",
    "magic = magic.split()\n",
    "magic"
   ]
  },
  {
   "cell_type": "markdown",
   "id": "6d5a7d87-388c-4d2d-adc4-9a3227b6f785",
   "metadata": {},
   "source": [
    "`swapcase`, `replace`, and `split` are examples of *methods*. A method is a function that belongs to a class and typically performs an action or operation.\n",
    "\n",
    "Methods and attributes in a class are acccessed using *dot notation*. \n",
    "\n",
    "The core Python classes include:\n",
    "- Integers\n",
    "- Floats\n",
    "- Strings\n",
    "- Booleans\n",
    "- Lists\n",
    "- Dictionaries\n",
    "- Tuples\n",
    "- Sets\n",
    "- Frozensets\n",
    "- Functions\n",
    "- Ranges\n",
    "- None"
   ]
  },
  {
   "cell_type": "markdown",
   "id": "023eb319-41e7-4770-9e2d-cd4de0180c01",
   "metadata": {},
   "source": [
    "An *attribute* is a value associated with an object or class which is reference by name using dot notation.\n",
    "\n",
    "For example, a Pandas DataFrame has attributes called `shape` and `columns`."
   ]
  },
  {
   "cell_type": "code",
   "execution_count": 8,
   "id": "9c080b10-cc91-400b-a936-87d8f11c1249",
   "metadata": {},
   "outputs": [
    {
     "name": "stdout",
     "output_type": "stream",
     "text": [
      "Collecting pandas\n",
      "  Downloading pandas-2.0.2-cp39-cp39-macosx_11_0_arm64.whl (10.9 MB)\n",
      "     |████████████████████████████████| 10.9 MB 12.2 MB/s            \n",
      "\u001b[?25hCollecting tzdata>=2022.1\n",
      "  Downloading tzdata-2023.3-py2.py3-none-any.whl (341 kB)\n",
      "     |████████████████████████████████| 341 kB 7.6 MB/s            \n",
      "\u001b[?25hRequirement already satisfied: numpy>=1.20.3 in /Users/andrewrife/mambaforge/lib/python3.9/site-packages (from pandas) (1.21.5)\n",
      "Requirement already satisfied: pytz>=2020.1 in /Users/andrewrife/mambaforge/lib/python3.9/site-packages (from pandas) (2021.3)\n",
      "Requirement already satisfied: python-dateutil>=2.8.2 in /Users/andrewrife/mambaforge/lib/python3.9/site-packages (from pandas) (2.8.2)\n",
      "Requirement already satisfied: six>=1.5 in /Users/andrewrife/mambaforge/lib/python3.9/site-packages (from python-dateutil>=2.8.2->pandas) (1.16.0)\n",
      "Installing collected packages: tzdata, pandas\n",
      "Successfully installed pandas-2.0.2 tzdata-2023.3\n",
      "Note: you may need to restart the kernel to use updated packages.\n"
     ]
    }
   ],
   "source": [
    "pip install pandas"
   ]
  },
  {
   "cell_type": "code",
   "execution_count": 9,
   "id": "2e5a770a-9608-49a4-a0eb-b0693f875af8",
   "metadata": {},
   "outputs": [],
   "source": [
    "# Set-up cell to create the `planets` dataframe\n",
    "# (This cell was not shown in the instructional video.)\n",
    "import pandas as pd\n",
    "data = [['Mercury', 2440, 0], ['Venus', 6052, 0,], ['Earth', 6371, 1],\n",
    "        ['Mars', 3390, 2], ['Jupiter', 69911, 80], ['Saturn', 58232, 83],\n",
    "        ['Uranus', 25362, 27], ['Neptune', 24622, 14]\n",
    "]\n",
    "\n",
    "cols = ['Planet', 'radius_km', 'moons']\n",
    "\n",
    "planets = pd.DataFrame(data, columns=cols)"
   ]
  },
  {
   "cell_type": "code",
   "execution_count": 10,
   "id": "83569c79-bd41-4c09-be9b-c819ab9bcd6b",
   "metadata": {},
   "outputs": [
    {
     "data": {
      "text/html": [
       "<div>\n",
       "<style scoped>\n",
       "    .dataframe tbody tr th:only-of-type {\n",
       "        vertical-align: middle;\n",
       "    }\n",
       "\n",
       "    .dataframe tbody tr th {\n",
       "        vertical-align: top;\n",
       "    }\n",
       "\n",
       "    .dataframe thead th {\n",
       "        text-align: right;\n",
       "    }\n",
       "</style>\n",
       "<table border=\"1\" class=\"dataframe\">\n",
       "  <thead>\n",
       "    <tr style=\"text-align: right;\">\n",
       "      <th></th>\n",
       "      <th>Planet</th>\n",
       "      <th>radius_km</th>\n",
       "      <th>moons</th>\n",
       "    </tr>\n",
       "  </thead>\n",
       "  <tbody>\n",
       "    <tr>\n",
       "      <th>0</th>\n",
       "      <td>Mercury</td>\n",
       "      <td>2440</td>\n",
       "      <td>0</td>\n",
       "    </tr>\n",
       "    <tr>\n",
       "      <th>1</th>\n",
       "      <td>Venus</td>\n",
       "      <td>6052</td>\n",
       "      <td>0</td>\n",
       "    </tr>\n",
       "    <tr>\n",
       "      <th>2</th>\n",
       "      <td>Earth</td>\n",
       "      <td>6371</td>\n",
       "      <td>1</td>\n",
       "    </tr>\n",
       "    <tr>\n",
       "      <th>3</th>\n",
       "      <td>Mars</td>\n",
       "      <td>3390</td>\n",
       "      <td>2</td>\n",
       "    </tr>\n",
       "    <tr>\n",
       "      <th>4</th>\n",
       "      <td>Jupiter</td>\n",
       "      <td>69911</td>\n",
       "      <td>80</td>\n",
       "    </tr>\n",
       "    <tr>\n",
       "      <th>5</th>\n",
       "      <td>Saturn</td>\n",
       "      <td>58232</td>\n",
       "      <td>83</td>\n",
       "    </tr>\n",
       "    <tr>\n",
       "      <th>6</th>\n",
       "      <td>Uranus</td>\n",
       "      <td>25362</td>\n",
       "      <td>27</td>\n",
       "    </tr>\n",
       "    <tr>\n",
       "      <th>7</th>\n",
       "      <td>Neptune</td>\n",
       "      <td>24622</td>\n",
       "      <td>14</td>\n",
       "    </tr>\n",
       "  </tbody>\n",
       "</table>\n",
       "</div>"
      ],
      "text/plain": [
       "    Planet  radius_km  moons\n",
       "0  Mercury       2440      0\n",
       "1    Venus       6052      0\n",
       "2    Earth       6371      1\n",
       "3     Mars       3390      2\n",
       "4  Jupiter      69911     80\n",
       "5   Saturn      58232     83\n",
       "6   Uranus      25362     27\n",
       "7  Neptune      24622     14"
      ]
     },
     "execution_count": 10,
     "metadata": {},
     "output_type": "execute_result"
    }
   ],
   "source": [
    "# Display the `planets` dataframe\n",
    "planets"
   ]
  },
  {
   "cell_type": "code",
   "execution_count": 11,
   "id": "c5550897-2804-479f-9e1c-c29521f92182",
   "metadata": {},
   "outputs": [
    {
     "data": {
      "text/plain": [
       "(8, 3)"
      ]
     },
     "execution_count": 11,
     "metadata": {},
     "output_type": "execute_result"
    }
   ],
   "source": [
    "# Use shape dataframe attribute to check number of rows and columns\n",
    "planets.shape"
   ]
  },
  {
   "cell_type": "code",
   "execution_count": 12,
   "id": "bef9fe25-ea85-4973-8364-063ebb643b1e",
   "metadata": {},
   "outputs": [
    {
     "data": {
      "text/plain": [
       "Index(['Planet', 'radius_km', 'moons'], dtype='object')"
      ]
     },
     "execution_count": 12,
     "metadata": {},
     "output_type": "execute_result"
    }
   ],
   "source": [
    "# Use columns dataframe attribute to check column names\n",
    "planets.columns"
   ]
  },
  {
   "cell_type": "markdown",
   "id": "052e387c-f9a3-47f4-93b4-7d322165d6ca",
   "metadata": {},
   "source": [
    "Python lets you define your own classes, each with their own special attributes and methods.\n",
    "\n",
    "For example, suppose we want to build a Spaceship class to be reused later. A class is like a blueprint for all things that share characteristics and behaviors. In this case, the class is Spaceship. There can be all different kinds of spaceships. They can have different names and different purposes. Whenever you create an object of a given class, you’re creating an instance of that class."
   ]
  },
  {
   "cell_type": "code",
   "execution_count": 14,
   "id": "195ff7de-dd6d-4316-9f04-09c0286d46d9",
   "metadata": {},
   "outputs": [],
   "source": [
    "class Spaceship:\n",
    "    \n",
    "    # class attribute\n",
    "    tractor_beam = 'off'\n",
    "    \n",
    "    # class constructor--called whenever a new instance of the class is created\n",
    "    def __init__(self, name, kind):\n",
    "        self.name = name\n",
    "        self.kind = kind\n",
    "        self.speed = None\n",
    "    \n",
    "    # instance methods\n",
    "    def warp (self, warp):\n",
    "        self.speed = warp\n",
    "        print(f'Warp {warp}, engage!')\n",
    "        \n",
    "    def tractor(self):\n",
    "        if self.tractor_beam == 'off':\n",
    "            self.tractor_beam = 'on'\n",
    "            print('Tractor beam on.')\n",
    "        else:\n",
    "            self.tractor_beam = 'off'\n",
    "            print('Tractor beam off.')"
   ]
  },
  {
   "cell_type": "markdown",
   "id": "eb26939e-3507-4e5d-a6e7-1b0d0cf85510",
   "metadata": {},
   "source": [
    "To create an instance of a `Spaceship`, we need to supply a name and kind. Then, we can use the functions and attributes of the instance."
   ]
  },
  {
   "cell_type": "code",
   "execution_count": 16,
   "id": "61af18e4-b966-4691-aff5-b39e8bc6281c",
   "metadata": {},
   "outputs": [
    {
     "name": "stdout",
     "output_type": "stream",
     "text": [
      "Mockingbird\n",
      "rescue frigate\n",
      "off\n",
      "Warp 7, engage!\n",
      "Tractor beam on.\n",
      "on\n"
     ]
    }
   ],
   "source": [
    "# Create an instance of the Spaceship class (i.e. \"instantiate\")\n",
    "ship = Spaceship('Mockingbird','rescue frigate')\n",
    "\n",
    "# Check ship's name\n",
    "print(ship.name)\n",
    "\n",
    "# Check what kind of ship it is\n",
    "print(ship.kind)\n",
    "\n",
    "# Check tractor beam status\n",
    "print(ship.tractor_beam)\n",
    "\n",
    "# Set warp speed\n",
    "ship.warp(7)\n",
    "\n",
    "# Check speed\n",
    "ship.speed\n",
    "\n",
    "# Toggle tractor beam\n",
    "ship.tractor()\n",
    "\n",
    "# Check tractor beam status\n",
    "print(ship.tractor_beam)"
   ]
  },
  {
   "cell_type": "markdown",
   "id": "c1dc168f-bd6d-428c-8b80-68d51a4d2bbf",
   "metadata": {},
   "source": [
    "## Variables and data types"
   ]
  },
  {
   "cell_type": "markdown",
   "id": "766c5fa8-39eb-4621-8a62-3281ca40ea6f",
   "metadata": {},
   "source": [
    "Variables can store values of any data type. A data type is an attribute that describes a piece of data based on its values, its programming language, or the operations it can perform.\n",
    "\n",
    "*Assignment* means the process of storing a value in a variable. An *expression* is a combination of numbers, symbols, or other variables that produce a result when evaluated.\n",
    "\n",
    "Python is *dynamically-typed*. This means that variables can point to objects of any type."
   ]
  },
  {
   "cell_type": "markdown",
   "id": "fd4dfbba-a599-4fef-afeb-94402e59a6ba",
   "metadata": {},
   "source": [
    "*Naming restrictions* are rules built into the language that must be followed. When naming variables, programmers must adhere to all naming conventions.\n",
    "\n",
    "- *Keywords* must be avoided when naming variables. Keywords are special words that are reserved for a specific purpose and can only be used for that purpose (e.g., `for`, `in`, `if`, `else`).\n",
    "- Avoid using function names in variables (e.g., `str`, `print`).\n",
    "- Only include letters, numbers, and underscores. You cannot use special characters or whitespace. Variable names must start with a letter or an underscore.\n",
    "\n",
    "Variable names are case-sensitive.\n",
    "\n",
    "There are some best-practice naming conventions to help make code readable and maintainable:\n",
    "- Descriptive names are better than cryptic abbreviations because they help other programmers (and you) read and interpret your code.\n",
    "- Variable names and function names should be written in snake_case, which means that all letters are lowercase and words are separated using an underscore. \n",
    "\n",
    "See [PEP 8 Style Guide for Python](https://peps.python.org/pep-0008/) to review other style tips."
   ]
  },
  {
   "cell_type": "code",
   "execution_count": 1,
   "id": "a6a83339-b326-477b-884b-2737609af4cd",
   "metadata": {},
   "outputs": [],
   "source": [
    "# Assign a list containing players' ages\n",
    "age_list = [34, 25, 23, 19, 29]"
   ]
  },
  {
   "cell_type": "code",
   "execution_count": 7,
   "id": "a9c38765-0987-4e06-a092-a0041cf44bec",
   "metadata": {},
   "outputs": [
    {
     "data": {
      "text/plain": [
       "34"
      ]
     },
     "execution_count": 7,
     "metadata": {},
     "output_type": "execute_result"
    }
   ],
   "source": [
    "# Find the maximum age and assign to `max_age` variable\n",
    "max_age = max(age_list)\n",
    "max_age"
   ]
  },
  {
   "cell_type": "code",
   "execution_count": 3,
   "id": "bbc56f6f-8ac0-48b0-aad5-a3436bb054f1",
   "metadata": {},
   "outputs": [
    {
     "data": {
      "text/plain": [
       "'34'"
      ]
     },
     "execution_count": 3,
     "metadata": {},
     "output_type": "execute_result"
    }
   ],
   "source": [
    "# Convert `max_age` to a string\n",
    "max_age = str(max_age)\n",
    "max_age"
   ]
  },
  {
   "cell_type": "code",
   "execution_count": 4,
   "id": "c60efb92-3488-44b0-aee0-619383f5cd9c",
   "metadata": {},
   "outputs": [
    {
     "data": {
      "text/plain": [
       "'ninety-nine'"
      ]
     },
     "execution_count": 4,
     "metadata": {},
     "output_type": "execute_result"
    }
   ],
   "source": [
    "# Reassign the value of `max_age`\n",
    "max_age = 'ninety-nine'\n",
    "max_age"
   ]
  },
  {
   "cell_type": "code",
   "execution_count": 9,
   "id": "81911214-5fc2-448e-8a2b-6615a0b14722",
   "metadata": {},
   "outputs": [
    {
     "data": {
      "text/plain": [
       "15"
      ]
     },
     "execution_count": 9,
     "metadata": {},
     "output_type": "execute_result"
    }
   ],
   "source": [
    "# Find the maximum age and assign to `max_age` variable\n",
    "max_age = max(age_list)\n",
    "# Find the minimum age and assign to `min_age` variable\n",
    "min_age = min(age_list)\n",
    "\n",
    "# Subtract `min_age` from `max_age`\n",
    "max_age - min_age"
   ]
  },
  {
   "cell_type": "markdown",
   "id": "4b789fd8-a6ad-49a1-bac1-1c010e02bc86",
   "metadata": {},
   "source": [
    "Python is able to manipulate variables using operations in expressions."
   ]
  },
  {
   "cell_type": "code",
   "execution_count": 10,
   "id": "bcce0048-9850-44be-a800-d683a1e2e792",
   "metadata": {},
   "outputs": [
    {
     "name": "stdout",
     "output_type": "stream",
     "text": [
      "15\n"
     ]
    }
   ],
   "source": [
    "# Addition of 2 ints\n",
    "print(7+8)"
   ]
  },
  {
   "cell_type": "markdown",
   "id": "7ba24849-da0b-4011-a99d-0426ab41154c",
   "metadata": {},
   "source": [
    "Similar to integers, Python can add (i.e., concatenate) two strings together."
   ]
  },
  {
   "cell_type": "code",
   "execution_count": 11,
   "id": "e5770532-65b0-42e5-9825-49a088b553d5",
   "metadata": {},
   "outputs": [
    {
     "name": "stdout",
     "output_type": "stream",
     "text": [
      "hello world\n"
     ]
    }
   ],
   "source": [
    "# Addition of 2 strings\n",
    "print(\"hello \" + \"world\")"
   ]
  },
  {
   "cell_type": "markdown",
   "id": "1ec71fa5-d18d-4293-826d-a772e15f35ae",
   "metadata": {},
   "source": [
    "However, Python cannot add a string and an integer together."
   ]
  },
  {
   "cell_type": "code",
   "execution_count": 12,
   "id": "f3902640-ad80-4a0f-af3e-c042b6bd4489",
   "metadata": {},
   "outputs": [
    {
     "ename": "TypeError",
     "evalue": "unsupported operand type(s) for +: 'int' and 'str'",
     "output_type": "error",
     "traceback": [
      "\u001b[0;31m---------------------------------------------------------------------------\u001b[0m",
      "\u001b[0;31mTypeError\u001b[0m                                 Traceback (most recent call last)",
      "\u001b[0;32m/var/folders/yq/ns90sjt10y724n5d18pd2jj00000gn/T/ipykernel_36259/637453885.py\u001b[0m in \u001b[0;36m<module>\u001b[0;34m\u001b[0m\n\u001b[1;32m      1\u001b[0m \u001b[0;31m# You cannot add a string to an integer\u001b[0m\u001b[0;34m\u001b[0m\u001b[0;34m\u001b[0m\u001b[0m\n\u001b[0;32m----> 2\u001b[0;31m \u001b[0mprint\u001b[0m\u001b[0;34m(\u001b[0m\u001b[0;36m7\u001b[0m\u001b[0;34m+\u001b[0m\u001b[0;34m\"8\"\u001b[0m\u001b[0;34m)\u001b[0m\u001b[0;34m\u001b[0m\u001b[0;34m\u001b[0m\u001b[0m\n\u001b[0m",
      "\u001b[0;31mTypeError\u001b[0m: unsupported operand type(s) for +: 'int' and 'str'"
     ]
    }
   ],
   "source": [
    "# You cannot add a string to an integer\n",
    "print(7+\"8\")"
   ]
  },
  {
   "cell_type": "markdown",
   "id": "44430151-a16b-4c19-87fb-65217f25e10b",
   "metadata": {},
   "source": [
    "The built-in `type` function can be used to determine the type of a variable."
   ]
  },
  {
   "cell_type": "code",
   "execution_count": 13,
   "id": "131c4abf-d67c-4452-bdcb-6e601ce0088f",
   "metadata": {},
   "outputs": [
    {
     "data": {
      "text/plain": [
       "str"
      ]
     },
     "execution_count": 13,
     "metadata": {},
     "output_type": "execute_result"
    }
   ],
   "source": [
    "# The type() function checks the data type of an object\n",
    "type(\"A\")"
   ]
  },
  {
   "cell_type": "code",
   "execution_count": 14,
   "id": "13291643-43de-43e2-b03e-6b578f3f1e6f",
   "metadata": {},
   "outputs": [
    {
     "data": {
      "text/plain": [
       "int"
      ]
     },
     "execution_count": 14,
     "metadata": {},
     "output_type": "execute_result"
    }
   ],
   "source": [
    "# The type() function checks the data type of an object\n",
    "type(2)"
   ]
  },
  {
   "cell_type": "code",
   "execution_count": null,
   "id": "5f3c2581-0360-4da8-9b87-235cfdffb897",
   "metadata": {},
   "outputs": [],
   "source": [
    "# The type() function checks the data type of an object\n",
    "type(2.5)"
   ]
  },
  {
   "cell_type": "markdown",
   "id": "c10b1cb2-9051-4aff-a50b-6ad8a828957d",
   "metadata": {},
   "source": [
    "Python will implicitly convert the result of an expression to the appropriate data type. In this example, the result of adding an integer and a float together is a float."
   ]
  },
  {
   "cell_type": "code",
   "execution_count": 15,
   "id": "ca2d7897-36f4-446b-ba7c-1e9f7ef8b3c5",
   "metadata": {},
   "outputs": [
    {
     "name": "stdout",
     "output_type": "stream",
     "text": [
      "3.5\n"
     ]
    }
   ],
   "source": [
    "# Implicit conversion\n",
    "print(1 + 2.5)"
   ]
  },
  {
   "cell_type": "markdown",
   "id": "d732b375-bfbd-461e-b6fb-29bba9e7cdf6",
   "metadata": {},
   "source": [
    "Programmers can also explicitly convert types to another type. In this example, the result of `2+2` is being converted into a string."
   ]
  },
  {
   "cell_type": "code",
   "execution_count": 16,
   "id": "bdb37228-6999-4a48-8022-30d2b80d9e2b",
   "metadata": {},
   "outputs": [
    {
     "name": "stdout",
     "output_type": "stream",
     "text": [
      "2 + 2 = 4\n"
     ]
    }
   ],
   "source": [
    "# Explicit conversion (the str() function converts a number to a string)\n",
    "print(\"2 + 2 = \" + str(2 + 2))"
   ]
  },
  {
   "cell_type": "markdown",
   "id": "7a1d0c5e-6ae8-40c8-a060-79450bdf8a4d",
   "metadata": {},
   "source": [
    "## Functions"
   ]
  },
  {
   "cell_type": "markdown",
   "id": "57973547-b546-4ea8-be48-e56ddd98edbf",
   "metadata": {},
   "source": [
    "Functions and methods are very similar, but there are a few key differences. Methods are a specific type of function. They are functions that belong to a class. \n",
    "\n",
    "To learn more about functions, check out the [Functions reference guide](./content/Functions.pdf) in the content directory.\n",
    "\n",
    "There are many functions built-in to Python like `print()` and `type()`."
   ]
  },
  {
   "cell_type": "code",
   "execution_count": 1,
   "id": "bd77128f-1368-4f17-9efb-77fae55947dc",
   "metadata": {},
   "outputs": [
    {
     "name": "stdout",
     "output_type": "stream",
     "text": [
      "Black dove, where will you go?\n"
     ]
    }
   ],
   "source": [
    "# The print() function can print text to the screen\n",
    "print('Black dove, where will you go?')"
   ]
  },
  {
   "cell_type": "code",
   "execution_count": 2,
   "id": "f16b27a1-e059-4788-a984-90f8559253c6",
   "metadata": {},
   "outputs": [
    {
     "data": {
      "text/plain": [
       "int"
      ]
     },
     "execution_count": 2,
     "metadata": {},
     "output_type": "execute_result"
    }
   ],
   "source": [
    "# The type() function returns an object's data type\n",
    "number = 15\n",
    "\n",
    "type(number)"
   ]
  },
  {
   "cell_type": "code",
   "execution_count": 3,
   "id": "e52e1970-8e38-4e63-a852-ff59edb42800",
   "metadata": {},
   "outputs": [
    {
     "data": {
      "text/plain": [
       "str"
      ]
     },
     "execution_count": 3,
     "metadata": {},
     "output_type": "execute_result"
    }
   ],
   "source": [
    "# The str() function converts an object into a string\n",
    "number = str(number)\n",
    "\n",
    "type(number)"
   ]
  },
  {
   "cell_type": "markdown",
   "id": "10aaceb1-4e50-49f8-9f71-567292405392",
   "metadata": {},
   "source": [
    "You can also define custom functions that accept parameters--like the function below called `greeting()`."
   ]
  },
  {
   "cell_type": "code",
   "execution_count": 4,
   "id": "b69e7546-7114-458b-a152-9ec2e2d63574",
   "metadata": {},
   "outputs": [
    {
     "name": "stdout",
     "output_type": "stream",
     "text": [
      "Welcome, Rebecca!\n",
      "You are part of the team!\n"
     ]
    }
   ],
   "source": [
    "# Define a function\n",
    "def greeting(name):\n",
    "\n",
    "    print('Welcome, ' + name + '!')\n",
    "    print('You are part of the team!')\n",
    "\n",
    "greeting('Rebecca')"
   ]
  },
  {
   "cell_type": "markdown",
   "id": "3f1f0bd9-e16a-41db-b1a4-49a3c16e651c",
   "metadata": {},
   "source": [
    "It is best practice to define a function for code that may need to be repeated many times, like calculating the area of a triangle. By defining the logic inside a function, it can be used to calculate the area of many different triangles."
   ]
  },
  {
   "cell_type": "code",
   "execution_count": 5,
   "id": "bae39ab7-a0b8-4b66-a72d-6c2e0c29e9d1",
   "metadata": {},
   "outputs": [],
   "source": [
    "# Define a function to calculate area of triangle\n",
    "def area_triangle(base, height):\n",
    "    return base * height / 2"
   ]
  },
  {
   "cell_type": "code",
   "execution_count": 6,
   "id": "fe10c73d-4e7d-4f91-ab75-7a2fdaf2a9f7",
   "metadata": {},
   "outputs": [
    {
     "data": {
      "text/plain": [
       "20.5"
      ]
     },
     "execution_count": 6,
     "metadata": {},
     "output_type": "execute_result"
    }
   ],
   "source": [
    "# Use the function to assign new variables and perform calculations\n",
    "area_a = area_triangle(5, 4)\n",
    "area_b = area_triangle(7, 3)\n",
    "total_area = area_a + area_b\n",
    "total_area"
   ]
  },
  {
   "cell_type": "code",
   "execution_count": 7,
   "id": "60e9c77d-8244-4a37-8818-345fee22f6be",
   "metadata": {},
   "outputs": [],
   "source": [
    "# Define a function that converts hours, minutes, and seconds to total seconds\n",
    "def get_seconds(hours, minutes, seconds):\n",
    "    total_seconds = 3600*hours + 60*minutes + seconds\n",
    "    return total_seconds"
   ]
  },
  {
   "cell_type": "code",
   "execution_count": 8,
   "id": "cf0f9c78-1ae0-4091-8d66-3ad7bfece8a0",
   "metadata": {},
   "outputs": [
    {
     "data": {
      "text/plain": [
       "60320"
      ]
     },
     "execution_count": 8,
     "metadata": {},
     "output_type": "execute_result"
    }
   ],
   "source": [
    "# Use the function to return a result\n",
    "get_seconds(16, 45, 20)"
   ]
  },
  {
   "cell_type": "markdown",
   "id": "bfe0b639-77ad-4bc6-b697-8d7c542c74a0",
   "metadata": {},
   "source": [
    "## Docstrings\n",
    "\n",
    "Docstrings can be used to scaffold your code. Docstrings are entered at the top of a function as a multi-line string."
   ]
  },
  {
   "cell_type": "code",
   "execution_count": 9,
   "id": "54aca6f2-0e36-497b-8723-7cef15a088d8",
   "metadata": {},
   "outputs": [],
   "source": [
    "def seed_calculator(fountain_side, grass_width):\n",
    "    \"\"\"\n",
    "    Calculate number of kilograms of grass seed needed for\n",
    "    a border around a square fountain.\n",
    "\n",
    "        Parameters:\n",
    "            fountain_side (num): length of 1 side of fountain in meters\n",
    "            grass_width (num): width of grass border in meters\n",
    "\n",
    "        Returns:\n",
    "            seed (float): amount of seed (kg) needed for grass border\n",
    "    \"\"\"\n",
    "    # Area of fountain\n",
    "    fountain_area = fountain_side**2\n",
    "    # Total area\n",
    "    total_area = (fountain_side + 2 * grass_width)**2\n",
    "    # Area of grass border\n",
    "    grass_area = total_area - fountain_area\n",
    "    # Amount of seed needed (35 g/sq.m)\n",
    "    seed = grass_area * 35\n",
    "    # Convert to kg\n",
    "    seed = seed / 1000\n",
    "\n",
    "    return seed"
   ]
  },
  {
   "cell_type": "code",
   "execution_count": 10,
   "id": "ea513505-b767-430e-a81a-15df71d7c360",
   "metadata": {},
   "outputs": [
    {
     "data": {
      "text/plain": [
       "3.92"
      ]
     },
     "execution_count": 10,
     "metadata": {},
     "output_type": "execute_result"
    }
   ],
   "source": [
    "seed_calculator(12, 2)"
   ]
  },
  {
   "cell_type": "markdown",
   "id": "ec148c77-0fbf-4010-8797-5c93c8ee157a",
   "metadata": {},
   "source": [
    "## Comparitors\n",
    "\n",
    "Python has several built-in comparators:\n",
    "\n",
    "| Operation | Operator |\n",
    "| --- | --- |\n",
    "| greater than | > |\n",
    "| greater than or equal to | >= |\n",
    "| less than | < |\n",
    "| less than or equal to | <= |\n",
    "| not equal to | != |\n",
    "| equal to | == |\n",
    "\n",
    "If you try to compare data types that aren’t compatible, like checking if a string is greater than an integer, Python will throw a `TypeError`. "
   ]
  },
  {
   "cell_type": "code",
   "execution_count": 27,
   "id": "1bf5f83a-37e8-451d-b6ef-53e45a1e2d65",
   "metadata": {},
   "outputs": [
    {
     "name": "stdout",
     "output_type": "stream",
     "text": [
      "True\n"
     ]
    }
   ],
   "source": [
    "# > checks for greater than\n",
    "print(10>1)"
   ]
  },
  {
   "cell_type": "code",
   "execution_count": 13,
   "id": "65968ef2-a36e-460f-a761-190eac066161",
   "metadata": {},
   "outputs": [
    {
     "name": "stdout",
     "output_type": "stream",
     "text": [
      "False\n"
     ]
    }
   ],
   "source": [
    "# == checks for equality\n",
    "print(\"cat\" == \"dog\")"
   ]
  },
  {
   "cell_type": "code",
   "execution_count": 14,
   "id": "fe8a1819-23c0-4b30-89ac-33b35b5f9e05",
   "metadata": {},
   "outputs": [
    {
     "name": "stdout",
     "output_type": "stream",
     "text": [
      "True\n"
     ]
    }
   ],
   "source": [
    "# != checks for inequality\n",
    "print(1 != 2)"
   ]
  },
  {
   "cell_type": "code",
   "execution_count": 15,
   "id": "9d255b5b-90ac-423c-890d-30c72bbb5f61",
   "metadata": {},
   "outputs": [
    {
     "ename": "TypeError",
     "evalue": "'<' not supported between instances of 'int' and 'str'",
     "output_type": "error",
     "traceback": [
      "\u001b[0;31m---------------------------------------------------------------------------\u001b[0m",
      "\u001b[0;31mTypeError\u001b[0m                                 Traceback (most recent call last)",
      "\u001b[0;32m/var/folders/yq/ns90sjt10y724n5d18pd2jj00000gn/T/ipykernel_48167/3604785522.py\u001b[0m in \u001b[0;36m<module>\u001b[0;34m\u001b[0m\n\u001b[1;32m      1\u001b[0m \u001b[0;31m# Some operators cannot be used between different data types\u001b[0m\u001b[0;34m\u001b[0m\u001b[0;34m\u001b[0m\u001b[0m\n\u001b[0;32m----> 2\u001b[0;31m \u001b[0mprint\u001b[0m\u001b[0;34m(\u001b[0m\u001b[0;36m1\u001b[0m \u001b[0;34m<\u001b[0m \u001b[0;34m\"1\"\u001b[0m\u001b[0;34m)\u001b[0m\u001b[0;34m\u001b[0m\u001b[0;34m\u001b[0m\u001b[0m\n\u001b[0m",
      "\u001b[0;31mTypeError\u001b[0m: '<' not supported between instances of 'int' and 'str'"
     ]
    }
   ],
   "source": [
    "# Some operators cannot be used between different data types\n",
    "print(1 < \"1\")"
   ]
  },
  {
   "cell_type": "markdown",
   "id": "839b6995-593f-4cc3-9b43-2d916a462ca9",
   "metadata": {},
   "source": [
    "Python also contains several logical operators to create expressions:\n",
    "    \n",
    "| Operator | Description |\n",
    "| --- | --- | \n",
    "| `and` | evaluates to True only if both statements are true |\n",
    "| `or` | evaluates to True if at least one statement is true |\n",
    "| `not` | reverses the evaluation |"
   ]
  },
  {
   "cell_type": "code",
   "execution_count": 16,
   "id": "b95f2476-1639-483b-9c79-cae2809571f2",
   "metadata": {},
   "outputs": [
    {
     "name": "stdout",
     "output_type": "stream",
     "text": [
      "False\n"
     ]
    }
   ],
   "source": [
    "# Letters that occur earlier in the alphabet evaluate to less than letters from later in the alphabet\n",
    "# BOTH sides of an `and` statement must be true to return True\n",
    "print(\"Yellow\" > \"Cyan\" and \"Brown\" > \"Magenta\")"
   ]
  },
  {
   "cell_type": "code",
   "execution_count": 17,
   "id": "38e4de56-d94f-480c-8eba-26f51b77ae24",
   "metadata": {},
   "outputs": [
    {
     "name": "stdout",
     "output_type": "stream",
     "text": [
      "True\n"
     ]
    }
   ],
   "source": [
    "# An `or` statement will return True if EITHER side evaluates to True\n",
    "print(25 > 50 or 1 != 2)"
   ]
  },
  {
   "cell_type": "code",
   "execution_count": 18,
   "id": "05e25bb7-0db3-42fd-ae61-e3be8761018d",
   "metadata": {},
   "outputs": [
    {
     "name": "stdout",
     "output_type": "stream",
     "text": [
      "True\n"
     ]
    }
   ],
   "source": [
    "# `not` reverses Boolean evaluation of what follows it\n",
    "print(not 42 == \"Answer\")"
   ]
  },
  {
   "cell_type": "markdown",
   "id": "1acfc95b-4cc7-4061-8bcd-643c6b49aa5e",
   "metadata": {},
   "source": [
    "## Conditional Statements"
   ]
  },
  {
   "cell_type": "code",
   "execution_count": 20,
   "id": "342a913f-d021-4f33-bc1f-b9fbee0e063b",
   "metadata": {},
   "outputs": [],
   "source": [
    "# Define a function that checks validity of username based on length\n",
    "def hint_username(username):\n",
    "    if len(username) < 8:\n",
    "        print(\"Invalid username. Must be at least 8 characters long.\")\n",
    "    else:\n",
    "        print(\"Valid username.\")"
   ]
  },
  {
   "cell_type": "code",
   "execution_count": 21,
   "id": "aba28567-03d0-45e7-89dc-4e606f3dc7f6",
   "metadata": {},
   "outputs": [],
   "source": [
    "# Define a function that uses modulo to check if a number is even\n",
    "def is_even(number):\n",
    "    if number % 2 == 0:\n",
    "        return True\n",
    "    return False"
   ]
  },
  {
   "cell_type": "code",
   "execution_count": 22,
   "id": "ab3489db-a271-4537-964a-cdbfe1ee436a",
   "metadata": {},
   "outputs": [
    {
     "data": {
      "text/plain": [
       "False"
      ]
     },
     "execution_count": 22,
     "metadata": {},
     "output_type": "execute_result"
    }
   ],
   "source": [
    "is_even(19)"
   ]
  },
  {
   "cell_type": "code",
   "execution_count": 23,
   "id": "af1e863b-9cda-4b34-9c38-a29a359f1c76",
   "metadata": {},
   "outputs": [
    {
     "data": {
      "text/plain": [
       "True"
      ]
     },
     "execution_count": 23,
     "metadata": {},
     "output_type": "execute_result"
    }
   ],
   "source": [
    "is_even(20)"
   ]
  },
  {
   "cell_type": "code",
   "execution_count": 24,
   "id": "d3ff4565-f610-4ea6-aee1-49b8a89bf69c",
   "metadata": {},
   "outputs": [],
   "source": [
    "# Define a function that checks validity of username based on length\n",
    "def hint_username(username):\n",
    "    if len(username) < 8:\n",
    "        print(\"Invalid username. Must be at least 8 characters long.\")\n",
    "    elif len(username) > 15:\n",
    "        print(\"Invalid username. Cannot exceed 15 characters.\")\n",
    "    else:\n",
    "        print(\"Valid username.\")"
   ]
  },
  {
   "cell_type": "code",
   "execution_count": 25,
   "id": "a82c2ef8-3ccc-4ab9-8663-5470fdc65b84",
   "metadata": {},
   "outputs": [
    {
     "name": "stdout",
     "output_type": "stream",
     "text": [
      "Invalid username. Cannot exceed 15 characters.\n"
     ]
    }
   ],
   "source": [
    "hint_username(\"ljñkljfñklasdjflkñadjglk{a\")"
   ]
  },
  {
   "cell_type": "markdown",
   "id": "6ae4748a-c8c1-403e-99f6-53cabb0577ff",
   "metadata": {},
   "source": [
    "## Loops"
   ]
  },
  {
   "cell_type": "markdown",
   "id": "5b7675ba-1236-4b42-8be8-65209437ec06",
   "metadata": {},
   "source": [
    "### While Loops"
   ]
  },
  {
   "cell_type": "code",
   "execution_count": 29,
   "id": "8ee9044c-889b-4b81-a1fe-9c295f002bf4",
   "metadata": {},
   "outputs": [
    {
     "name": "stdout",
     "output_type": "stream",
     "text": [
      "Not there yet, x=0\n",
      "x=1\n",
      "Not there yet, x=1\n",
      "x=2\n",
      "Not there yet, x=2\n",
      "x=3\n",
      "Not there yet, x=3\n",
      "x=4\n",
      "Not there yet, x=4\n",
      "x=5\n"
     ]
    }
   ],
   "source": [
    "# Instantiate a counter\n",
    "x = 0\n",
    "\n",
    "# Create a while loop that prints \"not there yet\", increments x by 1, a\n",
    "# and prints x until x reaches 5\n",
    "while x < 5:\n",
    "    print('Not there yet, x=' + str(x))\n",
    "    x = x + 1\n",
    "    print('x=' + str(x))"
   ]
  },
  {
   "cell_type": "code",
   "execution_count": 30,
   "id": "19704c48-031c-4cb6-8ea3-ca017b658147",
   "metadata": {},
   "outputs": [
    {
     "name": "stdout",
     "output_type": "stream",
     "text": [
      "Guess a number between 1 and 25: \n"
     ]
    },
    {
     "name": "stdin",
     "output_type": "stream",
     "text": [
      " 24\n"
     ]
    },
    {
     "name": "stdout",
     "output_type": "stream",
     "text": [
      "Nope! Try again.\n",
      "Guess a number between 1 and 25: \n"
     ]
    },
    {
     "name": "stdin",
     "output_type": "stream",
     "text": [
      " 13\n"
     ]
    },
    {
     "name": "stdout",
     "output_type": "stream",
     "text": [
      "Nope! Try again.\n",
      "Guess a number between 1 and 25: \n"
     ]
    },
    {
     "name": "stdin",
     "output_type": "stream",
     "text": [
      " 15\n"
     ]
    },
    {
     "name": "stdout",
     "output_type": "stream",
     "text": [
      "Nope! Try again.\n",
      "Guess a number between 1 and 25: \n"
     ]
    },
    {
     "name": "stdin",
     "output_type": "stream",
     "text": [
      " 17\n"
     ]
    },
    {
     "name": "stdout",
     "output_type": "stream",
     "text": [
      "Nope! Try again.\n",
      "Guess a number between 1 and 25: \n"
     ]
    },
    {
     "name": "stdin",
     "output_type": "stream",
     "text": [
      " 11\n"
     ]
    },
    {
     "name": "stdout",
     "output_type": "stream",
     "text": [
      "You did not guess the number. The number was 12.\n"
     ]
    }
   ],
   "source": [
    "# Import the random module to be able to create a (pseudo)random number\n",
    "import random\n",
    "\n",
    "number = random.randint(1,25)                   # Generate random number\n",
    "number_of_guesses = 0                           # Instantiate guess counter\n",
    "\n",
    "while number_of_guesses < 5:\n",
    "    print('Guess a number between 1 and 25: ')  # Tells user to guess number\n",
    "    guess = input()                             # Produces the user input field\n",
    "    guess = int(guess)                          # Convert guess to integer\n",
    "    number_of_guesses += 1                      # Increment guess count by 1\n",
    "\n",
    "    if guess == number:                         # Break while loop if guess is correct\n",
    "        break\n",
    "    elif number_of_guesses == 5:                # Break while loop if guess limit reached\n",
    "        break\n",
    "    else:                                       # Tell user to try again\n",
    "        print('Nope! Try again.')\n",
    "\n",
    "# Message to display if correct\n",
    "if guess == number:\n",
    "    print('Correct! You guessed the number in ' + str(number_of_guesses) + ' tries!')\n",
    "# Message to display after 5 unsuccessful guesses\n",
    "else:\n",
    "    print('You did not guess the number. The number was ' + str(number) + '.')"
   ]
  },
  {
   "cell_type": "markdown",
   "id": "580a5691-63da-4711-a357-db65ad828331",
   "metadata": {},
   "source": [
    "### For Loops"
   ]
  },
  {
   "cell_type": "code",
   "execution_count": 32,
   "id": "c3b2d7c6-2eb0-41e1-9f20-c2c4bfa8c6d7",
   "metadata": {},
   "outputs": [
    {
     "name": "stdout",
     "output_type": "stream",
     "text": [
      "0\n",
      "1\n",
      "2\n",
      "3\n",
      "4\n"
     ]
    }
   ],
   "source": [
    "# Example of for loop with range() function\n",
    "for x in range(5):\n",
    "    print(x)"
   ]
  },
  {
   "cell_type": "code",
   "execution_count": 33,
   "id": "07ab844e-8b8b-4bbf-ac52-d8888fa969f1",
   "metadata": {},
   "outputs": [
    {
     "ename": "FileNotFoundError",
     "evalue": "[Errno 2] No such file or directory: 'zen_of_python.txt'",
     "output_type": "error",
     "traceback": [
      "\u001b[0;31m---------------------------------------------------------------------------\u001b[0m",
      "\u001b[0;31mFileNotFoundError\u001b[0m                         Traceback (most recent call last)",
      "\u001b[0;32m/var/folders/yq/ns90sjt10y724n5d18pd2jj00000gn/T/ipykernel_48167/1499919462.py\u001b[0m in \u001b[0;36m<module>\u001b[0;34m\u001b[0m\n\u001b[1;32m      1\u001b[0m \u001b[0;31m# Example of reading in a .txt file line by line with a for loop\u001b[0m\u001b[0;34m\u001b[0m\u001b[0;34m\u001b[0m\u001b[0m\n\u001b[0;32m----> 2\u001b[0;31m \u001b[0;32mwith\u001b[0m \u001b[0mopen\u001b[0m\u001b[0;34m(\u001b[0m\u001b[0;34m'zen_of_python.txt'\u001b[0m\u001b[0;34m)\u001b[0m \u001b[0;32mas\u001b[0m \u001b[0mf\u001b[0m\u001b[0;34m:\u001b[0m\u001b[0;34m\u001b[0m\u001b[0;34m\u001b[0m\u001b[0m\n\u001b[0m\u001b[1;32m      3\u001b[0m     \u001b[0;32mfor\u001b[0m \u001b[0mline\u001b[0m \u001b[0;32min\u001b[0m \u001b[0mf\u001b[0m\u001b[0;34m:\u001b[0m\u001b[0;34m\u001b[0m\u001b[0;34m\u001b[0m\u001b[0m\n\u001b[1;32m      4\u001b[0m         \u001b[0mprint\u001b[0m\u001b[0;34m(\u001b[0m\u001b[0mline\u001b[0m\u001b[0;34m)\u001b[0m\u001b[0;34m\u001b[0m\u001b[0;34m\u001b[0m\u001b[0m\n\u001b[1;32m      5\u001b[0m \u001b[0mprint\u001b[0m\u001b[0;34m(\u001b[0m\u001b[0;34m'\\nI\\'m done.'\u001b[0m\u001b[0;34m)\u001b[0m\u001b[0;34m\u001b[0m\u001b[0;34m\u001b[0m\u001b[0m\n",
      "\u001b[0;31mFileNotFoundError\u001b[0m: [Errno 2] No such file or directory: 'zen_of_python.txt'"
     ]
    }
   ],
   "source": [
    "# Example of reading in a .txt file line by line with a for loop\n",
    "with open('zen_of_python.txt') as f:\n",
    "    for line in f:\n",
    "        print(line)\n",
    "print('\\nI\\'m done.')"
   ]
  },
  {
   "cell_type": "code",
   "execution_count": 34,
   "id": "5f27e955-9d9b-4c69-9191-d95b316526e7",
   "metadata": {},
   "outputs": [
    {
     "name": "stdout",
     "output_type": "stream",
     "text": [
      "362880\n"
     ]
    }
   ],
   "source": [
    "# Use a for loop to calculate 9!\n",
    "product = 1\n",
    "for n in range(1, 10):\n",
    "    product = product * n\n",
    "\n",
    "print(product)"
   ]
  },
  {
   "cell_type": "code",
   "execution_count": 35,
   "id": "581fb417-f39f-47b4-976b-714cdeb19a8b",
   "metadata": {},
   "outputs": [
    {
     "name": "stdout",
     "output_type": "stream",
     "text": [
      "0 -17.77777777777778\n",
      "10 -12.222222222222221\n",
      "20 -6.666666666666667\n",
      "30 -1.1111111111111112\n",
      "40 4.444444444444445\n",
      "50 10.0\n",
      "60 15.555555555555555\n",
      "70 21.11111111111111\n",
      "80 26.666666666666668\n",
      "90 32.22222222222222\n",
      "100 37.77777777777778\n"
     ]
    }
   ],
   "source": [
    "# Define a function that converts Fahrenheit to Celsius\n",
    "def to_celsius(x):\n",
    "     return (x-32) * 5/9\n",
    "\n",
    "# Create a table of Celsius-->Fahrenheit conversions every 10 degrees, 0-100\n",
    "for x in range(0, 101, 10):\n",
    "     print(x, to_celsius(x))"
   ]
  },
  {
   "cell_type": "markdown",
   "id": "d93f7729-abeb-476b-8b64-7545d6dbc37a",
   "metadata": {},
   "source": [
    "### Strings"
   ]
  },
  {
   "cell_type": "code",
   "execution_count": 37,
   "id": "f62b6c0b-2ea1-47b1-8f65-4ad5113215e6",
   "metadata": {},
   "outputs": [
    {
     "data": {
      "text/plain": [
       "'Helloworld'"
      ]
     },
     "execution_count": 37,
     "metadata": {},
     "output_type": "execute_result"
    }
   ],
   "source": [
    "# Adding strings will combine them\n",
    "'Hello' + 'world'"
   ]
  },
  {
   "cell_type": "code",
   "execution_count": 38,
   "id": "04fea9d6-aeba-464a-8a8f-4406d337c1fd",
   "metadata": {},
   "outputs": [
    {
     "data": {
      "text/plain": [
       "'Hello world'"
      ]
     },
     "execution_count": 38,
     "metadata": {},
     "output_type": "execute_result"
    }
   ],
   "source": [
    "# Blank space (\"whitespace\") is its own character\n",
    "'Hello ' + 'world'"
   ]
  },
  {
   "cell_type": "code",
   "execution_count": 39,
   "id": "2ab0e86f-f358-4301-8265-b24ee270ea5f",
   "metadata": {},
   "outputs": [
    {
     "data": {
      "text/plain": [
       "'Hello world'"
      ]
     },
     "execution_count": 39,
     "metadata": {},
     "output_type": "execute_result"
    }
   ],
   "source": [
    "# Including a whitespace when combining strings\n",
    "'Hello' + ' ' + 'world'"
   ]
  },
  {
   "cell_type": "code",
   "execution_count": 40,
   "id": "75bba14d-99bd-4fb6-be6b-5bfec5747f64",
   "metadata": {},
   "outputs": [
    {
     "data": {
      "text/plain": [
       "'Hello world'"
      ]
     },
     "execution_count": 40,
     "metadata": {},
     "output_type": "execute_result"
    }
   ],
   "source": [
    "# Variables containing strings can be added\n",
    "greeting_1 = 'Hello '\n",
    "greeting_2 = 'world'\n",
    "greeting_1 + greeting_2"
   ]
  },
  {
   "cell_type": "code",
   "execution_count": 41,
   "id": "16f3cf6d-565f-46b3-9e5c-744f81f2de1c",
   "metadata": {},
   "outputs": [
    {
     "data": {
      "text/plain": [
       "'Danger! Danger! Danger! '"
      ]
     },
     "execution_count": 41,
     "metadata": {},
     "output_type": "execute_result"
    }
   ],
   "source": [
    "# Strings can be multiplied by integers\n",
    "danger = 'Danger! '\n",
    "danger * 3"
   ]
  },
  {
   "cell_type": "code",
   "execution_count": 42,
   "id": "a1db744d-265a-40a8-8ea4-e983d784dc13",
   "metadata": {},
   "outputs": [
    {
     "ename": "TypeError",
     "evalue": "unsupported operand type(s) for -: 'str' and 'int'",
     "output_type": "error",
     "traceback": [
      "\u001b[0;31m---------------------------------------------------------------------------\u001b[0m",
      "\u001b[0;31mTypeError\u001b[0m                                 Traceback (most recent call last)",
      "\u001b[0;32m/var/folders/yq/ns90sjt10y724n5d18pd2jj00000gn/T/ipykernel_48167/1941165815.py\u001b[0m in \u001b[0;36m<module>\u001b[0;34m\u001b[0m\n\u001b[1;32m      1\u001b[0m \u001b[0;31m# Strings cannot be used with subtraction or division\u001b[0m\u001b[0;34m\u001b[0m\u001b[0;34m\u001b[0m\u001b[0m\n\u001b[0;32m----> 2\u001b[0;31m \u001b[0mdanger\u001b[0m \u001b[0;34m-\u001b[0m \u001b[0;36m2\u001b[0m\u001b[0;34m\u001b[0m\u001b[0;34m\u001b[0m\u001b[0m\n\u001b[0m",
      "\u001b[0;31mTypeError\u001b[0m: unsupported operand type(s) for -: 'str' and 'int'"
     ]
    }
   ],
   "source": [
    "# Strings cannot be used with subtraction or division\n",
    "danger - 2"
   ]
  },
  {
   "cell_type": "code",
   "execution_count": 43,
   "id": "97749432-7d10-4d11-b505-43fa318e40e7",
   "metadata": {},
   "outputs": [
    {
     "name": "stdout",
     "output_type": "stream",
     "text": [
      "\"Thank you for pressing the self-destruct button.\"\n"
     ]
    }
   ],
   "source": [
    "# Alternate single and double quotes to include one or the other in your string\n",
    "quote = '\"Thank you for pressing the self-destruct button.\"'\n",
    "print(quote)"
   ]
  },
  {
   "cell_type": "code",
   "execution_count": 44,
   "id": "aa265444-452e-43d5-ab86-4c227491f559",
   "metadata": {},
   "outputs": [
    {
     "name": "stdout",
     "output_type": "stream",
     "text": [
      "\"It's dangerous to go alone!\"\n"
     ]
    }
   ],
   "source": [
    "# \\ is an escape character that modifies the character that follows it\n",
    "quote = \"\\\"It's dangerous to go alone!\\\"\"\n",
    "print(quote)"
   ]
  },
  {
   "cell_type": "code",
   "execution_count": 45,
   "id": "f88c3b6c-7063-4eeb-b532-c38016aff1b9",
   "metadata": {},
   "outputs": [
    {
     "name": "stdout",
     "output_type": "stream",
     "text": [
      "Good day,\n",
      "sir.\n"
     ]
    }
   ],
   "source": [
    "# \\n creates a newline\n",
    "greeting = \"Good day,\\nsir.\"\n",
    "print(greeting)"
   ]
  },
  {
   "cell_type": "code",
   "execution_count": 46,
   "id": "e6464caf-d93c-46c1-9104-01b8453d0bb9",
   "metadata": {},
   "outputs": [
    {
     "name": "stdout",
     "output_type": "stream",
     "text": [
      "\\n represents a newline in Python.\n"
     ]
    }
   ],
   "source": [
    "# Using escape character (\\) lets you express the newline symbol within a string\n",
    "newline = \"\\\\n represents a newline in Python.\"\n",
    "print(newline)"
   ]
  },
  {
   "cell_type": "code",
   "execution_count": 47,
   "id": "35617c3e-ebe4-4da8-95cb-84804980c46a",
   "metadata": {},
   "outputs": [
    {
     "name": "stdout",
     "output_type": "stream",
     "text": [
      "Put\n",
      "yut\n",
      "tut\n",
      "hut\n",
      "out\n",
      "nut\n"
     ]
    }
   ],
   "source": [
    "# You can loop over strings\n",
    "python = 'Python'\n",
    "for letter in python:\n",
    "    print(letter + 'ut')"
   ]
  },
  {
   "cell_type": "code",
   "execution_count": 48,
   "id": "727bd59a-eeba-4289-b121-fc7f1f47d559",
   "metadata": {},
   "outputs": [
    {
     "data": {
      "text/plain": [
       "3"
      ]
     },
     "execution_count": 48,
     "metadata": {},
     "output_type": "execute_result"
    }
   ],
   "source": [
    "# The index() method returns index of character's first occurrence in string\n",
    "pets = 'cats and dogs'\n",
    "pets.index('s')"
   ]
  },
  {
   "cell_type": "code",
   "execution_count": 49,
   "id": "60f200d0-e293-4f74-a514-440b1a561f45",
   "metadata": {},
   "outputs": [
    {
     "ename": "ValueError",
     "evalue": "substring not found",
     "output_type": "error",
     "traceback": [
      "\u001b[0;31m---------------------------------------------------------------------------\u001b[0m",
      "\u001b[0;31mValueError\u001b[0m                                Traceback (most recent call last)",
      "\u001b[0;32m/var/folders/yq/ns90sjt10y724n5d18pd2jj00000gn/T/ipykernel_48167/2813354131.py\u001b[0m in \u001b[0;36m<module>\u001b[0;34m\u001b[0m\n\u001b[1;32m      1\u001b[0m \u001b[0;31m# The index() method will throw an error if character is not in string\u001b[0m\u001b[0;34m\u001b[0m\u001b[0;34m\u001b[0m\u001b[0m\n\u001b[0;32m----> 2\u001b[0;31m \u001b[0mpets\u001b[0m\u001b[0;34m.\u001b[0m\u001b[0mindex\u001b[0m\u001b[0;34m(\u001b[0m\u001b[0;34m'z'\u001b[0m\u001b[0;34m)\u001b[0m\u001b[0;34m\u001b[0m\u001b[0;34m\u001b[0m\u001b[0m\n\u001b[0m",
      "\u001b[0;31mValueError\u001b[0m: substring not found"
     ]
    }
   ],
   "source": [
    "# The index() method will throw an error if character is not in string\n",
    "pets.index('z')"
   ]
  },
  {
   "cell_type": "code",
   "execution_count": 50,
   "id": "265ac0bc-62a4-43fe-b7e5-2329576b8fa6",
   "metadata": {},
   "outputs": [
    {
     "data": {
      "text/plain": [
       "'J'"
      ]
     },
     "execution_count": 50,
     "metadata": {},
     "output_type": "execute_result"
    }
   ],
   "source": [
    "# Access the character at a given index of a string\n",
    "name = 'Jolene'\n",
    "name[0]"
   ]
  },
  {
   "cell_type": "code",
   "execution_count": 51,
   "id": "504f773d-8f70-40a4-88ff-15ca9e80077c",
   "metadata": {},
   "outputs": [
    {
     "data": {
      "text/plain": [
       "'e'"
      ]
     },
     "execution_count": 51,
     "metadata": {},
     "output_type": "execute_result"
    }
   ],
   "source": [
    "# Access the character at a given index of a string\n",
    "name[5]"
   ]
  },
  {
   "cell_type": "code",
   "execution_count": 52,
   "id": "061bcbea-72f8-4cdc-9857-5ab8da2e967d",
   "metadata": {},
   "outputs": [
    {
     "ename": "IndexError",
     "evalue": "string index out of range",
     "output_type": "error",
     "traceback": [
      "\u001b[0;31m---------------------------------------------------------------------------\u001b[0m",
      "\u001b[0;31mIndexError\u001b[0m                                Traceback (most recent call last)",
      "\u001b[0;32m/var/folders/yq/ns90sjt10y724n5d18pd2jj00000gn/T/ipykernel_48167/242946715.py\u001b[0m in \u001b[0;36m<module>\u001b[0;34m\u001b[0m\n\u001b[1;32m      1\u001b[0m \u001b[0;31m# Indices that are out of range will return an IndexError\u001b[0m\u001b[0;34m\u001b[0m\u001b[0;34m\u001b[0m\u001b[0m\n\u001b[0;32m----> 2\u001b[0;31m \u001b[0mname\u001b[0m\u001b[0;34m[\u001b[0m\u001b[0;36m6\u001b[0m\u001b[0;34m]\u001b[0m\u001b[0;34m\u001b[0m\u001b[0;34m\u001b[0m\u001b[0m\n\u001b[0m",
      "\u001b[0;31mIndexError\u001b[0m: string index out of range"
     ]
    }
   ],
   "source": [
    "# Indices that are out of range will return an IndexError\n",
    "name[6]"
   ]
  },
  {
   "cell_type": "code",
   "execution_count": 53,
   "id": "74df4f58-dbcf-48c1-9852-892ec0bceb8c",
   "metadata": {},
   "outputs": [
    {
     "data": {
      "text/plain": [
       "'!'"
      ]
     },
     "execution_count": 53,
     "metadata": {},
     "output_type": "execute_result"
    }
   ],
   "source": [
    "# Negative indexing begins at the end of the string\n",
    "sentence = 'A man, a plan, a canal, Panama!'\n",
    "sentence[-1]"
   ]
  },
  {
   "cell_type": "code",
   "execution_count": 54,
   "id": "0efd7439-4533-4342-bf74-0c05a12a9555",
   "metadata": {},
   "outputs": [
    {
     "data": {
      "text/plain": [
       "'a'"
      ]
     },
     "execution_count": 54,
     "metadata": {},
     "output_type": "execute_result"
    }
   ],
   "source": [
    "# Negative indexing begins at the end of the string\n",
    "sentence[-2]"
   ]
  },
  {
   "cell_type": "code",
   "execution_count": 55,
   "id": "ed9a6aff-2f72-473b-8f1b-4820d27ff2cb",
   "metadata": {},
   "outputs": [
    {
     "data": {
      "text/plain": [
       "'ran'"
      ]
     },
     "execution_count": 55,
     "metadata": {},
     "output_type": "execute_result"
    }
   ],
   "source": [
    "# Access a substring by using a slice\n",
    "color = 'orange'\n",
    "color[1:4]"
   ]
  },
  {
   "cell_type": "code",
   "execution_count": 56,
   "id": "ace0a339-9e0b-4c7b-a48c-6d823fbd4ab0",
   "metadata": {},
   "outputs": [
    {
     "data": {
      "text/plain": [
       "'pine'"
      ]
     },
     "execution_count": 56,
     "metadata": {},
     "output_type": "execute_result"
    }
   ],
   "source": [
    "# Omitting the first value of the slice implies a value of 0\n",
    "fruit = 'pineapple'\n",
    "fruit[:4]"
   ]
  },
  {
   "cell_type": "code",
   "execution_count": 57,
   "id": "7865cbda-5188-4d87-8eb0-c16cd54eee20",
   "metadata": {},
   "outputs": [
    {
     "data": {
      "text/plain": [
       "'apple'"
      ]
     },
     "execution_count": 57,
     "metadata": {},
     "output_type": "execute_result"
    }
   ],
   "source": [
    "# Omitting the last value of the slice implies a value of len(string)\n",
    "fruit[4:]"
   ]
  },
  {
   "cell_type": "code",
   "execution_count": 58,
   "id": "7c3e3419-3bc8-4c69-bf6b-baae2c5bac38",
   "metadata": {},
   "outputs": [
    {
     "data": {
      "text/plain": [
       "False"
      ]
     },
     "execution_count": 58,
     "metadata": {},
     "output_type": "execute_result"
    }
   ],
   "source": [
    "# The `in` keyword returns Boolean of whether substring is in string\n",
    "'banana' in fruit"
   ]
  },
  {
   "cell_type": "code",
   "execution_count": 59,
   "id": "10d68412-d58b-4c75-9522-c15321a00940",
   "metadata": {},
   "outputs": [
    {
     "data": {
      "text/plain": [
       "True"
      ]
     },
     "execution_count": 59,
     "metadata": {},
     "output_type": "execute_result"
    }
   ],
   "source": [
    "# The `in` keyword returns Boolean of whether substring is in string\n",
    "'apple' in fruit"
   ]
  },
  {
   "cell_type": "code",
   "execution_count": 60,
   "id": "358b7141-9f9d-4bbb-8262-27e96cc85f69",
   "metadata": {},
   "outputs": [
    {
     "name": "stdout",
     "output_type": "stream",
     "text": [
      "Hello Manuel, your lucky number is 3.\n"
     ]
    }
   ],
   "source": [
    "# Use format() method to insert values into your string, indicated by braces\n",
    "name = 'Manuel'\n",
    "number = 3\n",
    "print('Hello {}, your lucky number is {}.'.format(name, number))"
   ]
  },
  {
   "cell_type": "code",
   "execution_count": 61,
   "id": "209b0070-c8f1-4a0f-8372-ac9ac2c5dc29",
   "metadata": {},
   "outputs": [
    {
     "name": "stdout",
     "output_type": "stream",
     "text": [
      "Hello Manuel, your lucky number is 3.\n"
     ]
    }
   ],
   "source": [
    "# You can assign names to designate how you want values to be inserted\n",
    "name = 'Manuel'\n",
    "number = 3\n",
    "print('Hello {name}, your lucky number is {num}.'.format(num=number, name=name))"
   ]
  },
  {
   "cell_type": "code",
   "execution_count": 62,
   "id": "cb1d71f9-fff4-425b-9161-a7be2c7dc92b",
   "metadata": {},
   "outputs": [
    {
     "name": "stdout",
     "output_type": "stream",
     "text": [
      "Hello Manuel, your lucky number is 3.\n"
     ]
    }
   ],
   "source": [
    "# You can use argument indices to designate how you want values to be inserted\n",
    "print('Hello {1}, your lucky number is {0}.'.format(number, name))"
   ]
  },
  {
   "cell_type": "code",
   "execution_count": 63,
   "id": "45e7a6f5-54ac-4ce4-91f1-c0bd802ad464",
   "metadata": {},
   "outputs": [
    {
     "name": "stdout",
     "output_type": "stream",
     "text": [
      "Base price: $7.75 USD. \n",
      "With tax: $8.2925 USD.\n"
     ]
    }
   ],
   "source": [
    "# Example inserting prices into string\n",
    "price = 7.75\n",
    "with_tax = price * 1.07\n",
    "print('Base price: ${} USD. \\nWith tax: ${} USD.'.format(price, with_tax))"
   ]
  },
  {
   "cell_type": "code",
   "execution_count": 64,
   "id": "ab462157-74f2-4736-a79a-2bc185de7cb2",
   "metadata": {},
   "outputs": [
    {
     "name": "stdout",
     "output_type": "stream",
     "text": [
      "Base price: $7.75 USD. \n",
      "With tax: $8.29 USD.\n"
     ]
    }
   ],
   "source": [
    "# Use :.2f to round a float value to two places beyond the decimal\n",
    "print('Base price: ${:.2f} USD. \\nWith tax: ${:.2f} USD.'.format(price, with_tax))"
   ]
  },
  {
   "cell_type": "code",
   "execution_count": 65,
   "id": "43edcdc3-b5ea-4467-afe8-e9843bdd666f",
   "metadata": {},
   "outputs": [
    {
     "name": "stdout",
     "output_type": "stream",
     "text": [
      "  0 F | -17.78 C\n",
      " 10 F | -12.22 C\n",
      " 20 F |  -6.67 C\n",
      " 30 F |  -1.11 C\n",
      " 40 F |   4.44 C\n",
      " 50 F |  10.00 C\n",
      " 60 F |  15.56 C\n",
      " 70 F |  21.11 C\n",
      " 80 F |  26.67 C\n",
      " 90 F |  32.22 C\n",
      "100 F |  37.78 C\n"
     ]
    }
   ],
   "source": [
    "# Define a function that converts Fahrenheit to Celsius\n",
    "def to_celsius(x):\n",
    "    return (x-32) * 5/9\n",
    "\n",
    "# Create a temperature conversion table using string formatting\n",
    "for x in range(0, 101, 10):\n",
    "    print(\"{:>3} F | {:>6.2f} C\".format(x, to_celsius(x)))"
   ]
  },
  {
   "cell_type": "code",
   "execution_count": null,
   "id": "5bc503da-aee5-4b3d-a68b-6f51e53b53a6",
   "metadata": {},
   "outputs": [],
   "source": []
  }
 ],
 "metadata": {
  "kernelspec": {
   "display_name": "Python 3 (ipykernel)",
   "language": "python",
   "name": "python3"
  },
  "language_info": {
   "codemirror_mode": {
    "name": "ipython",
    "version": 3
   },
   "file_extension": ".py",
   "mimetype": "text/x-python",
   "name": "python",
   "nbconvert_exporter": "python",
   "pygments_lexer": "ipython3",
   "version": "3.9.7"
  }
 },
 "nbformat": 4,
 "nbformat_minor": 5
}
