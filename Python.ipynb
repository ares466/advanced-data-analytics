{
 "cells": [
  {
   "cell_type": "markdown",
   "id": "00c57bae-c867-4420-a0b7-2801b98eb77b",
   "metadata": {},
   "source": [
    "# Python"
   ]
  },
  {
   "cell_type": "markdown",
   "id": "a8f117a7-5b1b-4b68-86b0-fe62454d7a97",
   "metadata": {},
   "source": [
    "## Intro to Python"
   ]
  },
  {
   "cell_type": "markdown",
   "id": "6370f247-3235-4ad9-a99f-b87e0802b756",
   "metadata": {},
   "source": [
    "*Computer programming* is the process of giving instructions to a computer to perform an action or set of actions. Computer programming is done using a *programming language*--the words and symbols we use to write instructions for computers to follow.\n",
    "\n",
    "Data professionals use Python to analyze data in faster, more efficient, and more powerful ways because it optimizes every phase of the data workflow--exploring, cleaning, visualizing data, and creating machine learning models."
   ]
  },
  {
   "cell_type": "markdown",
   "id": "f78115ca-3820-40e1-a7d2-94489dedc5fc",
   "metadata": {},
   "source": [
    "Python, R, Java, and C++ are four of the most commonly used programming languages for data analysis. The following chart compares them using five considerations: speed, accessibility, variable, data science focus, and programming paradigm.\n",
    "- Speed: Compile time, runtime, hardware, installed dependencies, and code efficiency all contribute to the speed of a program's execution.\n",
    "- Accessibility: Refers to how easy the programming language is to learn and use.\n",
    "- Variables: The way a program uses variables will have an effect on a systems core operations or kernel speed. Languages that use *static variables* (i.e., strongly-typed) maintain a value throughout the entire run of a program. Languages that use *dynamic variables* (i.e., weakly-typed) allow values to be determined when the program is run.\n",
    "- Data science focus: Some programming languages have individual characteristics that better serve tasks in data analysis.\n",
    "- Programming paradigm: *Object-oriented* programming languages are modeled around data objects. *Functional* programming languages are modeled around functions. *Imperative* lanaguages are modeled around code statements that can alter the state of the program itself.\n",
    "\n",
    "\n",
    "| Features by software | Python | R | Java | C++ |\n",
    "| --- | --- | --- | --- | --- |\n",
    "| Speed | Slower | Depends on configuration and add-ons | Faster | Very Fast |\n",
    "| Accessibility | Easy to learn | Complex | Easy to learn | Complex |\n",
    "| Variable | Dynamic | Dynamic | Static | Declarative |\n",
    "| Data science focus | Machine learning and automated analysis | Exploratory data analysis and building extensive statistical libraries | Used across projects with open-source assets | Not as widely used but very powerful implementations | \n",
    "| Programming paradigm | Object-oriented | Functional | Object-oriented | Multi-paradigm (imperative & object oriented |"
   ]
  },
  {
   "cell_type": "markdown",
   "id": "1434eb3c-8736-4422-9eaa-51c01f8e98c7",
   "metadata": {},
   "source": [
    "## Jupyter Notebooks"
   ]
  },
  {
   "cell_type": "markdown",
   "id": "9df81fdd-985c-44f7-8277-5f0295bef07e",
   "metadata": {},
   "source": [
    "*Jupyter notebooks* are open-source web appplications for creating and sharing documents containing live code, mathematical formuals, visualizations, and text.\n",
    "\n",
    "Jupyter notebooks are partitioned into *cells*--modular code input or output fields.\n",
    "\n",
    "Learn more about Jupyter notebooks and the Jupyter project online: [docs.jupyter.org](https://docs.jupyter.org/en/latest/https://docs.jupyter.org/en/latest/)."
   ]
  },
  {
   "cell_type": "markdown",
   "id": "eae65bfe-07c3-4cfd-b650-4ed403c529db",
   "metadata": {},
   "source": [
    "## Object-Oriented Programming"
   ]
  },
  {
   "cell_type": "markdown",
   "id": "5ddb885c-97bc-43a4-bc20-8e436e672b89",
   "metadata": {},
   "source": [
    "Object-oriented programming is a programming system that is based around objects, which can contain both data and code that manipulates that data.\n",
    "\n",
    "An *object* is an instance of a class; a fundamental building block of Python. A *class* is an object's data type that bundles data and functionality together."
   ]
  },
  {
   "cell_type": "markdown",
   "id": "b905878d-4515-4b2a-a012-34ec6e69c684",
   "metadata": {},
   "source": [
    "As an example, by assigning a value to the *string* class, it enables us to use functionality of a string, including `swapcase`, `replace`, and `split`."
   ]
  },
  {
   "cell_type": "code",
   "execution_count": 3,
   "id": "1bb6704c-bacc-45ac-b3e1-8068888236a3",
   "metadata": {},
   "outputs": [
    {
     "name": "stdout",
     "output_type": "stream",
     "text": [
      "<class 'str'>\n"
     ]
    }
   ],
   "source": [
    "# Assign a string to a variable and check its type\n",
    "magic = 'HOCUS POCUS'\n",
    "print(type(magic))"
   ]
  },
  {
   "cell_type": "code",
   "execution_count": 4,
   "id": "08489fd2-b529-4e8b-b5a7-c65c29c7f06b",
   "metadata": {},
   "outputs": [
    {
     "data": {
      "text/plain": [
       "'hocus pocus'"
      ]
     },
     "execution_count": 4,
     "metadata": {},
     "output_type": "execute_result"
    }
   ],
   "source": [
    "# Use swapcase() string method to convert from caps to lowercase\n",
    "magic = 'HOCUS POCUS'\n",
    "magic = magic.swapcase()\n",
    "magic"
   ]
  },
  {
   "cell_type": "code",
   "execution_count": 5,
   "id": "16986fb2-3f39-42d6-a743-f0a66a59b57c",
   "metadata": {},
   "outputs": [
    {
     "data": {
      "text/plain": [
       "'hokey pokey'"
      ]
     },
     "execution_count": 5,
     "metadata": {},
     "output_type": "execute_result"
    }
   ],
   "source": [
    "# Use replace() string method to replace some letters with other letters\n",
    "magic = magic.replace('cus', 'key')\n",
    "magic"
   ]
  },
  {
   "cell_type": "code",
   "execution_count": 6,
   "id": "fbf59f7d-a4ee-40a0-b28a-36e3eb7f9f7a",
   "metadata": {},
   "outputs": [
    {
     "data": {
      "text/plain": [
       "['hokey', 'pokey']"
      ]
     },
     "execution_count": 6,
     "metadata": {},
     "output_type": "execute_result"
    }
   ],
   "source": [
    "# Use split() string method to split the string into 2 strings\n",
    "magic = magic.split()\n",
    "magic"
   ]
  },
  {
   "cell_type": "markdown",
   "id": "6d5a7d87-388c-4d2d-adc4-9a3227b6f785",
   "metadata": {},
   "source": [
    "`swapcase`, `replace`, and `split` are examples of *methods*. A method is a function that belongs to a class and typically performs an action or operation.\n",
    "\n",
    "Methods and attributes in a class are acccessed using *dot notation*. \n",
    "\n",
    "The core Python classes include:\n",
    "- Integers\n",
    "- Floats\n",
    "- Strings\n",
    "- Booleans\n",
    "- Lists\n",
    "- Dictionaries\n",
    "- Tuples\n",
    "- Sets\n",
    "- Frozensets\n",
    "- Functions\n",
    "- Ranges\n",
    "- None"
   ]
  },
  {
   "cell_type": "markdown",
   "id": "023eb319-41e7-4770-9e2d-cd4de0180c01",
   "metadata": {},
   "source": [
    "An *attribute* is a value associated with an object or class which is reference by name using dot notation.\n",
    "\n",
    "For example, a Pandas DataFrame has attributes called `shape` and `columns`."
   ]
  },
  {
   "cell_type": "code",
   "execution_count": 8,
   "id": "9c080b10-cc91-400b-a936-87d8f11c1249",
   "metadata": {},
   "outputs": [
    {
     "name": "stdout",
     "output_type": "stream",
     "text": [
      "Collecting pandas\n",
      "  Downloading pandas-2.0.2-cp39-cp39-macosx_11_0_arm64.whl (10.9 MB)\n",
      "     |████████████████████████████████| 10.9 MB 12.2 MB/s            \n",
      "\u001b[?25hCollecting tzdata>=2022.1\n",
      "  Downloading tzdata-2023.3-py2.py3-none-any.whl (341 kB)\n",
      "     |████████████████████████████████| 341 kB 7.6 MB/s            \n",
      "\u001b[?25hRequirement already satisfied: numpy>=1.20.3 in /Users/andrewrife/mambaforge/lib/python3.9/site-packages (from pandas) (1.21.5)\n",
      "Requirement already satisfied: pytz>=2020.1 in /Users/andrewrife/mambaforge/lib/python3.9/site-packages (from pandas) (2021.3)\n",
      "Requirement already satisfied: python-dateutil>=2.8.2 in /Users/andrewrife/mambaforge/lib/python3.9/site-packages (from pandas) (2.8.2)\n",
      "Requirement already satisfied: six>=1.5 in /Users/andrewrife/mambaforge/lib/python3.9/site-packages (from python-dateutil>=2.8.2->pandas) (1.16.0)\n",
      "Installing collected packages: tzdata, pandas\n",
      "Successfully installed pandas-2.0.2 tzdata-2023.3\n",
      "Note: you may need to restart the kernel to use updated packages.\n"
     ]
    }
   ],
   "source": [
    "pip install pandas"
   ]
  },
  {
   "cell_type": "code",
   "execution_count": 9,
   "id": "2e5a770a-9608-49a4-a0eb-b0693f875af8",
   "metadata": {},
   "outputs": [],
   "source": [
    "# Set-up cell to create the `planets` dataframe\n",
    "# (This cell was not shown in the instructional video.)\n",
    "import pandas as pd\n",
    "data = [['Mercury', 2440, 0], ['Venus', 6052, 0,], ['Earth', 6371, 1],\n",
    "        ['Mars', 3390, 2], ['Jupiter', 69911, 80], ['Saturn', 58232, 83],\n",
    "        ['Uranus', 25362, 27], ['Neptune', 24622, 14]\n",
    "]\n",
    "\n",
    "cols = ['Planet', 'radius_km', 'moons']\n",
    "\n",
    "planets = pd.DataFrame(data, columns=cols)"
   ]
  },
  {
   "cell_type": "code",
   "execution_count": 10,
   "id": "83569c79-bd41-4c09-be9b-c819ab9bcd6b",
   "metadata": {},
   "outputs": [
    {
     "data": {
      "text/html": [
       "<div>\n",
       "<style scoped>\n",
       "    .dataframe tbody tr th:only-of-type {\n",
       "        vertical-align: middle;\n",
       "    }\n",
       "\n",
       "    .dataframe tbody tr th {\n",
       "        vertical-align: top;\n",
       "    }\n",
       "\n",
       "    .dataframe thead th {\n",
       "        text-align: right;\n",
       "    }\n",
       "</style>\n",
       "<table border=\"1\" class=\"dataframe\">\n",
       "  <thead>\n",
       "    <tr style=\"text-align: right;\">\n",
       "      <th></th>\n",
       "      <th>Planet</th>\n",
       "      <th>radius_km</th>\n",
       "      <th>moons</th>\n",
       "    </tr>\n",
       "  </thead>\n",
       "  <tbody>\n",
       "    <tr>\n",
       "      <th>0</th>\n",
       "      <td>Mercury</td>\n",
       "      <td>2440</td>\n",
       "      <td>0</td>\n",
       "    </tr>\n",
       "    <tr>\n",
       "      <th>1</th>\n",
       "      <td>Venus</td>\n",
       "      <td>6052</td>\n",
       "      <td>0</td>\n",
       "    </tr>\n",
       "    <tr>\n",
       "      <th>2</th>\n",
       "      <td>Earth</td>\n",
       "      <td>6371</td>\n",
       "      <td>1</td>\n",
       "    </tr>\n",
       "    <tr>\n",
       "      <th>3</th>\n",
       "      <td>Mars</td>\n",
       "      <td>3390</td>\n",
       "      <td>2</td>\n",
       "    </tr>\n",
       "    <tr>\n",
       "      <th>4</th>\n",
       "      <td>Jupiter</td>\n",
       "      <td>69911</td>\n",
       "      <td>80</td>\n",
       "    </tr>\n",
       "    <tr>\n",
       "      <th>5</th>\n",
       "      <td>Saturn</td>\n",
       "      <td>58232</td>\n",
       "      <td>83</td>\n",
       "    </tr>\n",
       "    <tr>\n",
       "      <th>6</th>\n",
       "      <td>Uranus</td>\n",
       "      <td>25362</td>\n",
       "      <td>27</td>\n",
       "    </tr>\n",
       "    <tr>\n",
       "      <th>7</th>\n",
       "      <td>Neptune</td>\n",
       "      <td>24622</td>\n",
       "      <td>14</td>\n",
       "    </tr>\n",
       "  </tbody>\n",
       "</table>\n",
       "</div>"
      ],
      "text/plain": [
       "    Planet  radius_km  moons\n",
       "0  Mercury       2440      0\n",
       "1    Venus       6052      0\n",
       "2    Earth       6371      1\n",
       "3     Mars       3390      2\n",
       "4  Jupiter      69911     80\n",
       "5   Saturn      58232     83\n",
       "6   Uranus      25362     27\n",
       "7  Neptune      24622     14"
      ]
     },
     "execution_count": 10,
     "metadata": {},
     "output_type": "execute_result"
    }
   ],
   "source": [
    "# Display the `planets` dataframe\n",
    "planets"
   ]
  },
  {
   "cell_type": "code",
   "execution_count": 11,
   "id": "c5550897-2804-479f-9e1c-c29521f92182",
   "metadata": {},
   "outputs": [
    {
     "data": {
      "text/plain": [
       "(8, 3)"
      ]
     },
     "execution_count": 11,
     "metadata": {},
     "output_type": "execute_result"
    }
   ],
   "source": [
    "# Use shape dataframe attribute to check number of rows and columns\n",
    "planets.shape"
   ]
  },
  {
   "cell_type": "code",
   "execution_count": 12,
   "id": "bef9fe25-ea85-4973-8364-063ebb643b1e",
   "metadata": {},
   "outputs": [
    {
     "data": {
      "text/plain": [
       "Index(['Planet', 'radius_km', 'moons'], dtype='object')"
      ]
     },
     "execution_count": 12,
     "metadata": {},
     "output_type": "execute_result"
    }
   ],
   "source": [
    "# Use columns dataframe attribute to check column names\n",
    "planets.columns"
   ]
  },
  {
   "cell_type": "markdown",
   "id": "052e387c-f9a3-47f4-93b4-7d322165d6ca",
   "metadata": {},
   "source": [
    "Python lets you define your own classes, each with their own special attributes and methods.\n",
    "\n",
    "For example, suppose we want to build a Spaceship class to be reused later. A class is like a blueprint for all things that share characteristics and behaviors. In this case, the class is Spaceship. There can be all different kinds of spaceships. They can have different names and different purposes. Whenever you create an object of a given class, you’re creating an instance of that class."
   ]
  },
  {
   "cell_type": "code",
   "execution_count": 14,
   "id": "195ff7de-dd6d-4316-9f04-09c0286d46d9",
   "metadata": {},
   "outputs": [],
   "source": [
    "class Spaceship:\n",
    "    \n",
    "    # class attribute\n",
    "    tractor_beam = 'off'\n",
    "    \n",
    "    # class constructor--called whenever a new instance of the class is created\n",
    "    def __init__(self, name, kind):\n",
    "        self.name = name\n",
    "        self.kind = kind\n",
    "        self.speed = None\n",
    "    \n",
    "    # instance methods\n",
    "    def warp (self, warp):\n",
    "        self.speed = warp\n",
    "        print(f'Warp {warp}, engage!')\n",
    "        \n",
    "    def tractor(self):\n",
    "        if self.tractor_beam == 'off':\n",
    "            self.tractor_beam = 'on'\n",
    "            print('Tractor beam on.')\n",
    "        else:\n",
    "            self.tractor_beam = 'off'\n",
    "            print('Tractor beam off.')"
   ]
  },
  {
   "cell_type": "markdown",
   "id": "eb26939e-3507-4e5d-a6e7-1b0d0cf85510",
   "metadata": {},
   "source": [
    "To create an instance of a `Spaceship`, we need to supply a name and kind. Then, we can use the functions and attributes of the instance."
   ]
  },
  {
   "cell_type": "code",
   "execution_count": 16,
   "id": "61af18e4-b966-4691-aff5-b39e8bc6281c",
   "metadata": {},
   "outputs": [
    {
     "name": "stdout",
     "output_type": "stream",
     "text": [
      "Mockingbird\n",
      "rescue frigate\n",
      "off\n",
      "Warp 7, engage!\n",
      "Tractor beam on.\n",
      "on\n"
     ]
    }
   ],
   "source": [
    "# Create an instance of the Spaceship class (i.e. \"instantiate\")\n",
    "ship = Spaceship('Mockingbird','rescue frigate')\n",
    "\n",
    "# Check ship's name\n",
    "print(ship.name)\n",
    "\n",
    "# Check what kind of ship it is\n",
    "print(ship.kind)\n",
    "\n",
    "# Check tractor beam status\n",
    "print(ship.tractor_beam)\n",
    "\n",
    "# Set warp speed\n",
    "ship.warp(7)\n",
    "\n",
    "# Check speed\n",
    "ship.speed\n",
    "\n",
    "# Toggle tractor beam\n",
    "ship.tractor()\n",
    "\n",
    "# Check tractor beam status\n",
    "print(ship.tractor_beam)"
   ]
  },
  {
   "cell_type": "code",
   "execution_count": null,
   "id": "a185a36c-f5c9-4901-b966-cc1937f3e229",
   "metadata": {},
   "outputs": [],
   "source": []
  }
 ],
 "metadata": {
  "kernelspec": {
   "display_name": "Python 3 (ipykernel)",
   "language": "python",
   "name": "python3"
  },
  "language_info": {
   "codemirror_mode": {
    "name": "ipython",
    "version": 3
   },
   "file_extension": ".py",
   "mimetype": "text/x-python",
   "name": "python",
   "nbconvert_exporter": "python",
   "pygments_lexer": "ipython3",
   "version": "3.9.7"
  }
 },
 "nbformat": 4,
 "nbformat_minor": 5
}
