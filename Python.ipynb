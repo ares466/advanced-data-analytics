{
 "cells": [
  {
   "cell_type": "markdown",
   "id": "00c57bae-c867-4420-a0b7-2801b98eb77b",
   "metadata": {},
   "source": [
    "# Python"
   ]
  },
  {
   "cell_type": "markdown",
   "id": "a8f117a7-5b1b-4b68-86b0-fe62454d7a97",
   "metadata": {},
   "source": [
    "\n",
    "## Intro to Python"
   ]
  },
  {
   "cell_type": "markdown",
   "id": "6370f247-3235-4ad9-a99f-b87e0802b756",
   "metadata": {},
   "source": [
    "*Computer programming* is the process of giving instructions to a computer to perform an action or set of actions. Computer programming is done using a *programming language*--the words and symbols we use to write instructions for computers to follow.\n",
    "\n",
    "Data professionals use Python to analyze data in faster, more efficient, and more powerful ways because it optimizes every phase of the data workflow--exploring, cleaning, visualizing data, and creating machine learning models."
   ]
  },
  {
   "cell_type": "markdown",
   "id": "f78115ca-3820-40e1-a7d2-94489dedc5fc",
   "metadata": {},
   "source": [
    "Python, R, Java, and C++ are four of the most commonly used programming languages for data analysis. The following chart compares them using five considerations: speed, accessibility, variable, data science focus, and programming paradigm.\n",
    "- Speed: Compile time, runtime, hardware, installed dependencies, and code efficiency all contribute to the speed of a program's execution.\n",
    "- Accessibility: Refers to how easy the programming language is to learn and use.\n",
    "- Variables: The way a program uses variables will have an effect on a systems core operations or kernel speed. Languages that use *static variables* (i.e., strongly-typed) maintain a value throughout the entire run of a program. Languages that use *dynamic variables* (i.e., weakly-typed) allow values to be determined when the program is run.\n",
    "- Data science focus: Some programming languages have individual characteristics that better serve tasks in data analysis.\n",
    "- Programming paradigm: *Object-oriented* programming languages are modeled around data objects. *Functional* programming languages are modeled around functions. *Imperative* lanaguages are modeled around code statements that can alter the state of the program itself.\n",
    "\n",
    "\n",
    "| Features by software | Python | R | Java | C++ |\n",
    "| --- | --- | --- | --- | --- |\n",
    "| Speed | Slower | Depends on configuration and add-ons | Faster | Very Fast |\n",
    "| Accessibility | Easy to learn | Complex | Easy to learn | Complex |\n",
    "| Variable | Dynamic | Dynamic | Static | Declarative |\n",
    "| Data science focus | Machine learning and automated analysis | Exploratory data analysis and building extensive statistical libraries | Used across projects with open-source assets | Not as widely used but very powerful implementations | \n",
    "| Programming paradigm | Object-oriented | Functional | Object-oriented | Multi-paradigm (imperative & object oriented |"
   ]
  },
  {
   "cell_type": "markdown",
   "id": "1434eb3c-8736-4422-9eaa-51c01f8e98c7",
   "metadata": {},
   "source": [
    "<a name=\"jupyter-notebooks\"></a>\n",
    "## Jupyter Notebooks"
   ]
  },
  {
   "cell_type": "markdown",
   "id": "9df81fdd-985c-44f7-8277-5f0295bef07e",
   "metadata": {},
   "source": [
    "*Jupyter notebooks* are open-source web appplications for creating and sharing documents containing live code, mathematical formuals, visualizations, and text.\n",
    "\n",
    "Jupyter notebooks are partitioned into *cells*--modular code input or output fields.\n",
    "\n",
    "Learn more about Jupyter notebooks and the Jupyter project online: [docs.jupyter.org](https://docs.jupyter.org/en/latest/https://docs.jupyter.org/en/latest/)."
   ]
  },
  {
   "cell_type": "markdown",
   "id": "eae65bfe-07c3-4cfd-b650-4ed403c529db",
   "metadata": {},
   "source": [
    "## Object-Oriented Programming"
   ]
  },
  {
   "cell_type": "markdown",
   "id": "5ddb885c-97bc-43a4-bc20-8e436e672b89",
   "metadata": {},
   "source": [
    "Object-oriented programming is a programming system that is based around objects, which can contain both data and code that manipulates that data.\n",
    "\n",
    "An *object* is an instance of a class; a fundamental building block of Python. A *class* is an object's data type that bundles data and functionality together."
   ]
  },
  {
   "cell_type": "markdown",
   "id": "b905878d-4515-4b2a-a012-34ec6e69c684",
   "metadata": {},
   "source": [
    "As an example, by assigning a value to the *string* class, it enables us to use functionality of a string, including `swapcase`, `replace`, and `split`."
   ]
  },
  {
   "cell_type": "code",
   "execution_count": 1,
   "id": "1bb6704c-bacc-45ac-b3e1-8068888236a3",
   "metadata": {},
   "outputs": [
    {
     "name": "stdout",
     "output_type": "stream",
     "text": [
      "<class 'str'>\n"
     ]
    }
   ],
   "source": [
    "# Assign a string to a variable and check its type\n",
    "magic = 'HOCUS POCUS'\n",
    "print(type(magic))"
   ]
  },
  {
   "cell_type": "code",
   "execution_count": 2,
   "id": "08489fd2-b529-4e8b-b5a7-c65c29c7f06b",
   "metadata": {},
   "outputs": [
    {
     "data": {
      "text/plain": [
       "'hocus pocus'"
      ]
     },
     "execution_count": 2,
     "metadata": {},
     "output_type": "execute_result"
    }
   ],
   "source": [
    "# Use swapcase() string method to convert from caps to lowercase\n",
    "magic = 'HOCUS POCUS'\n",
    "magic = magic.swapcase()\n",
    "magic"
   ]
  },
  {
   "cell_type": "code",
   "execution_count": 3,
   "id": "16986fb2-3f39-42d6-a743-f0a66a59b57c",
   "metadata": {},
   "outputs": [
    {
     "data": {
      "text/plain": [
       "'hokey pokey'"
      ]
     },
     "execution_count": 3,
     "metadata": {},
     "output_type": "execute_result"
    }
   ],
   "source": [
    "# Use replace() string method to replace some letters with other letters\n",
    "magic = magic.replace('cus', 'key')\n",
    "magic"
   ]
  },
  {
   "cell_type": "code",
   "execution_count": 4,
   "id": "fbf59f7d-a4ee-40a0-b28a-36e3eb7f9f7a",
   "metadata": {},
   "outputs": [
    {
     "data": {
      "text/plain": [
       "['hokey', 'pokey']"
      ]
     },
     "execution_count": 4,
     "metadata": {},
     "output_type": "execute_result"
    }
   ],
   "source": [
    "# Use split() string method to split the string into 2 strings\n",
    "magic = magic.split()\n",
    "magic"
   ]
  },
  {
   "cell_type": "markdown",
   "id": "6d5a7d87-388c-4d2d-adc4-9a3227b6f785",
   "metadata": {},
   "source": [
    "`swapcase`, `replace`, and `split` are examples of *methods*. A method is a function that belongs to a class and typically performs an action or operation.\n",
    "\n",
    "Methods and attributes in a class are acccessed using *dot notation*. \n",
    "\n",
    "The core Python classes include:\n",
    "- Integers\n",
    "- Floats\n",
    "- Strings\n",
    "- Booleans\n",
    "- Lists\n",
    "- Dictionaries\n",
    "- Tuples\n",
    "- Sets\n",
    "- Frozensets\n",
    "- Functions\n",
    "- Ranges\n",
    "- None"
   ]
  },
  {
   "cell_type": "markdown",
   "id": "023eb319-41e7-4770-9e2d-cd4de0180c01",
   "metadata": {},
   "source": [
    "An *attribute* is a value associated with an object or class which is reference by name using dot notation.\n",
    "\n",
    "For example, a Pandas DataFrame has attributes called `shape` and `columns`."
   ]
  },
  {
   "cell_type": "code",
   "execution_count": 5,
   "id": "9c080b10-cc91-400b-a936-87d8f11c1249",
   "metadata": {},
   "outputs": [
    {
     "name": "stdout",
     "output_type": "stream",
     "text": [
      "Requirement already satisfied: pandas in /Users/andrewrife/mambaforge/lib/python3.9/site-packages (2.0.2)\n",
      "Requirement already satisfied: tzdata>=2022.1 in /Users/andrewrife/mambaforge/lib/python3.9/site-packages (from pandas) (2023.3)\n",
      "Requirement already satisfied: numpy>=1.20.3 in /Users/andrewrife/mambaforge/lib/python3.9/site-packages (from pandas) (1.21.5)\n",
      "Requirement already satisfied: pytz>=2020.1 in /Users/andrewrife/mambaforge/lib/python3.9/site-packages (from pandas) (2021.3)\n",
      "Requirement already satisfied: python-dateutil>=2.8.2 in /Users/andrewrife/mambaforge/lib/python3.9/site-packages (from pandas) (2.8.2)\n",
      "Requirement already satisfied: six>=1.5 in /Users/andrewrife/mambaforge/lib/python3.9/site-packages (from python-dateutil>=2.8.2->pandas) (1.16.0)\n",
      "Note: you may need to restart the kernel to use updated packages.\n"
     ]
    }
   ],
   "source": [
    "pip install pandas"
   ]
  },
  {
   "cell_type": "code",
   "execution_count": 6,
   "id": "2e5a770a-9608-49a4-a0eb-b0693f875af8",
   "metadata": {},
   "outputs": [],
   "source": [
    "# Set-up cell to create the `planets` dataframe\n",
    "# (This cell was not shown in the instructional video.)\n",
    "import pandas as pd\n",
    "data = [['Mercury', 2440, 0], ['Venus', 6052, 0,], ['Earth', 6371, 1],\n",
    "        ['Mars', 3390, 2], ['Jupiter', 69911, 80], ['Saturn', 58232, 83],\n",
    "        ['Uranus', 25362, 27], ['Neptune', 24622, 14]\n",
    "]\n",
    "\n",
    "cols = ['Planet', 'radius_km', 'moons']\n",
    "\n",
    "planets = pd.DataFrame(data, columns=cols)"
   ]
  },
  {
   "cell_type": "code",
   "execution_count": 7,
   "id": "83569c79-bd41-4c09-be9b-c819ab9bcd6b",
   "metadata": {},
   "outputs": [
    {
     "data": {
      "text/html": [
       "<div>\n",
       "<style scoped>\n",
       "    .dataframe tbody tr th:only-of-type {\n",
       "        vertical-align: middle;\n",
       "    }\n",
       "\n",
       "    .dataframe tbody tr th {\n",
       "        vertical-align: top;\n",
       "    }\n",
       "\n",
       "    .dataframe thead th {\n",
       "        text-align: right;\n",
       "    }\n",
       "</style>\n",
       "<table border=\"1\" class=\"dataframe\">\n",
       "  <thead>\n",
       "    <tr style=\"text-align: right;\">\n",
       "      <th></th>\n",
       "      <th>Planet</th>\n",
       "      <th>radius_km</th>\n",
       "      <th>moons</th>\n",
       "    </tr>\n",
       "  </thead>\n",
       "  <tbody>\n",
       "    <tr>\n",
       "      <th>0</th>\n",
       "      <td>Mercury</td>\n",
       "      <td>2440</td>\n",
       "      <td>0</td>\n",
       "    </tr>\n",
       "    <tr>\n",
       "      <th>1</th>\n",
       "      <td>Venus</td>\n",
       "      <td>6052</td>\n",
       "      <td>0</td>\n",
       "    </tr>\n",
       "    <tr>\n",
       "      <th>2</th>\n",
       "      <td>Earth</td>\n",
       "      <td>6371</td>\n",
       "      <td>1</td>\n",
       "    </tr>\n",
       "    <tr>\n",
       "      <th>3</th>\n",
       "      <td>Mars</td>\n",
       "      <td>3390</td>\n",
       "      <td>2</td>\n",
       "    </tr>\n",
       "    <tr>\n",
       "      <th>4</th>\n",
       "      <td>Jupiter</td>\n",
       "      <td>69911</td>\n",
       "      <td>80</td>\n",
       "    </tr>\n",
       "    <tr>\n",
       "      <th>5</th>\n",
       "      <td>Saturn</td>\n",
       "      <td>58232</td>\n",
       "      <td>83</td>\n",
       "    </tr>\n",
       "    <tr>\n",
       "      <th>6</th>\n",
       "      <td>Uranus</td>\n",
       "      <td>25362</td>\n",
       "      <td>27</td>\n",
       "    </tr>\n",
       "    <tr>\n",
       "      <th>7</th>\n",
       "      <td>Neptune</td>\n",
       "      <td>24622</td>\n",
       "      <td>14</td>\n",
       "    </tr>\n",
       "  </tbody>\n",
       "</table>\n",
       "</div>"
      ],
      "text/plain": [
       "    Planet  radius_km  moons\n",
       "0  Mercury       2440      0\n",
       "1    Venus       6052      0\n",
       "2    Earth       6371      1\n",
       "3     Mars       3390      2\n",
       "4  Jupiter      69911     80\n",
       "5   Saturn      58232     83\n",
       "6   Uranus      25362     27\n",
       "7  Neptune      24622     14"
      ]
     },
     "execution_count": 7,
     "metadata": {},
     "output_type": "execute_result"
    }
   ],
   "source": [
    "# Display the `planets` dataframe\n",
    "planets"
   ]
  },
  {
   "cell_type": "code",
   "execution_count": 8,
   "id": "c5550897-2804-479f-9e1c-c29521f92182",
   "metadata": {},
   "outputs": [
    {
     "data": {
      "text/plain": [
       "(8, 3)"
      ]
     },
     "execution_count": 8,
     "metadata": {},
     "output_type": "execute_result"
    }
   ],
   "source": [
    "# Use shape dataframe attribute to check number of rows and columns\n",
    "planets.shape"
   ]
  },
  {
   "cell_type": "code",
   "execution_count": 9,
   "id": "bef9fe25-ea85-4973-8364-063ebb643b1e",
   "metadata": {},
   "outputs": [
    {
     "data": {
      "text/plain": [
       "Index(['Planet', 'radius_km', 'moons'], dtype='object')"
      ]
     },
     "execution_count": 9,
     "metadata": {},
     "output_type": "execute_result"
    }
   ],
   "source": [
    "# Use columns dataframe attribute to check column names\n",
    "planets.columns"
   ]
  },
  {
   "cell_type": "markdown",
   "id": "052e387c-f9a3-47f4-93b4-7d322165d6ca",
   "metadata": {},
   "source": [
    "Python lets you define your own classes, each with their own special attributes and methods.\n",
    "\n",
    "For example, suppose we want to build a Spaceship class to be reused later. A class is like a blueprint for all things that share characteristics and behaviors. In this case, the class is Spaceship. There can be all different kinds of spaceships. They can have different names and different purposes. Whenever you create an object of a given class, you’re creating an instance of that class."
   ]
  },
  {
   "cell_type": "code",
   "execution_count": 10,
   "id": "195ff7de-dd6d-4316-9f04-09c0286d46d9",
   "metadata": {},
   "outputs": [],
   "source": [
    "class Spaceship:\n",
    "    \n",
    "    # class attribute\n",
    "    tractor_beam = 'off'\n",
    "    \n",
    "    # class constructor--called whenever a new instance of the class is created\n",
    "    def __init__(self, name, kind):\n",
    "        self.name = name\n",
    "        self.kind = kind\n",
    "        self.speed = None\n",
    "    \n",
    "    # instance methods\n",
    "    def warp (self, warp):\n",
    "        self.speed = warp\n",
    "        print(f'Warp {warp}, engage!')\n",
    "        \n",
    "    def tractor(self):\n",
    "        if self.tractor_beam == 'off':\n",
    "            self.tractor_beam = 'on'\n",
    "            print('Tractor beam on.')\n",
    "        else:\n",
    "            self.tractor_beam = 'off'\n",
    "            print('Tractor beam off.')"
   ]
  },
  {
   "cell_type": "markdown",
   "id": "eb26939e-3507-4e5d-a6e7-1b0d0cf85510",
   "metadata": {},
   "source": [
    "To create an instance of a `Spaceship`, we need to supply a name and kind. Then, we can use the functions and attributes of the instance."
   ]
  },
  {
   "cell_type": "code",
   "execution_count": 11,
   "id": "61af18e4-b966-4691-aff5-b39e8bc6281c",
   "metadata": {},
   "outputs": [
    {
     "name": "stdout",
     "output_type": "stream",
     "text": [
      "Mockingbird\n",
      "rescue frigate\n",
      "off\n",
      "Warp 7, engage!\n",
      "Tractor beam on.\n",
      "on\n"
     ]
    }
   ],
   "source": [
    "# Create an instance of the Spaceship class (i.e. \"instantiate\")\n",
    "ship = Spaceship('Mockingbird','rescue frigate')\n",
    "\n",
    "# Check ship's name\n",
    "print(ship.name)\n",
    "\n",
    "# Check what kind of ship it is\n",
    "print(ship.kind)\n",
    "\n",
    "# Check tractor beam status\n",
    "print(ship.tractor_beam)\n",
    "\n",
    "# Set warp speed\n",
    "ship.warp(7)\n",
    "\n",
    "# Check speed\n",
    "ship.speed\n",
    "\n",
    "# Toggle tractor beam\n",
    "ship.tractor()\n",
    "\n",
    "# Check tractor beam status\n",
    "print(ship.tractor_beam)"
   ]
  },
  {
   "cell_type": "markdown",
   "id": "c1dc168f-bd6d-428c-8b80-68d51a4d2bbf",
   "metadata": {},
   "source": [
    "## Variables and data types"
   ]
  },
  {
   "cell_type": "markdown",
   "id": "766c5fa8-39eb-4621-8a62-3281ca40ea6f",
   "metadata": {},
   "source": [
    "Variables can store values of any data type. A data type is an attribute that describes a piece of data based on its values, its programming language, or the operations it can perform.\n",
    "\n",
    "*Assignment* means the process of storing a value in a variable. An *expression* is a combination of numbers, symbols, or other variables that produce a result when evaluated.\n",
    "\n",
    "Python is *dynamically-typed*. This means that variables can point to objects of any type."
   ]
  },
  {
   "cell_type": "markdown",
   "id": "fd4dfbba-a599-4fef-afeb-94402e59a6ba",
   "metadata": {},
   "source": [
    "*Naming restrictions* are rules built into the language that must be followed. When naming variables, programmers must adhere to all naming conventions.\n",
    "\n",
    "- *Keywords* must be avoided when naming variables. Keywords are special words that are reserved for a specific purpose and can only be used for that purpose (e.g., `for`, `in`, `if`, `else`).\n",
    "- Avoid using function names in variables (e.g., `str`, `print`).\n",
    "- Only include letters, numbers, and underscores. You cannot use special characters or whitespace. Variable names must start with a letter or an underscore.\n",
    "\n",
    "Variable names are case-sensitive.\n",
    "\n",
    "There are some best-practice naming conventions to help make code readable and maintainable:\n",
    "- Descriptive names are better than cryptic abbreviations because they help other programmers (and you) read and interpret your code.\n",
    "- Variable names and function names should be written in snake_case, which means that all letters are lowercase and words are separated using an underscore. \n",
    "\n",
    "See [PEP 8 Style Guide for Python](https://peps.python.org/pep-0008/) to review other style tips."
   ]
  },
  {
   "cell_type": "code",
   "execution_count": 12,
   "id": "a6a83339-b326-477b-884b-2737609af4cd",
   "metadata": {},
   "outputs": [],
   "source": [
    "# Assign a list containing players' ages\n",
    "age_list = [34, 25, 23, 19, 29]"
   ]
  },
  {
   "cell_type": "code",
   "execution_count": 13,
   "id": "a9c38765-0987-4e06-a092-a0041cf44bec",
   "metadata": {},
   "outputs": [
    {
     "data": {
      "text/plain": [
       "34"
      ]
     },
     "execution_count": 13,
     "metadata": {},
     "output_type": "execute_result"
    }
   ],
   "source": [
    "# Find the maximum age and assign to `max_age` variable\n",
    "max_age = max(age_list)\n",
    "max_age"
   ]
  },
  {
   "cell_type": "code",
   "execution_count": 14,
   "id": "bbc56f6f-8ac0-48b0-aad5-a3436bb054f1",
   "metadata": {},
   "outputs": [
    {
     "data": {
      "text/plain": [
       "'34'"
      ]
     },
     "execution_count": 14,
     "metadata": {},
     "output_type": "execute_result"
    }
   ],
   "source": [
    "# Convert `max_age` to a string\n",
    "max_age = str(max_age)\n",
    "max_age"
   ]
  },
  {
   "cell_type": "code",
   "execution_count": 15,
   "id": "c60efb92-3488-44b0-aee0-619383f5cd9c",
   "metadata": {},
   "outputs": [
    {
     "data": {
      "text/plain": [
       "'ninety-nine'"
      ]
     },
     "execution_count": 15,
     "metadata": {},
     "output_type": "execute_result"
    }
   ],
   "source": [
    "# Reassign the value of `max_age`\n",
    "max_age = 'ninety-nine'\n",
    "max_age"
   ]
  },
  {
   "cell_type": "code",
   "execution_count": 16,
   "id": "81911214-5fc2-448e-8a2b-6615a0b14722",
   "metadata": {},
   "outputs": [
    {
     "data": {
      "text/plain": [
       "15"
      ]
     },
     "execution_count": 16,
     "metadata": {},
     "output_type": "execute_result"
    }
   ],
   "source": [
    "# Find the maximum age and assign to `max_age` variable\n",
    "max_age = max(age_list)\n",
    "# Find the minimum age and assign to `min_age` variable\n",
    "min_age = min(age_list)\n",
    "\n",
    "# Subtract `min_age` from `max_age`\n",
    "max_age - min_age"
   ]
  },
  {
   "cell_type": "markdown",
   "id": "4b789fd8-a6ad-49a1-bac1-1c010e02bc86",
   "metadata": {},
   "source": [
    "Python is able to manipulate variables using operations in expressions."
   ]
  },
  {
   "cell_type": "code",
   "execution_count": 17,
   "id": "bcce0048-9850-44be-a800-d683a1e2e792",
   "metadata": {},
   "outputs": [
    {
     "name": "stdout",
     "output_type": "stream",
     "text": [
      "15\n"
     ]
    }
   ],
   "source": [
    "# Addition of 2 ints\n",
    "print(7+8)"
   ]
  },
  {
   "cell_type": "markdown",
   "id": "7ba24849-da0b-4011-a99d-0426ab41154c",
   "metadata": {},
   "source": [
    "Similar to integers, Python can add (i.e., concatenate) two strings together."
   ]
  },
  {
   "cell_type": "code",
   "execution_count": 18,
   "id": "e5770532-65b0-42e5-9825-49a088b553d5",
   "metadata": {},
   "outputs": [
    {
     "name": "stdout",
     "output_type": "stream",
     "text": [
      "hello world\n"
     ]
    }
   ],
   "source": [
    "# Addition of 2 strings\n",
    "print(\"hello \" + \"world\")"
   ]
  },
  {
   "cell_type": "markdown",
   "id": "1ec71fa5-d18d-4293-826d-a772e15f35ae",
   "metadata": {},
   "source": [
    "However, Python cannot add a string and an integer together."
   ]
  },
  {
   "cell_type": "code",
   "execution_count": 19,
   "id": "f3902640-ad80-4a0f-af3e-c042b6bd4489",
   "metadata": {},
   "outputs": [
    {
     "ename": "TypeError",
     "evalue": "unsupported operand type(s) for +: 'int' and 'str'",
     "output_type": "error",
     "traceback": [
      "\u001b[0;31m---------------------------------------------------------------------------\u001b[0m",
      "\u001b[0;31mTypeError\u001b[0m                                 Traceback (most recent call last)",
      "\u001b[0;32m/var/folders/yq/ns90sjt10y724n5d18pd2jj00000gn/T/ipykernel_40033/637453885.py\u001b[0m in \u001b[0;36m<module>\u001b[0;34m\u001b[0m\n\u001b[1;32m      1\u001b[0m \u001b[0;31m# You cannot add a string to an integer\u001b[0m\u001b[0;34m\u001b[0m\u001b[0;34m\u001b[0m\u001b[0m\n\u001b[0;32m----> 2\u001b[0;31m \u001b[0mprint\u001b[0m\u001b[0;34m(\u001b[0m\u001b[0;36m7\u001b[0m\u001b[0;34m+\u001b[0m\u001b[0;34m\"8\"\u001b[0m\u001b[0;34m)\u001b[0m\u001b[0;34m\u001b[0m\u001b[0;34m\u001b[0m\u001b[0m\n\u001b[0m",
      "\u001b[0;31mTypeError\u001b[0m: unsupported operand type(s) for +: 'int' and 'str'"
     ]
    }
   ],
   "source": [
    "# You cannot add a string to an integer\n",
    "print(7+\"8\")"
   ]
  },
  {
   "cell_type": "markdown",
   "id": "44430151-a16b-4c19-87fb-65217f25e10b",
   "metadata": {},
   "source": [
    "The built-in `type` function can be used to determine the type of a variable."
   ]
  },
  {
   "cell_type": "code",
   "execution_count": 20,
   "id": "131c4abf-d67c-4452-bdcb-6e601ce0088f",
   "metadata": {},
   "outputs": [
    {
     "data": {
      "text/plain": [
       "str"
      ]
     },
     "execution_count": 20,
     "metadata": {},
     "output_type": "execute_result"
    }
   ],
   "source": [
    "# The type() function checks the data type of an object\n",
    "type(\"A\")"
   ]
  },
  {
   "cell_type": "code",
   "execution_count": 21,
   "id": "13291643-43de-43e2-b03e-6b578f3f1e6f",
   "metadata": {},
   "outputs": [
    {
     "data": {
      "text/plain": [
       "int"
      ]
     },
     "execution_count": 21,
     "metadata": {},
     "output_type": "execute_result"
    }
   ],
   "source": [
    "# The type() function checks the data type of an object\n",
    "type(2)"
   ]
  },
  {
   "cell_type": "code",
   "execution_count": 22,
   "id": "5f3c2581-0360-4da8-9b87-235cfdffb897",
   "metadata": {},
   "outputs": [
    {
     "data": {
      "text/plain": [
       "float"
      ]
     },
     "execution_count": 22,
     "metadata": {},
     "output_type": "execute_result"
    }
   ],
   "source": [
    "# The type() function checks the data type of an object\n",
    "type(2.5)"
   ]
  },
  {
   "cell_type": "markdown",
   "id": "c10b1cb2-9051-4aff-a50b-6ad8a828957d",
   "metadata": {},
   "source": [
    "Python will implicitly convert the result of an expression to the appropriate data type. In this example, the result of adding an integer and a float together is a float."
   ]
  },
  {
   "cell_type": "code",
   "execution_count": 23,
   "id": "ca2d7897-36f4-446b-ba7c-1e9f7ef8b3c5",
   "metadata": {},
   "outputs": [
    {
     "name": "stdout",
     "output_type": "stream",
     "text": [
      "3.5\n"
     ]
    }
   ],
   "source": [
    "# Implicit conversion\n",
    "print(1 + 2.5)"
   ]
  },
  {
   "cell_type": "markdown",
   "id": "d732b375-bfbd-461e-b6fb-29bba9e7cdf6",
   "metadata": {},
   "source": [
    "Programmers can also explicitly convert types to another type. In this example, the result of `2+2` is being converted into a string."
   ]
  },
  {
   "cell_type": "code",
   "execution_count": 24,
   "id": "bdb37228-6999-4a48-8022-30d2b80d9e2b",
   "metadata": {},
   "outputs": [
    {
     "name": "stdout",
     "output_type": "stream",
     "text": [
      "2 + 2 = 4\n"
     ]
    }
   ],
   "source": [
    "# Explicit conversion (the str() function converts a number to a string)\n",
    "print(\"2 + 2 = \" + str(2 + 2))"
   ]
  },
  {
   "cell_type": "markdown",
   "id": "7a1d0c5e-6ae8-40c8-a060-79450bdf8a4d",
   "metadata": {},
   "source": [
    "## Functions"
   ]
  },
  {
   "cell_type": "markdown",
   "id": "57973547-b546-4ea8-be48-e56ddd98edbf",
   "metadata": {},
   "source": [
    "Functions and methods are very similar, but there are a few key differences. Methods are a specific type of function. They are functions that belong to a class. \n",
    "\n",
    "To learn more about functions, check out the [Functions reference guide](./content/Functions.pdf) in the content directory.\n",
    "\n",
    "There are many functions built-in to Python like `print()` and `type()`."
   ]
  },
  {
   "cell_type": "code",
   "execution_count": 25,
   "id": "bd77128f-1368-4f17-9efb-77fae55947dc",
   "metadata": {},
   "outputs": [
    {
     "name": "stdout",
     "output_type": "stream",
     "text": [
      "Black dove, where will you go?\n"
     ]
    }
   ],
   "source": [
    "# The print() function can print text to the screen\n",
    "print('Black dove, where will you go?')"
   ]
  },
  {
   "cell_type": "code",
   "execution_count": 26,
   "id": "f16b27a1-e059-4788-a984-90f8559253c6",
   "metadata": {},
   "outputs": [
    {
     "data": {
      "text/plain": [
       "int"
      ]
     },
     "execution_count": 26,
     "metadata": {},
     "output_type": "execute_result"
    }
   ],
   "source": [
    "# The type() function returns an object's data type\n",
    "number = 15\n",
    "\n",
    "type(number)"
   ]
  },
  {
   "cell_type": "code",
   "execution_count": 27,
   "id": "e52e1970-8e38-4e63-a852-ff59edb42800",
   "metadata": {},
   "outputs": [
    {
     "data": {
      "text/plain": [
       "str"
      ]
     },
     "execution_count": 27,
     "metadata": {},
     "output_type": "execute_result"
    }
   ],
   "source": [
    "# The str() function converts an object into a string\n",
    "number = str(number)\n",
    "\n",
    "type(number)"
   ]
  },
  {
   "cell_type": "markdown",
   "id": "10aaceb1-4e50-49f8-9f71-567292405392",
   "metadata": {},
   "source": [
    "You can also define custom functions that accept parameters--like the function below called `greeting()`."
   ]
  },
  {
   "cell_type": "code",
   "execution_count": 28,
   "id": "b69e7546-7114-458b-a152-9ec2e2d63574",
   "metadata": {},
   "outputs": [
    {
     "name": "stdout",
     "output_type": "stream",
     "text": [
      "Welcome, Rebecca!\n",
      "You are part of the team!\n"
     ]
    }
   ],
   "source": [
    "# Define a function\n",
    "def greeting(name):\n",
    "\n",
    "    print('Welcome, ' + name + '!')\n",
    "    print('You are part of the team!')\n",
    "\n",
    "greeting('Rebecca')"
   ]
  },
  {
   "cell_type": "markdown",
   "id": "3f1f0bd9-e16a-41db-b1a4-49a3c16e651c",
   "metadata": {},
   "source": [
    "It is best practice to define a function for code that may need to be repeated many times, like calculating the area of a triangle. By defining the logic inside a function, it can be used to calculate the area of many different triangles."
   ]
  },
  {
   "cell_type": "code",
   "execution_count": 29,
   "id": "bae39ab7-a0b8-4b66-a72d-6c2e0c29e9d1",
   "metadata": {},
   "outputs": [],
   "source": [
    "# Define a function to calculate area of triangle\n",
    "def area_triangle(base, height):\n",
    "    return base * height / 2"
   ]
  },
  {
   "cell_type": "code",
   "execution_count": 30,
   "id": "fe10c73d-4e7d-4f91-ab75-7a2fdaf2a9f7",
   "metadata": {},
   "outputs": [
    {
     "data": {
      "text/plain": [
       "20.5"
      ]
     },
     "execution_count": 30,
     "metadata": {},
     "output_type": "execute_result"
    }
   ],
   "source": [
    "# Use the function to assign new variables and perform calculations\n",
    "area_a = area_triangle(5, 4)\n",
    "area_b = area_triangle(7, 3)\n",
    "total_area = area_a + area_b\n",
    "total_area"
   ]
  },
  {
   "cell_type": "code",
   "execution_count": 31,
   "id": "60e9c77d-8244-4a37-8818-345fee22f6be",
   "metadata": {},
   "outputs": [],
   "source": [
    "# Define a function that converts hours, minutes, and seconds to total seconds\n",
    "def get_seconds(hours, minutes, seconds):\n",
    "    total_seconds = 3600*hours + 60*minutes + seconds\n",
    "    return total_seconds"
   ]
  },
  {
   "cell_type": "code",
   "execution_count": 32,
   "id": "cf0f9c78-1ae0-4091-8d66-3ad7bfece8a0",
   "metadata": {},
   "outputs": [
    {
     "data": {
      "text/plain": [
       "60320"
      ]
     },
     "execution_count": 32,
     "metadata": {},
     "output_type": "execute_result"
    }
   ],
   "source": [
    "# Use the function to return a result\n",
    "get_seconds(16, 45, 20)"
   ]
  },
  {
   "cell_type": "markdown",
   "id": "bfe0b639-77ad-4bc6-b697-8d7c542c74a0",
   "metadata": {},
   "source": [
    "## Docstrings\n",
    "\n",
    "Docstrings can be used to scaffold your code. Docstrings are entered at the top of a function as a multi-line string."
   ]
  },
  {
   "cell_type": "code",
   "execution_count": 33,
   "id": "54aca6f2-0e36-497b-8723-7cef15a088d8",
   "metadata": {},
   "outputs": [],
   "source": [
    "def seed_calculator(fountain_side, grass_width):\n",
    "    \"\"\"\n",
    "    Calculate number of kilograms of grass seed needed for\n",
    "    a border around a square fountain.\n",
    "\n",
    "        Parameters:\n",
    "            fountain_side (num): length of 1 side of fountain in meters\n",
    "            grass_width (num): width of grass border in meters\n",
    "\n",
    "        Returns:\n",
    "            seed (float): amount of seed (kg) needed for grass border\n",
    "    \"\"\"\n",
    "    # Area of fountain\n",
    "    fountain_area = fountain_side**2\n",
    "    # Total area\n",
    "    total_area = (fountain_side + 2 * grass_width)**2\n",
    "    # Area of grass border\n",
    "    grass_area = total_area - fountain_area\n",
    "    # Amount of seed needed (35 g/sq.m)\n",
    "    seed = grass_area * 35\n",
    "    # Convert to kg\n",
    "    seed = seed / 1000\n",
    "\n",
    "    return seed"
   ]
  },
  {
   "cell_type": "code",
   "execution_count": 34,
   "id": "ea513505-b767-430e-a81a-15df71d7c360",
   "metadata": {},
   "outputs": [
    {
     "data": {
      "text/plain": [
       "3.92"
      ]
     },
     "execution_count": 34,
     "metadata": {},
     "output_type": "execute_result"
    }
   ],
   "source": [
    "seed_calculator(12, 2)"
   ]
  },
  {
   "cell_type": "markdown",
   "id": "ec148c77-0fbf-4010-8797-5c93c8ee157a",
   "metadata": {},
   "source": [
    "## Comparitors\n",
    "\n",
    "Python has several built-in comparators:\n",
    "\n",
    "| Operation | Operator |\n",
    "| --- | --- |\n",
    "| greater than | > |\n",
    "| greater than or equal to | >= |\n",
    "| less than | < |\n",
    "| less than or equal to | <= |\n",
    "| not equal to | != |\n",
    "| equal to | == |\n",
    "\n",
    "If you try to compare data types that aren’t compatible, like checking if a string is greater than an integer, Python will throw a `TypeError`. "
   ]
  },
  {
   "cell_type": "code",
   "execution_count": 35,
   "id": "1bf5f83a-37e8-451d-b6ef-53e45a1e2d65",
   "metadata": {},
   "outputs": [
    {
     "name": "stdout",
     "output_type": "stream",
     "text": [
      "True\n"
     ]
    }
   ],
   "source": [
    "# > checks for greater than\n",
    "print(10>1)"
   ]
  },
  {
   "cell_type": "code",
   "execution_count": 36,
   "id": "65968ef2-a36e-460f-a761-190eac066161",
   "metadata": {},
   "outputs": [
    {
     "name": "stdout",
     "output_type": "stream",
     "text": [
      "False\n"
     ]
    }
   ],
   "source": [
    "# == checks for equality\n",
    "print(\"cat\" == \"dog\")"
   ]
  },
  {
   "cell_type": "code",
   "execution_count": 37,
   "id": "fe8a1819-23c0-4b30-89ac-33b35b5f9e05",
   "metadata": {},
   "outputs": [
    {
     "name": "stdout",
     "output_type": "stream",
     "text": [
      "True\n"
     ]
    }
   ],
   "source": [
    "# != checks for inequality\n",
    "print(1 != 2)"
   ]
  },
  {
   "cell_type": "code",
   "execution_count": 38,
   "id": "9d255b5b-90ac-423c-890d-30c72bbb5f61",
   "metadata": {},
   "outputs": [
    {
     "ename": "TypeError",
     "evalue": "'<' not supported between instances of 'int' and 'str'",
     "output_type": "error",
     "traceback": [
      "\u001b[0;31m---------------------------------------------------------------------------\u001b[0m",
      "\u001b[0;31mTypeError\u001b[0m                                 Traceback (most recent call last)",
      "\u001b[0;32m/var/folders/yq/ns90sjt10y724n5d18pd2jj00000gn/T/ipykernel_40033/3604785522.py\u001b[0m in \u001b[0;36m<module>\u001b[0;34m\u001b[0m\n\u001b[1;32m      1\u001b[0m \u001b[0;31m# Some operators cannot be used between different data types\u001b[0m\u001b[0;34m\u001b[0m\u001b[0;34m\u001b[0m\u001b[0m\n\u001b[0;32m----> 2\u001b[0;31m \u001b[0mprint\u001b[0m\u001b[0;34m(\u001b[0m\u001b[0;36m1\u001b[0m \u001b[0;34m<\u001b[0m \u001b[0;34m\"1\"\u001b[0m\u001b[0;34m)\u001b[0m\u001b[0;34m\u001b[0m\u001b[0;34m\u001b[0m\u001b[0m\n\u001b[0m",
      "\u001b[0;31mTypeError\u001b[0m: '<' not supported between instances of 'int' and 'str'"
     ]
    }
   ],
   "source": [
    "# Some operators cannot be used between different data types\n",
    "print(1 < \"1\")"
   ]
  },
  {
   "cell_type": "markdown",
   "id": "839b6995-593f-4cc3-9b43-2d916a462ca9",
   "metadata": {},
   "source": [
    "Python also contains several logical operators to create expressions:\n",
    "    \n",
    "| Operator | Description |\n",
    "| --- | --- | \n",
    "| `and` | evaluates to True only if both statements are true |\n",
    "| `or` | evaluates to True if at least one statement is true |\n",
    "| `not` | reverses the evaluation |"
   ]
  },
  {
   "cell_type": "code",
   "execution_count": 39,
   "id": "b95f2476-1639-483b-9c79-cae2809571f2",
   "metadata": {},
   "outputs": [
    {
     "name": "stdout",
     "output_type": "stream",
     "text": [
      "False\n"
     ]
    }
   ],
   "source": [
    "# Letters that occur earlier in the alphabet evaluate to less than letters from later in the alphabet\n",
    "# BOTH sides of an `and` statement must be true to return True\n",
    "print(\"Yellow\" > \"Cyan\" and \"Brown\" > \"Magenta\")"
   ]
  },
  {
   "cell_type": "code",
   "execution_count": 40,
   "id": "38e4de56-d94f-480c-8eba-26f51b77ae24",
   "metadata": {},
   "outputs": [
    {
     "name": "stdout",
     "output_type": "stream",
     "text": [
      "True\n"
     ]
    }
   ],
   "source": [
    "# An `or` statement will return True if EITHER side evaluates to True\n",
    "print(25 > 50 or 1 != 2)"
   ]
  },
  {
   "cell_type": "code",
   "execution_count": 41,
   "id": "05e25bb7-0db3-42fd-ae61-e3be8761018d",
   "metadata": {},
   "outputs": [
    {
     "name": "stdout",
     "output_type": "stream",
     "text": [
      "True\n"
     ]
    }
   ],
   "source": [
    "# `not` reverses Boolean evaluation of what follows it\n",
    "print(not 42 == \"Answer\")"
   ]
  },
  {
   "cell_type": "markdown",
   "id": "1acfc95b-4cc7-4061-8bcd-643c6b49aa5e",
   "metadata": {},
   "source": [
    "## Conditional Statements"
   ]
  },
  {
   "cell_type": "code",
   "execution_count": 42,
   "id": "342a913f-d021-4f33-bc1f-b9fbee0e063b",
   "metadata": {},
   "outputs": [],
   "source": [
    "# Define a function that checks validity of username based on length\n",
    "def hint_username(username):\n",
    "    if len(username) < 8:\n",
    "        print(\"Invalid username. Must be at least 8 characters long.\")\n",
    "    else:\n",
    "        print(\"Valid username.\")"
   ]
  },
  {
   "cell_type": "code",
   "execution_count": 43,
   "id": "aba28567-03d0-45e7-89dc-4e606f3dc7f6",
   "metadata": {},
   "outputs": [],
   "source": [
    "# Define a function that uses modulo to check if a number is even\n",
    "def is_even(number):\n",
    "    if number % 2 == 0:\n",
    "        return True\n",
    "    return False"
   ]
  },
  {
   "cell_type": "code",
   "execution_count": 44,
   "id": "ab3489db-a271-4537-964a-cdbfe1ee436a",
   "metadata": {},
   "outputs": [
    {
     "data": {
      "text/plain": [
       "False"
      ]
     },
     "execution_count": 44,
     "metadata": {},
     "output_type": "execute_result"
    }
   ],
   "source": [
    "is_even(19)"
   ]
  },
  {
   "cell_type": "code",
   "execution_count": 45,
   "id": "af1e863b-9cda-4b34-9c38-a29a359f1c76",
   "metadata": {},
   "outputs": [
    {
     "data": {
      "text/plain": [
       "True"
      ]
     },
     "execution_count": 45,
     "metadata": {},
     "output_type": "execute_result"
    }
   ],
   "source": [
    "is_even(20)"
   ]
  },
  {
   "cell_type": "code",
   "execution_count": 46,
   "id": "d3ff4565-f610-4ea6-aee1-49b8a89bf69c",
   "metadata": {},
   "outputs": [],
   "source": [
    "# Define a function that checks validity of username based on length\n",
    "def hint_username(username):\n",
    "    if len(username) < 8:\n",
    "        print(\"Invalid username. Must be at least 8 characters long.\")\n",
    "    elif len(username) > 15:\n",
    "        print(\"Invalid username. Cannot exceed 15 characters.\")\n",
    "    else:\n",
    "        print(\"Valid username.\")"
   ]
  },
  {
   "cell_type": "code",
   "execution_count": 47,
   "id": "a82c2ef8-3ccc-4ab9-8663-5470fdc65b84",
   "metadata": {},
   "outputs": [
    {
     "name": "stdout",
     "output_type": "stream",
     "text": [
      "Invalid username. Cannot exceed 15 characters.\n"
     ]
    }
   ],
   "source": [
    "hint_username(\"ljñkljfñklasdjflkñadjglk{a\")"
   ]
  },
  {
   "cell_type": "markdown",
   "id": "6ae4748a-c8c1-403e-99f6-53cabb0577ff",
   "metadata": {},
   "source": [
    "## Loops"
   ]
  },
  {
   "cell_type": "markdown",
   "id": "5b7675ba-1236-4b42-8be8-65209437ec06",
   "metadata": {},
   "source": [
    "### While Loops"
   ]
  },
  {
   "cell_type": "code",
   "execution_count": 48,
   "id": "8ee9044c-889b-4b81-a1fe-9c295f002bf4",
   "metadata": {},
   "outputs": [
    {
     "name": "stdout",
     "output_type": "stream",
     "text": [
      "Not there yet, x=0\n",
      "x=1\n",
      "Not there yet, x=1\n",
      "x=2\n",
      "Not there yet, x=2\n",
      "x=3\n",
      "Not there yet, x=3\n",
      "x=4\n",
      "Not there yet, x=4\n",
      "x=5\n"
     ]
    }
   ],
   "source": [
    "# Instantiate a counter\n",
    "x = 0\n",
    "\n",
    "# Create a while loop that prints \"not there yet\", increments x by 1, a\n",
    "# and prints x until x reaches 5\n",
    "while x < 5:\n",
    "    print('Not there yet, x=' + str(x))\n",
    "    x = x + 1\n",
    "    print('x=' + str(x))"
   ]
  },
  {
   "cell_type": "code",
   "execution_count": 49,
   "id": "19704c48-031c-4cb6-8ea3-ca017b658147",
   "metadata": {},
   "outputs": [
    {
     "name": "stdout",
     "output_type": "stream",
     "text": [
      "Guess a number between 1 and 25: \n"
     ]
    },
    {
     "name": "stdin",
     "output_type": "stream",
     "text": [
      " 5\n"
     ]
    },
    {
     "name": "stdout",
     "output_type": "stream",
     "text": [
      "Nope! Try again.\n",
      "Guess a number between 1 and 25: \n"
     ]
    },
    {
     "name": "stdin",
     "output_type": "stream",
     "text": [
      " 20\n"
     ]
    },
    {
     "name": "stdout",
     "output_type": "stream",
     "text": [
      "Nope! Try again.\n",
      "Guess a number between 1 and 25: \n"
     ]
    },
    {
     "name": "stdin",
     "output_type": "stream",
     "text": [
      " 10\n"
     ]
    },
    {
     "name": "stdout",
     "output_type": "stream",
     "text": [
      "Nope! Try again.\n",
      "Guess a number between 1 and 25: \n"
     ]
    },
    {
     "name": "stdin",
     "output_type": "stream",
     "text": [
      " 12\n"
     ]
    },
    {
     "name": "stdout",
     "output_type": "stream",
     "text": [
      "Nope! Try again.\n",
      "Guess a number between 1 and 25: \n"
     ]
    },
    {
     "name": "stdin",
     "output_type": "stream",
     "text": [
      " 16\n"
     ]
    },
    {
     "name": "stdout",
     "output_type": "stream",
     "text": [
      "You did not guess the number. The number was 17.\n"
     ]
    }
   ],
   "source": [
    "# Import the random module to be able to create a (pseudo)random number\n",
    "import random\n",
    "\n",
    "number = random.randint(1,25)                   # Generate random number\n",
    "number_of_guesses = 0                           # Instantiate guess counter\n",
    "\n",
    "while number_of_guesses < 5:\n",
    "    print('Guess a number between 1 and 25: ')  # Tells user to guess number\n",
    "    guess = input()                             # Produces the user input field\n",
    "    guess = int(guess)                          # Convert guess to integer\n",
    "    number_of_guesses += 1                      # Increment guess count by 1\n",
    "\n",
    "    if guess == number:                         # Break while loop if guess is correct\n",
    "        break\n",
    "    elif number_of_guesses == 5:                # Break while loop if guess limit reached\n",
    "        break\n",
    "    else:                                       # Tell user to try again\n",
    "        print('Nope! Try again.')\n",
    "\n",
    "# Message to display if correct\n",
    "if guess == number:\n",
    "    print('Correct! You guessed the number in ' + str(number_of_guesses) + ' tries!')\n",
    "# Message to display after 5 unsuccessful guesses\n",
    "else:\n",
    "    print('You did not guess the number. The number was ' + str(number) + '.')"
   ]
  },
  {
   "cell_type": "markdown",
   "id": "580a5691-63da-4711-a357-db65ad828331",
   "metadata": {},
   "source": [
    "### For Loops"
   ]
  },
  {
   "cell_type": "markdown",
   "id": "36f8a2f7-4005-4b80-b5c0-c70ddd6fd40d",
   "metadata": {},
   "source": [
    "The `range()` function takes three arguments: `start`, `stop`, `step`. Its output is an object belonging to the range class. If you only include one argument, it will be interpreted as the stop value. The start and step values by default will be zero and one, respectively."
   ]
  },
  {
   "cell_type": "code",
   "execution_count": 50,
   "id": "c3b2d7c6-2eb0-41e1-9f20-c2c4bfa8c6d7",
   "metadata": {},
   "outputs": [
    {
     "name": "stdout",
     "output_type": "stream",
     "text": [
      "0\n",
      "1\n",
      "2\n",
      "3\n",
      "4\n"
     ]
    }
   ],
   "source": [
    "# Example of for loop with range() function\n",
    "for x in range(5):\n",
    "    print(x)"
   ]
  },
  {
   "cell_type": "markdown",
   "id": "3d5a773c-44ee-4730-8e53-59245f3523c4",
   "metadata": {},
   "source": [
    "This `range()` example starts at 10, stops at 20, and steps by 2. The `stop` value in `range()` is exclusive, which means that it stop before it reaches the value."
   ]
  },
  {
   "cell_type": "code",
   "execution_count": 51,
   "id": "92d5236d-e6a1-4908-bf23-8eb5aa30b378",
   "metadata": {},
   "outputs": [
    {
     "name": "stdout",
     "output_type": "stream",
     "text": [
      "10\n",
      "12\n",
      "14\n",
      "16\n",
      "18\n"
     ]
    }
   ],
   "source": [
    "for i in range(10, 20, 2):\n",
    "    print(i)"
   ]
  },
  {
   "cell_type": "code",
   "execution_count": 52,
   "id": "07ab844e-8b8b-4bbf-ac52-d8888fa969f1",
   "metadata": {},
   "outputs": [
    {
     "ename": "FileNotFoundError",
     "evalue": "[Errno 2] No such file or directory: 'zen_of_python.txt'",
     "output_type": "error",
     "traceback": [
      "\u001b[0;31m---------------------------------------------------------------------------\u001b[0m",
      "\u001b[0;31mFileNotFoundError\u001b[0m                         Traceback (most recent call last)",
      "\u001b[0;32m/var/folders/yq/ns90sjt10y724n5d18pd2jj00000gn/T/ipykernel_40033/1499919462.py\u001b[0m in \u001b[0;36m<module>\u001b[0;34m\u001b[0m\n\u001b[1;32m      1\u001b[0m \u001b[0;31m# Example of reading in a .txt file line by line with a for loop\u001b[0m\u001b[0;34m\u001b[0m\u001b[0;34m\u001b[0m\u001b[0m\n\u001b[0;32m----> 2\u001b[0;31m \u001b[0;32mwith\u001b[0m \u001b[0mopen\u001b[0m\u001b[0;34m(\u001b[0m\u001b[0;34m'zen_of_python.txt'\u001b[0m\u001b[0;34m)\u001b[0m \u001b[0;32mas\u001b[0m \u001b[0mf\u001b[0m\u001b[0;34m:\u001b[0m\u001b[0;34m\u001b[0m\u001b[0;34m\u001b[0m\u001b[0m\n\u001b[0m\u001b[1;32m      3\u001b[0m     \u001b[0;32mfor\u001b[0m \u001b[0mline\u001b[0m \u001b[0;32min\u001b[0m \u001b[0mf\u001b[0m\u001b[0;34m:\u001b[0m\u001b[0;34m\u001b[0m\u001b[0;34m\u001b[0m\u001b[0m\n\u001b[1;32m      4\u001b[0m         \u001b[0mprint\u001b[0m\u001b[0;34m(\u001b[0m\u001b[0mline\u001b[0m\u001b[0;34m)\u001b[0m\u001b[0;34m\u001b[0m\u001b[0;34m\u001b[0m\u001b[0m\n\u001b[1;32m      5\u001b[0m \u001b[0mprint\u001b[0m\u001b[0;34m(\u001b[0m\u001b[0;34m'\\nI\\'m done.'\u001b[0m\u001b[0;34m)\u001b[0m\u001b[0;34m\u001b[0m\u001b[0;34m\u001b[0m\u001b[0m\n",
      "\u001b[0;31mFileNotFoundError\u001b[0m: [Errno 2] No such file or directory: 'zen_of_python.txt'"
     ]
    }
   ],
   "source": [
    "# Example of reading in a .txt file line by line with a for loop\n",
    "with open('zen_of_python.txt') as f:\n",
    "    for line in f:\n",
    "        print(line)\n",
    "print('\\nI\\'m done.')"
   ]
  },
  {
   "cell_type": "code",
   "execution_count": 53,
   "id": "5f27e955-9d9b-4c69-9191-d95b316526e7",
   "metadata": {},
   "outputs": [
    {
     "name": "stdout",
     "output_type": "stream",
     "text": [
      "362880\n"
     ]
    }
   ],
   "source": [
    "# Use a for loop to calculate 9!\n",
    "product = 1\n",
    "for n in range(1, 10):\n",
    "    product = product * n\n",
    "\n",
    "print(product)"
   ]
  },
  {
   "cell_type": "code",
   "execution_count": 54,
   "id": "581fb417-f39f-47b4-976b-714cdeb19a8b",
   "metadata": {},
   "outputs": [
    {
     "name": "stdout",
     "output_type": "stream",
     "text": [
      "0 -17.77777777777778\n",
      "10 -12.222222222222221\n",
      "20 -6.666666666666667\n",
      "30 -1.1111111111111112\n",
      "40 4.444444444444445\n",
      "50 10.0\n",
      "60 15.555555555555555\n",
      "70 21.11111111111111\n",
      "80 26.666666666666668\n",
      "90 32.22222222222222\n",
      "100 37.77777777777778\n"
     ]
    }
   ],
   "source": [
    "# Define a function that converts Fahrenheit to Celsius\n",
    "def to_celsius(x):\n",
    "     return (x-32) * 5/9\n",
    "\n",
    "# Create a table of Celsius-->Fahrenheit conversions every 10 degrees, 0-100\n",
    "for x in range(0, 101, 10):\n",
    "     print(x, to_celsius(x))"
   ]
  },
  {
   "cell_type": "markdown",
   "id": "d93f7729-abeb-476b-8b64-7545d6dbc37a",
   "metadata": {},
   "source": [
    "### Strings"
   ]
  },
  {
   "cell_type": "code",
   "execution_count": 55,
   "id": "f62b6c0b-2ea1-47b1-8f65-4ad5113215e6",
   "metadata": {},
   "outputs": [
    {
     "data": {
      "text/plain": [
       "'Helloworld'"
      ]
     },
     "execution_count": 55,
     "metadata": {},
     "output_type": "execute_result"
    }
   ],
   "source": [
    "# Adding strings will combine them\n",
    "'Hello' + 'world'"
   ]
  },
  {
   "cell_type": "code",
   "execution_count": 56,
   "id": "04fea9d6-aeba-464a-8a8f-4406d337c1fd",
   "metadata": {},
   "outputs": [
    {
     "data": {
      "text/plain": [
       "'Hello world'"
      ]
     },
     "execution_count": 56,
     "metadata": {},
     "output_type": "execute_result"
    }
   ],
   "source": [
    "# Blank space (\"whitespace\") is its own character\n",
    "'Hello ' + 'world'"
   ]
  },
  {
   "cell_type": "code",
   "execution_count": 57,
   "id": "2ab0e86f-f358-4301-8265-b24ee270ea5f",
   "metadata": {},
   "outputs": [
    {
     "data": {
      "text/plain": [
       "'Hello world'"
      ]
     },
     "execution_count": 57,
     "metadata": {},
     "output_type": "execute_result"
    }
   ],
   "source": [
    "# Including a whitespace when combining strings\n",
    "'Hello' + ' ' + 'world'"
   ]
  },
  {
   "cell_type": "code",
   "execution_count": 58,
   "id": "75bba14d-99bd-4fb6-be6b-5bfec5747f64",
   "metadata": {},
   "outputs": [
    {
     "data": {
      "text/plain": [
       "'Hello world'"
      ]
     },
     "execution_count": 58,
     "metadata": {},
     "output_type": "execute_result"
    }
   ],
   "source": [
    "# Variables containing strings can be added\n",
    "greeting_1 = 'Hello '\n",
    "greeting_2 = 'world'\n",
    "greeting_1 + greeting_2"
   ]
  },
  {
   "cell_type": "code",
   "execution_count": 59,
   "id": "16f3cf6d-565f-46b3-9e5c-744f81f2de1c",
   "metadata": {},
   "outputs": [
    {
     "data": {
      "text/plain": [
       "'Danger! Danger! Danger! '"
      ]
     },
     "execution_count": 59,
     "metadata": {},
     "output_type": "execute_result"
    }
   ],
   "source": [
    "# Strings can be multiplied by integers\n",
    "danger = 'Danger! '\n",
    "danger * 3"
   ]
  },
  {
   "cell_type": "code",
   "execution_count": 60,
   "id": "a1db744d-265a-40a8-8ea4-e983d784dc13",
   "metadata": {},
   "outputs": [
    {
     "ename": "TypeError",
     "evalue": "unsupported operand type(s) for -: 'str' and 'int'",
     "output_type": "error",
     "traceback": [
      "\u001b[0;31m---------------------------------------------------------------------------\u001b[0m",
      "\u001b[0;31mTypeError\u001b[0m                                 Traceback (most recent call last)",
      "\u001b[0;32m/var/folders/yq/ns90sjt10y724n5d18pd2jj00000gn/T/ipykernel_40033/1941165815.py\u001b[0m in \u001b[0;36m<module>\u001b[0;34m\u001b[0m\n\u001b[1;32m      1\u001b[0m \u001b[0;31m# Strings cannot be used with subtraction or division\u001b[0m\u001b[0;34m\u001b[0m\u001b[0;34m\u001b[0m\u001b[0m\n\u001b[0;32m----> 2\u001b[0;31m \u001b[0mdanger\u001b[0m \u001b[0;34m-\u001b[0m \u001b[0;36m2\u001b[0m\u001b[0;34m\u001b[0m\u001b[0;34m\u001b[0m\u001b[0m\n\u001b[0m",
      "\u001b[0;31mTypeError\u001b[0m: unsupported operand type(s) for -: 'str' and 'int'"
     ]
    }
   ],
   "source": [
    "# Strings cannot be used with subtraction or division\n",
    "danger - 2"
   ]
  },
  {
   "cell_type": "code",
   "execution_count": 61,
   "id": "97749432-7d10-4d11-b505-43fa318e40e7",
   "metadata": {},
   "outputs": [
    {
     "name": "stdout",
     "output_type": "stream",
     "text": [
      "\"Thank you for pressing the self-destruct button.\"\n"
     ]
    }
   ],
   "source": [
    "# Alternate single and double quotes to include one or the other in your string\n",
    "quote = '\"Thank you for pressing the self-destruct button.\"'\n",
    "print(quote)"
   ]
  },
  {
   "cell_type": "code",
   "execution_count": 62,
   "id": "aa265444-452e-43d5-ab86-4c227491f559",
   "metadata": {},
   "outputs": [
    {
     "name": "stdout",
     "output_type": "stream",
     "text": [
      "\"It's dangerous to go alone!\"\n"
     ]
    }
   ],
   "source": [
    "# \\ is an escape character that modifies the character that follows it\n",
    "quote = \"\\\"It's dangerous to go alone!\\\"\"\n",
    "print(quote)"
   ]
  },
  {
   "cell_type": "code",
   "execution_count": 63,
   "id": "f88c3b6c-7063-4eeb-b532-c38016aff1b9",
   "metadata": {},
   "outputs": [
    {
     "name": "stdout",
     "output_type": "stream",
     "text": [
      "Good day,\n",
      "sir.\n"
     ]
    }
   ],
   "source": [
    "# \\n creates a newline\n",
    "greeting = \"Good day,\\nsir.\"\n",
    "print(greeting)"
   ]
  },
  {
   "cell_type": "code",
   "execution_count": 64,
   "id": "e6464caf-d93c-46c1-9104-01b8453d0bb9",
   "metadata": {},
   "outputs": [
    {
     "name": "stdout",
     "output_type": "stream",
     "text": [
      "\\n represents a newline in Python.\n"
     ]
    }
   ],
   "source": [
    "# Using escape character (\\) lets you express the newline symbol within a string\n",
    "newline = \"\\\\n represents a newline in Python.\"\n",
    "print(newline)"
   ]
  },
  {
   "cell_type": "code",
   "execution_count": 65,
   "id": "35617c3e-ebe4-4da8-95cb-84804980c46a",
   "metadata": {},
   "outputs": [
    {
     "name": "stdout",
     "output_type": "stream",
     "text": [
      "Put\n",
      "yut\n",
      "tut\n",
      "hut\n",
      "out\n",
      "nut\n"
     ]
    }
   ],
   "source": [
    "# You can loop over strings\n",
    "python = 'Python'\n",
    "for letter in python:\n",
    "    print(letter + 'ut')"
   ]
  },
  {
   "cell_type": "markdown",
   "id": "1ddcbc8d-47df-43e7-96bc-523e7183702e",
   "metadata": {},
   "source": [
    "## Working with Strings"
   ]
  },
  {
   "cell_type": "markdown",
   "id": "307c18d1-4afc-4de0-b2cd-1c65d209d853",
   "metadata": {},
   "source": [
    "### Indexing\n",
    "\n",
    "**Indexing** refers to accessing a single element of a sequence by its position. In Python, the first element of any sequence has an index of zero. This means Python uses *zero-based indexing*. "
   ]
  },
  {
   "cell_type": "code",
   "execution_count": 66,
   "id": "c2dafa16-ffd3-411f-89bc-2113689b99fd",
   "metadata": {},
   "outputs": [
    {
     "ename": "NameError",
     "evalue": "name 'pets' is not defined",
     "output_type": "error",
     "traceback": [
      "\u001b[0;31m---------------------------------------------------------------------------\u001b[0m",
      "\u001b[0;31mNameError\u001b[0m                                 Traceback (most recent call last)",
      "\u001b[0;32m/var/folders/yq/ns90sjt10y724n5d18pd2jj00000gn/T/ipykernel_40033/722664188.py\u001b[0m in \u001b[0;36m<module>\u001b[0;34m\u001b[0m\n\u001b[1;32m      2\u001b[0m     \u001b[0mprint\u001b[0m\u001b[0;34m(\u001b[0m\u001b[0;34mf'Character at index position {index_num} in {input_value} is {input_value[index_num]}'\u001b[0m\u001b[0;34m)\u001b[0m\u001b[0;34m\u001b[0m\u001b[0;34m\u001b[0m\u001b[0m\n\u001b[1;32m      3\u001b[0m \u001b[0;34m\u001b[0m\u001b[0m\n\u001b[0;32m----> 4\u001b[0;31m \u001b[0mfind_index_value\u001b[0m\u001b[0;34m(\u001b[0m\u001b[0mpets\u001b[0m\u001b[0;34m,\u001b[0m \u001b[0;36m10\u001b[0m\u001b[0;34m)\u001b[0m\u001b[0;34m\u001b[0m\u001b[0;34m\u001b[0m\u001b[0m\n\u001b[0m\u001b[1;32m      5\u001b[0m \u001b[0mfind_index_value\u001b[0m\u001b[0;34m(\u001b[0m\u001b[0mpets\u001b[0m\u001b[0;34m,\u001b[0m \u001b[0;36m4\u001b[0m\u001b[0;34m)\u001b[0m\u001b[0;34m\u001b[0m\u001b[0;34m\u001b[0m\u001b[0m\n\u001b[1;32m      6\u001b[0m \u001b[0mfind_index_value\u001b[0m\u001b[0;34m(\u001b[0m\u001b[0mpets\u001b[0m\u001b[0;34m,\u001b[0m \u001b[0;36m0\u001b[0m\u001b[0;34m)\u001b[0m\u001b[0;34m\u001b[0m\u001b[0;34m\u001b[0m\u001b[0m\n",
      "\u001b[0;31mNameError\u001b[0m: name 'pets' is not defined"
     ]
    }
   ],
   "source": [
    "def find_index_value(input_value, index_num):\n",
    "    print(f'Character at index position {index_num} in {input_value} is {input_value[index_num]}')\n",
    "\n",
    "find_index_value(pets, 10)\n",
    "find_index_value(pets, 4)\n",
    "find_index_value(pets, 0)"
   ]
  },
  {
   "cell_type": "markdown",
   "id": "8eac4389-6ae8-4b1c-9d4f-1c133c58e273",
   "metadata": {},
   "source": [
    "The string class has an `index()` function that returns the position of the input in the string, if it exists."
   ]
  },
  {
   "cell_type": "code",
   "execution_count": 67,
   "id": "727bd59a-eeba-4289-b121-fc7f1f47d559",
   "metadata": {},
   "outputs": [
    {
     "data": {
      "text/plain": [
       "3"
      ]
     },
     "execution_count": 67,
     "metadata": {},
     "output_type": "execute_result"
    }
   ],
   "source": [
    "# The index() method returns index of character's first occurrence in string\n",
    "pets = 'cats and dogs'\n",
    "pets.index('s')"
   ]
  },
  {
   "cell_type": "code",
   "execution_count": 68,
   "id": "60f200d0-e293-4f74-a514-440b1a561f45",
   "metadata": {},
   "outputs": [
    {
     "ename": "ValueError",
     "evalue": "substring not found",
     "output_type": "error",
     "traceback": [
      "\u001b[0;31m---------------------------------------------------------------------------\u001b[0m",
      "\u001b[0;31mValueError\u001b[0m                                Traceback (most recent call last)",
      "\u001b[0;32m/var/folders/yq/ns90sjt10y724n5d18pd2jj00000gn/T/ipykernel_40033/2813354131.py\u001b[0m in \u001b[0;36m<module>\u001b[0;34m\u001b[0m\n\u001b[1;32m      1\u001b[0m \u001b[0;31m# The index() method will throw an error if character is not in string\u001b[0m\u001b[0;34m\u001b[0m\u001b[0;34m\u001b[0m\u001b[0m\n\u001b[0;32m----> 2\u001b[0;31m \u001b[0mpets\u001b[0m\u001b[0;34m.\u001b[0m\u001b[0mindex\u001b[0m\u001b[0;34m(\u001b[0m\u001b[0;34m'z'\u001b[0m\u001b[0;34m)\u001b[0m\u001b[0;34m\u001b[0m\u001b[0;34m\u001b[0m\u001b[0m\n\u001b[0m",
      "\u001b[0;31mValueError\u001b[0m: substring not found"
     ]
    }
   ],
   "source": [
    "# The index() method will throw an error if character is not in string\n",
    "pets.index('z')"
   ]
  },
  {
   "cell_type": "code",
   "execution_count": 69,
   "id": "265ac0bc-62a4-43fe-b7e5-2329576b8fa6",
   "metadata": {},
   "outputs": [
    {
     "data": {
      "text/plain": [
       "'J'"
      ]
     },
     "execution_count": 69,
     "metadata": {},
     "output_type": "execute_result"
    }
   ],
   "source": [
    "# Access the character at a given index of a string\n",
    "name = 'Jolene'\n",
    "name[0]"
   ]
  },
  {
   "cell_type": "code",
   "execution_count": 70,
   "id": "504f773d-8f70-40a4-88ff-15ca9e80077c",
   "metadata": {},
   "outputs": [
    {
     "data": {
      "text/plain": [
       "'e'"
      ]
     },
     "execution_count": 70,
     "metadata": {},
     "output_type": "execute_result"
    }
   ],
   "source": [
    "# Access the character at a given index of a string\n",
    "name[5]"
   ]
  },
  {
   "cell_type": "code",
   "execution_count": 71,
   "id": "061bcbea-72f8-4cdc-9857-5ab8da2e967d",
   "metadata": {},
   "outputs": [
    {
     "ename": "IndexError",
     "evalue": "string index out of range",
     "output_type": "error",
     "traceback": [
      "\u001b[0;31m---------------------------------------------------------------------------\u001b[0m",
      "\u001b[0;31mIndexError\u001b[0m                                Traceback (most recent call last)",
      "\u001b[0;32m/var/folders/yq/ns90sjt10y724n5d18pd2jj00000gn/T/ipykernel_40033/242946715.py\u001b[0m in \u001b[0;36m<module>\u001b[0;34m\u001b[0m\n\u001b[1;32m      1\u001b[0m \u001b[0;31m# Indices that are out of range will return an IndexError\u001b[0m\u001b[0;34m\u001b[0m\u001b[0;34m\u001b[0m\u001b[0m\n\u001b[0;32m----> 2\u001b[0;31m \u001b[0mname\u001b[0m\u001b[0;34m[\u001b[0m\u001b[0;36m6\u001b[0m\u001b[0;34m]\u001b[0m\u001b[0;34m\u001b[0m\u001b[0;34m\u001b[0m\u001b[0m\n\u001b[0m",
      "\u001b[0;31mIndexError\u001b[0m: string index out of range"
     ]
    }
   ],
   "source": [
    "# Indices that are out of range will return an IndexError\n",
    "name[6]"
   ]
  },
  {
   "cell_type": "markdown",
   "id": "e32b16f3-e5d3-493e-9662-81f4f4f8af9b",
   "metadata": {},
   "source": [
    "Strings can also be indexed starting at the end--called *negative indexing*."
   ]
  },
  {
   "cell_type": "code",
   "execution_count": 72,
   "id": "74df4f58-dbcf-48c1-9852-892ec0bceb8c",
   "metadata": {},
   "outputs": [
    {
     "data": {
      "text/plain": [
       "'!'"
      ]
     },
     "execution_count": 72,
     "metadata": {},
     "output_type": "execute_result"
    }
   ],
   "source": [
    "# Negative indexing begins at the end of the string\n",
    "sentence = 'A man, a plan, a canal, Panama!'\n",
    "sentence[-1]"
   ]
  },
  {
   "cell_type": "code",
   "execution_count": 73,
   "id": "0efd7439-4533-4342-bf74-0c05a12a9555",
   "metadata": {},
   "outputs": [
    {
     "data": {
      "text/plain": [
       "'a'"
      ]
     },
     "execution_count": 73,
     "metadata": {},
     "output_type": "execute_result"
    }
   ],
   "source": [
    "# Negative indexing begins at the end of the string\n",
    "sentence[-2]"
   ]
  },
  {
   "cell_type": "markdown",
   "id": "8efe0e54-5342-4921-b232-2d22609028d3",
   "metadata": {},
   "source": [
    "### Slicing\n",
    "\n",
    "**Slicing** refers to accessing a range of elements from a sequence. Use square brackets containing two indices separated by a colon. \n",
    "\n",
    "E.g., \n",
    "- From beginning: `[:5]`  \n",
    "- Until end: `[4:]`  \n",
    "- Full string: `[:]`  "
   ]
  },
  {
   "cell_type": "code",
   "execution_count": 74,
   "id": "ed9a6aff-2f72-473b-8f1b-4820d27ff2cb",
   "metadata": {},
   "outputs": [
    {
     "data": {
      "text/plain": [
       "'ran'"
      ]
     },
     "execution_count": 74,
     "metadata": {},
     "output_type": "execute_result"
    }
   ],
   "source": [
    "# Access a substring by using a slice\n",
    "color = 'orange'\n",
    "color[1:4]"
   ]
  },
  {
   "cell_type": "code",
   "execution_count": 75,
   "id": "ace0a339-9e0b-4c7b-a48c-6d823fbd4ab0",
   "metadata": {},
   "outputs": [
    {
     "name": "stdout",
     "output_type": "stream",
     "text": [
      "pine\n",
      "apple\n",
      "pineapple\n"
     ]
    }
   ],
   "source": [
    "# Omitting the first value of the slice implies a value of 0\n",
    "fruit = 'pineapple'\n",
    "print(fruit[:4])\n",
    "\n",
    "# Omitting the last value of the slice implies a value of len(string)\n",
    "print(fruit[4:])\n",
    "\n",
    "# Omitting both values results in the original string\n",
    "print(fruit[:])"
   ]
  },
  {
   "cell_type": "code",
   "execution_count": 76,
   "id": "7c3e3419-3bc8-4c69-bf6b-baae2c5bac38",
   "metadata": {},
   "outputs": [
    {
     "name": "stdout",
     "output_type": "stream",
     "text": [
      "False\n",
      "True\n"
     ]
    }
   ],
   "source": [
    "# The `in` keyword returns Boolean of whether substring is in string\n",
    "print('banana' in fruit)\n",
    "\n",
    "print('apple' in fruit)"
   ]
  },
  {
   "cell_type": "markdown",
   "id": "b5e38a24-d0fa-4f14-8d9f-e87308842f84",
   "metadata": {},
   "source": [
    "### Formatting"
   ]
  },
  {
   "cell_type": "markdown",
   "id": "e4d59dba-555e-41eb-ba26-ceeaf8868420",
   "metadata": {},
   "source": [
    "String formatting uses the `format()` method, which belongs to the string class. This method formats and inserts specific substrings into designated places within a larger string."
   ]
  },
  {
   "cell_type": "code",
   "execution_count": 77,
   "id": "358b7141-9f9d-4bbb-8262-27e96cc85f69",
   "metadata": {},
   "outputs": [
    {
     "name": "stdout",
     "output_type": "stream",
     "text": [
      "Hello Manuel, your lucky number is 3.\n"
     ]
    }
   ],
   "source": [
    "# Use format() method to insert values into your string, indicated by braces\n",
    "name = 'Manuel'\n",
    "number = 3\n",
    "print('Hello {}, your lucky number is {}.'.format(name, number))"
   ]
  },
  {
   "cell_type": "code",
   "execution_count": 78,
   "id": "209b0070-c8f1-4a0f-8372-ac9ac2c5dc29",
   "metadata": {},
   "outputs": [
    {
     "name": "stdout",
     "output_type": "stream",
     "text": [
      "Hello Manuel, your lucky number is 3.\n"
     ]
    }
   ],
   "source": [
    "# You can assign names to designate how you want values to be inserted\n",
    "name = 'Manuel'\n",
    "number = 3\n",
    "print('Hello {name}, your lucky number is {num}.'.format(num=number, name=name))"
   ]
  },
  {
   "cell_type": "code",
   "execution_count": 79,
   "id": "cb1d71f9-fff4-425b-9161-a7be2c7dc92b",
   "metadata": {},
   "outputs": [
    {
     "name": "stdout",
     "output_type": "stream",
     "text": [
      "Hello Manuel, your lucky number is 3.\n"
     ]
    }
   ],
   "source": [
    "# You can use argument indices to designate how you want values to be inserted\n",
    "print('Hello {1}, your lucky number is {0}.'.format(number, name))"
   ]
  },
  {
   "cell_type": "code",
   "execution_count": 80,
   "id": "45e7a6f5-54ac-4ce4-91f1-c0bd802ad464",
   "metadata": {},
   "outputs": [
    {
     "name": "stdout",
     "output_type": "stream",
     "text": [
      "Base price: $7.75 USD. \n",
      "With tax: $8.2925 USD.\n"
     ]
    }
   ],
   "source": [
    "# Example inserting prices into string\n",
    "price = 7.75\n",
    "with_tax = price * 1.07\n",
    "print('Base price: ${} USD. \\nWith tax: ${} USD.'.format(price, with_tax))"
   ]
  },
  {
   "cell_type": "code",
   "execution_count": 81,
   "id": "ab462157-74f2-4736-a79a-2bc185de7cb2",
   "metadata": {},
   "outputs": [
    {
     "name": "stdout",
     "output_type": "stream",
     "text": [
      "Base price: $7.75 USD. \n",
      "With tax: $8.29 USD.\n"
     ]
    }
   ],
   "source": [
    "# Use :.2f to round a float value to two places beyond the decimal\n",
    "print('Base price: ${:.2f} USD. \\nWith tax: ${:.2f} USD.'.format(price, with_tax))"
   ]
  },
  {
   "cell_type": "code",
   "execution_count": 82,
   "id": "43edcdc3-b5ea-4467-afe8-e9843bdd666f",
   "metadata": {},
   "outputs": [
    {
     "name": "stdout",
     "output_type": "stream",
     "text": [
      "  0 F | -17.78 C\n",
      " 10 F | -12.22 C\n",
      " 20 F |  -6.67 C\n",
      " 30 F |  -1.11 C\n",
      " 40 F |   4.44 C\n",
      " 50 F |  10.00 C\n",
      " 60 F |  15.56 C\n",
      " 70 F |  21.11 C\n",
      " 80 F |  26.67 C\n",
      " 90 F |  32.22 C\n",
      "100 F |  37.78 C\n"
     ]
    }
   ],
   "source": [
    "# Define a function that converts Fahrenheit to Celsius\n",
    "def to_celsius(x):\n",
    "    return (x-32) * 5/9\n",
    "\n",
    "# Create a temperature conversion table using string formatting\n",
    "for x in range(0, 101, 10):\n",
    "    print(\"{:>3} F | {:>6.2f} C\".format(x, to_celsius(x)))"
   ]
  },
  {
   "cell_type": "markdown",
   "id": "931344b9-5baf-447e-9be5-5d0ae0d15ed2",
   "metadata": {},
   "source": [
    "**F-strings** further minimize the syntax required to embed expressions into strings. They’re called f-strings because the expressions always begin with f (or F—they’re the same). "
   ]
  },
  {
   "cell_type": "code",
   "execution_count": 83,
   "id": "b2890eb5-926a-4f19-a24d-9186f62aee1a",
   "metadata": {},
   "outputs": [
    {
     "name": "stdout",
     "output_type": "stream",
     "text": [
      "1 + 2\n",
      "3\n",
      "var_a = 1 \n",
      "var_b = 2\n"
     ]
    }
   ],
   "source": [
    "var_a = 1\n",
    "var_b = 2\n",
    "print(f'{var_a} + {var_b}')\n",
    "print(f'{var_a + var_b}')\n",
    "print(f'var_a = {var_a} \\nvar_b = {var_b}')"
   ]
  },
  {
   "cell_type": "markdown",
   "id": "936abbc0-04fc-4d0a-933f-7864b426dafc",
   "metadata": {},
   "source": [
    "In addition to inserting expressions into strings, string formatting can format their appearance. \n",
    "\n",
    "For all available options, review [Python string documentation](https://docs.python.org/3/library/string.html)."
   ]
  },
  {
   "cell_type": "markdown",
   "id": "056be464-e44f-4f36-a30b-3218ae4b092f",
   "metadata": {},
   "source": [
    "Formatting floats within a string is a common task for data professionals. This can be done using the following format:\n",
    "\n",
    "`{float:.2f}`\n",
    "\n",
    "where `float` is the float to be formatted, `.2` represents the precision (number of decimal places), and `f` is the presentation type."
   ]
  },
  {
   "cell_type": "code",
   "execution_count": 84,
   "id": "5debed4a-0b0f-49ec-8546-3b93ed648721",
   "metadata": {},
   "outputs": [
    {
     "data": {
      "text/plain": [
       "'1000.99'"
      ]
     },
     "execution_count": 84,
     "metadata": {},
     "output_type": "execute_result"
    }
   ],
   "source": [
    "num = 1000.987123\n",
    "f'{num:.2f}'"
   ]
  },
  {
   "cell_type": "markdown",
   "id": "a1017bb8-1931-4203-842a-7e659c057d2d",
   "metadata": {},
   "source": [
    "Some common examples of presentation types include:\n",
    "\n",
    "| Type | Meaning |\n",
    "| --- | --- |\n",
    "| `e` | Scientific notation |\n",
    "| `f` | Fixed-point notation |\n",
    "| `%` | Percentage |"
   ]
  },
  {
   "cell_type": "code",
   "execution_count": 85,
   "id": "fc8dca96-4050-4cc3-bd49-6217da6375d3",
   "metadata": {},
   "outputs": [
    {
     "name": "stdout",
     "output_type": "stream",
     "text": [
      "1.001e+03\n",
      "24.9786%\n"
     ]
    }
   ],
   "source": [
    "num = 1000.987123\n",
    "print(f'{num:.3e}')\n",
    "\n",
    "decimal = 0.2497856\n",
    "print(f'{decimal:.4%}')"
   ]
  },
  {
   "cell_type": "markdown",
   "id": "d805dcc9-e0eb-44ef-aa9c-94e23231a94a",
   "metadata": {},
   "source": [
    "Regular expressions, also known as *regex*, refer to techniques that advanced data professionals use to modify and process string data.\n",
    "\n",
    "Regex works by matching patterns in Python. It allows you to search for specific patterns of text within a string of text. Regex is used extensively in web scraping, text processing and cleaning, and data analysis. \n",
    "\n",
    "The first step in working with regular expressions is to import the re module. This module provides the tools necessary for working with regular expressions."
   ]
  },
  {
   "cell_type": "code",
   "execution_count": 86,
   "id": "9abf38db-c9d4-47d0-85f4-e48e98ca83cb",
   "metadata": {},
   "outputs": [
    {
     "data": {
      "text/plain": [
       "<re.Match object; span=(10, 16), match='tigers'>"
      ]
     },
     "execution_count": 86,
     "metadata": {},
     "output_type": "execute_result"
    }
   ],
   "source": [
    "# regex is available in the `re` package\n",
    "import re\n",
    "\n",
    "# specify the regex pattern\n",
    "pattern = 'tigers'\n",
    "\n",
    "string_to_search = 'Three sad tigers swallowed wheat in a wheat field'\n",
    "\n",
    "# search using the `search()` function\n",
    "re.search(pattern, string_to_search)"
   ]
  },
  {
   "cell_type": "markdown",
   "id": "244a27fb-b78d-42cb-81a8-81ea6524795c",
   "metadata": {},
   "source": [
    "## Data Structures"
   ]
  },
  {
   "cell_type": "markdown",
   "id": "47a9df67-21de-4e4d-b318-2834f3b7e03e",
   "metadata": {},
   "source": [
    "### Lists"
   ]
  },
  {
   "cell_type": "code",
   "execution_count": 87,
   "id": "04397297-73e2-408b-a9df-f72624f13d76",
   "metadata": {},
   "outputs": [
    {
     "name": "stdout",
     "output_type": "stream",
     "text": [
      "cooking\n"
     ]
    }
   ],
   "source": [
    "# Assign a list using brackets, with elements separated by commas\n",
    "x = [\"Now\", \"we\", \"are\", \"cooking\", \"with\", 7, \"ingredients\"]\n",
    "\n",
    "# Print element at index 3\n",
    "print(x[3])"
   ]
  },
  {
   "cell_type": "code",
   "execution_count": 88,
   "id": "66173838-cbb4-4577-aeb3-6046d5c26b85",
   "metadata": {},
   "outputs": [
    {
     "ename": "IndexError",
     "evalue": "list index out of range",
     "output_type": "error",
     "traceback": [
      "\u001b[0;31m---------------------------------------------------------------------------\u001b[0m",
      "\u001b[0;31mIndexError\u001b[0m                                Traceback (most recent call last)",
      "\u001b[0;32m/var/folders/yq/ns90sjt10y724n5d18pd2jj00000gn/T/ipykernel_40033/1346493569.py\u001b[0m in \u001b[0;36m<module>\u001b[0;34m\u001b[0m\n\u001b[1;32m      1\u001b[0m \u001b[0;31m# Trying to access an index not in list will result in IndexError\u001b[0m\u001b[0;34m\u001b[0m\u001b[0;34m\u001b[0m\u001b[0m\n\u001b[0;32m----> 2\u001b[0;31m \u001b[0mprint\u001b[0m\u001b[0;34m(\u001b[0m\u001b[0mx\u001b[0m\u001b[0;34m[\u001b[0m\u001b[0;36m7\u001b[0m\u001b[0;34m]\u001b[0m\u001b[0;34m)\u001b[0m\u001b[0;34m\u001b[0m\u001b[0;34m\u001b[0m\u001b[0m\n\u001b[0m",
      "\u001b[0;31mIndexError\u001b[0m: list index out of range"
     ]
    }
   ],
   "source": [
    "# Trying to access an index not in list will result in IndexError\n",
    "print(x[7])"
   ]
  },
  {
   "cell_type": "code",
   "execution_count": 89,
   "id": "ef953642-758c-4dd1-92ac-a06f26161d10",
   "metadata": {},
   "outputs": [
    {
     "data": {
      "text/plain": [
       "['we', 'are']"
      ]
     },
     "execution_count": 89,
     "metadata": {},
     "output_type": "execute_result"
    }
   ],
   "source": [
    "# Access part of a list by slicing\n",
    "x[1:3]"
   ]
  },
  {
   "cell_type": "code",
   "execution_count": 90,
   "id": "5400e254-091d-4b8d-8863-21d0d0421610",
   "metadata": {},
   "outputs": [
    {
     "data": {
      "text/plain": [
       "['Now', 'we']"
      ]
     },
     "execution_count": 90,
     "metadata": {},
     "output_type": "execute_result"
    }
   ],
   "source": [
    "# Omitting the first value of the slice implies a value of 0\n",
    "x[:2]"
   ]
  },
  {
   "cell_type": "code",
   "execution_count": 91,
   "id": "84e398c0-0c58-44be-a5c9-179b7a8d5624",
   "metadata": {},
   "outputs": [
    {
     "data": {
      "text/plain": [
       "['are', 'cooking', 'with', 7, 'ingredients']"
      ]
     },
     "execution_count": 91,
     "metadata": {},
     "output_type": "execute_result"
    }
   ],
   "source": [
    "# Omitting the last value of the slice implies a value of len(list)\n",
    "x[2:]"
   ]
  },
  {
   "cell_type": "code",
   "execution_count": 92,
   "id": "27719526-4e51-4f2e-b54e-1b527ec3f3e8",
   "metadata": {},
   "outputs": [
    {
     "data": {
      "text/plain": [
       "list"
      ]
     },
     "execution_count": 92,
     "metadata": {},
     "output_type": "execute_result"
    }
   ],
   "source": [
    "# Check the data type of an object using type() function\n",
    "type(x)"
   ]
  },
  {
   "cell_type": "code",
   "execution_count": 94,
   "id": "0062bef1-9fbb-4301-bf6d-2c8855aff208",
   "metadata": {},
   "outputs": [
    {
     "name": "stdout",
     "output_type": "stream",
     "text": [
      "Checking if 'This' is in the list... False\n",
      "Checking if 'cooking' is in the list... True\n"
     ]
    }
   ],
   "source": [
    "# The `in` keyword lets you check if a value is contained in the list\n",
    "x = [\"Now\", \"we\", \"are\", \"cooking\", \"with\", 7, \"ingredients\"]\n",
    "\n",
    "check_for_entry_in_list(x, \"This\")\n",
    "check_for_entry_in_list(x, \"cooking\")\n",
    "\n",
    "def check_for_entry_in_list(l, w):\n",
    "    print(f\"Checking if '{w}' is in the list... {w in l}\")"
   ]
  },
  {
   "cell_type": "code",
   "execution_count": 95,
   "id": "0a0f8fd1-b9bf-46a7-9e0d-3b468b9a99f5",
   "metadata": {},
   "outputs": [
    {
     "name": "stdout",
     "output_type": "stream",
     "text": [
      "['Pineapple', 'Banana', 'Apple', 'Melon', 'Kiwi']\n"
     ]
    }
   ],
   "source": [
    "# The append() method adds an element to the end of a list\n",
    "fruits = ['Pineapple', 'Banana', 'Apple', 'Melon']\n",
    "fruits.append('Kiwi')\n",
    "print(fruits)"
   ]
  },
  {
   "cell_type": "code",
   "execution_count": 96,
   "id": "6d029caa-ac9a-4ec9-9fd6-df0e16d0baaf",
   "metadata": {},
   "outputs": [
    {
     "name": "stdout",
     "output_type": "stream",
     "text": [
      "['Pineapple', 'Orange', 'Banana', 'Apple', 'Melon', 'Kiwi']\n"
     ]
    }
   ],
   "source": [
    "# The insert() method adds an element to a list at the specified index\n",
    "fruits.insert(1, 'Orange')\n",
    "print(fruits)"
   ]
  },
  {
   "cell_type": "code",
   "execution_count": 97,
   "id": "6ea10e15-2c69-4c12-915c-fdd70ddf547d",
   "metadata": {},
   "outputs": [
    {
     "name": "stdout",
     "output_type": "stream",
     "text": [
      "['Mango', 'Pineapple', 'Orange', 'Banana', 'Apple', 'Melon', 'Kiwi']\n"
     ]
    }
   ],
   "source": [
    "# The insert() method adds an element to a list at the specified index\n",
    "fruits.insert(0, 'Mango')\n",
    "print(fruits)"
   ]
  },
  {
   "cell_type": "code",
   "execution_count": 98,
   "id": "f376da56-4d1c-4399-b522-01a60ad0648a",
   "metadata": {},
   "outputs": [
    {
     "name": "stdout",
     "output_type": "stream",
     "text": [
      "['Mango', 'Pineapple', 'Orange', 'Apple', 'Melon', 'Kiwi']\n"
     ]
    }
   ],
   "source": [
    "# The remove() method deletes the first occurrence of an element in a list\n",
    "fruits.remove('Banana')\n",
    "print(fruits)"
   ]
  },
  {
   "cell_type": "code",
   "execution_count": 99,
   "id": "b2cfe7b3-358e-48d8-9702-ee7c1ee19488",
   "metadata": {},
   "outputs": [
    {
     "ename": "ValueError",
     "evalue": "list.remove(x): x not in list",
     "output_type": "error",
     "traceback": [
      "\u001b[0;31m---------------------------------------------------------------------------\u001b[0m",
      "\u001b[0;31mValueError\u001b[0m                                Traceback (most recent call last)",
      "\u001b[0;32m/var/folders/yq/ns90sjt10y724n5d18pd2jj00000gn/T/ipykernel_40033/3608490646.py\u001b[0m in \u001b[0;36m<module>\u001b[0;34m\u001b[0m\n\u001b[1;32m      1\u001b[0m \u001b[0;31m# Trying to remove an element that doesn't exist results in an error\u001b[0m\u001b[0;34m\u001b[0m\u001b[0;34m\u001b[0m\u001b[0m\n\u001b[0;32m----> 2\u001b[0;31m \u001b[0mfruits\u001b[0m\u001b[0;34m.\u001b[0m\u001b[0mremove\u001b[0m\u001b[0;34m(\u001b[0m\u001b[0;34m'Strawberry'\u001b[0m\u001b[0;34m)\u001b[0m\u001b[0;34m\u001b[0m\u001b[0;34m\u001b[0m\u001b[0m\n\u001b[0m\u001b[1;32m      3\u001b[0m \u001b[0mprint\u001b[0m\u001b[0;34m(\u001b[0m\u001b[0mfruits\u001b[0m\u001b[0;34m)\u001b[0m\u001b[0;34m\u001b[0m\u001b[0;34m\u001b[0m\u001b[0m\n",
      "\u001b[0;31mValueError\u001b[0m: list.remove(x): x not in list"
     ]
    }
   ],
   "source": [
    "# Trying to remove an element that doesn't exist results in an error\n",
    "fruits.remove('Strawberry')\n",
    "print(fruits)"
   ]
  },
  {
   "cell_type": "code",
   "execution_count": 100,
   "id": "0890cd46-5df0-4e92-b6fa-73cf938a3f79",
   "metadata": {},
   "outputs": [
    {
     "name": "stdout",
     "output_type": "stream",
     "text": [
      "['Mango', 'Pineapple', 'Apple', 'Melon', 'Kiwi']\n"
     ]
    }
   ],
   "source": [
    "# The pop() method removes the element at a given index and returns it.\n",
    "# If no index is given, it removes and returns the last element.\n",
    "fruits.pop(2)\n",
    "print(fruits)"
   ]
  },
  {
   "cell_type": "code",
   "execution_count": 101,
   "id": "6e8b76b5-68b9-4bfc-9cd8-2654038b6c37",
   "metadata": {},
   "outputs": [],
   "source": [
    "# Reassign the element at a given index with a new value\n",
    "fruits[1] = 'Mango'"
   ]
  },
  {
   "cell_type": "code",
   "execution_count": 102,
   "id": "43ed10f9-3296-490d-9add-29cdf2854617",
   "metadata": {},
   "outputs": [
    {
     "name": "stdout",
     "output_type": "stream",
     "text": [
      "['Mango', 'Mango', 'Apple', 'Melon', 'Kiwi']\n"
     ]
    }
   ],
   "source": [
    "print(fruits)"
   ]
  },
  {
   "cell_type": "code",
   "execution_count": 103,
   "id": "d7e8ef46-bc99-46a4-a292-6269b1f83708",
   "metadata": {},
   "outputs": [
    {
     "name": "stdout",
     "output_type": "stream",
     "text": [
      "1.21 gigawatts\n"
     ]
    }
   ],
   "source": [
    "# Strings are immutable because you need to reassign them to modify them\n",
    "power = '1.21'\n",
    "power = power + ' gigawatts'\n",
    "print(power)"
   ]
  },
  {
   "cell_type": "code",
   "execution_count": 104,
   "id": "245a264a-c42d-430a-92a7-6295990798a5",
   "metadata": {},
   "outputs": [
    {
     "ename": "TypeError",
     "evalue": "'str' object does not support item assignment",
     "output_type": "error",
     "traceback": [
      "\u001b[0;31m---------------------------------------------------------------------------\u001b[0m",
      "\u001b[0;31mTypeError\u001b[0m                                 Traceback (most recent call last)",
      "\u001b[0;32m/var/folders/yq/ns90sjt10y724n5d18pd2jj00000gn/T/ipykernel_40033/2576244210.py\u001b[0m in \u001b[0;36m<module>\u001b[0;34m\u001b[0m\n\u001b[1;32m      1\u001b[0m \u001b[0;31m# You cannot reassign a specific character within a string\u001b[0m\u001b[0;34m\u001b[0m\u001b[0;34m\u001b[0m\u001b[0m\n\u001b[0;32m----> 2\u001b[0;31m \u001b[0mpower\u001b[0m\u001b[0;34m[\u001b[0m\u001b[0;36m0\u001b[0m\u001b[0;34m]\u001b[0m \u001b[0;34m=\u001b[0m \u001b[0;34m'2'\u001b[0m\u001b[0;34m\u001b[0m\u001b[0;34m\u001b[0m\u001b[0m\n\u001b[0m",
      "\u001b[0;31mTypeError\u001b[0m: 'str' object does not support item assignment"
     ]
    }
   ],
   "source": [
    "# You cannot reassign a specific character within a string\n",
    "power[0] = '2'"
   ]
  },
  {
   "cell_type": "code",
   "execution_count": 105,
   "id": "8040949c-652a-41b4-9d2a-be5eeda9d3ce",
   "metadata": {},
   "outputs": [
    {
     "name": "stdout",
     "output_type": "stream",
     "text": [
      "[2.21, 'gigawatts']\n"
     ]
    }
   ],
   "source": [
    "# Lists are mutable because you can overwrite their elements\n",
    "power = [1.21, 'gigawatts']\n",
    "power[0] = 2.21\n",
    "print(power)"
   ]
  },
  {
   "cell_type": "markdown",
   "id": "2998a7b1-b862-45cd-a0b8-6951c32779ae",
   "metadata": {},
   "source": [
    "#### List Comprehension\n",
    "\n",
    "List comprehension offers a shorter syntax when you want to create a new list based on the values of an existing list.\n",
    "\n",
    "`newlist = [expression for item in iterable if condition == True]`"
   ]
  },
  {
   "cell_type": "code",
   "execution_count": 157,
   "id": "e629deec-cd4d-4aa7-85b0-dfa24d702c07",
   "metadata": {},
   "outputs": [
    {
     "name": "stdout",
     "output_type": "stream",
     "text": [
      "['apple', 'banana', 'mango']\n"
     ]
    }
   ],
   "source": [
    "# Uses a `for` loop\n",
    "fruits = [\"apple\", \"banana\", \"cherry\", \"kiwi\", \"mango\"]\n",
    "newlist = []\n",
    "\n",
    "for x in fruits:\n",
    "  if \"a\" in x:\n",
    "    newlist.append(x)\n",
    "\n",
    "print(newlist)"
   ]
  },
  {
   "cell_type": "code",
   "execution_count": 160,
   "id": "e90384b0-1622-4520-9ac8-8da27c1af6b5",
   "metadata": {},
   "outputs": [
    {
     "name": "stdout",
     "output_type": "stream",
     "text": [
      "['apple', 'banana', 'mango']\n",
      "['apple123', 'banana123', 'cherry123', 'kiwi123', 'mango123']\n"
     ]
    }
   ],
   "source": [
    "fruits = [\"apple\", \"banana\", \"cherry\", \"kiwi\", \"mango\"]\n",
    "\n",
    "# Creates a list of fruits that have the letter `a` in them\n",
    "newlist = [x for x in fruits if \"a\" in x]\n",
    "print(newlist)\n",
    "\n",
    "# Concatenates `123` onto the end of each fruit in the list\n",
    "newlist = [x + '123' for x in fruits]\n",
    "print(newlist)"
   ]
  },
  {
   "cell_type": "markdown",
   "id": "ab7262f1-e13f-42c8-bb95-078eeb24950b",
   "metadata": {},
   "source": [
    "### Tuples"
   ]
  },
  {
   "cell_type": "code",
   "execution_count": 107,
   "id": "45b149b7-fee3-424b-9b43-affc672cf50e",
   "metadata": {},
   "outputs": [
    {
     "data": {
      "text/plain": [
       "('Masha', 'Z', 'Hopper')"
      ]
     },
     "execution_count": 107,
     "metadata": {},
     "output_type": "execute_result"
    }
   ],
   "source": [
    "# Tuples are instantiated with parentheses\n",
    "fullname = ('Masha', 'Z', 'Hopper')\n",
    "\n",
    "fullname"
   ]
  },
  {
   "cell_type": "code",
   "execution_count": 108,
   "id": "e2bccbd5-149d-4ae1-bd29-59d9d4f4213f",
   "metadata": {},
   "outputs": [
    {
     "ename": "TypeError",
     "evalue": "'tuple' object does not support item assignment",
     "output_type": "error",
     "traceback": [
      "\u001b[0;31m---------------------------------------------------------------------------\u001b[0m",
      "\u001b[0;31mTypeError\u001b[0m                                 Traceback (most recent call last)",
      "\u001b[0;32m/var/folders/yq/ns90sjt10y724n5d18pd2jj00000gn/T/ipykernel_40033/4068405208.py\u001b[0m in \u001b[0;36m<module>\u001b[0;34m\u001b[0m\n\u001b[1;32m      1\u001b[0m \u001b[0;31m# Tuples are immutable, so their elements cannot be overwritten\u001b[0m\u001b[0;34m\u001b[0m\u001b[0;34m\u001b[0m\u001b[0m\n\u001b[0;32m----> 2\u001b[0;31m \u001b[0mfullname\u001b[0m\u001b[0;34m[\u001b[0m\u001b[0;36m2\u001b[0m\u001b[0;34m]\u001b[0m \u001b[0;34m=\u001b[0m \u001b[0;34m'Copper'\u001b[0m\u001b[0;34m\u001b[0m\u001b[0;34m\u001b[0m\u001b[0m\n\u001b[0m\u001b[1;32m      3\u001b[0m \u001b[0mprint\u001b[0m\u001b[0;34m(\u001b[0m\u001b[0mfullname\u001b[0m\u001b[0;34m)\u001b[0m\u001b[0;34m\u001b[0m\u001b[0;34m\u001b[0m\u001b[0m\n",
      "\u001b[0;31mTypeError\u001b[0m: 'tuple' object does not support item assignment"
     ]
    }
   ],
   "source": [
    "# Tuples are immutable, so their elements cannot be overwritten\n",
    "fullname[2] = 'Copper'\n",
    "print(fullname)"
   ]
  },
  {
   "cell_type": "code",
   "execution_count": 109,
   "id": "c97dc489-1d61-47d3-b8a5-78607506e861",
   "metadata": {},
   "outputs": [
    {
     "name": "stdout",
     "output_type": "stream",
     "text": [
      "('Masha', 'Z', 'Hopper', 'Jr')\n"
     ]
    }
   ],
   "source": [
    "# You can combine tuples using addition\n",
    "fullname = fullname + ('Jr',)\n",
    "print(fullname)"
   ]
  },
  {
   "cell_type": "code",
   "execution_count": 110,
   "id": "3f243efb-d77f-4922-9681-fc0c75001a86",
   "metadata": {},
   "outputs": [
    {
     "name": "stdout",
     "output_type": "stream",
     "text": [
      "('Masha', 'Z', 'Hopper')\n"
     ]
    }
   ],
   "source": [
    "# The tuple() function converts an object's data type to tuple\n",
    "fullname = ['Masha', 'Z', 'Hopper']\n",
    "fullname = tuple(fullname)\n",
    "print(fullname)"
   ]
  },
  {
   "cell_type": "code",
   "execution_count": 111,
   "id": "c6c22311-8ab8-4cbe-a232-d3b8a8fd1d1d",
   "metadata": {},
   "outputs": [],
   "source": [
    "# Functions that return multiple values return them in a tuple\n",
    "def to_dollars_cents(price):\n",
    "    '''\n",
    "    Split price (float) into dollars and cents.\n",
    "    '''\n",
    "    dollars = int(price // 1)\n",
    "    cents = round(price % 1 * 100)\n",
    "\n",
    "    return dollars, cents"
   ]
  },
  {
   "cell_type": "code",
   "execution_count": 112,
   "id": "641bc58e-f3b5-491a-8bcc-68ca03c91237",
   "metadata": {},
   "outputs": [
    {
     "data": {
      "text/plain": [
       "(6, 55)"
      ]
     },
     "execution_count": 112,
     "metadata": {},
     "output_type": "execute_result"
    }
   ],
   "source": [
    "# Functions that return multiple values return them in a tuple\n",
    "to_dollars_cents(6.55)"
   ]
  },
  {
   "cell_type": "code",
   "execution_count": 113,
   "id": "07e813dd-8926-4682-bb16-0247eedbe928",
   "metadata": {},
   "outputs": [
    {
     "name": "stdout",
     "output_type": "stream",
     "text": [
      "7\n",
      "56\n"
     ]
    }
   ],
   "source": [
    "# \"Unpacking\" a tuple allows a tuple's elements to be assigned to variables\n",
    "dollars, cents = to_dollars_cents(6.55)\n",
    "print(dollars + 1)\n",
    "print(cents + 1)"
   ]
  },
  {
   "cell_type": "code",
   "execution_count": 114,
   "id": "a5f2235f-cd4d-4719-a663-80863129f766",
   "metadata": {},
   "outputs": [
    {
     "data": {
      "text/plain": [
       "int"
      ]
     },
     "execution_count": 114,
     "metadata": {},
     "output_type": "execute_result"
    }
   ],
   "source": [
    "# The data type of an element of an unpacked tuple is not necessarily a tuple\n",
    "type(dollars)"
   ]
  },
  {
   "cell_type": "code",
   "execution_count": 115,
   "id": "e8ee289e-75f2-495f-bb6b-ec191fbd000d",
   "metadata": {},
   "outputs": [],
   "source": [
    "# Create a list of tuples, each representing the name, age, and position of a\n",
    "# player on a basketball team\n",
    "team = [('Marta', 20, 'center'),\n",
    "        ('Ana', 22, 'point guard'),\n",
    "        ('Gabi', 22, 'shooting guard'),\n",
    "        ('Luz', 21, 'power forward'),\n",
    "        ('Lorena', 19, 'small forward'),\n",
    "        ]"
   ]
  },
  {
   "cell_type": "code",
   "execution_count": 116,
   "id": "22b0d18f-bde1-4de9-a643-fb0d42f8b8e1",
   "metadata": {},
   "outputs": [
    {
     "name": "stdout",
     "output_type": "stream",
     "text": [
      "Marta\n",
      "Ana\n",
      "Gabi\n",
      "Luz\n",
      "Lorena\n"
     ]
    }
   ],
   "source": [
    "# Use a for loop to loop over the list, unpack the tuple at each iteration, and\n",
    "# print one of the values\n",
    "for name, age, position in team:\n",
    "    print(name)"
   ]
  },
  {
   "cell_type": "code",
   "execution_count": 117,
   "id": "3d1b8d05-b72b-48f8-8e67-4644afed283f",
   "metadata": {},
   "outputs": [
    {
     "name": "stdout",
     "output_type": "stream",
     "text": [
      "Marta\n",
      "Ana\n",
      "Gabi\n",
      "Luz\n",
      "Lorena\n"
     ]
    }
   ],
   "source": [
    "# This code produces the same result as the code in the cell above\n",
    "for player in team:\n",
    "    print(player[0])"
   ]
  },
  {
   "cell_type": "code",
   "execution_count": 118,
   "id": "982d47df-346b-4f54-98b7-0dc06b818e63",
   "metadata": {},
   "outputs": [],
   "source": [
    "# Create a function to extract and names and positions from the team list and\n",
    "# format them to be printed. Returns a list.\n",
    "def player_position(players):\n",
    "    result = []\n",
    "    for name, age, position in players:\n",
    "        result.append('Name: {:>19} \\nPosition: {:>15}\\n'.format(name, position))\n",
    "\n",
    "    return result"
   ]
  },
  {
   "cell_type": "code",
   "execution_count": 119,
   "id": "346db0cd-ac19-41ad-a78e-9b1715a771af",
   "metadata": {},
   "outputs": [
    {
     "name": "stdout",
     "output_type": "stream",
     "text": [
      "Name:               Marta \n",
      "Position:          center\n",
      "\n",
      "Name:                 Ana \n",
      "Position:     point guard\n",
      "\n",
      "Name:                Gabi \n",
      "Position:  shooting guard\n",
      "\n",
      "Name:                 Luz \n",
      "Position:   power forward\n",
      "\n",
      "Name:              Lorena \n",
      "Position:   small forward\n",
      "\n"
     ]
    }
   ],
   "source": [
    "# Loop over the list of formatted names and positions produced by\n",
    "# player_position() function and print them\n",
    "for player in player_position(team):\n",
    "    print(player)"
   ]
  },
  {
   "cell_type": "code",
   "execution_count": 120,
   "id": "9abc8d5b-a11e-4b8e-90a5-94ad9b7feff5",
   "metadata": {},
   "outputs": [
    {
     "name": "stdout",
     "output_type": "stream",
     "text": [
      "[0|0] [0|1] [0|2] [0|3] [0|4] [0|5] [0|6] \n",
      "\n",
      "[1|1] [1|2] [1|3] [1|4] [1|5] [1|6] \n",
      "\n",
      "[2|2] [2|3] [2|4] [2|5] [2|6] \n",
      "\n",
      "[3|3] [3|4] [3|5] [3|6] \n",
      "\n",
      "[4|4] [4|5] [4|6] \n",
      "\n",
      "[5|5] [5|6] \n",
      "\n",
      "[6|6] \n",
      "\n"
     ]
    }
   ],
   "source": [
    "# Nested loops can produce the different combinations of pips (dots) in\n",
    "# a set of dominoes\n",
    "for left in range(7):\n",
    "    for right in range(left, 7):\n",
    "        print(f\"[{left}|{right}]\", end=\" \")\n",
    "    print('\\n')"
   ]
  },
  {
   "cell_type": "code",
   "execution_count": 121,
   "id": "25c88849-28f6-468e-a940-a1100e94a054",
   "metadata": {},
   "outputs": [
    {
     "data": {
      "text/plain": [
       "[(0, 0),\n",
       " (0, 1),\n",
       " (0, 2),\n",
       " (0, 3),\n",
       " (0, 4),\n",
       " (0, 5),\n",
       " (0, 6),\n",
       " (1, 1),\n",
       " (1, 2),\n",
       " (1, 3),\n",
       " (1, 4),\n",
       " (1, 5),\n",
       " (1, 6),\n",
       " (2, 2),\n",
       " (2, 3),\n",
       " (2, 4),\n",
       " (2, 5),\n",
       " (2, 6),\n",
       " (3, 3),\n",
       " (3, 4),\n",
       " (3, 5),\n",
       " (3, 6),\n",
       " (4, 4),\n",
       " (4, 5),\n",
       " (4, 6),\n",
       " (5, 5),\n",
       " (5, 6),\n",
       " (6, 6)]"
      ]
     },
     "execution_count": 121,
     "metadata": {},
     "output_type": "execute_result"
    }
   ],
   "source": [
    "# Create a list of dominoes, with each domino reprented as a tuple\n",
    "dominoes = []\n",
    "for left in range(7):\n",
    "    for right in range(left, 7):\n",
    "        dominoes.append((left, right))\n",
    "dominoes"
   ]
  },
  {
   "cell_type": "code",
   "execution_count": 122,
   "id": "c299389d-8d66-4e68-9a2b-0d46a282804d",
   "metadata": {},
   "outputs": [
    {
     "data": {
      "text/plain": [
       "4"
      ]
     },
     "execution_count": 122,
     "metadata": {},
     "output_type": "execute_result"
    }
   ],
   "source": [
    "# Select index 1 of the tuple at index 4 in the list of dominoes\n",
    "dominoes[4][1]"
   ]
  },
  {
   "cell_type": "code",
   "execution_count": 123,
   "id": "609a165b-9824-4d26-a75d-36f9a3c3af24",
   "metadata": {},
   "outputs": [
    {
     "name": "stdout",
     "output_type": "stream",
     "text": [
      "[0, 1, 2, 3, 4, 5, 6, 2, 3, 4, 5, 6, 7, 4, 5, 6, 7, 8, 6, 7, 8, 9, 8, 9, 10, 10, 11, 12]\n"
     ]
    }
   ],
   "source": [
    "# You can use a for loop to sum the pips on each domino and append\n",
    "# the sum to a new list\n",
    "pips_from_loop = []\n",
    "for domino in dominoes:\n",
    "    pips_from_loop.append(domino[0] + domino[1])\n",
    "print(pips_from_loop)"
   ]
  },
  {
   "cell_type": "code",
   "execution_count": 124,
   "id": "f14fc857-b8b0-4d96-bfc4-895f92df8a56",
   "metadata": {},
   "outputs": [
    {
     "data": {
      "text/plain": [
       "True"
      ]
     },
     "execution_count": 124,
     "metadata": {},
     "output_type": "execute_result"
    }
   ],
   "source": [
    "# A list comprehension produces the same result with less code\n",
    "pips_from_list_comp = [domino[0] + domino[1] for domino in dominoes]\n",
    "pips_from_loop == pips_from_list_comp"
   ]
  },
  {
   "cell_type": "markdown",
   "id": "c862ed96-1a69-47c3-aaf3-740f3d950c12",
   "metadata": {},
   "source": [
    "### Iterables"
   ]
  },
  {
   "cell_type": "markdown",
   "id": "517b17ea-a14e-458d-806f-0ea059ba35a8",
   "metadata": {},
   "source": [
    "Python's core iterable sequence data structures include strings, lists, and tuples (among others). The table below summarizes the differences between these data types.\n",
    "\n",
    "| Data Type | Syntax | Content | Mutability | Usage |\n",
    "| --- | --- | --- | --- | --- |\n",
    "| String | `\"String\"` | Strings can contain any character--letters, numbers, punctuation marks, spaces--but everything between the opening and closing quotation marks is part of the same simple string. | Immutable: any operation that appears to modify a string actually creates a new string. | Commonly used to represent text data. |\n",
    "| List | `[1, 2, 3, 4]` | Lists can contain any data type, in any combination. So a single list can contain strings, integers, floats, tuples, dictionaries, and other lists. | Mutable | Storing collections of related data <br> Storing collections of items that you want to iterate over <br> Collection of items can must be sorted or searched | \n",
    "| Tuple | `(1, 2, 3)` <br> `tuple()` | Tuples can contain any kind of data and in any combination, including strings, integers, floats, lists, dicts, and other tuples. | Immutable | Returning mutliple values from a function <br> Packing and unpacking sequences <br> Dictionary keys | Data Integrity (immutability) |"
   ]
  },
  {
   "cell_type": "markdown",
   "id": "b2436c3e-5ff9-4c65-9162-3200863ffcd1",
   "metadata": {},
   "source": [
    "The `zip()` function can be used to combine multiple iterables together.\n",
    "\n",
    "`zip(...iterable)`"
   ]
  },
  {
   "cell_type": "code",
   "execution_count": 156,
   "id": "ab627318-32c6-4b58-a9b4-57f153dacb8e",
   "metadata": {},
   "outputs": [
    {
     "data": {
      "text/plain": [
       "[('Pennsylvania', 'Chester'),\n",
       " ('California', 'Orange'),\n",
       " ('New York', 'New York')]"
      ]
     },
     "execution_count": 156,
     "metadata": {},
     "output_type": "execute_result"
    }
   ],
   "source": [
    "# List of states\n",
    "state = ['Pennsylvania', 'California', 'New York']\n",
    "\n",
    "# List of counties\n",
    "counties = ['Chester', 'Orange', 'New York']\n",
    "\n",
    "# `zip()` combines multiple iterables into an iterable of tuples in the form of (list1[0], list2[0], listn[0])\n",
    "state_counties = zip(state, counties)\n",
    "\n",
    "# results in an iterable object (zip)\n",
    "state_counties\n",
    "\n",
    "# convert to a list\n",
    "list(state_counties)"
   ]
  },
  {
   "cell_type": "markdown",
   "id": "3e4fabda-150c-4f88-bd0e-e27a6e51d359",
   "metadata": {},
   "source": [
    "### Dictionaries\n",
    "\n",
    "Dictionaries are useful when you need a data structure to store information that can be referenced or looked up."
   ]
  },
  {
   "cell_type": "code",
   "execution_count": 125,
   "id": "654b2a77-b495-455d-a9eb-ec94df00cdb9",
   "metadata": {},
   "outputs": [
    {
     "data": {
      "text/plain": [
       "'zebras'"
      ]
     },
     "execution_count": 125,
     "metadata": {},
     "output_type": "execute_result"
    }
   ],
   "source": [
    "# Create a dictionary with pens as keys and the animals they contain as values.\n",
    "# Dictionaries can be instantiated using braces.\n",
    "zoo = {\n",
    "    'pen_1': 'penguins',\n",
    "    'pen_2': 'zebras',\n",
    "    'pen_3': 'lions',\n",
    "    }\n",
    "\n",
    "# Selecting the `pen_2` key returns `zebras`--the value stored at that key\n",
    "zoo['pen_2']"
   ]
  },
  {
   "cell_type": "code",
   "execution_count": 126,
   "id": "00368303-f781-4be9-9d74-04f7904b7727",
   "metadata": {},
   "outputs": [
    {
     "ename": "KeyError",
     "evalue": "'zebras'",
     "output_type": "error",
     "traceback": [
      "\u001b[0;31m---------------------------------------------------------------------------\u001b[0m",
      "\u001b[0;31mKeyError\u001b[0m                                  Traceback (most recent call last)",
      "\u001b[0;32m/var/folders/yq/ns90sjt10y724n5d18pd2jj00000gn/T/ipykernel_40033/2608920516.py\u001b[0m in \u001b[0;36m<module>\u001b[0;34m\u001b[0m\n\u001b[1;32m      1\u001b[0m \u001b[0;31m# You cannot access a dictionary's values by name using bracket indexing\u001b[0m\u001b[0;34m\u001b[0m\u001b[0;34m\u001b[0m\u001b[0m\n\u001b[1;32m      2\u001b[0m \u001b[0;31m# because the computer interprets this as a key, not a value\u001b[0m\u001b[0;34m\u001b[0m\u001b[0;34m\u001b[0m\u001b[0m\n\u001b[0;32m----> 3\u001b[0;31m \u001b[0mzoo\u001b[0m\u001b[0;34m[\u001b[0m\u001b[0;34m'zebras'\u001b[0m\u001b[0;34m]\u001b[0m\u001b[0;34m\u001b[0m\u001b[0;34m\u001b[0m\u001b[0m\n\u001b[0m",
      "\u001b[0;31mKeyError\u001b[0m: 'zebras'"
     ]
    }
   ],
   "source": [
    "# You cannot access a dictionary's values by name using bracket indexing\n",
    "# because the computer interprets this as a key, not a value\n",
    "zoo['zebras']"
   ]
  },
  {
   "cell_type": "code",
   "execution_count": 127,
   "id": "00432812-070e-4ba4-a246-61194eb533f6",
   "metadata": {},
   "outputs": [
    {
     "data": {
      "text/plain": [
       "'zebras'"
      ]
     },
     "execution_count": 127,
     "metadata": {},
     "output_type": "execute_result"
    }
   ],
   "source": [
    "# Dictionaries can also be instantiated using the dict() function\n",
    "zoo = dict(\n",
    "    pen_1='monkeys',\n",
    "    pen_2='zebras',\n",
    "    pen_3='lions',\n",
    "    )\n",
    "\n",
    "zoo['pen_2']"
   ]
  },
  {
   "cell_type": "code",
   "execution_count": 128,
   "id": "b273da7b-10b3-4ade-83cd-acfcd42f5a9f",
   "metadata": {},
   "outputs": [
    {
     "data": {
      "text/plain": [
       "'zebras'"
      ]
     },
     "execution_count": 128,
     "metadata": {},
     "output_type": "execute_result"
    }
   ],
   "source": [
    "# Another way to create a dictionary using the dict() function\n",
    "zoo = dict(\n",
    "    [\n",
    "     ['pen_1', 'monkeys'],\n",
    "     ['pen_2', 'zebras'],\n",
    "     ['pen_3', 'lions'],\n",
    "    ]\n",
    ")\n",
    "\n",
    "zoo['pen_2']"
   ]
  },
  {
   "cell_type": "code",
   "execution_count": 129,
   "id": "0f849ea8-9ee8-4d4e-b992-02f6f2b5e39b",
   "metadata": {},
   "outputs": [
    {
     "data": {
      "text/plain": [
       "{'pen_1': 'monkeys',\n",
       " 'pen_2': 'zebras',\n",
       " 'pen_3': 'lions',\n",
       " 'pen_4': 'crocodiles'}"
      ]
     },
     "execution_count": 129,
     "metadata": {},
     "output_type": "execute_result"
    }
   ],
   "source": [
    "# Assign a new key:value pair to an existing dictionary\n",
    "zoo['pen_4'] = 'crocodiles'\n",
    "zoo"
   ]
  },
  {
   "cell_type": "code",
   "execution_count": 130,
   "id": "7d48a727-1607-462e-82da-e0f5e575b143",
   "metadata": {},
   "outputs": [
    {
     "ename": "KeyError",
     "evalue": "2",
     "output_type": "error",
     "traceback": [
      "\u001b[0;31m---------------------------------------------------------------------------\u001b[0m",
      "\u001b[0;31mKeyError\u001b[0m                                  Traceback (most recent call last)",
      "\u001b[0;32m/var/folders/yq/ns90sjt10y724n5d18pd2jj00000gn/T/ipykernel_40033/3978667803.py\u001b[0m in \u001b[0;36m<module>\u001b[0;34m\u001b[0m\n\u001b[1;32m      1\u001b[0m \u001b[0;31m# Dictionaries are unordered and do not support numerical indexing\u001b[0m\u001b[0;34m\u001b[0m\u001b[0;34m\u001b[0m\u001b[0m\n\u001b[0;32m----> 2\u001b[0;31m \u001b[0mzoo\u001b[0m\u001b[0;34m[\u001b[0m\u001b[0;36m2\u001b[0m\u001b[0;34m]\u001b[0m\u001b[0;34m\u001b[0m\u001b[0;34m\u001b[0m\u001b[0m\n\u001b[0m",
      "\u001b[0;31mKeyError\u001b[0m: 2"
     ]
    }
   ],
   "source": [
    "# Dictionaries are unordered and do not support numerical indexing\n",
    "zoo[2]"
   ]
  },
  {
   "cell_type": "code",
   "execution_count": 131,
   "id": "08a98f7c-b671-4dee-aabe-17710c58dcf5",
   "metadata": {},
   "outputs": [
    {
     "name": "stdout",
     "output_type": "stream",
     "text": [
      "True\n",
      "False\n"
     ]
    }
   ],
   "source": [
    "# Use the `in` keyword to produce a Boolean of whether a given key exists in a dictionary\n",
    "print('pen_1' in zoo)\n",
    "print('pen_7' in zoo)"
   ]
  },
  {
   "cell_type": "code",
   "execution_count": 132,
   "id": "d47fa168-f787-4f6b-bdf4-33d32761e0a2",
   "metadata": {},
   "outputs": [],
   "source": [
    "# Create a list of tuples, each representing the name, age, and position of a\n",
    "# player on a basketball team\n",
    "team = [\n",
    "    ('Marta', 20, 'center'),\n",
    "    ('Ana', 22, 'point guard'),\n",
    "    ('Gabi', 22, 'shooting guard'),\n",
    "    ('Luz', 21, 'power forward'),\n",
    "    ('Lorena', 19, 'small forward'),\n",
    "    ]"
   ]
  },
  {
   "cell_type": "code",
   "execution_count": 133,
   "id": "010220cd-e059-4f4d-baf0-fd84b66adf74",
   "metadata": {},
   "outputs": [],
   "source": [
    "# Add new players to the list\n",
    "team = [\n",
    "    ('Marta', 20, 'center'),\n",
    "    ('Ana', 22, 'point guard'),\n",
    "    ('Gabi', 22, 'shooting guard'),\n",
    "    ('Luz', 21, 'power forward'),\n",
    "    ('Lorena', 19, 'small forward'),\n",
    "    ('Sandra', 19, 'center'),\n",
    "    ('Mari', 18, 'point guard'),\n",
    "    ('Esme', 18, 'shooting guard'),\n",
    "    ('Lin', 18, 'power forward'),\n",
    "    ('Sol', 19, 'small forward'),\n",
    "    ]"
   ]
  },
  {
   "cell_type": "code",
   "execution_count": 134,
   "id": "6f990a3a-dfe3-47b0-a8c7-06d51f844b90",
   "metadata": {},
   "outputs": [
    {
     "data": {
      "text/plain": [
       "{'center': [('Marta', 20), ('Sandra', 19)],\n",
       " 'point guard': [('Ana', 22), ('Mari', 18)],\n",
       " 'shooting guard': [('Gabi', 22), ('Esme', 18)],\n",
       " 'power forward': [('Luz', 21), ('Lin', 18)],\n",
       " 'small forward': [('Lorena', 19), ('Sol', 19)]}"
      ]
     },
     "execution_count": 134,
     "metadata": {},
     "output_type": "execute_result"
    }
   ],
   "source": [
    "# Instantiate an empty dictionary\n",
    "new_team = {}\n",
    "\n",
    "# Loop over the tuples in the list of players and unpack their values\n",
    "for name, age, position in team:\n",
    "    if position in new_team:                    # If position already a key in new_team,\n",
    "        new_team[position].append((name, age))  # append (name, age) tup to list at that value\n",
    "    else:\n",
    "        new_team[position] = [(name, age)]      # If position not a key in new_team,\n",
    "                                                # create a new key whose value is a list\n",
    "                                                # containing (name, age) tup\n",
    "new_team"
   ]
  },
  {
   "cell_type": "code",
   "execution_count": 135,
   "id": "498bc772-5f00-4dd4-b3e7-d0e2603b1d22",
   "metadata": {},
   "outputs": [
    {
     "data": {
      "text/plain": [
       "[('Ana', 22), ('Mari', 18)]"
      ]
     },
     "execution_count": 135,
     "metadata": {},
     "output_type": "execute_result"
    }
   ],
   "source": [
    "# Examine the value at the 'point guard' key\n",
    "new_team['point guard']"
   ]
  },
  {
   "cell_type": "code",
   "execution_count": 136,
   "id": "e545bb4e-00ef-49a7-9b8f-6e311e088121",
   "metadata": {},
   "outputs": [
    {
     "name": "stdout",
     "output_type": "stream",
     "text": [
      "center\n",
      "point guard\n",
      "shooting guard\n",
      "power forward\n",
      "small forward\n"
     ]
    }
   ],
   "source": [
    "# You can access the a dictionary's keys by looping over them\n",
    "for x in new_team:\n",
    "    print(x)"
   ]
  },
  {
   "cell_type": "code",
   "execution_count": 137,
   "id": "55ce7e1e-4c36-4cf1-982a-76b2a8e2a2d1",
   "metadata": {},
   "outputs": [
    {
     "data": {
      "text/plain": [
       "dict_keys(['center', 'point guard', 'shooting guard', 'power forward', 'small forward'])"
      ]
     },
     "execution_count": 137,
     "metadata": {},
     "output_type": "execute_result"
    }
   ],
   "source": [
    "# The keys() method returns the keys of a dictionary\n",
    "new_team.keys()"
   ]
  },
  {
   "cell_type": "code",
   "execution_count": 138,
   "id": "eb850870-316e-4b08-a66c-4caede20421b",
   "metadata": {},
   "outputs": [
    {
     "data": {
      "text/plain": [
       "dict_values([[('Marta', 20), ('Sandra', 19)], [('Ana', 22), ('Mari', 18)], [('Gabi', 22), ('Esme', 18)], [('Luz', 21), ('Lin', 18)], [('Lorena', 19), ('Sol', 19)]])"
      ]
     },
     "execution_count": 138,
     "metadata": {},
     "output_type": "execute_result"
    }
   ],
   "source": [
    "# The values() method returns all the values in a dictionary\n",
    "new_team.values()"
   ]
  },
  {
   "cell_type": "code",
   "execution_count": 139,
   "id": "549b8125-46ea-4da6-8a09-13aa00ad14b1",
   "metadata": {},
   "outputs": [
    {
     "name": "stdout",
     "output_type": "stream",
     "text": [
      "center [('Marta', 20), ('Sandra', 19)]\n",
      "point guard [('Ana', 22), ('Mari', 18)]\n",
      "shooting guard [('Gabi', 22), ('Esme', 18)]\n",
      "power forward [('Luz', 21), ('Lin', 18)]\n",
      "small forward [('Lorena', 19), ('Sol', 19)]\n"
     ]
    }
   ],
   "source": [
    "# The items() method returns both the keys and the values\n",
    "for a, b in new_team.items():\n",
    "    print(a, b)"
   ]
  },
  {
   "cell_type": "markdown",
   "id": "c6b72f32-2d5c-4edc-89de-f0fded90b027",
   "metadata": {},
   "source": [
    "### Sets"
   ]
  },
  {
   "cell_type": "code",
   "execution_count": 140,
   "id": "5470cfe6-5302-4bee-b6b2-1996708e70f4",
   "metadata": {},
   "outputs": [
    {
     "name": "stdout",
     "output_type": "stream",
     "text": [
      "{'baz', 'foo', 'bar'}\n"
     ]
    }
   ],
   "source": [
    "# The set() function converts a list to a set\n",
    "x = set(['foo', 'bar', 'baz', 'foo'])\n",
    "print(x)"
   ]
  },
  {
   "cell_type": "code",
   "execution_count": 141,
   "id": "03d3574f-b723-492f-b164-7feba4e3ada7",
   "metadata": {},
   "outputs": [
    {
     "name": "stdout",
     "output_type": "stream",
     "text": [
      "{'baz', 'foo', 'bar'}\n"
     ]
    }
   ],
   "source": [
    "# The set() function converts a tuple to a set\n",
    "x = set(('foo','bar','baz', 'foo'))\n",
    "print(x)"
   ]
  },
  {
   "cell_type": "code",
   "execution_count": 142,
   "id": "193a5a87-bd07-4022-969f-4a288ba3fd2b",
   "metadata": {},
   "outputs": [
    {
     "name": "stdout",
     "output_type": "stream",
     "text": [
      "{'f', 'o'}\n"
     ]
    }
   ],
   "source": [
    "# The set() function converts a string to a set\n",
    "x = set('foo')\n",
    "print(x)"
   ]
  },
  {
   "cell_type": "code",
   "execution_count": 143,
   "id": "38711490-19bf-46db-aecb-e1107fdd0fff",
   "metadata": {},
   "outputs": [
    {
     "name": "stdout",
     "output_type": "stream",
     "text": [
      "<class 'set'>\n",
      "<class 'dict'>\n"
     ]
    }
   ],
   "source": [
    "# You can use braces to instantiate a set\n",
    "x = {'foo'}\n",
    "print(type(x))\n",
    "\n",
    "# But empty braces are reserved for dictionaries\n",
    "y = {}\n",
    "print(type(y))"
   ]
  },
  {
   "cell_type": "code",
   "execution_count": 144,
   "id": "e33f732b-8d07-4c0c-94d9-8895382016d2",
   "metadata": {},
   "outputs": [
    {
     "name": "stdout",
     "output_type": "stream",
     "text": [
      "{'foo'}\n"
     ]
    }
   ],
   "source": [
    "# Instantiating a set with braces treats the contents as literals\n",
    "x = {'foo'}\n",
    "print(x)"
   ]
  },
  {
   "cell_type": "code",
   "execution_count": 145,
   "id": "fa2ba543-deb7-4590-8ebe-32b7a7fbe6d2",
   "metadata": {},
   "outputs": [
    {
     "name": "stdout",
     "output_type": "stream",
     "text": [
      "{4, 5, 6}\n",
      "{4, 5, 6}\n"
     ]
    }
   ],
   "source": [
    "# The intersection() method (&) returns common elements between two sets\n",
    "set1 = {1, 2, 3, 4, 5, 6}\n",
    "set2 = {4, 5, 6, 7, 8, 9}\n",
    "print(set1.intersection(set2))\n",
    "print(set1 & set2)"
   ]
  },
  {
   "cell_type": "code",
   "execution_count": 146,
   "id": "a69c6345-5625-473e-92de-ebf15552ba02",
   "metadata": {},
   "outputs": [
    {
     "name": "stdout",
     "output_type": "stream",
     "text": [
      "{'qux', 'baz', 'quux', 'foo', 'bar'}\n",
      "{'qux', 'baz', 'quux', 'foo', 'bar'}\n"
     ]
    }
   ],
   "source": [
    "# The union() method (|) returns all the elements from two sets, each represented once\n",
    "x1 = {'foo', 'bar', 'baz'}\n",
    "x2 = {'baz', 'qux', 'quux'}\n",
    "print(x1.union(x2))\n",
    "print(x1 | x2)"
   ]
  },
  {
   "cell_type": "code",
   "execution_count": 147,
   "id": "4c8b6eb1-b037-4015-8bd4-9d1e5baa8363",
   "metadata": {},
   "outputs": [
    {
     "name": "stdout",
     "output_type": "stream",
     "text": [
      "{1, 2, 3}\n",
      "{1, 2, 3}\n"
     ]
    }
   ],
   "source": [
    "# The difference() method (-) returns the elements in set1 that aren't in set2\n",
    "set1 = {1, 2, 3, 4, 5, 6}\n",
    "set2 = {4, 5, 6, 7, 8, 9}\n",
    "print(set1.difference(set2))\n",
    "print(set1 - set2)"
   ]
  },
  {
   "cell_type": "code",
   "execution_count": 148,
   "id": "86b21155-d38a-45a9-8e33-42b05a79e734",
   "metadata": {},
   "outputs": [
    {
     "name": "stdout",
     "output_type": "stream",
     "text": [
      "{8, 9, 7}\n",
      "{8, 9, 7}\n"
     ]
    }
   ],
   "source": [
    "# ... and the elements in set2 that aren't in set1\n",
    "print(set2.difference(set1))\n",
    "print(set2 - set1)"
   ]
  },
  {
   "cell_type": "code",
   "execution_count": 149,
   "id": "d2377e7d-6f1e-4869-8757-59dd3ec7ee36",
   "metadata": {},
   "outputs": [
    {
     "data": {
      "text/plain": [
       "{1, 2, 3, 7, 8, 9}"
      ]
     },
     "execution_count": 149,
     "metadata": {},
     "output_type": "execute_result"
    }
   ],
   "source": [
    "# The symmetric_difference() method (^) returns all the values from each set that\n",
    "# are not in both sets.\n",
    "set1 = {1, 2, 3, 4, 5, 6}\n",
    "set2 = {4, 5, 6, 7, 8, 9}\n",
    "set2.symmetric_difference(set1)\n",
    "set2 ^ set1"
   ]
  },
  {
   "cell_type": "code",
   "execution_count": null,
   "id": "95b4a353-3210-4bb2-af95-8d123796b966",
   "metadata": {},
   "outputs": [],
   "source": []
  }
 ],
 "metadata": {
  "kernelspec": {
   "display_name": "Python 3 (ipykernel)",
   "language": "python",
   "name": "python3"
  },
  "language_info": {
   "codemirror_mode": {
    "name": "ipython",
    "version": 3
   },
   "file_extension": ".py",
   "mimetype": "text/x-python",
   "name": "python",
   "nbconvert_exporter": "python",
   "pygments_lexer": "ipython3",
   "version": "3.9.7"
  }
 },
 "nbformat": 4,
 "nbformat_minor": 5
}
