{
 "cells": [
  {
   "cell_type": "markdown",
   "id": "00c57bae-c867-4420-a0b7-2801b98eb77b",
   "metadata": {},
   "source": [
    "# Python"
   ]
  },
  {
   "cell_type": "markdown",
   "id": "a8f117a7-5b1b-4b68-86b0-fe62454d7a97",
   "metadata": {},
   "source": [
    "\n",
    "## Intro to Python"
   ]
  },
  {
   "cell_type": "markdown",
   "id": "6370f247-3235-4ad9-a99f-b87e0802b756",
   "metadata": {},
   "source": [
    "*Computer programming* is the process of giving instructions to a computer to perform an action or set of actions. Computer programming is done using a *programming language*--the words and symbols we use to write instructions for computers to follow.\n",
    "\n",
    "Data professionals use Python to analyze data in faster, more efficient, and more powerful ways because it optimizes every phase of the data workflow--exploring, cleaning, visualizing data, and creating machine learning models."
   ]
  },
  {
   "cell_type": "markdown",
   "id": "f78115ca-3820-40e1-a7d2-94489dedc5fc",
   "metadata": {},
   "source": [
    "Python, R, Java, and C++ are four of the most commonly used programming languages for data analysis. The following chart compares them using five considerations: speed, accessibility, variable, data science focus, and programming paradigm.\n",
    "- Speed: Compile time, runtime, hardware, installed dependencies, and code efficiency all contribute to the speed of a program's execution.\n",
    "- Accessibility: Refers to how easy the programming language is to learn and use.\n",
    "- Variables: The way a program uses variables will have an effect on a systems core operations or kernel speed. Languages that use *static variables* (i.e., strongly-typed) maintain a value throughout the entire run of a program. Languages that use *dynamic variables* (i.e., weakly-typed) allow values to be determined when the program is run.\n",
    "- Data science focus: Some programming languages have individual characteristics that better serve tasks in data analysis.\n",
    "- Programming paradigm: *Object-oriented* programming languages are modeled around data objects. *Functional* programming languages are modeled around functions. *Imperative* lanaguages are modeled around code statements that can alter the state of the program itself.\n",
    "\n",
    "\n",
    "| Features by software | Python | R | Java | C++ |\n",
    "| --- | --- | --- | --- | --- |\n",
    "| Speed | Slower | Depends on configuration and add-ons | Faster | Very Fast |\n",
    "| Accessibility | Easy to learn | Complex | Easy to learn | Complex |\n",
    "| Variable | Dynamic | Dynamic | Static | Declarative |\n",
    "| Data science focus | Machine learning and automated analysis | Exploratory data analysis and building extensive statistical libraries | Used across projects with open-source assets | Not as widely used but very powerful implementations | \n",
    "| Programming paradigm | Object-oriented | Functional | Object-oriented | Multi-paradigm (imperative & object oriented |"
   ]
  },
  {
   "cell_type": "markdown",
   "id": "1434eb3c-8736-4422-9eaa-51c01f8e98c7",
   "metadata": {},
   "source": [
    "<a name=\"jupyter-notebooks\"></a>\n",
    "## Jupyter Notebooks"
   ]
  },
  {
   "cell_type": "markdown",
   "id": "9df81fdd-985c-44f7-8277-5f0295bef07e",
   "metadata": {},
   "source": [
    "*Jupyter notebooks* are open-source web appplications for creating and sharing documents containing live code, mathematical formuals, visualizations, and text.\n",
    "\n",
    "Jupyter notebooks are partitioned into *cells*--modular code input or output fields.\n",
    "\n",
    "Learn more about Jupyter notebooks and the Jupyter project online: [docs.jupyter.org](https://docs.jupyter.org/en/latest/https://docs.jupyter.org/en/latest/)."
   ]
  },
  {
   "cell_type": "markdown",
   "id": "eae65bfe-07c3-4cfd-b650-4ed403c529db",
   "metadata": {},
   "source": [
    "## Object-Oriented Programming"
   ]
  },
  {
   "cell_type": "markdown",
   "id": "5ddb885c-97bc-43a4-bc20-8e436e672b89",
   "metadata": {},
   "source": [
    "Object-oriented programming is a programming system that is based around objects, which can contain both data and code that manipulates that data.\n",
    "\n",
    "An *object* is an instance of a class; a fundamental building block of Python. A *class* is an object's data type that bundles data and functionality together."
   ]
  },
  {
   "cell_type": "markdown",
   "id": "b905878d-4515-4b2a-a012-34ec6e69c684",
   "metadata": {},
   "source": [
    "As an example, by assigning a value to the *string* class, it enables us to use functionality of a string, including `swapcase`, `replace`, and `split`."
   ]
  },
  {
   "cell_type": "code",
   "execution_count": 1,
   "id": "1bb6704c-bacc-45ac-b3e1-8068888236a3",
   "metadata": {},
   "outputs": [
    {
     "name": "stdout",
     "output_type": "stream",
     "text": [
      "<class 'str'>\n"
     ]
    }
   ],
   "source": [
    "# Assign a string to a variable and check its type\n",
    "magic = 'HOCUS POCUS'\n",
    "print(type(magic))"
   ]
  },
  {
   "cell_type": "code",
   "execution_count": 2,
   "id": "08489fd2-b529-4e8b-b5a7-c65c29c7f06b",
   "metadata": {},
   "outputs": [
    {
     "data": {
      "text/plain": [
       "'hocus pocus'"
      ]
     },
     "execution_count": 2,
     "metadata": {},
     "output_type": "execute_result"
    }
   ],
   "source": [
    "# Use swapcase() string method to convert from caps to lowercase\n",
    "magic = 'HOCUS POCUS'\n",
    "magic = magic.swapcase()\n",
    "magic"
   ]
  },
  {
   "cell_type": "code",
   "execution_count": 3,
   "id": "16986fb2-3f39-42d6-a743-f0a66a59b57c",
   "metadata": {},
   "outputs": [
    {
     "data": {
      "text/plain": [
       "'hokey pokey'"
      ]
     },
     "execution_count": 3,
     "metadata": {},
     "output_type": "execute_result"
    }
   ],
   "source": [
    "# Use replace() string method to replace some letters with other letters\n",
    "magic = magic.replace('cus', 'key')\n",
    "magic"
   ]
  },
  {
   "cell_type": "code",
   "execution_count": 4,
   "id": "fbf59f7d-a4ee-40a0-b28a-36e3eb7f9f7a",
   "metadata": {},
   "outputs": [
    {
     "data": {
      "text/plain": [
       "['hokey', 'pokey']"
      ]
     },
     "execution_count": 4,
     "metadata": {},
     "output_type": "execute_result"
    }
   ],
   "source": [
    "# Use split() string method to split the string into 2 strings\n",
    "magic = magic.split()\n",
    "magic"
   ]
  },
  {
   "cell_type": "markdown",
   "id": "6d5a7d87-388c-4d2d-adc4-9a3227b6f785",
   "metadata": {},
   "source": [
    "`swapcase`, `replace`, and `split` are examples of *methods*. A method is a function that belongs to a class and typically performs an action or operation.\n",
    "\n",
    "Methods and attributes in a class are acccessed using *dot notation*. \n",
    "\n",
    "The core Python classes include:\n",
    "- Integers\n",
    "- Floats\n",
    "- Strings\n",
    "- Booleans\n",
    "- Lists\n",
    "- Dictionaries\n",
    "- Tuples\n",
    "- Sets\n",
    "- Frozensets\n",
    "- Functions\n",
    "- Ranges\n",
    "- None"
   ]
  },
  {
   "cell_type": "markdown",
   "id": "023eb319-41e7-4770-9e2d-cd4de0180c01",
   "metadata": {},
   "source": [
    "An *attribute* is a value associated with an object or class which is reference by name using dot notation.\n",
    "\n",
    "For example, a Pandas DataFrame has attributes called `shape` and `columns`."
   ]
  },
  {
   "cell_type": "code",
   "execution_count": 5,
   "id": "9c080b10-cc91-400b-a936-87d8f11c1249",
   "metadata": {},
   "outputs": [
    {
     "name": "stdout",
     "output_type": "stream",
     "text": [
      "Requirement already satisfied: pandas in /Users/andrewrife/mambaforge/lib/python3.9/site-packages (2.0.2)\n",
      "Requirement already satisfied: tzdata>=2022.1 in /Users/andrewrife/mambaforge/lib/python3.9/site-packages (from pandas) (2023.3)\n",
      "Requirement already satisfied: numpy>=1.20.3 in /Users/andrewrife/mambaforge/lib/python3.9/site-packages (from pandas) (1.21.5)\n",
      "Requirement already satisfied: pytz>=2020.1 in /Users/andrewrife/mambaforge/lib/python3.9/site-packages (from pandas) (2021.3)\n",
      "Requirement already satisfied: python-dateutil>=2.8.2 in /Users/andrewrife/mambaforge/lib/python3.9/site-packages (from pandas) (2.8.2)\n",
      "Requirement already satisfied: six>=1.5 in /Users/andrewrife/mambaforge/lib/python3.9/site-packages (from python-dateutil>=2.8.2->pandas) (1.16.0)\n",
      "Note: you may need to restart the kernel to use updated packages.\n"
     ]
    }
   ],
   "source": [
    "pip install pandas"
   ]
  },
  {
   "cell_type": "code",
   "execution_count": 6,
   "id": "2e5a770a-9608-49a4-a0eb-b0693f875af8",
   "metadata": {},
   "outputs": [],
   "source": [
    "# Set-up cell to create the `planets` dataframe\n",
    "# (This cell was not shown in the instructional video.)\n",
    "import pandas as pd\n",
    "data = [['Mercury', 2440, 0], ['Venus', 6052, 0,], ['Earth', 6371, 1],\n",
    "        ['Mars', 3390, 2], ['Jupiter', 69911, 80], ['Saturn', 58232, 83],\n",
    "        ['Uranus', 25362, 27], ['Neptune', 24622, 14]\n",
    "]\n",
    "\n",
    "cols = ['Planet', 'radius_km', 'moons']\n",
    "\n",
    "planets = pd.DataFrame(data, columns=cols)"
   ]
  },
  {
   "cell_type": "code",
   "execution_count": 7,
   "id": "83569c79-bd41-4c09-be9b-c819ab9bcd6b",
   "metadata": {},
   "outputs": [
    {
     "data": {
      "text/html": [
       "<div>\n",
       "<style scoped>\n",
       "    .dataframe tbody tr th:only-of-type {\n",
       "        vertical-align: middle;\n",
       "    }\n",
       "\n",
       "    .dataframe tbody tr th {\n",
       "        vertical-align: top;\n",
       "    }\n",
       "\n",
       "    .dataframe thead th {\n",
       "        text-align: right;\n",
       "    }\n",
       "</style>\n",
       "<table border=\"1\" class=\"dataframe\">\n",
       "  <thead>\n",
       "    <tr style=\"text-align: right;\">\n",
       "      <th></th>\n",
       "      <th>Planet</th>\n",
       "      <th>radius_km</th>\n",
       "      <th>moons</th>\n",
       "    </tr>\n",
       "  </thead>\n",
       "  <tbody>\n",
       "    <tr>\n",
       "      <th>0</th>\n",
       "      <td>Mercury</td>\n",
       "      <td>2440</td>\n",
       "      <td>0</td>\n",
       "    </tr>\n",
       "    <tr>\n",
       "      <th>1</th>\n",
       "      <td>Venus</td>\n",
       "      <td>6052</td>\n",
       "      <td>0</td>\n",
       "    </tr>\n",
       "    <tr>\n",
       "      <th>2</th>\n",
       "      <td>Earth</td>\n",
       "      <td>6371</td>\n",
       "      <td>1</td>\n",
       "    </tr>\n",
       "    <tr>\n",
       "      <th>3</th>\n",
       "      <td>Mars</td>\n",
       "      <td>3390</td>\n",
       "      <td>2</td>\n",
       "    </tr>\n",
       "    <tr>\n",
       "      <th>4</th>\n",
       "      <td>Jupiter</td>\n",
       "      <td>69911</td>\n",
       "      <td>80</td>\n",
       "    </tr>\n",
       "    <tr>\n",
       "      <th>5</th>\n",
       "      <td>Saturn</td>\n",
       "      <td>58232</td>\n",
       "      <td>83</td>\n",
       "    </tr>\n",
       "    <tr>\n",
       "      <th>6</th>\n",
       "      <td>Uranus</td>\n",
       "      <td>25362</td>\n",
       "      <td>27</td>\n",
       "    </tr>\n",
       "    <tr>\n",
       "      <th>7</th>\n",
       "      <td>Neptune</td>\n",
       "      <td>24622</td>\n",
       "      <td>14</td>\n",
       "    </tr>\n",
       "  </tbody>\n",
       "</table>\n",
       "</div>"
      ],
      "text/plain": [
       "    Planet  radius_km  moons\n",
       "0  Mercury       2440      0\n",
       "1    Venus       6052      0\n",
       "2    Earth       6371      1\n",
       "3     Mars       3390      2\n",
       "4  Jupiter      69911     80\n",
       "5   Saturn      58232     83\n",
       "6   Uranus      25362     27\n",
       "7  Neptune      24622     14"
      ]
     },
     "execution_count": 7,
     "metadata": {},
     "output_type": "execute_result"
    }
   ],
   "source": [
    "# Display the `planets` dataframe\n",
    "planets"
   ]
  },
  {
   "cell_type": "code",
   "execution_count": 8,
   "id": "c5550897-2804-479f-9e1c-c29521f92182",
   "metadata": {},
   "outputs": [
    {
     "data": {
      "text/plain": [
       "(8, 3)"
      ]
     },
     "execution_count": 8,
     "metadata": {},
     "output_type": "execute_result"
    }
   ],
   "source": [
    "# Use shape dataframe attribute to check number of rows and columns\n",
    "planets.shape"
   ]
  },
  {
   "cell_type": "code",
   "execution_count": 9,
   "id": "bef9fe25-ea85-4973-8364-063ebb643b1e",
   "metadata": {},
   "outputs": [
    {
     "data": {
      "text/plain": [
       "Index(['Planet', 'radius_km', 'moons'], dtype='object')"
      ]
     },
     "execution_count": 9,
     "metadata": {},
     "output_type": "execute_result"
    }
   ],
   "source": [
    "# Use columns dataframe attribute to check column names\n",
    "planets.columns"
   ]
  },
  {
   "cell_type": "markdown",
   "id": "052e387c-f9a3-47f4-93b4-7d322165d6ca",
   "metadata": {},
   "source": [
    "Python lets you define your own classes, each with their own special attributes and methods.\n",
    "\n",
    "For example, suppose we want to build a Spaceship class to be reused later. A class is like a blueprint for all things that share characteristics and behaviors. In this case, the class is Spaceship. There can be all different kinds of spaceships. They can have different names and different purposes. Whenever you create an object of a given class, you’re creating an instance of that class."
   ]
  },
  {
   "cell_type": "code",
   "execution_count": 10,
   "id": "195ff7de-dd6d-4316-9f04-09c0286d46d9",
   "metadata": {},
   "outputs": [],
   "source": [
    "class Spaceship:\n",
    "    \n",
    "    # class attribute\n",
    "    tractor_beam = 'off'\n",
    "    \n",
    "    # class constructor--called whenever a new instance of the class is created\n",
    "    def __init__(self, name, kind):\n",
    "        self.name = name\n",
    "        self.kind = kind\n",
    "        self.speed = None\n",
    "    \n",
    "    # instance methods\n",
    "    def warp (self, warp):\n",
    "        self.speed = warp\n",
    "        print(f'Warp {warp}, engage!')\n",
    "        \n",
    "    def tractor(self):\n",
    "        if self.tractor_beam == 'off':\n",
    "            self.tractor_beam = 'on'\n",
    "            print('Tractor beam on.')\n",
    "        else:\n",
    "            self.tractor_beam = 'off'\n",
    "            print('Tractor beam off.')"
   ]
  },
  {
   "cell_type": "markdown",
   "id": "eb26939e-3507-4e5d-a6e7-1b0d0cf85510",
   "metadata": {},
   "source": [
    "To create an instance of a `Spaceship`, we need to supply a name and kind. Then, we can use the functions and attributes of the instance."
   ]
  },
  {
   "cell_type": "code",
   "execution_count": 11,
   "id": "61af18e4-b966-4691-aff5-b39e8bc6281c",
   "metadata": {},
   "outputs": [
    {
     "name": "stdout",
     "output_type": "stream",
     "text": [
      "Mockingbird\n",
      "rescue frigate\n",
      "off\n",
      "Warp 7, engage!\n",
      "Tractor beam on.\n",
      "on\n"
     ]
    }
   ],
   "source": [
    "# Create an instance of the Spaceship class (i.e. \"instantiate\")\n",
    "ship = Spaceship('Mockingbird','rescue frigate')\n",
    "\n",
    "# Check ship's name\n",
    "print(ship.name)\n",
    "\n",
    "# Check what kind of ship it is\n",
    "print(ship.kind)\n",
    "\n",
    "# Check tractor beam status\n",
    "print(ship.tractor_beam)\n",
    "\n",
    "# Set warp speed\n",
    "ship.warp(7)\n",
    "\n",
    "# Check speed\n",
    "ship.speed\n",
    "\n",
    "# Toggle tractor beam\n",
    "ship.tractor()\n",
    "\n",
    "# Check tractor beam status\n",
    "print(ship.tractor_beam)"
   ]
  },
  {
   "cell_type": "markdown",
   "id": "c1dc168f-bd6d-428c-8b80-68d51a4d2bbf",
   "metadata": {},
   "source": [
    "## Variables and data types"
   ]
  },
  {
   "cell_type": "markdown",
   "id": "766c5fa8-39eb-4621-8a62-3281ca40ea6f",
   "metadata": {},
   "source": [
    "Variables can store values of any data type. A data type is an attribute that describes a piece of data based on its values, its programming language, or the operations it can perform.\n",
    "\n",
    "*Assignment* means the process of storing a value in a variable. An *expression* is a combination of numbers, symbols, or other variables that produce a result when evaluated.\n",
    "\n",
    "Python is *dynamically-typed*. This means that variables can point to objects of any type."
   ]
  },
  {
   "cell_type": "markdown",
   "id": "fd4dfbba-a599-4fef-afeb-94402e59a6ba",
   "metadata": {},
   "source": [
    "*Naming restrictions* are rules built into the language that must be followed. When naming variables, programmers must adhere to all naming conventions.\n",
    "\n",
    "- *Keywords* must be avoided when naming variables. Keywords are special words that are reserved for a specific purpose and can only be used for that purpose (e.g., `for`, `in`, `if`, `else`).\n",
    "- Avoid using function names in variables (e.g., `str`, `print`).\n",
    "- Only include letters, numbers, and underscores. You cannot use special characters or whitespace. Variable names must start with a letter or an underscore.\n",
    "\n",
    "Variable names are case-sensitive.\n",
    "\n",
    "There are some best-practice naming conventions to help make code readable and maintainable:\n",
    "- Descriptive names are better than cryptic abbreviations because they help other programmers (and you) read and interpret your code.\n",
    "- Variable names and function names should be written in snake_case, which means that all letters are lowercase and words are separated using an underscore. \n",
    "\n",
    "See [PEP 8 Style Guide for Python](https://peps.python.org/pep-0008/) to review other style tips."
   ]
  },
  {
   "cell_type": "code",
   "execution_count": 12,
   "id": "a6a83339-b326-477b-884b-2737609af4cd",
   "metadata": {},
   "outputs": [],
   "source": [
    "# Assign a list containing players' ages\n",
    "age_list = [34, 25, 23, 19, 29]"
   ]
  },
  {
   "cell_type": "code",
   "execution_count": 13,
   "id": "a9c38765-0987-4e06-a092-a0041cf44bec",
   "metadata": {},
   "outputs": [
    {
     "data": {
      "text/plain": [
       "34"
      ]
     },
     "execution_count": 13,
     "metadata": {},
     "output_type": "execute_result"
    }
   ],
   "source": [
    "# Find the maximum age and assign to `max_age` variable\n",
    "max_age = max(age_list)\n",
    "max_age"
   ]
  },
  {
   "cell_type": "code",
   "execution_count": 14,
   "id": "bbc56f6f-8ac0-48b0-aad5-a3436bb054f1",
   "metadata": {},
   "outputs": [
    {
     "data": {
      "text/plain": [
       "'34'"
      ]
     },
     "execution_count": 14,
     "metadata": {},
     "output_type": "execute_result"
    }
   ],
   "source": [
    "# Convert `max_age` to a string\n",
    "max_age = str(max_age)\n",
    "max_age"
   ]
  },
  {
   "cell_type": "code",
   "execution_count": 15,
   "id": "c60efb92-3488-44b0-aee0-619383f5cd9c",
   "metadata": {},
   "outputs": [
    {
     "data": {
      "text/plain": [
       "'ninety-nine'"
      ]
     },
     "execution_count": 15,
     "metadata": {},
     "output_type": "execute_result"
    }
   ],
   "source": [
    "# Reassign the value of `max_age`\n",
    "max_age = 'ninety-nine'\n",
    "max_age"
   ]
  },
  {
   "cell_type": "code",
   "execution_count": 16,
   "id": "81911214-5fc2-448e-8a2b-6615a0b14722",
   "metadata": {},
   "outputs": [
    {
     "data": {
      "text/plain": [
       "15"
      ]
     },
     "execution_count": 16,
     "metadata": {},
     "output_type": "execute_result"
    }
   ],
   "source": [
    "# Find the maximum age and assign to `max_age` variable\n",
    "max_age = max(age_list)\n",
    "# Find the minimum age and assign to `min_age` variable\n",
    "min_age = min(age_list)\n",
    "\n",
    "# Subtract `min_age` from `max_age`\n",
    "max_age - min_age"
   ]
  },
  {
   "cell_type": "markdown",
   "id": "4b789fd8-a6ad-49a1-bac1-1c010e02bc86",
   "metadata": {},
   "source": [
    "Python is able to manipulate variables using operations in expressions."
   ]
  },
  {
   "cell_type": "code",
   "execution_count": 17,
   "id": "bcce0048-9850-44be-a800-d683a1e2e792",
   "metadata": {},
   "outputs": [
    {
     "name": "stdout",
     "output_type": "stream",
     "text": [
      "15\n"
     ]
    }
   ],
   "source": [
    "# Addition of 2 ints\n",
    "print(7+8)"
   ]
  },
  {
   "cell_type": "markdown",
   "id": "7ba24849-da0b-4011-a99d-0426ab41154c",
   "metadata": {},
   "source": [
    "Similar to integers, Python can add (i.e., concatenate) two strings together."
   ]
  },
  {
   "cell_type": "code",
   "execution_count": 18,
   "id": "e5770532-65b0-42e5-9825-49a088b553d5",
   "metadata": {},
   "outputs": [
    {
     "name": "stdout",
     "output_type": "stream",
     "text": [
      "hello world\n"
     ]
    }
   ],
   "source": [
    "# Addition of 2 strings\n",
    "print(\"hello \" + \"world\")"
   ]
  },
  {
   "cell_type": "markdown",
   "id": "1ec71fa5-d18d-4293-826d-a772e15f35ae",
   "metadata": {},
   "source": [
    "However, Python cannot add a string and an integer together."
   ]
  },
  {
   "cell_type": "code",
   "execution_count": 19,
   "id": "f3902640-ad80-4a0f-af3e-c042b6bd4489",
   "metadata": {},
   "outputs": [
    {
     "ename": "TypeError",
     "evalue": "unsupported operand type(s) for +: 'int' and 'str'",
     "output_type": "error",
     "traceback": [
      "\u001b[0;31m---------------------------------------------------------------------------\u001b[0m",
      "\u001b[0;31mTypeError\u001b[0m                                 Traceback (most recent call last)",
      "\u001b[0;32m/var/folders/yq/ns90sjt10y724n5d18pd2jj00000gn/T/ipykernel_40033/637453885.py\u001b[0m in \u001b[0;36m<module>\u001b[0;34m\u001b[0m\n\u001b[1;32m      1\u001b[0m \u001b[0;31m# You cannot add a string to an integer\u001b[0m\u001b[0;34m\u001b[0m\u001b[0;34m\u001b[0m\u001b[0m\n\u001b[0;32m----> 2\u001b[0;31m \u001b[0mprint\u001b[0m\u001b[0;34m(\u001b[0m\u001b[0;36m7\u001b[0m\u001b[0;34m+\u001b[0m\u001b[0;34m\"8\"\u001b[0m\u001b[0;34m)\u001b[0m\u001b[0;34m\u001b[0m\u001b[0;34m\u001b[0m\u001b[0m\n\u001b[0m",
      "\u001b[0;31mTypeError\u001b[0m: unsupported operand type(s) for +: 'int' and 'str'"
     ]
    }
   ],
   "source": [
    "# You cannot add a string to an integer\n",
    "print(7+\"8\")"
   ]
  },
  {
   "cell_type": "markdown",
   "id": "44430151-a16b-4c19-87fb-65217f25e10b",
   "metadata": {},
   "source": [
    "The built-in `type` function can be used to determine the type of a variable."
   ]
  },
  {
   "cell_type": "code",
   "execution_count": 20,
   "id": "131c4abf-d67c-4452-bdcb-6e601ce0088f",
   "metadata": {},
   "outputs": [
    {
     "data": {
      "text/plain": [
       "str"
      ]
     },
     "execution_count": 20,
     "metadata": {},
     "output_type": "execute_result"
    }
   ],
   "source": [
    "# The type() function checks the data type of an object\n",
    "type(\"A\")"
   ]
  },
  {
   "cell_type": "code",
   "execution_count": 21,
   "id": "13291643-43de-43e2-b03e-6b578f3f1e6f",
   "metadata": {},
   "outputs": [
    {
     "data": {
      "text/plain": [
       "int"
      ]
     },
     "execution_count": 21,
     "metadata": {},
     "output_type": "execute_result"
    }
   ],
   "source": [
    "# The type() function checks the data type of an object\n",
    "type(2)"
   ]
  },
  {
   "cell_type": "code",
   "execution_count": 22,
   "id": "5f3c2581-0360-4da8-9b87-235cfdffb897",
   "metadata": {},
   "outputs": [
    {
     "data": {
      "text/plain": [
       "float"
      ]
     },
     "execution_count": 22,
     "metadata": {},
     "output_type": "execute_result"
    }
   ],
   "source": [
    "# The type() function checks the data type of an object\n",
    "type(2.5)"
   ]
  },
  {
   "cell_type": "markdown",
   "id": "c10b1cb2-9051-4aff-a50b-6ad8a828957d",
   "metadata": {},
   "source": [
    "Python will implicitly convert the result of an expression to the appropriate data type. In this example, the result of adding an integer and a float together is a float."
   ]
  },
  {
   "cell_type": "code",
   "execution_count": 23,
   "id": "ca2d7897-36f4-446b-ba7c-1e9f7ef8b3c5",
   "metadata": {},
   "outputs": [
    {
     "name": "stdout",
     "output_type": "stream",
     "text": [
      "3.5\n"
     ]
    }
   ],
   "source": [
    "# Implicit conversion\n",
    "print(1 + 2.5)"
   ]
  },
  {
   "cell_type": "markdown",
   "id": "d732b375-bfbd-461e-b6fb-29bba9e7cdf6",
   "metadata": {},
   "source": [
    "Programmers can also explicitly convert types to another type. In this example, the result of `2+2` is being converted into a string."
   ]
  },
  {
   "cell_type": "code",
   "execution_count": 24,
   "id": "bdb37228-6999-4a48-8022-30d2b80d9e2b",
   "metadata": {},
   "outputs": [
    {
     "name": "stdout",
     "output_type": "stream",
     "text": [
      "2 + 2 = 4\n"
     ]
    }
   ],
   "source": [
    "# Explicit conversion (the str() function converts a number to a string)\n",
    "print(\"2 + 2 = \" + str(2 + 2))"
   ]
  },
  {
   "cell_type": "markdown",
   "id": "7a1d0c5e-6ae8-40c8-a060-79450bdf8a4d",
   "metadata": {},
   "source": [
    "## Functions"
   ]
  },
  {
   "cell_type": "markdown",
   "id": "57973547-b546-4ea8-be48-e56ddd98edbf",
   "metadata": {},
   "source": [
    "Functions and methods are very similar, but there are a few key differences. Methods are a specific type of function. They are functions that belong to a class. \n",
    "\n",
    "To learn more about functions, check out the [Functions reference guide](./content/Functions.pdf) in the content directory.\n",
    "\n",
    "There are many functions built-in to Python like `print()` and `type()`."
   ]
  },
  {
   "cell_type": "code",
   "execution_count": 25,
   "id": "bd77128f-1368-4f17-9efb-77fae55947dc",
   "metadata": {},
   "outputs": [
    {
     "name": "stdout",
     "output_type": "stream",
     "text": [
      "Black dove, where will you go?\n"
     ]
    }
   ],
   "source": [
    "# The print() function can print text to the screen\n",
    "print('Black dove, where will you go?')"
   ]
  },
  {
   "cell_type": "code",
   "execution_count": 26,
   "id": "f16b27a1-e059-4788-a984-90f8559253c6",
   "metadata": {},
   "outputs": [
    {
     "data": {
      "text/plain": [
       "int"
      ]
     },
     "execution_count": 26,
     "metadata": {},
     "output_type": "execute_result"
    }
   ],
   "source": [
    "# The type() function returns an object's data type\n",
    "number = 15\n",
    "\n",
    "type(number)"
   ]
  },
  {
   "cell_type": "code",
   "execution_count": 27,
   "id": "e52e1970-8e38-4e63-a852-ff59edb42800",
   "metadata": {},
   "outputs": [
    {
     "data": {
      "text/plain": [
       "str"
      ]
     },
     "execution_count": 27,
     "metadata": {},
     "output_type": "execute_result"
    }
   ],
   "source": [
    "# The str() function converts an object into a string\n",
    "number = str(number)\n",
    "\n",
    "type(number)"
   ]
  },
  {
   "cell_type": "markdown",
   "id": "10aaceb1-4e50-49f8-9f71-567292405392",
   "metadata": {},
   "source": [
    "You can also define custom functions that accept parameters--like the function below called `greeting()`."
   ]
  },
  {
   "cell_type": "code",
   "execution_count": 28,
   "id": "b69e7546-7114-458b-a152-9ec2e2d63574",
   "metadata": {},
   "outputs": [
    {
     "name": "stdout",
     "output_type": "stream",
     "text": [
      "Welcome, Rebecca!\n",
      "You are part of the team!\n"
     ]
    }
   ],
   "source": [
    "# Define a function\n",
    "def greeting(name):\n",
    "\n",
    "    print('Welcome, ' + name + '!')\n",
    "    print('You are part of the team!')\n",
    "\n",
    "greeting('Rebecca')"
   ]
  },
  {
   "cell_type": "markdown",
   "id": "3f1f0bd9-e16a-41db-b1a4-49a3c16e651c",
   "metadata": {},
   "source": [
    "It is best practice to define a function for code that may need to be repeated many times, like calculating the area of a triangle. By defining the logic inside a function, it can be used to calculate the area of many different triangles."
   ]
  },
  {
   "cell_type": "code",
   "execution_count": 29,
   "id": "bae39ab7-a0b8-4b66-a72d-6c2e0c29e9d1",
   "metadata": {},
   "outputs": [],
   "source": [
    "# Define a function to calculate area of triangle\n",
    "def area_triangle(base, height):\n",
    "    return base * height / 2"
   ]
  },
  {
   "cell_type": "code",
   "execution_count": 30,
   "id": "fe10c73d-4e7d-4f91-ab75-7a2fdaf2a9f7",
   "metadata": {},
   "outputs": [
    {
     "data": {
      "text/plain": [
       "20.5"
      ]
     },
     "execution_count": 30,
     "metadata": {},
     "output_type": "execute_result"
    }
   ],
   "source": [
    "# Use the function to assign new variables and perform calculations\n",
    "area_a = area_triangle(5, 4)\n",
    "area_b = area_triangle(7, 3)\n",
    "total_area = area_a + area_b\n",
    "total_area"
   ]
  },
  {
   "cell_type": "code",
   "execution_count": 31,
   "id": "60e9c77d-8244-4a37-8818-345fee22f6be",
   "metadata": {},
   "outputs": [],
   "source": [
    "# Define a function that converts hours, minutes, and seconds to total seconds\n",
    "def get_seconds(hours, minutes, seconds):\n",
    "    total_seconds = 3600*hours + 60*minutes + seconds\n",
    "    return total_seconds"
   ]
  },
  {
   "cell_type": "code",
   "execution_count": 32,
   "id": "cf0f9c78-1ae0-4091-8d66-3ad7bfece8a0",
   "metadata": {},
   "outputs": [
    {
     "data": {
      "text/plain": [
       "60320"
      ]
     },
     "execution_count": 32,
     "metadata": {},
     "output_type": "execute_result"
    }
   ],
   "source": [
    "# Use the function to return a result\n",
    "get_seconds(16, 45, 20)"
   ]
  },
  {
   "cell_type": "markdown",
   "id": "bfe0b639-77ad-4bc6-b697-8d7c542c74a0",
   "metadata": {},
   "source": [
    "## Docstrings\n",
    "\n",
    "Docstrings can be used to scaffold your code. Docstrings are entered at the top of a function as a multi-line string."
   ]
  },
  {
   "cell_type": "code",
   "execution_count": 33,
   "id": "54aca6f2-0e36-497b-8723-7cef15a088d8",
   "metadata": {},
   "outputs": [],
   "source": [
    "def seed_calculator(fountain_side, grass_width):\n",
    "    \"\"\"\n",
    "    Calculate number of kilograms of grass seed needed for\n",
    "    a border around a square fountain.\n",
    "\n",
    "        Parameters:\n",
    "            fountain_side (num): length of 1 side of fountain in meters\n",
    "            grass_width (num): width of grass border in meters\n",
    "\n",
    "        Returns:\n",
    "            seed (float): amount of seed (kg) needed for grass border\n",
    "    \"\"\"\n",
    "    # Area of fountain\n",
    "    fountain_area = fountain_side**2\n",
    "    # Total area\n",
    "    total_area = (fountain_side + 2 * grass_width)**2\n",
    "    # Area of grass border\n",
    "    grass_area = total_area - fountain_area\n",
    "    # Amount of seed needed (35 g/sq.m)\n",
    "    seed = grass_area * 35\n",
    "    # Convert to kg\n",
    "    seed = seed / 1000\n",
    "\n",
    "    return seed"
   ]
  },
  {
   "cell_type": "code",
   "execution_count": 34,
   "id": "ea513505-b767-430e-a81a-15df71d7c360",
   "metadata": {},
   "outputs": [
    {
     "data": {
      "text/plain": [
       "3.92"
      ]
     },
     "execution_count": 34,
     "metadata": {},
     "output_type": "execute_result"
    }
   ],
   "source": [
    "seed_calculator(12, 2)"
   ]
  },
  {
   "cell_type": "markdown",
   "id": "ec148c77-0fbf-4010-8797-5c93c8ee157a",
   "metadata": {},
   "source": [
    "## Comparitors\n",
    "\n",
    "Python has several built-in comparators:\n",
    "\n",
    "| Operation | Operator |\n",
    "| --- | --- |\n",
    "| greater than | > |\n",
    "| greater than or equal to | >= |\n",
    "| less than | < |\n",
    "| less than or equal to | <= |\n",
    "| not equal to | != |\n",
    "| equal to | == |\n",
    "\n",
    "If you try to compare data types that aren’t compatible, like checking if a string is greater than an integer, Python will throw a `TypeError`. "
   ]
  },
  {
   "cell_type": "code",
   "execution_count": 35,
   "id": "1bf5f83a-37e8-451d-b6ef-53e45a1e2d65",
   "metadata": {},
   "outputs": [
    {
     "name": "stdout",
     "output_type": "stream",
     "text": [
      "True\n"
     ]
    }
   ],
   "source": [
    "# > checks for greater than\n",
    "print(10>1)"
   ]
  },
  {
   "cell_type": "code",
   "execution_count": 36,
   "id": "65968ef2-a36e-460f-a761-190eac066161",
   "metadata": {},
   "outputs": [
    {
     "name": "stdout",
     "output_type": "stream",
     "text": [
      "False\n"
     ]
    }
   ],
   "source": [
    "# == checks for equality\n",
    "print(\"cat\" == \"dog\")"
   ]
  },
  {
   "cell_type": "code",
   "execution_count": 37,
   "id": "fe8a1819-23c0-4b30-89ac-33b35b5f9e05",
   "metadata": {},
   "outputs": [
    {
     "name": "stdout",
     "output_type": "stream",
     "text": [
      "True\n"
     ]
    }
   ],
   "source": [
    "# != checks for inequality\n",
    "print(1 != 2)"
   ]
  },
  {
   "cell_type": "code",
   "execution_count": 38,
   "id": "9d255b5b-90ac-423c-890d-30c72bbb5f61",
   "metadata": {},
   "outputs": [
    {
     "ename": "TypeError",
     "evalue": "'<' not supported between instances of 'int' and 'str'",
     "output_type": "error",
     "traceback": [
      "\u001b[0;31m---------------------------------------------------------------------------\u001b[0m",
      "\u001b[0;31mTypeError\u001b[0m                                 Traceback (most recent call last)",
      "\u001b[0;32m/var/folders/yq/ns90sjt10y724n5d18pd2jj00000gn/T/ipykernel_40033/3604785522.py\u001b[0m in \u001b[0;36m<module>\u001b[0;34m\u001b[0m\n\u001b[1;32m      1\u001b[0m \u001b[0;31m# Some operators cannot be used between different data types\u001b[0m\u001b[0;34m\u001b[0m\u001b[0;34m\u001b[0m\u001b[0m\n\u001b[0;32m----> 2\u001b[0;31m \u001b[0mprint\u001b[0m\u001b[0;34m(\u001b[0m\u001b[0;36m1\u001b[0m \u001b[0;34m<\u001b[0m \u001b[0;34m\"1\"\u001b[0m\u001b[0;34m)\u001b[0m\u001b[0;34m\u001b[0m\u001b[0;34m\u001b[0m\u001b[0m\n\u001b[0m",
      "\u001b[0;31mTypeError\u001b[0m: '<' not supported between instances of 'int' and 'str'"
     ]
    }
   ],
   "source": [
    "# Some operators cannot be used between different data types\n",
    "print(1 < \"1\")"
   ]
  },
  {
   "cell_type": "markdown",
   "id": "839b6995-593f-4cc3-9b43-2d916a462ca9",
   "metadata": {},
   "source": [
    "Python also contains several logical operators to create expressions:\n",
    "    \n",
    "| Operator | Description |\n",
    "| --- | --- | \n",
    "| `and` | evaluates to True only if both statements are true |\n",
    "| `or` | evaluates to True if at least one statement is true |\n",
    "| `not` | reverses the evaluation |"
   ]
  },
  {
   "cell_type": "code",
   "execution_count": 39,
   "id": "b95f2476-1639-483b-9c79-cae2809571f2",
   "metadata": {},
   "outputs": [
    {
     "name": "stdout",
     "output_type": "stream",
     "text": [
      "False\n"
     ]
    }
   ],
   "source": [
    "# Letters that occur earlier in the alphabet evaluate to less than letters from later in the alphabet\n",
    "# BOTH sides of an `and` statement must be true to return True\n",
    "print(\"Yellow\" > \"Cyan\" and \"Brown\" > \"Magenta\")"
   ]
  },
  {
   "cell_type": "code",
   "execution_count": 40,
   "id": "38e4de56-d94f-480c-8eba-26f51b77ae24",
   "metadata": {},
   "outputs": [
    {
     "name": "stdout",
     "output_type": "stream",
     "text": [
      "True\n"
     ]
    }
   ],
   "source": [
    "# An `or` statement will return True if EITHER side evaluates to True\n",
    "print(25 > 50 or 1 != 2)"
   ]
  },
  {
   "cell_type": "code",
   "execution_count": 41,
   "id": "05e25bb7-0db3-42fd-ae61-e3be8761018d",
   "metadata": {},
   "outputs": [
    {
     "name": "stdout",
     "output_type": "stream",
     "text": [
      "True\n"
     ]
    }
   ],
   "source": [
    "# `not` reverses Boolean evaluation of what follows it\n",
    "print(not 42 == \"Answer\")"
   ]
  },
  {
   "cell_type": "markdown",
   "id": "1acfc95b-4cc7-4061-8bcd-643c6b49aa5e",
   "metadata": {},
   "source": [
    "## Conditional Statements"
   ]
  },
  {
   "cell_type": "code",
   "execution_count": 42,
   "id": "342a913f-d021-4f33-bc1f-b9fbee0e063b",
   "metadata": {},
   "outputs": [],
   "source": [
    "# Define a function that checks validity of username based on length\n",
    "def hint_username(username):\n",
    "    if len(username) < 8:\n",
    "        print(\"Invalid username. Must be at least 8 characters long.\")\n",
    "    else:\n",
    "        print(\"Valid username.\")"
   ]
  },
  {
   "cell_type": "code",
   "execution_count": 43,
   "id": "aba28567-03d0-45e7-89dc-4e606f3dc7f6",
   "metadata": {},
   "outputs": [],
   "source": [
    "# Define a function that uses modulo to check if a number is even\n",
    "def is_even(number):\n",
    "    if number % 2 == 0:\n",
    "        return True\n",
    "    return False"
   ]
  },
  {
   "cell_type": "code",
   "execution_count": 44,
   "id": "ab3489db-a271-4537-964a-cdbfe1ee436a",
   "metadata": {},
   "outputs": [
    {
     "data": {
      "text/plain": [
       "False"
      ]
     },
     "execution_count": 44,
     "metadata": {},
     "output_type": "execute_result"
    }
   ],
   "source": [
    "is_even(19)"
   ]
  },
  {
   "cell_type": "code",
   "execution_count": 45,
   "id": "af1e863b-9cda-4b34-9c38-a29a359f1c76",
   "metadata": {},
   "outputs": [
    {
     "data": {
      "text/plain": [
       "True"
      ]
     },
     "execution_count": 45,
     "metadata": {},
     "output_type": "execute_result"
    }
   ],
   "source": [
    "is_even(20)"
   ]
  },
  {
   "cell_type": "code",
   "execution_count": 46,
   "id": "d3ff4565-f610-4ea6-aee1-49b8a89bf69c",
   "metadata": {},
   "outputs": [],
   "source": [
    "# Define a function that checks validity of username based on length\n",
    "def hint_username(username):\n",
    "    if len(username) < 8:\n",
    "        print(\"Invalid username. Must be at least 8 characters long.\")\n",
    "    elif len(username) > 15:\n",
    "        print(\"Invalid username. Cannot exceed 15 characters.\")\n",
    "    else:\n",
    "        print(\"Valid username.\")"
   ]
  },
  {
   "cell_type": "code",
   "execution_count": 47,
   "id": "a82c2ef8-3ccc-4ab9-8663-5470fdc65b84",
   "metadata": {},
   "outputs": [
    {
     "name": "stdout",
     "output_type": "stream",
     "text": [
      "Invalid username. Cannot exceed 15 characters.\n"
     ]
    }
   ],
   "source": [
    "hint_username(\"ljñkljfñklasdjflkñadjglk{a\")"
   ]
  },
  {
   "cell_type": "markdown",
   "id": "6ae4748a-c8c1-403e-99f6-53cabb0577ff",
   "metadata": {},
   "source": [
    "## Loops"
   ]
  },
  {
   "cell_type": "markdown",
   "id": "5b7675ba-1236-4b42-8be8-65209437ec06",
   "metadata": {},
   "source": [
    "### While Loops"
   ]
  },
  {
   "cell_type": "code",
   "execution_count": 48,
   "id": "8ee9044c-889b-4b81-a1fe-9c295f002bf4",
   "metadata": {},
   "outputs": [
    {
     "name": "stdout",
     "output_type": "stream",
     "text": [
      "Not there yet, x=0\n",
      "x=1\n",
      "Not there yet, x=1\n",
      "x=2\n",
      "Not there yet, x=2\n",
      "x=3\n",
      "Not there yet, x=3\n",
      "x=4\n",
      "Not there yet, x=4\n",
      "x=5\n"
     ]
    }
   ],
   "source": [
    "# Instantiate a counter\n",
    "x = 0\n",
    "\n",
    "# Create a while loop that prints \"not there yet\", increments x by 1, a\n",
    "# and prints x until x reaches 5\n",
    "while x < 5:\n",
    "    print('Not there yet, x=' + str(x))\n",
    "    x = x + 1\n",
    "    print('x=' + str(x))"
   ]
  },
  {
   "cell_type": "code",
   "execution_count": 49,
   "id": "19704c48-031c-4cb6-8ea3-ca017b658147",
   "metadata": {},
   "outputs": [
    {
     "name": "stdout",
     "output_type": "stream",
     "text": [
      "Guess a number between 1 and 25: \n"
     ]
    },
    {
     "name": "stdin",
     "output_type": "stream",
     "text": [
      " 5\n"
     ]
    },
    {
     "name": "stdout",
     "output_type": "stream",
     "text": [
      "Nope! Try again.\n",
      "Guess a number between 1 and 25: \n"
     ]
    },
    {
     "name": "stdin",
     "output_type": "stream",
     "text": [
      " 20\n"
     ]
    },
    {
     "name": "stdout",
     "output_type": "stream",
     "text": [
      "Nope! Try again.\n",
      "Guess a number between 1 and 25: \n"
     ]
    },
    {
     "name": "stdin",
     "output_type": "stream",
     "text": [
      " 10\n"
     ]
    },
    {
     "name": "stdout",
     "output_type": "stream",
     "text": [
      "Nope! Try again.\n",
      "Guess a number between 1 and 25: \n"
     ]
    },
    {
     "name": "stdin",
     "output_type": "stream",
     "text": [
      " 12\n"
     ]
    },
    {
     "name": "stdout",
     "output_type": "stream",
     "text": [
      "Nope! Try again.\n",
      "Guess a number between 1 and 25: \n"
     ]
    },
    {
     "name": "stdin",
     "output_type": "stream",
     "text": [
      " 16\n"
     ]
    },
    {
     "name": "stdout",
     "output_type": "stream",
     "text": [
      "You did not guess the number. The number was 17.\n"
     ]
    }
   ],
   "source": [
    "# Import the random module to be able to create a (pseudo)random number\n",
    "import random\n",
    "\n",
    "number = random.randint(1,25)                   # Generate random number\n",
    "number_of_guesses = 0                           # Instantiate guess counter\n",
    "\n",
    "while number_of_guesses < 5:\n",
    "    print('Guess a number between 1 and 25: ')  # Tells user to guess number\n",
    "    guess = input()                             # Produces the user input field\n",
    "    guess = int(guess)                          # Convert guess to integer\n",
    "    number_of_guesses += 1                      # Increment guess count by 1\n",
    "\n",
    "    if guess == number:                         # Break while loop if guess is correct\n",
    "        break\n",
    "    elif number_of_guesses == 5:                # Break while loop if guess limit reached\n",
    "        break\n",
    "    else:                                       # Tell user to try again\n",
    "        print('Nope! Try again.')\n",
    "\n",
    "# Message to display if correct\n",
    "if guess == number:\n",
    "    print('Correct! You guessed the number in ' + str(number_of_guesses) + ' tries!')\n",
    "# Message to display after 5 unsuccessful guesses\n",
    "else:\n",
    "    print('You did not guess the number. The number was ' + str(number) + '.')"
   ]
  },
  {
   "cell_type": "markdown",
   "id": "580a5691-63da-4711-a357-db65ad828331",
   "metadata": {},
   "source": [
    "### For Loops"
   ]
  },
  {
   "cell_type": "markdown",
   "id": "36f8a2f7-4005-4b80-b5c0-c70ddd6fd40d",
   "metadata": {},
   "source": [
    "The `range()` function takes three arguments: `start`, `stop`, `step`. Its output is an object belonging to the range class. If you only include one argument, it will be interpreted as the stop value. The start and step values by default will be zero and one, respectively."
   ]
  },
  {
   "cell_type": "code",
   "execution_count": 50,
   "id": "c3b2d7c6-2eb0-41e1-9f20-c2c4bfa8c6d7",
   "metadata": {},
   "outputs": [
    {
     "name": "stdout",
     "output_type": "stream",
     "text": [
      "0\n",
      "1\n",
      "2\n",
      "3\n",
      "4\n"
     ]
    }
   ],
   "source": [
    "# Example of for loop with range() function\n",
    "for x in range(5):\n",
    "    print(x)"
   ]
  },
  {
   "cell_type": "markdown",
   "id": "3d5a773c-44ee-4730-8e53-59245f3523c4",
   "metadata": {},
   "source": [
    "This `range()` example starts at 10, stops at 20, and steps by 2. The `stop` value in `range()` is exclusive, which means that it stop before it reaches the value."
   ]
  },
  {
   "cell_type": "code",
   "execution_count": 51,
   "id": "92d5236d-e6a1-4908-bf23-8eb5aa30b378",
   "metadata": {},
   "outputs": [
    {
     "name": "stdout",
     "output_type": "stream",
     "text": [
      "10\n",
      "12\n",
      "14\n",
      "16\n",
      "18\n"
     ]
    }
   ],
   "source": [
    "for i in range(10, 20, 2):\n",
    "    print(i)"
   ]
  },
  {
   "cell_type": "code",
   "execution_count": 52,
   "id": "07ab844e-8b8b-4bbf-ac52-d8888fa969f1",
   "metadata": {},
   "outputs": [
    {
     "ename": "FileNotFoundError",
     "evalue": "[Errno 2] No such file or directory: 'zen_of_python.txt'",
     "output_type": "error",
     "traceback": [
      "\u001b[0;31m---------------------------------------------------------------------------\u001b[0m",
      "\u001b[0;31mFileNotFoundError\u001b[0m                         Traceback (most recent call last)",
      "\u001b[0;32m/var/folders/yq/ns90sjt10y724n5d18pd2jj00000gn/T/ipykernel_40033/1499919462.py\u001b[0m in \u001b[0;36m<module>\u001b[0;34m\u001b[0m\n\u001b[1;32m      1\u001b[0m \u001b[0;31m# Example of reading in a .txt file line by line with a for loop\u001b[0m\u001b[0;34m\u001b[0m\u001b[0;34m\u001b[0m\u001b[0m\n\u001b[0;32m----> 2\u001b[0;31m \u001b[0;32mwith\u001b[0m \u001b[0mopen\u001b[0m\u001b[0;34m(\u001b[0m\u001b[0;34m'zen_of_python.txt'\u001b[0m\u001b[0;34m)\u001b[0m \u001b[0;32mas\u001b[0m \u001b[0mf\u001b[0m\u001b[0;34m:\u001b[0m\u001b[0;34m\u001b[0m\u001b[0;34m\u001b[0m\u001b[0m\n\u001b[0m\u001b[1;32m      3\u001b[0m     \u001b[0;32mfor\u001b[0m \u001b[0mline\u001b[0m \u001b[0;32min\u001b[0m \u001b[0mf\u001b[0m\u001b[0;34m:\u001b[0m\u001b[0;34m\u001b[0m\u001b[0;34m\u001b[0m\u001b[0m\n\u001b[1;32m      4\u001b[0m         \u001b[0mprint\u001b[0m\u001b[0;34m(\u001b[0m\u001b[0mline\u001b[0m\u001b[0;34m)\u001b[0m\u001b[0;34m\u001b[0m\u001b[0;34m\u001b[0m\u001b[0m\n\u001b[1;32m      5\u001b[0m \u001b[0mprint\u001b[0m\u001b[0;34m(\u001b[0m\u001b[0;34m'\\nI\\'m done.'\u001b[0m\u001b[0;34m)\u001b[0m\u001b[0;34m\u001b[0m\u001b[0;34m\u001b[0m\u001b[0m\n",
      "\u001b[0;31mFileNotFoundError\u001b[0m: [Errno 2] No such file or directory: 'zen_of_python.txt'"
     ]
    }
   ],
   "source": [
    "# Example of reading in a .txt file line by line with a for loop\n",
    "with open('zen_of_python.txt') as f:\n",
    "    for line in f:\n",
    "        print(line)\n",
    "print('\\nI\\'m done.')"
   ]
  },
  {
   "cell_type": "code",
   "execution_count": 53,
   "id": "5f27e955-9d9b-4c69-9191-d95b316526e7",
   "metadata": {},
   "outputs": [
    {
     "name": "stdout",
     "output_type": "stream",
     "text": [
      "362880\n"
     ]
    }
   ],
   "source": [
    "# Use a for loop to calculate 9!\n",
    "product = 1\n",
    "for n in range(1, 10):\n",
    "    product = product * n\n",
    "\n",
    "print(product)"
   ]
  },
  {
   "cell_type": "code",
   "execution_count": 54,
   "id": "581fb417-f39f-47b4-976b-714cdeb19a8b",
   "metadata": {},
   "outputs": [
    {
     "name": "stdout",
     "output_type": "stream",
     "text": [
      "0 -17.77777777777778\n",
      "10 -12.222222222222221\n",
      "20 -6.666666666666667\n",
      "30 -1.1111111111111112\n",
      "40 4.444444444444445\n",
      "50 10.0\n",
      "60 15.555555555555555\n",
      "70 21.11111111111111\n",
      "80 26.666666666666668\n",
      "90 32.22222222222222\n",
      "100 37.77777777777778\n"
     ]
    }
   ],
   "source": [
    "# Define a function that converts Fahrenheit to Celsius\n",
    "def to_celsius(x):\n",
    "     return (x-32) * 5/9\n",
    "\n",
    "# Create a table of Celsius-->Fahrenheit conversions every 10 degrees, 0-100\n",
    "for x in range(0, 101, 10):\n",
    "     print(x, to_celsius(x))"
   ]
  },
  {
   "cell_type": "markdown",
   "id": "d93f7729-abeb-476b-8b64-7545d6dbc37a",
   "metadata": {},
   "source": [
    "### Strings"
   ]
  },
  {
   "cell_type": "code",
   "execution_count": 55,
   "id": "f62b6c0b-2ea1-47b1-8f65-4ad5113215e6",
   "metadata": {},
   "outputs": [
    {
     "data": {
      "text/plain": [
       "'Helloworld'"
      ]
     },
     "execution_count": 55,
     "metadata": {},
     "output_type": "execute_result"
    }
   ],
   "source": [
    "# Adding strings will combine them\n",
    "'Hello' + 'world'"
   ]
  },
  {
   "cell_type": "code",
   "execution_count": 56,
   "id": "04fea9d6-aeba-464a-8a8f-4406d337c1fd",
   "metadata": {},
   "outputs": [
    {
     "data": {
      "text/plain": [
       "'Hello world'"
      ]
     },
     "execution_count": 56,
     "metadata": {},
     "output_type": "execute_result"
    }
   ],
   "source": [
    "# Blank space (\"whitespace\") is its own character\n",
    "'Hello ' + 'world'"
   ]
  },
  {
   "cell_type": "code",
   "execution_count": 57,
   "id": "2ab0e86f-f358-4301-8265-b24ee270ea5f",
   "metadata": {},
   "outputs": [
    {
     "data": {
      "text/plain": [
       "'Hello world'"
      ]
     },
     "execution_count": 57,
     "metadata": {},
     "output_type": "execute_result"
    }
   ],
   "source": [
    "# Including a whitespace when combining strings\n",
    "'Hello' + ' ' + 'world'"
   ]
  },
  {
   "cell_type": "code",
   "execution_count": 58,
   "id": "75bba14d-99bd-4fb6-be6b-5bfec5747f64",
   "metadata": {},
   "outputs": [
    {
     "data": {
      "text/plain": [
       "'Hello world'"
      ]
     },
     "execution_count": 58,
     "metadata": {},
     "output_type": "execute_result"
    }
   ],
   "source": [
    "# Variables containing strings can be added\n",
    "greeting_1 = 'Hello '\n",
    "greeting_2 = 'world'\n",
    "greeting_1 + greeting_2"
   ]
  },
  {
   "cell_type": "code",
   "execution_count": 59,
   "id": "16f3cf6d-565f-46b3-9e5c-744f81f2de1c",
   "metadata": {},
   "outputs": [
    {
     "data": {
      "text/plain": [
       "'Danger! Danger! Danger! '"
      ]
     },
     "execution_count": 59,
     "metadata": {},
     "output_type": "execute_result"
    }
   ],
   "source": [
    "# Strings can be multiplied by integers\n",
    "danger = 'Danger! '\n",
    "danger * 3"
   ]
  },
  {
   "cell_type": "code",
   "execution_count": 60,
   "id": "a1db744d-265a-40a8-8ea4-e983d784dc13",
   "metadata": {},
   "outputs": [
    {
     "ename": "TypeError",
     "evalue": "unsupported operand type(s) for -: 'str' and 'int'",
     "output_type": "error",
     "traceback": [
      "\u001b[0;31m---------------------------------------------------------------------------\u001b[0m",
      "\u001b[0;31mTypeError\u001b[0m                                 Traceback (most recent call last)",
      "\u001b[0;32m/var/folders/yq/ns90sjt10y724n5d18pd2jj00000gn/T/ipykernel_40033/1941165815.py\u001b[0m in \u001b[0;36m<module>\u001b[0;34m\u001b[0m\n\u001b[1;32m      1\u001b[0m \u001b[0;31m# Strings cannot be used with subtraction or division\u001b[0m\u001b[0;34m\u001b[0m\u001b[0;34m\u001b[0m\u001b[0m\n\u001b[0;32m----> 2\u001b[0;31m \u001b[0mdanger\u001b[0m \u001b[0;34m-\u001b[0m \u001b[0;36m2\u001b[0m\u001b[0;34m\u001b[0m\u001b[0;34m\u001b[0m\u001b[0m\n\u001b[0m",
      "\u001b[0;31mTypeError\u001b[0m: unsupported operand type(s) for -: 'str' and 'int'"
     ]
    }
   ],
   "source": [
    "# Strings cannot be used with subtraction or division\n",
    "danger - 2"
   ]
  },
  {
   "cell_type": "code",
   "execution_count": 61,
   "id": "97749432-7d10-4d11-b505-43fa318e40e7",
   "metadata": {},
   "outputs": [
    {
     "name": "stdout",
     "output_type": "stream",
     "text": [
      "\"Thank you for pressing the self-destruct button.\"\n"
     ]
    }
   ],
   "source": [
    "# Alternate single and double quotes to include one or the other in your string\n",
    "quote = '\"Thank you for pressing the self-destruct button.\"'\n",
    "print(quote)"
   ]
  },
  {
   "cell_type": "code",
   "execution_count": 62,
   "id": "aa265444-452e-43d5-ab86-4c227491f559",
   "metadata": {},
   "outputs": [
    {
     "name": "stdout",
     "output_type": "stream",
     "text": [
      "\"It's dangerous to go alone!\"\n"
     ]
    }
   ],
   "source": [
    "# \\ is an escape character that modifies the character that follows it\n",
    "quote = \"\\\"It's dangerous to go alone!\\\"\"\n",
    "print(quote)"
   ]
  },
  {
   "cell_type": "code",
   "execution_count": 63,
   "id": "f88c3b6c-7063-4eeb-b532-c38016aff1b9",
   "metadata": {},
   "outputs": [
    {
     "name": "stdout",
     "output_type": "stream",
     "text": [
      "Good day,\n",
      "sir.\n"
     ]
    }
   ],
   "source": [
    "# \\n creates a newline\n",
    "greeting = \"Good day,\\nsir.\"\n",
    "print(greeting)"
   ]
  },
  {
   "cell_type": "code",
   "execution_count": 64,
   "id": "e6464caf-d93c-46c1-9104-01b8453d0bb9",
   "metadata": {},
   "outputs": [
    {
     "name": "stdout",
     "output_type": "stream",
     "text": [
      "\\n represents a newline in Python.\n"
     ]
    }
   ],
   "source": [
    "# Using escape character (\\) lets you express the newline symbol within a string\n",
    "newline = \"\\\\n represents a newline in Python.\"\n",
    "print(newline)"
   ]
  },
  {
   "cell_type": "code",
   "execution_count": 65,
   "id": "35617c3e-ebe4-4da8-95cb-84804980c46a",
   "metadata": {},
   "outputs": [
    {
     "name": "stdout",
     "output_type": "stream",
     "text": [
      "Put\n",
      "yut\n",
      "tut\n",
      "hut\n",
      "out\n",
      "nut\n"
     ]
    }
   ],
   "source": [
    "# You can loop over strings\n",
    "python = 'Python'\n",
    "for letter in python:\n",
    "    print(letter + 'ut')"
   ]
  },
  {
   "cell_type": "markdown",
   "id": "1ddcbc8d-47df-43e7-96bc-523e7183702e",
   "metadata": {},
   "source": [
    "## Working with Strings"
   ]
  },
  {
   "cell_type": "markdown",
   "id": "307c18d1-4afc-4de0-b2cd-1c65d209d853",
   "metadata": {},
   "source": [
    "### Indexing\n",
    "\n",
    "**Indexing** refers to accessing a single element of a sequence by its position. In Python, the first element of any sequence has an index of zero. This means Python uses *zero-based indexing*. "
   ]
  },
  {
   "cell_type": "code",
   "execution_count": 66,
   "id": "c2dafa16-ffd3-411f-89bc-2113689b99fd",
   "metadata": {},
   "outputs": [
    {
     "ename": "NameError",
     "evalue": "name 'pets' is not defined",
     "output_type": "error",
     "traceback": [
      "\u001b[0;31m---------------------------------------------------------------------------\u001b[0m",
      "\u001b[0;31mNameError\u001b[0m                                 Traceback (most recent call last)",
      "\u001b[0;32m/var/folders/yq/ns90sjt10y724n5d18pd2jj00000gn/T/ipykernel_40033/722664188.py\u001b[0m in \u001b[0;36m<module>\u001b[0;34m\u001b[0m\n\u001b[1;32m      2\u001b[0m     \u001b[0mprint\u001b[0m\u001b[0;34m(\u001b[0m\u001b[0;34mf'Character at index position {index_num} in {input_value} is {input_value[index_num]}'\u001b[0m\u001b[0;34m)\u001b[0m\u001b[0;34m\u001b[0m\u001b[0;34m\u001b[0m\u001b[0m\n\u001b[1;32m      3\u001b[0m \u001b[0;34m\u001b[0m\u001b[0m\n\u001b[0;32m----> 4\u001b[0;31m \u001b[0mfind_index_value\u001b[0m\u001b[0;34m(\u001b[0m\u001b[0mpets\u001b[0m\u001b[0;34m,\u001b[0m \u001b[0;36m10\u001b[0m\u001b[0;34m)\u001b[0m\u001b[0;34m\u001b[0m\u001b[0;34m\u001b[0m\u001b[0m\n\u001b[0m\u001b[1;32m      5\u001b[0m \u001b[0mfind_index_value\u001b[0m\u001b[0;34m(\u001b[0m\u001b[0mpets\u001b[0m\u001b[0;34m,\u001b[0m \u001b[0;36m4\u001b[0m\u001b[0;34m)\u001b[0m\u001b[0;34m\u001b[0m\u001b[0;34m\u001b[0m\u001b[0m\n\u001b[1;32m      6\u001b[0m \u001b[0mfind_index_value\u001b[0m\u001b[0;34m(\u001b[0m\u001b[0mpets\u001b[0m\u001b[0;34m,\u001b[0m \u001b[0;36m0\u001b[0m\u001b[0;34m)\u001b[0m\u001b[0;34m\u001b[0m\u001b[0;34m\u001b[0m\u001b[0m\n",
      "\u001b[0;31mNameError\u001b[0m: name 'pets' is not defined"
     ]
    }
   ],
   "source": [
    "def find_index_value(input_value, index_num):\n",
    "    print(f'Character at index position {index_num} in {input_value} is {input_value[index_num]}')\n",
    "\n",
    "find_index_value(pets, 10)\n",
    "find_index_value(pets, 4)\n",
    "find_index_value(pets, 0)"
   ]
  },
  {
   "cell_type": "markdown",
   "id": "8eac4389-6ae8-4b1c-9d4f-1c133c58e273",
   "metadata": {},
   "source": [
    "The string class has an `index()` function that returns the position of the input in the string, if it exists."
   ]
  },
  {
   "cell_type": "code",
   "execution_count": 67,
   "id": "727bd59a-eeba-4289-b121-fc7f1f47d559",
   "metadata": {},
   "outputs": [
    {
     "data": {
      "text/plain": [
       "3"
      ]
     },
     "execution_count": 67,
     "metadata": {},
     "output_type": "execute_result"
    }
   ],
   "source": [
    "# The index() method returns index of character's first occurrence in string\n",
    "pets = 'cats and dogs'\n",
    "pets.index('s')"
   ]
  },
  {
   "cell_type": "code",
   "execution_count": 68,
   "id": "60f200d0-e293-4f74-a514-440b1a561f45",
   "metadata": {},
   "outputs": [
    {
     "ename": "ValueError",
     "evalue": "substring not found",
     "output_type": "error",
     "traceback": [
      "\u001b[0;31m---------------------------------------------------------------------------\u001b[0m",
      "\u001b[0;31mValueError\u001b[0m                                Traceback (most recent call last)",
      "\u001b[0;32m/var/folders/yq/ns90sjt10y724n5d18pd2jj00000gn/T/ipykernel_40033/2813354131.py\u001b[0m in \u001b[0;36m<module>\u001b[0;34m\u001b[0m\n\u001b[1;32m      1\u001b[0m \u001b[0;31m# The index() method will throw an error if character is not in string\u001b[0m\u001b[0;34m\u001b[0m\u001b[0;34m\u001b[0m\u001b[0m\n\u001b[0;32m----> 2\u001b[0;31m \u001b[0mpets\u001b[0m\u001b[0;34m.\u001b[0m\u001b[0mindex\u001b[0m\u001b[0;34m(\u001b[0m\u001b[0;34m'z'\u001b[0m\u001b[0;34m)\u001b[0m\u001b[0;34m\u001b[0m\u001b[0;34m\u001b[0m\u001b[0m\n\u001b[0m",
      "\u001b[0;31mValueError\u001b[0m: substring not found"
     ]
    }
   ],
   "source": [
    "# The index() method will throw an error if character is not in string\n",
    "pets.index('z')"
   ]
  },
  {
   "cell_type": "code",
   "execution_count": 69,
   "id": "265ac0bc-62a4-43fe-b7e5-2329576b8fa6",
   "metadata": {},
   "outputs": [
    {
     "data": {
      "text/plain": [
       "'J'"
      ]
     },
     "execution_count": 69,
     "metadata": {},
     "output_type": "execute_result"
    }
   ],
   "source": [
    "# Access the character at a given index of a string\n",
    "name = 'Jolene'\n",
    "name[0]"
   ]
  },
  {
   "cell_type": "code",
   "execution_count": 70,
   "id": "504f773d-8f70-40a4-88ff-15ca9e80077c",
   "metadata": {},
   "outputs": [
    {
     "data": {
      "text/plain": [
       "'e'"
      ]
     },
     "execution_count": 70,
     "metadata": {},
     "output_type": "execute_result"
    }
   ],
   "source": [
    "# Access the character at a given index of a string\n",
    "name[5]"
   ]
  },
  {
   "cell_type": "code",
   "execution_count": 71,
   "id": "061bcbea-72f8-4cdc-9857-5ab8da2e967d",
   "metadata": {},
   "outputs": [
    {
     "ename": "IndexError",
     "evalue": "string index out of range",
     "output_type": "error",
     "traceback": [
      "\u001b[0;31m---------------------------------------------------------------------------\u001b[0m",
      "\u001b[0;31mIndexError\u001b[0m                                Traceback (most recent call last)",
      "\u001b[0;32m/var/folders/yq/ns90sjt10y724n5d18pd2jj00000gn/T/ipykernel_40033/242946715.py\u001b[0m in \u001b[0;36m<module>\u001b[0;34m\u001b[0m\n\u001b[1;32m      1\u001b[0m \u001b[0;31m# Indices that are out of range will return an IndexError\u001b[0m\u001b[0;34m\u001b[0m\u001b[0;34m\u001b[0m\u001b[0m\n\u001b[0;32m----> 2\u001b[0;31m \u001b[0mname\u001b[0m\u001b[0;34m[\u001b[0m\u001b[0;36m6\u001b[0m\u001b[0;34m]\u001b[0m\u001b[0;34m\u001b[0m\u001b[0;34m\u001b[0m\u001b[0m\n\u001b[0m",
      "\u001b[0;31mIndexError\u001b[0m: string index out of range"
     ]
    }
   ],
   "source": [
    "# Indices that are out of range will return an IndexError\n",
    "name[6]"
   ]
  },
  {
   "cell_type": "markdown",
   "id": "e32b16f3-e5d3-493e-9662-81f4f4f8af9b",
   "metadata": {},
   "source": [
    "Strings can also be indexed starting at the end--called *negative indexing*."
   ]
  },
  {
   "cell_type": "code",
   "execution_count": 72,
   "id": "74df4f58-dbcf-48c1-9852-892ec0bceb8c",
   "metadata": {},
   "outputs": [
    {
     "data": {
      "text/plain": [
       "'!'"
      ]
     },
     "execution_count": 72,
     "metadata": {},
     "output_type": "execute_result"
    }
   ],
   "source": [
    "# Negative indexing begins at the end of the string\n",
    "sentence = 'A man, a plan, a canal, Panama!'\n",
    "sentence[-1]"
   ]
  },
  {
   "cell_type": "code",
   "execution_count": 73,
   "id": "0efd7439-4533-4342-bf74-0c05a12a9555",
   "metadata": {},
   "outputs": [
    {
     "data": {
      "text/plain": [
       "'a'"
      ]
     },
     "execution_count": 73,
     "metadata": {},
     "output_type": "execute_result"
    }
   ],
   "source": [
    "# Negative indexing begins at the end of the string\n",
    "sentence[-2]"
   ]
  },
  {
   "cell_type": "markdown",
   "id": "8efe0e54-5342-4921-b232-2d22609028d3",
   "metadata": {},
   "source": [
    "### Slicing\n",
    "\n",
    "**Slicing** refers to accessing a range of elements from a sequence. Use square brackets containing two indices separated by a colon. \n",
    "\n",
    "E.g., \n",
    "- From beginning: `[:5]`  \n",
    "- Until end: `[4:]`  \n",
    "- Full string: `[:]`  "
   ]
  },
  {
   "cell_type": "code",
   "execution_count": 74,
   "id": "ed9a6aff-2f72-473b-8f1b-4820d27ff2cb",
   "metadata": {},
   "outputs": [
    {
     "data": {
      "text/plain": [
       "'ran'"
      ]
     },
     "execution_count": 74,
     "metadata": {},
     "output_type": "execute_result"
    }
   ],
   "source": [
    "# Access a substring by using a slice\n",
    "color = 'orange'\n",
    "color[1:4]"
   ]
  },
  {
   "cell_type": "code",
   "execution_count": 75,
   "id": "ace0a339-9e0b-4c7b-a48c-6d823fbd4ab0",
   "metadata": {},
   "outputs": [
    {
     "name": "stdout",
     "output_type": "stream",
     "text": [
      "pine\n",
      "apple\n",
      "pineapple\n"
     ]
    }
   ],
   "source": [
    "# Omitting the first value of the slice implies a value of 0\n",
    "fruit = 'pineapple'\n",
    "print(fruit[:4])\n",
    "\n",
    "# Omitting the last value of the slice implies a value of len(string)\n",
    "print(fruit[4:])\n",
    "\n",
    "# Omitting both values results in the original string\n",
    "print(fruit[:])"
   ]
  },
  {
   "cell_type": "code",
   "execution_count": 76,
   "id": "7c3e3419-3bc8-4c69-bf6b-baae2c5bac38",
   "metadata": {},
   "outputs": [
    {
     "name": "stdout",
     "output_type": "stream",
     "text": [
      "False\n",
      "True\n"
     ]
    }
   ],
   "source": [
    "# The `in` keyword returns Boolean of whether substring is in string\n",
    "print('banana' in fruit)\n",
    "\n",
    "print('apple' in fruit)"
   ]
  },
  {
   "cell_type": "markdown",
   "id": "b5e38a24-d0fa-4f14-8d9f-e87308842f84",
   "metadata": {},
   "source": [
    "### Formatting"
   ]
  },
  {
   "cell_type": "markdown",
   "id": "e4d59dba-555e-41eb-ba26-ceeaf8868420",
   "metadata": {},
   "source": [
    "String formatting uses the `format()` method, which belongs to the string class. This method formats and inserts specific substrings into designated places within a larger string."
   ]
  },
  {
   "cell_type": "code",
   "execution_count": 77,
   "id": "358b7141-9f9d-4bbb-8262-27e96cc85f69",
   "metadata": {},
   "outputs": [
    {
     "name": "stdout",
     "output_type": "stream",
     "text": [
      "Hello Manuel, your lucky number is 3.\n"
     ]
    }
   ],
   "source": [
    "# Use format() method to insert values into your string, indicated by braces\n",
    "name = 'Manuel'\n",
    "number = 3\n",
    "print('Hello {}, your lucky number is {}.'.format(name, number))"
   ]
  },
  {
   "cell_type": "code",
   "execution_count": 78,
   "id": "209b0070-c8f1-4a0f-8372-ac9ac2c5dc29",
   "metadata": {},
   "outputs": [
    {
     "name": "stdout",
     "output_type": "stream",
     "text": [
      "Hello Manuel, your lucky number is 3.\n"
     ]
    }
   ],
   "source": [
    "# You can assign names to designate how you want values to be inserted\n",
    "name = 'Manuel'\n",
    "number = 3\n",
    "print('Hello {name}, your lucky number is {num}.'.format(num=number, name=name))"
   ]
  },
  {
   "cell_type": "code",
   "execution_count": 79,
   "id": "cb1d71f9-fff4-425b-9161-a7be2c7dc92b",
   "metadata": {},
   "outputs": [
    {
     "name": "stdout",
     "output_type": "stream",
     "text": [
      "Hello Manuel, your lucky number is 3.\n"
     ]
    }
   ],
   "source": [
    "# You can use argument indices to designate how you want values to be inserted\n",
    "print('Hello {1}, your lucky number is {0}.'.format(number, name))"
   ]
  },
  {
   "cell_type": "code",
   "execution_count": 80,
   "id": "45e7a6f5-54ac-4ce4-91f1-c0bd802ad464",
   "metadata": {},
   "outputs": [
    {
     "name": "stdout",
     "output_type": "stream",
     "text": [
      "Base price: $7.75 USD. \n",
      "With tax: $8.2925 USD.\n"
     ]
    }
   ],
   "source": [
    "# Example inserting prices into string\n",
    "price = 7.75\n",
    "with_tax = price * 1.07\n",
    "print('Base price: ${} USD. \\nWith tax: ${} USD.'.format(price, with_tax))"
   ]
  },
  {
   "cell_type": "code",
   "execution_count": 81,
   "id": "ab462157-74f2-4736-a79a-2bc185de7cb2",
   "metadata": {},
   "outputs": [
    {
     "name": "stdout",
     "output_type": "stream",
     "text": [
      "Base price: $7.75 USD. \n",
      "With tax: $8.29 USD.\n"
     ]
    }
   ],
   "source": [
    "# Use :.2f to round a float value to two places beyond the decimal\n",
    "print('Base price: ${:.2f} USD. \\nWith tax: ${:.2f} USD.'.format(price, with_tax))"
   ]
  },
  {
   "cell_type": "code",
   "execution_count": 82,
   "id": "43edcdc3-b5ea-4467-afe8-e9843bdd666f",
   "metadata": {},
   "outputs": [
    {
     "name": "stdout",
     "output_type": "stream",
     "text": [
      "  0 F | -17.78 C\n",
      " 10 F | -12.22 C\n",
      " 20 F |  -6.67 C\n",
      " 30 F |  -1.11 C\n",
      " 40 F |   4.44 C\n",
      " 50 F |  10.00 C\n",
      " 60 F |  15.56 C\n",
      " 70 F |  21.11 C\n",
      " 80 F |  26.67 C\n",
      " 90 F |  32.22 C\n",
      "100 F |  37.78 C\n"
     ]
    }
   ],
   "source": [
    "# Define a function that converts Fahrenheit to Celsius\n",
    "def to_celsius(x):\n",
    "    return (x-32) * 5/9\n",
    "\n",
    "# Create a temperature conversion table using string formatting\n",
    "for x in range(0, 101, 10):\n",
    "    print(\"{:>3} F | {:>6.2f} C\".format(x, to_celsius(x)))"
   ]
  },
  {
   "cell_type": "markdown",
   "id": "931344b9-5baf-447e-9be5-5d0ae0d15ed2",
   "metadata": {},
   "source": [
    "**F-strings** further minimize the syntax required to embed expressions into strings. They’re called f-strings because the expressions always begin with f (or F—they’re the same). "
   ]
  },
  {
   "cell_type": "code",
   "execution_count": 83,
   "id": "b2890eb5-926a-4f19-a24d-9186f62aee1a",
   "metadata": {},
   "outputs": [
    {
     "name": "stdout",
     "output_type": "stream",
     "text": [
      "1 + 2\n",
      "3\n",
      "var_a = 1 \n",
      "var_b = 2\n"
     ]
    }
   ],
   "source": [
    "var_a = 1\n",
    "var_b = 2\n",
    "print(f'{var_a} + {var_b}')\n",
    "print(f'{var_a + var_b}')\n",
    "print(f'var_a = {var_a} \\nvar_b = {var_b}')"
   ]
  },
  {
   "cell_type": "markdown",
   "id": "936abbc0-04fc-4d0a-933f-7864b426dafc",
   "metadata": {},
   "source": [
    "In addition to inserting expressions into strings, string formatting can format their appearance. \n",
    "\n",
    "For all available options, review [Python string documentation](https://docs.python.org/3/library/string.html)."
   ]
  },
  {
   "cell_type": "markdown",
   "id": "056be464-e44f-4f36-a30b-3218ae4b092f",
   "metadata": {},
   "source": [
    "Formatting floats within a string is a common task for data professionals. This can be done using the following format:\n",
    "\n",
    "`{float:.2f}`\n",
    "\n",
    "where `float` is the float to be formatted, `.2` represents the precision (number of decimal places), and `f` is the presentation type."
   ]
  },
  {
   "cell_type": "code",
   "execution_count": 84,
   "id": "5debed4a-0b0f-49ec-8546-3b93ed648721",
   "metadata": {},
   "outputs": [
    {
     "data": {
      "text/plain": [
       "'1000.99'"
      ]
     },
     "execution_count": 84,
     "metadata": {},
     "output_type": "execute_result"
    }
   ],
   "source": [
    "num = 1000.987123\n",
    "f'{num:.2f}'"
   ]
  },
  {
   "cell_type": "markdown",
   "id": "a1017bb8-1931-4203-842a-7e659c057d2d",
   "metadata": {},
   "source": [
    "Some common examples of presentation types include:\n",
    "\n",
    "| Type | Meaning |\n",
    "| --- | --- |\n",
    "| `e` | Scientific notation |\n",
    "| `f` | Fixed-point notation |\n",
    "| `%` | Percentage |"
   ]
  },
  {
   "cell_type": "code",
   "execution_count": 85,
   "id": "fc8dca96-4050-4cc3-bd49-6217da6375d3",
   "metadata": {},
   "outputs": [
    {
     "name": "stdout",
     "output_type": "stream",
     "text": [
      "1.001e+03\n",
      "24.9786%\n"
     ]
    }
   ],
   "source": [
    "num = 1000.987123\n",
    "print(f'{num:.3e}')\n",
    "\n",
    "decimal = 0.2497856\n",
    "print(f'{decimal:.4%}')"
   ]
  },
  {
   "cell_type": "markdown",
   "id": "d805dcc9-e0eb-44ef-aa9c-94e23231a94a",
   "metadata": {},
   "source": [
    "Regular expressions, also known as *regex*, refer to techniques that advanced data professionals use to modify and process string data.\n",
    "\n",
    "Regex works by matching patterns in Python. It allows you to search for specific patterns of text within a string of text. Regex is used extensively in web scraping, text processing and cleaning, and data analysis. \n",
    "\n",
    "The first step in working with regular expressions is to import the re module. This module provides the tools necessary for working with regular expressions."
   ]
  },
  {
   "cell_type": "code",
   "execution_count": 86,
   "id": "9abf38db-c9d4-47d0-85f4-e48e98ca83cb",
   "metadata": {},
   "outputs": [
    {
     "data": {
      "text/plain": [
       "<re.Match object; span=(10, 16), match='tigers'>"
      ]
     },
     "execution_count": 86,
     "metadata": {},
     "output_type": "execute_result"
    }
   ],
   "source": [
    "# regex is available in the `re` package\n",
    "import re\n",
    "\n",
    "# specify the regex pattern\n",
    "pattern = 'tigers'\n",
    "\n",
    "string_to_search = 'Three sad tigers swallowed wheat in a wheat field'\n",
    "\n",
    "# search using the `search()` function\n",
    "re.search(pattern, string_to_search)"
   ]
  },
  {
   "cell_type": "markdown",
   "id": "244a27fb-b78d-42cb-81a8-81ea6524795c",
   "metadata": {},
   "source": [
    "## Data Structures"
   ]
  },
  {
   "cell_type": "markdown",
   "id": "47a9df67-21de-4e4d-b318-2834f3b7e03e",
   "metadata": {},
   "source": [
    "### Lists\n",
    "\n",
    "Lists are a core Python class and have a number of built-in methods that are very useful.\n",
    "- `append()`: Adds an element to the end of a list\n",
    "- `insert()`: Adds an element at the position specified\n",
    "- `remove()`: Removes the first occurance of an item\n",
    "- `pop()`: Removes an item at the given position in a list and returns it.\n",
    "- `clear()`: Removes all items from the list.\n",
    "- `index()`: Returns the index of the first occurrence of an item in the list.\n",
    "- `count()`: Returns the number of times and item appears in the list.\n",
    "- `sort()`: Sorts the list ascending by default.\n",
    "\n",
    "To learn more about lists, review [Python lists](https://docs.python.org/3/tutorial/introduction.html#lists)."
   ]
  },
  {
   "cell_type": "code",
   "execution_count": 87,
   "id": "04397297-73e2-408b-a9df-f72624f13d76",
   "metadata": {},
   "outputs": [
    {
     "name": "stdout",
     "output_type": "stream",
     "text": [
      "cooking\n"
     ]
    }
   ],
   "source": [
    "# Assign a list using brackets, with elements separated by commas\n",
    "x = [\"Now\", \"we\", \"are\", \"cooking\", \"with\", 7, \"ingredients\"]\n",
    "\n",
    "# Print element at index 3\n",
    "print(x[3])"
   ]
  },
  {
   "cell_type": "code",
   "execution_count": 88,
   "id": "66173838-cbb4-4577-aeb3-6046d5c26b85",
   "metadata": {},
   "outputs": [
    {
     "ename": "IndexError",
     "evalue": "list index out of range",
     "output_type": "error",
     "traceback": [
      "\u001b[0;31m---------------------------------------------------------------------------\u001b[0m",
      "\u001b[0;31mIndexError\u001b[0m                                Traceback (most recent call last)",
      "\u001b[0;32m/var/folders/yq/ns90sjt10y724n5d18pd2jj00000gn/T/ipykernel_40033/1346493569.py\u001b[0m in \u001b[0;36m<module>\u001b[0;34m\u001b[0m\n\u001b[1;32m      1\u001b[0m \u001b[0;31m# Trying to access an index not in list will result in IndexError\u001b[0m\u001b[0;34m\u001b[0m\u001b[0;34m\u001b[0m\u001b[0m\n\u001b[0;32m----> 2\u001b[0;31m \u001b[0mprint\u001b[0m\u001b[0;34m(\u001b[0m\u001b[0mx\u001b[0m\u001b[0;34m[\u001b[0m\u001b[0;36m7\u001b[0m\u001b[0;34m]\u001b[0m\u001b[0;34m)\u001b[0m\u001b[0;34m\u001b[0m\u001b[0;34m\u001b[0m\u001b[0m\n\u001b[0m",
      "\u001b[0;31mIndexError\u001b[0m: list index out of range"
     ]
    }
   ],
   "source": [
    "# Trying to access an index not in list will result in IndexError\n",
    "print(x[7])"
   ]
  },
  {
   "cell_type": "code",
   "execution_count": 89,
   "id": "ef953642-758c-4dd1-92ac-a06f26161d10",
   "metadata": {},
   "outputs": [
    {
     "data": {
      "text/plain": [
       "['we', 'are']"
      ]
     },
     "execution_count": 89,
     "metadata": {},
     "output_type": "execute_result"
    }
   ],
   "source": [
    "# Access part of a list by slicing\n",
    "x[1:3]"
   ]
  },
  {
   "cell_type": "code",
   "execution_count": 90,
   "id": "5400e254-091d-4b8d-8863-21d0d0421610",
   "metadata": {},
   "outputs": [
    {
     "data": {
      "text/plain": [
       "['Now', 'we']"
      ]
     },
     "execution_count": 90,
     "metadata": {},
     "output_type": "execute_result"
    }
   ],
   "source": [
    "# Omitting the first value of the slice implies a value of 0\n",
    "x[:2]"
   ]
  },
  {
   "cell_type": "code",
   "execution_count": 91,
   "id": "84e398c0-0c58-44be-a5c9-179b7a8d5624",
   "metadata": {},
   "outputs": [
    {
     "data": {
      "text/plain": [
       "['are', 'cooking', 'with', 7, 'ingredients']"
      ]
     },
     "execution_count": 91,
     "metadata": {},
     "output_type": "execute_result"
    }
   ],
   "source": [
    "# Omitting the last value of the slice implies a value of len(list)\n",
    "x[2:]"
   ]
  },
  {
   "cell_type": "code",
   "execution_count": 92,
   "id": "27719526-4e51-4f2e-b54e-1b527ec3f3e8",
   "metadata": {},
   "outputs": [
    {
     "data": {
      "text/plain": [
       "list"
      ]
     },
     "execution_count": 92,
     "metadata": {},
     "output_type": "execute_result"
    }
   ],
   "source": [
    "# Check the data type of an object using type() function\n",
    "type(x)"
   ]
  },
  {
   "cell_type": "code",
   "execution_count": 94,
   "id": "0062bef1-9fbb-4301-bf6d-2c8855aff208",
   "metadata": {},
   "outputs": [
    {
     "name": "stdout",
     "output_type": "stream",
     "text": [
      "Checking if 'This' is in the list... False\n",
      "Checking if 'cooking' is in the list... True\n"
     ]
    }
   ],
   "source": [
    "# The `in` keyword lets you check if a value is contained in the list\n",
    "x = [\"Now\", \"we\", \"are\", \"cooking\", \"with\", 7, \"ingredients\"]\n",
    "\n",
    "check_for_entry_in_list(x, \"This\")\n",
    "check_for_entry_in_list(x, \"cooking\")\n",
    "\n",
    "def check_for_entry_in_list(l, w):\n",
    "    print(f\"Checking if '{w}' is in the list... {w in l}\")"
   ]
  },
  {
   "cell_type": "code",
   "execution_count": 95,
   "id": "0a0f8fd1-b9bf-46a7-9e0d-3b468b9a99f5",
   "metadata": {},
   "outputs": [
    {
     "name": "stdout",
     "output_type": "stream",
     "text": [
      "['Pineapple', 'Banana', 'Apple', 'Melon', 'Kiwi']\n"
     ]
    }
   ],
   "source": [
    "# The append() method adds an element to the end of a list\n",
    "fruits = ['Pineapple', 'Banana', 'Apple', 'Melon']\n",
    "fruits.append('Kiwi')\n",
    "print(fruits)"
   ]
  },
  {
   "cell_type": "code",
   "execution_count": 96,
   "id": "6d029caa-ac9a-4ec9-9fd6-df0e16d0baaf",
   "metadata": {},
   "outputs": [
    {
     "name": "stdout",
     "output_type": "stream",
     "text": [
      "['Pineapple', 'Orange', 'Banana', 'Apple', 'Melon', 'Kiwi']\n"
     ]
    }
   ],
   "source": [
    "# The insert() method adds an element to a list at the specified index\n",
    "fruits.insert(1, 'Orange')\n",
    "print(fruits)"
   ]
  },
  {
   "cell_type": "code",
   "execution_count": 97,
   "id": "6ea10e15-2c69-4c12-915c-fdd70ddf547d",
   "metadata": {},
   "outputs": [
    {
     "name": "stdout",
     "output_type": "stream",
     "text": [
      "['Mango', 'Pineapple', 'Orange', 'Banana', 'Apple', 'Melon', 'Kiwi']\n"
     ]
    }
   ],
   "source": [
    "# The insert() method adds an element to a list at the specified index\n",
    "fruits.insert(0, 'Mango')\n",
    "print(fruits)"
   ]
  },
  {
   "cell_type": "code",
   "execution_count": 98,
   "id": "f376da56-4d1c-4399-b522-01a60ad0648a",
   "metadata": {},
   "outputs": [
    {
     "name": "stdout",
     "output_type": "stream",
     "text": [
      "['Mango', 'Pineapple', 'Orange', 'Apple', 'Melon', 'Kiwi']\n"
     ]
    }
   ],
   "source": [
    "# The remove() method deletes the first occurrence of an element in a list\n",
    "fruits.remove('Banana')\n",
    "print(fruits)"
   ]
  },
  {
   "cell_type": "code",
   "execution_count": 99,
   "id": "b2cfe7b3-358e-48d8-9702-ee7c1ee19488",
   "metadata": {},
   "outputs": [
    {
     "ename": "ValueError",
     "evalue": "list.remove(x): x not in list",
     "output_type": "error",
     "traceback": [
      "\u001b[0;31m---------------------------------------------------------------------------\u001b[0m",
      "\u001b[0;31mValueError\u001b[0m                                Traceback (most recent call last)",
      "\u001b[0;32m/var/folders/yq/ns90sjt10y724n5d18pd2jj00000gn/T/ipykernel_40033/3608490646.py\u001b[0m in \u001b[0;36m<module>\u001b[0;34m\u001b[0m\n\u001b[1;32m      1\u001b[0m \u001b[0;31m# Trying to remove an element that doesn't exist results in an error\u001b[0m\u001b[0;34m\u001b[0m\u001b[0;34m\u001b[0m\u001b[0m\n\u001b[0;32m----> 2\u001b[0;31m \u001b[0mfruits\u001b[0m\u001b[0;34m.\u001b[0m\u001b[0mremove\u001b[0m\u001b[0;34m(\u001b[0m\u001b[0;34m'Strawberry'\u001b[0m\u001b[0;34m)\u001b[0m\u001b[0;34m\u001b[0m\u001b[0;34m\u001b[0m\u001b[0m\n\u001b[0m\u001b[1;32m      3\u001b[0m \u001b[0mprint\u001b[0m\u001b[0;34m(\u001b[0m\u001b[0mfruits\u001b[0m\u001b[0;34m)\u001b[0m\u001b[0;34m\u001b[0m\u001b[0;34m\u001b[0m\u001b[0m\n",
      "\u001b[0;31mValueError\u001b[0m: list.remove(x): x not in list"
     ]
    }
   ],
   "source": [
    "# Trying to remove an element that doesn't exist results in an error\n",
    "fruits.remove('Strawberry')\n",
    "print(fruits)"
   ]
  },
  {
   "cell_type": "code",
   "execution_count": 100,
   "id": "0890cd46-5df0-4e92-b6fa-73cf938a3f79",
   "metadata": {},
   "outputs": [
    {
     "name": "stdout",
     "output_type": "stream",
     "text": [
      "['Mango', 'Pineapple', 'Apple', 'Melon', 'Kiwi']\n"
     ]
    }
   ],
   "source": [
    "# The pop() method removes the element at a given index and returns it.\n",
    "# If no index is given, it removes and returns the last element.\n",
    "fruits.pop(2)\n",
    "print(fruits)"
   ]
  },
  {
   "cell_type": "code",
   "execution_count": 101,
   "id": "6e8b76b5-68b9-4bfc-9cd8-2654038b6c37",
   "metadata": {},
   "outputs": [],
   "source": [
    "# Reassign the element at a given index with a new value\n",
    "fruits[1] = 'Mango'"
   ]
  },
  {
   "cell_type": "code",
   "execution_count": 102,
   "id": "43ed10f9-3296-490d-9add-29cdf2854617",
   "metadata": {},
   "outputs": [
    {
     "name": "stdout",
     "output_type": "stream",
     "text": [
      "['Mango', 'Mango', 'Apple', 'Melon', 'Kiwi']\n"
     ]
    }
   ],
   "source": [
    "print(fruits)"
   ]
  },
  {
   "cell_type": "code",
   "execution_count": 103,
   "id": "d7e8ef46-bc99-46a4-a292-6269b1f83708",
   "metadata": {},
   "outputs": [
    {
     "name": "stdout",
     "output_type": "stream",
     "text": [
      "1.21 gigawatts\n"
     ]
    }
   ],
   "source": [
    "# Strings are immutable because you need to reassign them to modify them\n",
    "power = '1.21'\n",
    "power = power + ' gigawatts'\n",
    "print(power)"
   ]
  },
  {
   "cell_type": "code",
   "execution_count": 104,
   "id": "245a264a-c42d-430a-92a7-6295990798a5",
   "metadata": {},
   "outputs": [
    {
     "ename": "TypeError",
     "evalue": "'str' object does not support item assignment",
     "output_type": "error",
     "traceback": [
      "\u001b[0;31m---------------------------------------------------------------------------\u001b[0m",
      "\u001b[0;31mTypeError\u001b[0m                                 Traceback (most recent call last)",
      "\u001b[0;32m/var/folders/yq/ns90sjt10y724n5d18pd2jj00000gn/T/ipykernel_40033/2576244210.py\u001b[0m in \u001b[0;36m<module>\u001b[0;34m\u001b[0m\n\u001b[1;32m      1\u001b[0m \u001b[0;31m# You cannot reassign a specific character within a string\u001b[0m\u001b[0;34m\u001b[0m\u001b[0;34m\u001b[0m\u001b[0m\n\u001b[0;32m----> 2\u001b[0;31m \u001b[0mpower\u001b[0m\u001b[0;34m[\u001b[0m\u001b[0;36m0\u001b[0m\u001b[0;34m]\u001b[0m \u001b[0;34m=\u001b[0m \u001b[0;34m'2'\u001b[0m\u001b[0;34m\u001b[0m\u001b[0;34m\u001b[0m\u001b[0m\n\u001b[0m",
      "\u001b[0;31mTypeError\u001b[0m: 'str' object does not support item assignment"
     ]
    }
   ],
   "source": [
    "# You cannot reassign a specific character within a string\n",
    "power[0] = '2'"
   ]
  },
  {
   "cell_type": "code",
   "execution_count": 105,
   "id": "8040949c-652a-41b4-9d2a-be5eeda9d3ce",
   "metadata": {},
   "outputs": [
    {
     "name": "stdout",
     "output_type": "stream",
     "text": [
      "[2.21, 'gigawatts']\n"
     ]
    }
   ],
   "source": [
    "# Lists are mutable because you can overwrite their elements\n",
    "power = [1.21, 'gigawatts']\n",
    "power[0] = 2.21\n",
    "print(power)"
   ]
  },
  {
   "cell_type": "markdown",
   "id": "2998a7b1-b862-45cd-a0b8-6951c32779ae",
   "metadata": {},
   "source": [
    "#### List Comprehension\n",
    "\n",
    "List comprehension offers a shorter syntax when you want to create a new list based on the values of an existing list.\n",
    "\n",
    "`newlist = [expression for item in iterable if condition == True]`"
   ]
  },
  {
   "cell_type": "code",
   "execution_count": 157,
   "id": "e629deec-cd4d-4aa7-85b0-dfa24d702c07",
   "metadata": {},
   "outputs": [
    {
     "name": "stdout",
     "output_type": "stream",
     "text": [
      "['apple', 'banana', 'mango']\n"
     ]
    }
   ],
   "source": [
    "# Uses a `for` loop\n",
    "fruits = [\"apple\", \"banana\", \"cherry\", \"kiwi\", \"mango\"]\n",
    "newlist = []\n",
    "\n",
    "for x in fruits:\n",
    "  if \"a\" in x:\n",
    "    newlist.append(x)\n",
    "\n",
    "print(newlist)"
   ]
  },
  {
   "cell_type": "code",
   "execution_count": 160,
   "id": "e90384b0-1622-4520-9ac8-8da27c1af6b5",
   "metadata": {},
   "outputs": [
    {
     "name": "stdout",
     "output_type": "stream",
     "text": [
      "['apple', 'banana', 'mango']\n",
      "['apple123', 'banana123', 'cherry123', 'kiwi123', 'mango123']\n"
     ]
    }
   ],
   "source": [
    "fruits = [\"apple\", \"banana\", \"cherry\", \"kiwi\", \"mango\"]\n",
    "\n",
    "# Creates a list of fruits that have the letter `a` in them\n",
    "newlist = [x for x in fruits if \"a\" in x]\n",
    "print(newlist)\n",
    "\n",
    "# Concatenates `123` onto the end of each fruit in the list\n",
    "newlist = [x + '123' for x in fruits]\n",
    "print(newlist)"
   ]
  },
  {
   "cell_type": "markdown",
   "id": "ab7262f1-e13f-42c8-bb95-078eeb24950b",
   "metadata": {},
   "source": [
    "### Tuples"
   ]
  },
  {
   "cell_type": "code",
   "execution_count": 107,
   "id": "45b149b7-fee3-424b-9b43-affc672cf50e",
   "metadata": {},
   "outputs": [
    {
     "data": {
      "text/plain": [
       "('Masha', 'Z', 'Hopper')"
      ]
     },
     "execution_count": 107,
     "metadata": {},
     "output_type": "execute_result"
    }
   ],
   "source": [
    "# Tuples are instantiated with parentheses\n",
    "fullname = ('Masha', 'Z', 'Hopper')\n",
    "\n",
    "fullname"
   ]
  },
  {
   "cell_type": "code",
   "execution_count": 108,
   "id": "e2bccbd5-149d-4ae1-bd29-59d9d4f4213f",
   "metadata": {},
   "outputs": [
    {
     "ename": "TypeError",
     "evalue": "'tuple' object does not support item assignment",
     "output_type": "error",
     "traceback": [
      "\u001b[0;31m---------------------------------------------------------------------------\u001b[0m",
      "\u001b[0;31mTypeError\u001b[0m                                 Traceback (most recent call last)",
      "\u001b[0;32m/var/folders/yq/ns90sjt10y724n5d18pd2jj00000gn/T/ipykernel_40033/4068405208.py\u001b[0m in \u001b[0;36m<module>\u001b[0;34m\u001b[0m\n\u001b[1;32m      1\u001b[0m \u001b[0;31m# Tuples are immutable, so their elements cannot be overwritten\u001b[0m\u001b[0;34m\u001b[0m\u001b[0;34m\u001b[0m\u001b[0m\n\u001b[0;32m----> 2\u001b[0;31m \u001b[0mfullname\u001b[0m\u001b[0;34m[\u001b[0m\u001b[0;36m2\u001b[0m\u001b[0;34m]\u001b[0m \u001b[0;34m=\u001b[0m \u001b[0;34m'Copper'\u001b[0m\u001b[0;34m\u001b[0m\u001b[0;34m\u001b[0m\u001b[0m\n\u001b[0m\u001b[1;32m      3\u001b[0m \u001b[0mprint\u001b[0m\u001b[0;34m(\u001b[0m\u001b[0mfullname\u001b[0m\u001b[0;34m)\u001b[0m\u001b[0;34m\u001b[0m\u001b[0;34m\u001b[0m\u001b[0m\n",
      "\u001b[0;31mTypeError\u001b[0m: 'tuple' object does not support item assignment"
     ]
    }
   ],
   "source": [
    "# Tuples are immutable, so their elements cannot be overwritten\n",
    "fullname[2] = 'Copper'\n",
    "print(fullname)"
   ]
  },
  {
   "cell_type": "code",
   "execution_count": 109,
   "id": "c97dc489-1d61-47d3-b8a5-78607506e861",
   "metadata": {},
   "outputs": [
    {
     "name": "stdout",
     "output_type": "stream",
     "text": [
      "('Masha', 'Z', 'Hopper', 'Jr')\n"
     ]
    }
   ],
   "source": [
    "# You can combine tuples using addition\n",
    "fullname = fullname + ('Jr',)\n",
    "print(fullname)"
   ]
  },
  {
   "cell_type": "code",
   "execution_count": 110,
   "id": "3f243efb-d77f-4922-9681-fc0c75001a86",
   "metadata": {},
   "outputs": [
    {
     "name": "stdout",
     "output_type": "stream",
     "text": [
      "('Masha', 'Z', 'Hopper')\n"
     ]
    }
   ],
   "source": [
    "# The tuple() function converts an object's data type to tuple\n",
    "fullname = ['Masha', 'Z', 'Hopper']\n",
    "fullname = tuple(fullname)\n",
    "print(fullname)"
   ]
  },
  {
   "cell_type": "code",
   "execution_count": 111,
   "id": "c6c22311-8ab8-4cbe-a232-d3b8a8fd1d1d",
   "metadata": {},
   "outputs": [],
   "source": [
    "# Functions that return multiple values return them in a tuple\n",
    "def to_dollars_cents(price):\n",
    "    '''\n",
    "    Split price (float) into dollars and cents.\n",
    "    '''\n",
    "    dollars = int(price // 1)\n",
    "    cents = round(price % 1 * 100)\n",
    "\n",
    "    return dollars, cents"
   ]
  },
  {
   "cell_type": "code",
   "execution_count": 112,
   "id": "641bc58e-f3b5-491a-8bcc-68ca03c91237",
   "metadata": {},
   "outputs": [
    {
     "data": {
      "text/plain": [
       "(6, 55)"
      ]
     },
     "execution_count": 112,
     "metadata": {},
     "output_type": "execute_result"
    }
   ],
   "source": [
    "# Functions that return multiple values return them in a tuple\n",
    "to_dollars_cents(6.55)"
   ]
  },
  {
   "cell_type": "code",
   "execution_count": 113,
   "id": "07e813dd-8926-4682-bb16-0247eedbe928",
   "metadata": {},
   "outputs": [
    {
     "name": "stdout",
     "output_type": "stream",
     "text": [
      "7\n",
      "56\n"
     ]
    }
   ],
   "source": [
    "# \"Unpacking\" a tuple allows a tuple's elements to be assigned to variables\n",
    "dollars, cents = to_dollars_cents(6.55)\n",
    "print(dollars + 1)\n",
    "print(cents + 1)"
   ]
  },
  {
   "cell_type": "code",
   "execution_count": 114,
   "id": "a5f2235f-cd4d-4719-a663-80863129f766",
   "metadata": {},
   "outputs": [
    {
     "data": {
      "text/plain": [
       "int"
      ]
     },
     "execution_count": 114,
     "metadata": {},
     "output_type": "execute_result"
    }
   ],
   "source": [
    "# The data type of an element of an unpacked tuple is not necessarily a tuple\n",
    "type(dollars)"
   ]
  },
  {
   "cell_type": "code",
   "execution_count": 115,
   "id": "e8ee289e-75f2-495f-bb6b-ec191fbd000d",
   "metadata": {},
   "outputs": [],
   "source": [
    "# Create a list of tuples, each representing the name, age, and position of a\n",
    "# player on a basketball team\n",
    "team = [('Marta', 20, 'center'),\n",
    "        ('Ana', 22, 'point guard'),\n",
    "        ('Gabi', 22, 'shooting guard'),\n",
    "        ('Luz', 21, 'power forward'),\n",
    "        ('Lorena', 19, 'small forward'),\n",
    "        ]"
   ]
  },
  {
   "cell_type": "code",
   "execution_count": 116,
   "id": "22b0d18f-bde1-4de9-a643-fb0d42f8b8e1",
   "metadata": {},
   "outputs": [
    {
     "name": "stdout",
     "output_type": "stream",
     "text": [
      "Marta\n",
      "Ana\n",
      "Gabi\n",
      "Luz\n",
      "Lorena\n"
     ]
    }
   ],
   "source": [
    "# Use a for loop to loop over the list, unpack the tuple at each iteration, and\n",
    "# print one of the values\n",
    "for name, age, position in team:\n",
    "    print(name)"
   ]
  },
  {
   "cell_type": "code",
   "execution_count": 117,
   "id": "3d1b8d05-b72b-48f8-8e67-4644afed283f",
   "metadata": {},
   "outputs": [
    {
     "name": "stdout",
     "output_type": "stream",
     "text": [
      "Marta\n",
      "Ana\n",
      "Gabi\n",
      "Luz\n",
      "Lorena\n"
     ]
    }
   ],
   "source": [
    "# This code produces the same result as the code in the cell above\n",
    "for player in team:\n",
    "    print(player[0])"
   ]
  },
  {
   "cell_type": "code",
   "execution_count": 118,
   "id": "982d47df-346b-4f54-98b7-0dc06b818e63",
   "metadata": {},
   "outputs": [],
   "source": [
    "# Create a function to extract and names and positions from the team list and\n",
    "# format them to be printed. Returns a list.\n",
    "def player_position(players):\n",
    "    result = []\n",
    "    for name, age, position in players:\n",
    "        result.append('Name: {:>19} \\nPosition: {:>15}\\n'.format(name, position))\n",
    "\n",
    "    return result"
   ]
  },
  {
   "cell_type": "code",
   "execution_count": 119,
   "id": "346db0cd-ac19-41ad-a78e-9b1715a771af",
   "metadata": {},
   "outputs": [
    {
     "name": "stdout",
     "output_type": "stream",
     "text": [
      "Name:               Marta \n",
      "Position:          center\n",
      "\n",
      "Name:                 Ana \n",
      "Position:     point guard\n",
      "\n",
      "Name:                Gabi \n",
      "Position:  shooting guard\n",
      "\n",
      "Name:                 Luz \n",
      "Position:   power forward\n",
      "\n",
      "Name:              Lorena \n",
      "Position:   small forward\n",
      "\n"
     ]
    }
   ],
   "source": [
    "# Loop over the list of formatted names and positions produced by\n",
    "# player_position() function and print them\n",
    "for player in player_position(team):\n",
    "    print(player)"
   ]
  },
  {
   "cell_type": "code",
   "execution_count": 120,
   "id": "9abc8d5b-a11e-4b8e-90a5-94ad9b7feff5",
   "metadata": {},
   "outputs": [
    {
     "name": "stdout",
     "output_type": "stream",
     "text": [
      "[0|0] [0|1] [0|2] [0|3] [0|4] [0|5] [0|6] \n",
      "\n",
      "[1|1] [1|2] [1|3] [1|4] [1|5] [1|6] \n",
      "\n",
      "[2|2] [2|3] [2|4] [2|5] [2|6] \n",
      "\n",
      "[3|3] [3|4] [3|5] [3|6] \n",
      "\n",
      "[4|4] [4|5] [4|6] \n",
      "\n",
      "[5|5] [5|6] \n",
      "\n",
      "[6|6] \n",
      "\n"
     ]
    }
   ],
   "source": [
    "# Nested loops can produce the different combinations of pips (dots) in\n",
    "# a set of dominoes\n",
    "for left in range(7):\n",
    "    for right in range(left, 7):\n",
    "        print(f\"[{left}|{right}]\", end=\" \")\n",
    "    print('\\n')"
   ]
  },
  {
   "cell_type": "code",
   "execution_count": 121,
   "id": "25c88849-28f6-468e-a940-a1100e94a054",
   "metadata": {},
   "outputs": [
    {
     "data": {
      "text/plain": [
       "[(0, 0),\n",
       " (0, 1),\n",
       " (0, 2),\n",
       " (0, 3),\n",
       " (0, 4),\n",
       " (0, 5),\n",
       " (0, 6),\n",
       " (1, 1),\n",
       " (1, 2),\n",
       " (1, 3),\n",
       " (1, 4),\n",
       " (1, 5),\n",
       " (1, 6),\n",
       " (2, 2),\n",
       " (2, 3),\n",
       " (2, 4),\n",
       " (2, 5),\n",
       " (2, 6),\n",
       " (3, 3),\n",
       " (3, 4),\n",
       " (3, 5),\n",
       " (3, 6),\n",
       " (4, 4),\n",
       " (4, 5),\n",
       " (4, 6),\n",
       " (5, 5),\n",
       " (5, 6),\n",
       " (6, 6)]"
      ]
     },
     "execution_count": 121,
     "metadata": {},
     "output_type": "execute_result"
    }
   ],
   "source": [
    "# Create a list of dominoes, with each domino reprented as a tuple\n",
    "dominoes = []\n",
    "for left in range(7):\n",
    "    for right in range(left, 7):\n",
    "        dominoes.append((left, right))\n",
    "dominoes"
   ]
  },
  {
   "cell_type": "code",
   "execution_count": 122,
   "id": "c299389d-8d66-4e68-9a2b-0d46a282804d",
   "metadata": {},
   "outputs": [
    {
     "data": {
      "text/plain": [
       "4"
      ]
     },
     "execution_count": 122,
     "metadata": {},
     "output_type": "execute_result"
    }
   ],
   "source": [
    "# Select index 1 of the tuple at index 4 in the list of dominoes\n",
    "dominoes[4][1]"
   ]
  },
  {
   "cell_type": "code",
   "execution_count": 123,
   "id": "609a165b-9824-4d26-a75d-36f9a3c3af24",
   "metadata": {},
   "outputs": [
    {
     "name": "stdout",
     "output_type": "stream",
     "text": [
      "[0, 1, 2, 3, 4, 5, 6, 2, 3, 4, 5, 6, 7, 4, 5, 6, 7, 8, 6, 7, 8, 9, 8, 9, 10, 10, 11, 12]\n"
     ]
    }
   ],
   "source": [
    "# You can use a for loop to sum the pips on each domino and append\n",
    "# the sum to a new list\n",
    "pips_from_loop = []\n",
    "for domino in dominoes:\n",
    "    pips_from_loop.append(domino[0] + domino[1])\n",
    "print(pips_from_loop)"
   ]
  },
  {
   "cell_type": "code",
   "execution_count": 124,
   "id": "f14fc857-b8b0-4d96-bfc4-895f92df8a56",
   "metadata": {},
   "outputs": [
    {
     "data": {
      "text/plain": [
       "True"
      ]
     },
     "execution_count": 124,
     "metadata": {},
     "output_type": "execute_result"
    }
   ],
   "source": [
    "# A list comprehension produces the same result with less code\n",
    "pips_from_list_comp = [domino[0] + domino[1] for domino in dominoes]\n",
    "pips_from_loop == pips_from_list_comp"
   ]
  },
  {
   "cell_type": "markdown",
   "id": "c862ed96-1a69-47c3-aaf3-740f3d950c12",
   "metadata": {},
   "source": [
    "### Iterables"
   ]
  },
  {
   "cell_type": "markdown",
   "id": "517b17ea-a14e-458d-806f-0ea059ba35a8",
   "metadata": {},
   "source": [
    "Python's core iterable sequence data structures include strings, lists, and tuples (among others). The table below summarizes the differences between these data types.\n",
    "\n",
    "| Data Type | Syntax | Content | Mutability | Usage |\n",
    "| --- | --- | --- | --- | --- |\n",
    "| String | `\"String\"` | Strings can contain any character--letters, numbers, punctuation marks, spaces--but everything between the opening and closing quotation marks is part of the same simple string. | Immutable: any operation that appears to modify a string actually creates a new string. | Commonly used to represent text data. |\n",
    "| List | `[1, 2, 3, 4]` | Lists can contain any data type, in any combination. So a single list can contain strings, integers, floats, tuples, dictionaries, and other lists. | Mutable | Storing collections of related data <br> Storing collections of items that you want to iterate over <br> Collection of items can must be sorted or searched | \n",
    "| Tuple | `(1, 2, 3)` <br> `tuple()` | Tuples can contain any kind of data and in any combination, including strings, integers, floats, lists, dicts, and other tuples. | Immutable | Returning mutliple values from a function <br> Packing and unpacking sequences <br> Dictionary keys | Data Integrity (immutability) |"
   ]
  },
  {
   "cell_type": "markdown",
   "id": "b2436c3e-5ff9-4c65-9162-3200863ffcd1",
   "metadata": {},
   "source": [
    "The `zip()` function can be used to combine multiple iterables together.\n",
    "\n",
    "`zip(...iterable)`"
   ]
  },
  {
   "cell_type": "code",
   "execution_count": 156,
   "id": "ab627318-32c6-4b58-a9b4-57f153dacb8e",
   "metadata": {},
   "outputs": [
    {
     "data": {
      "text/plain": [
       "[('Pennsylvania', 'Chester'),\n",
       " ('California', 'Orange'),\n",
       " ('New York', 'New York')]"
      ]
     },
     "execution_count": 156,
     "metadata": {},
     "output_type": "execute_result"
    }
   ],
   "source": [
    "# List of states\n",
    "state = ['Pennsylvania', 'California', 'New York']\n",
    "\n",
    "# List of counties\n",
    "counties = ['Chester', 'Orange', 'New York']\n",
    "\n",
    "# `zip()` combines multiple iterables into an iterable of tuples in the form of (list1[0], list2[0], listn[0])\n",
    "state_counties = zip(state, counties)\n",
    "\n",
    "# results in an iterable object (zip)\n",
    "state_counties\n",
    "\n",
    "# convert to a list\n",
    "list(state_counties)"
   ]
  },
  {
   "cell_type": "markdown",
   "id": "3e4fabda-150c-4f88-bd0e-e27a6e51d359",
   "metadata": {},
   "source": [
    "### Dictionaries\n",
    "\n",
    "Dictionaries are useful when you need a data structure to store information that can be referenced or looked up."
   ]
  },
  {
   "cell_type": "code",
   "execution_count": 125,
   "id": "654b2a77-b495-455d-a9eb-ec94df00cdb9",
   "metadata": {},
   "outputs": [
    {
     "data": {
      "text/plain": [
       "'zebras'"
      ]
     },
     "execution_count": 125,
     "metadata": {},
     "output_type": "execute_result"
    }
   ],
   "source": [
    "# Create a dictionary with pens as keys and the animals they contain as values.\n",
    "# Dictionaries can be instantiated using braces.\n",
    "zoo = {\n",
    "    'pen_1': 'penguins',\n",
    "    'pen_2': 'zebras',\n",
    "    'pen_3': 'lions',\n",
    "    }\n",
    "\n",
    "# Selecting the `pen_2` key returns `zebras`--the value stored at that key\n",
    "zoo['pen_2']"
   ]
  },
  {
   "cell_type": "code",
   "execution_count": 126,
   "id": "00368303-f781-4be9-9d74-04f7904b7727",
   "metadata": {},
   "outputs": [
    {
     "ename": "KeyError",
     "evalue": "'zebras'",
     "output_type": "error",
     "traceback": [
      "\u001b[0;31m---------------------------------------------------------------------------\u001b[0m",
      "\u001b[0;31mKeyError\u001b[0m                                  Traceback (most recent call last)",
      "\u001b[0;32m/var/folders/yq/ns90sjt10y724n5d18pd2jj00000gn/T/ipykernel_40033/2608920516.py\u001b[0m in \u001b[0;36m<module>\u001b[0;34m\u001b[0m\n\u001b[1;32m      1\u001b[0m \u001b[0;31m# You cannot access a dictionary's values by name using bracket indexing\u001b[0m\u001b[0;34m\u001b[0m\u001b[0;34m\u001b[0m\u001b[0m\n\u001b[1;32m      2\u001b[0m \u001b[0;31m# because the computer interprets this as a key, not a value\u001b[0m\u001b[0;34m\u001b[0m\u001b[0;34m\u001b[0m\u001b[0m\n\u001b[0;32m----> 3\u001b[0;31m \u001b[0mzoo\u001b[0m\u001b[0;34m[\u001b[0m\u001b[0;34m'zebras'\u001b[0m\u001b[0;34m]\u001b[0m\u001b[0;34m\u001b[0m\u001b[0;34m\u001b[0m\u001b[0m\n\u001b[0m",
      "\u001b[0;31mKeyError\u001b[0m: 'zebras'"
     ]
    }
   ],
   "source": [
    "# You cannot access a dictionary's values by name using bracket indexing\n",
    "# because the computer interprets this as a key, not a value\n",
    "zoo['zebras']"
   ]
  },
  {
   "cell_type": "code",
   "execution_count": 127,
   "id": "00432812-070e-4ba4-a246-61194eb533f6",
   "metadata": {},
   "outputs": [
    {
     "data": {
      "text/plain": [
       "'zebras'"
      ]
     },
     "execution_count": 127,
     "metadata": {},
     "output_type": "execute_result"
    }
   ],
   "source": [
    "# Dictionaries can also be instantiated using the dict() function\n",
    "zoo = dict(\n",
    "    pen_1='monkeys',\n",
    "    pen_2='zebras',\n",
    "    pen_3='lions',\n",
    "    )\n",
    "\n",
    "zoo['pen_2']"
   ]
  },
  {
   "cell_type": "code",
   "execution_count": 128,
   "id": "b273da7b-10b3-4ade-83cd-acfcd42f5a9f",
   "metadata": {},
   "outputs": [
    {
     "data": {
      "text/plain": [
       "'zebras'"
      ]
     },
     "execution_count": 128,
     "metadata": {},
     "output_type": "execute_result"
    }
   ],
   "source": [
    "# Another way to create a dictionary using the dict() function\n",
    "zoo = dict(\n",
    "    [\n",
    "     ['pen_1', 'monkeys'],\n",
    "     ['pen_2', 'zebras'],\n",
    "     ['pen_3', 'lions'],\n",
    "    ]\n",
    ")\n",
    "\n",
    "zoo['pen_2']"
   ]
  },
  {
   "cell_type": "code",
   "execution_count": 129,
   "id": "0f849ea8-9ee8-4d4e-b992-02f6f2b5e39b",
   "metadata": {},
   "outputs": [
    {
     "data": {
      "text/plain": [
       "{'pen_1': 'monkeys',\n",
       " 'pen_2': 'zebras',\n",
       " 'pen_3': 'lions',\n",
       " 'pen_4': 'crocodiles'}"
      ]
     },
     "execution_count": 129,
     "metadata": {},
     "output_type": "execute_result"
    }
   ],
   "source": [
    "# Assign a new key:value pair to an existing dictionary\n",
    "zoo['pen_4'] = 'crocodiles'\n",
    "zoo"
   ]
  },
  {
   "cell_type": "code",
   "execution_count": 130,
   "id": "7d48a727-1607-462e-82da-e0f5e575b143",
   "metadata": {},
   "outputs": [
    {
     "ename": "KeyError",
     "evalue": "2",
     "output_type": "error",
     "traceback": [
      "\u001b[0;31m---------------------------------------------------------------------------\u001b[0m",
      "\u001b[0;31mKeyError\u001b[0m                                  Traceback (most recent call last)",
      "\u001b[0;32m/var/folders/yq/ns90sjt10y724n5d18pd2jj00000gn/T/ipykernel_40033/3978667803.py\u001b[0m in \u001b[0;36m<module>\u001b[0;34m\u001b[0m\n\u001b[1;32m      1\u001b[0m \u001b[0;31m# Dictionaries are unordered and do not support numerical indexing\u001b[0m\u001b[0;34m\u001b[0m\u001b[0;34m\u001b[0m\u001b[0m\n\u001b[0;32m----> 2\u001b[0;31m \u001b[0mzoo\u001b[0m\u001b[0;34m[\u001b[0m\u001b[0;36m2\u001b[0m\u001b[0;34m]\u001b[0m\u001b[0;34m\u001b[0m\u001b[0;34m\u001b[0m\u001b[0m\n\u001b[0m",
      "\u001b[0;31mKeyError\u001b[0m: 2"
     ]
    }
   ],
   "source": [
    "# Dictionaries are unordered and do not support numerical indexing\n",
    "zoo[2]"
   ]
  },
  {
   "cell_type": "code",
   "execution_count": 131,
   "id": "08a98f7c-b671-4dee-aabe-17710c58dcf5",
   "metadata": {},
   "outputs": [
    {
     "name": "stdout",
     "output_type": "stream",
     "text": [
      "True\n",
      "False\n"
     ]
    }
   ],
   "source": [
    "# Use the `in` keyword to produce a Boolean of whether a given key exists in a dictionary\n",
    "print('pen_1' in zoo)\n",
    "print('pen_7' in zoo)"
   ]
  },
  {
   "cell_type": "code",
   "execution_count": 132,
   "id": "d47fa168-f787-4f6b-bdf4-33d32761e0a2",
   "metadata": {},
   "outputs": [],
   "source": [
    "# Create a list of tuples, each representing the name, age, and position of a\n",
    "# player on a basketball team\n",
    "team = [\n",
    "    ('Marta', 20, 'center'),\n",
    "    ('Ana', 22, 'point guard'),\n",
    "    ('Gabi', 22, 'shooting guard'),\n",
    "    ('Luz', 21, 'power forward'),\n",
    "    ('Lorena', 19, 'small forward'),\n",
    "    ]"
   ]
  },
  {
   "cell_type": "code",
   "execution_count": 133,
   "id": "010220cd-e059-4f4d-baf0-fd84b66adf74",
   "metadata": {},
   "outputs": [],
   "source": [
    "# Add new players to the list\n",
    "team = [\n",
    "    ('Marta', 20, 'center'),\n",
    "    ('Ana', 22, 'point guard'),\n",
    "    ('Gabi', 22, 'shooting guard'),\n",
    "    ('Luz', 21, 'power forward'),\n",
    "    ('Lorena', 19, 'small forward'),\n",
    "    ('Sandra', 19, 'center'),\n",
    "    ('Mari', 18, 'point guard'),\n",
    "    ('Esme', 18, 'shooting guard'),\n",
    "    ('Lin', 18, 'power forward'),\n",
    "    ('Sol', 19, 'small forward'),\n",
    "    ]"
   ]
  },
  {
   "cell_type": "code",
   "execution_count": 134,
   "id": "6f990a3a-dfe3-47b0-a8c7-06d51f844b90",
   "metadata": {},
   "outputs": [
    {
     "data": {
      "text/plain": [
       "{'center': [('Marta', 20), ('Sandra', 19)],\n",
       " 'point guard': [('Ana', 22), ('Mari', 18)],\n",
       " 'shooting guard': [('Gabi', 22), ('Esme', 18)],\n",
       " 'power forward': [('Luz', 21), ('Lin', 18)],\n",
       " 'small forward': [('Lorena', 19), ('Sol', 19)]}"
      ]
     },
     "execution_count": 134,
     "metadata": {},
     "output_type": "execute_result"
    }
   ],
   "source": [
    "# Instantiate an empty dictionary\n",
    "new_team = {}\n",
    "\n",
    "# Loop over the tuples in the list of players and unpack their values\n",
    "for name, age, position in team:\n",
    "    if position in new_team:                    # If position already a key in new_team,\n",
    "        new_team[position].append((name, age))  # append (name, age) tup to list at that value\n",
    "    else:\n",
    "        new_team[position] = [(name, age)]      # If position not a key in new_team,\n",
    "                                                # create a new key whose value is a list\n",
    "                                                # containing (name, age) tup\n",
    "new_team"
   ]
  },
  {
   "cell_type": "code",
   "execution_count": 135,
   "id": "498bc772-5f00-4dd4-b3e7-d0e2603b1d22",
   "metadata": {},
   "outputs": [
    {
     "data": {
      "text/plain": [
       "[('Ana', 22), ('Mari', 18)]"
      ]
     },
     "execution_count": 135,
     "metadata": {},
     "output_type": "execute_result"
    }
   ],
   "source": [
    "# Examine the value at the 'point guard' key\n",
    "new_team['point guard']"
   ]
  },
  {
   "cell_type": "code",
   "execution_count": 136,
   "id": "e545bb4e-00ef-49a7-9b8f-6e311e088121",
   "metadata": {},
   "outputs": [
    {
     "name": "stdout",
     "output_type": "stream",
     "text": [
      "center\n",
      "point guard\n",
      "shooting guard\n",
      "power forward\n",
      "small forward\n"
     ]
    }
   ],
   "source": [
    "# You can access the a dictionary's keys by looping over them\n",
    "for x in new_team:\n",
    "    print(x)"
   ]
  },
  {
   "cell_type": "code",
   "execution_count": 137,
   "id": "55ce7e1e-4c36-4cf1-982a-76b2a8e2a2d1",
   "metadata": {},
   "outputs": [
    {
     "data": {
      "text/plain": [
       "dict_keys(['center', 'point guard', 'shooting guard', 'power forward', 'small forward'])"
      ]
     },
     "execution_count": 137,
     "metadata": {},
     "output_type": "execute_result"
    }
   ],
   "source": [
    "# The keys() method returns the keys of a dictionary\n",
    "new_team.keys()"
   ]
  },
  {
   "cell_type": "code",
   "execution_count": 138,
   "id": "eb850870-316e-4b08-a66c-4caede20421b",
   "metadata": {},
   "outputs": [
    {
     "data": {
      "text/plain": [
       "dict_values([[('Marta', 20), ('Sandra', 19)], [('Ana', 22), ('Mari', 18)], [('Gabi', 22), ('Esme', 18)], [('Luz', 21), ('Lin', 18)], [('Lorena', 19), ('Sol', 19)]])"
      ]
     },
     "execution_count": 138,
     "metadata": {},
     "output_type": "execute_result"
    }
   ],
   "source": [
    "# The values() method returns all the values in a dictionary\n",
    "new_team.values()"
   ]
  },
  {
   "cell_type": "code",
   "execution_count": 139,
   "id": "549b8125-46ea-4da6-8a09-13aa00ad14b1",
   "metadata": {},
   "outputs": [
    {
     "name": "stdout",
     "output_type": "stream",
     "text": [
      "center [('Marta', 20), ('Sandra', 19)]\n",
      "point guard [('Ana', 22), ('Mari', 18)]\n",
      "shooting guard [('Gabi', 22), ('Esme', 18)]\n",
      "power forward [('Luz', 21), ('Lin', 18)]\n",
      "small forward [('Lorena', 19), ('Sol', 19)]\n"
     ]
    }
   ],
   "source": [
    "# The items() method returns both the keys and the values\n",
    "for a, b in new_team.items():\n",
    "    print(a, b)"
   ]
  },
  {
   "cell_type": "markdown",
   "id": "c6b72f32-2d5c-4edc-89de-f0fded90b027",
   "metadata": {},
   "source": [
    "### Sets"
   ]
  },
  {
   "cell_type": "code",
   "execution_count": 140,
   "id": "5470cfe6-5302-4bee-b6b2-1996708e70f4",
   "metadata": {},
   "outputs": [
    {
     "name": "stdout",
     "output_type": "stream",
     "text": [
      "{'baz', 'foo', 'bar'}\n"
     ]
    }
   ],
   "source": [
    "# The set() function converts a list to a set\n",
    "x = set(['foo', 'bar', 'baz', 'foo'])\n",
    "print(x)"
   ]
  },
  {
   "cell_type": "code",
   "execution_count": 141,
   "id": "03d3574f-b723-492f-b164-7feba4e3ada7",
   "metadata": {},
   "outputs": [
    {
     "name": "stdout",
     "output_type": "stream",
     "text": [
      "{'baz', 'foo', 'bar'}\n"
     ]
    }
   ],
   "source": [
    "# The set() function converts a tuple to a set\n",
    "x = set(('foo','bar','baz', 'foo'))\n",
    "print(x)"
   ]
  },
  {
   "cell_type": "code",
   "execution_count": 142,
   "id": "193a5a87-bd07-4022-969f-4a288ba3fd2b",
   "metadata": {},
   "outputs": [
    {
     "name": "stdout",
     "output_type": "stream",
     "text": [
      "{'f', 'o'}\n"
     ]
    }
   ],
   "source": [
    "# The set() function converts a string to a set\n",
    "x = set('foo')\n",
    "print(x)"
   ]
  },
  {
   "cell_type": "code",
   "execution_count": 143,
   "id": "38711490-19bf-46db-aecb-e1107fdd0fff",
   "metadata": {},
   "outputs": [
    {
     "name": "stdout",
     "output_type": "stream",
     "text": [
      "<class 'set'>\n",
      "<class 'dict'>\n"
     ]
    }
   ],
   "source": [
    "# You can use braces to instantiate a set\n",
    "x = {'foo'}\n",
    "print(type(x))\n",
    "\n",
    "# But empty braces are reserved for dictionaries\n",
    "y = {}\n",
    "print(type(y))"
   ]
  },
  {
   "cell_type": "code",
   "execution_count": 144,
   "id": "e33f732b-8d07-4c0c-94d9-8895382016d2",
   "metadata": {},
   "outputs": [
    {
     "name": "stdout",
     "output_type": "stream",
     "text": [
      "{'foo'}\n"
     ]
    }
   ],
   "source": [
    "# Instantiating a set with braces treats the contents as literals\n",
    "x = {'foo'}\n",
    "print(x)"
   ]
  },
  {
   "cell_type": "code",
   "execution_count": 145,
   "id": "fa2ba543-deb7-4590-8ebe-32b7a7fbe6d2",
   "metadata": {},
   "outputs": [
    {
     "name": "stdout",
     "output_type": "stream",
     "text": [
      "{4, 5, 6}\n",
      "{4, 5, 6}\n"
     ]
    }
   ],
   "source": [
    "# The intersection() method (&) returns common elements between two sets\n",
    "set1 = {1, 2, 3, 4, 5, 6}\n",
    "set2 = {4, 5, 6, 7, 8, 9}\n",
    "print(set1.intersection(set2))\n",
    "print(set1 & set2)"
   ]
  },
  {
   "cell_type": "code",
   "execution_count": 146,
   "id": "a69c6345-5625-473e-92de-ebf15552ba02",
   "metadata": {},
   "outputs": [
    {
     "name": "stdout",
     "output_type": "stream",
     "text": [
      "{'qux', 'baz', 'quux', 'foo', 'bar'}\n",
      "{'qux', 'baz', 'quux', 'foo', 'bar'}\n"
     ]
    }
   ],
   "source": [
    "# The union() method (|) returns all the elements from two sets, each represented once\n",
    "x1 = {'foo', 'bar', 'baz'}\n",
    "x2 = {'baz', 'qux', 'quux'}\n",
    "print(x1.union(x2))\n",
    "print(x1 | x2)"
   ]
  },
  {
   "cell_type": "code",
   "execution_count": 147,
   "id": "4c8b6eb1-b037-4015-8bd4-9d1e5baa8363",
   "metadata": {},
   "outputs": [
    {
     "name": "stdout",
     "output_type": "stream",
     "text": [
      "{1, 2, 3}\n",
      "{1, 2, 3}\n"
     ]
    }
   ],
   "source": [
    "# The difference() method (-) returns the elements in set1 that aren't in set2\n",
    "set1 = {1, 2, 3, 4, 5, 6}\n",
    "set2 = {4, 5, 6, 7, 8, 9}\n",
    "print(set1.difference(set2))\n",
    "print(set1 - set2)"
   ]
  },
  {
   "cell_type": "code",
   "execution_count": 148,
   "id": "86b21155-d38a-45a9-8e33-42b05a79e734",
   "metadata": {},
   "outputs": [
    {
     "name": "stdout",
     "output_type": "stream",
     "text": [
      "{8, 9, 7}\n",
      "{8, 9, 7}\n"
     ]
    }
   ],
   "source": [
    "# ... and the elements in set2 that aren't in set1\n",
    "print(set2.difference(set1))\n",
    "print(set2 - set1)"
   ]
  },
  {
   "cell_type": "code",
   "execution_count": 149,
   "id": "d2377e7d-6f1e-4869-8757-59dd3ec7ee36",
   "metadata": {},
   "outputs": [
    {
     "data": {
      "text/plain": [
       "{1, 2, 3, 7, 8, 9}"
      ]
     },
     "execution_count": 149,
     "metadata": {},
     "output_type": "execute_result"
    }
   ],
   "source": [
    "# The symmetric_difference() method (^) returns all the values from each set that\n",
    "# are not in both sets.\n",
    "set1 = {1, 2, 3, 4, 5, 6}\n",
    "set2 = {4, 5, 6, 7, 8, 9}\n",
    "set2.symmetric_difference(set1)\n",
    "set2 ^ set1"
   ]
  },
  {
   "cell_type": "markdown",
   "id": "868ca02b-c044-4621-868f-473d72c58fe0",
   "metadata": {},
   "source": [
    "## NumPy"
   ]
  },
  {
   "cell_type": "markdown",
   "id": "15d332d9-1fff-4fe2-87be-c318fed24cf4",
   "metadata": {},
   "source": [
    "NumPy's power comes from *vectorization*, which enables operations to be performed on multiple components of a data object at the same time.\n",
    "\n",
    "Supposed we wanted to create a new list that contains the product of the values of two other lists so that...\n",
    "\n",
    "```\n",
    "r[0] = l1[0] * l2[0]\n",
    "r[1] = l1[1] * l2[1]\n",
    "r[n] = l1[n] * l2[n]\n",
    "```"
   ]
  },
  {
   "cell_type": "code",
   "execution_count": 8,
   "id": "5cc0599c-f9a6-4b79-8d25-252537f69576",
   "metadata": {},
   "outputs": [],
   "source": [
    "list_a = [1, 2, 3]\n",
    "list_b = [2, 4, 6]\n",
    "\n",
    "\n",
    "# Expected result: [2, 8, 18]"
   ]
  },
  {
   "cell_type": "markdown",
   "id": "01347d7d-2f41-461b-9c8d-c52718fcac4a",
   "metadata": {},
   "source": [
    "Given the following lists, we could--naively--use a `for` loop to perform this calculation."
   ]
  },
  {
   "cell_type": "code",
   "execution_count": 13,
   "id": "b401013c-e66c-47f8-acdd-22614d1f48ac",
   "metadata": {},
   "outputs": [
    {
     "data": {
      "text/plain": [
       "[2, 8, 18]"
      ]
     },
     "execution_count": 13,
     "metadata": {},
     "output_type": "execute_result"
    }
   ],
   "source": [
    "result = []\n",
    "for i in range(len(list_a)):\n",
    "    result.append(list_a[i] * list_b[i])\n",
    "    \n",
    "result"
   ]
  },
  {
   "cell_type": "markdown",
   "id": "8368be57-3178-49e1-b721-f208c55314a5",
   "metadata": {},
   "source": [
    "This approach works, but would perform poorly on very large lists.\n",
    "\n",
    "NumPy has ability to perform calculations like this in parallel on large data sets."
   ]
  },
  {
   "cell_type": "code",
   "execution_count": 15,
   "id": "7604f308-3efa-4931-b9ef-d05550881e37",
   "metadata": {},
   "outputs": [
    {
     "data": {
      "text/plain": [
       "array([ 2,  8, 18])"
      ]
     },
     "execution_count": 15,
     "metadata": {},
     "output_type": "execute_result"
    }
   ],
   "source": [
    "import numpy as np\n",
    "\n",
    "# create arrays to represent the input lists\n",
    "array_a = np.array(list_a)\n",
    "array_b = np.array(list_b)\n",
    "\n",
    "# Perform element-wise multiplication between the arrays\n",
    "array_a * array_b"
   ]
  },
  {
   "cell_type": "markdown",
   "id": "7d50433a-73c5-4631-8c30-944a8b108838",
   "metadata": {},
   "source": [
    "### Array Operations\n",
    "\n",
    "The N-dimensional array (`ndarray`) is the core data object of NumPy. `ndarray`s are vectors."
   ]
  },
  {
   "cell_type": "code",
   "execution_count": 16,
   "id": "6de9df7a-a697-473a-b042-6f720f007e8f",
   "metadata": {},
   "outputs": [
    {
     "data": {
      "text/plain": [
       "array([1, 2, 3, 4])"
      ]
     },
     "execution_count": 16,
     "metadata": {},
     "output_type": "execute_result"
    }
   ],
   "source": [
    "import numpy as np\n",
    "\n",
    "# The np.array() function converts an object to an ndarray\n",
    "x = np.array([1, 2, 3, 4])\n",
    "x"
   ]
  },
  {
   "cell_type": "markdown",
   "id": "49989e82-bff1-4d26-a610-0ebc57636ac6",
   "metadata": {},
   "source": [
    "Arrays are mutable which means you can change items in the array. However, arrays are not resizable so you cannot add more items to the array."
   ]
  },
  {
   "cell_type": "code",
   "execution_count": 17,
   "id": "766df448-65bc-4f45-8f6b-a0c1272dfbd8",
   "metadata": {},
   "outputs": [
    {
     "data": {
      "text/plain": [
       "array([1, 2, 3, 5])"
      ]
     },
     "execution_count": 17,
     "metadata": {},
     "output_type": "execute_result"
    }
   ],
   "source": [
    "# Arrays can be indexed\n",
    "x[-1] = 5\n",
    "x"
   ]
  },
  {
   "cell_type": "code",
   "execution_count": 18,
   "id": "3aac46f1-b2b7-4214-939f-ada7e99a438b",
   "metadata": {},
   "outputs": [
    {
     "ename": "IndexError",
     "evalue": "index 4 is out of bounds for axis 0 with size 4",
     "output_type": "error",
     "traceback": [
      "\u001b[0;31m---------------------------------------------------------------------------\u001b[0m",
      "\u001b[0;31mIndexError\u001b[0m                                Traceback (most recent call last)",
      "\u001b[0;32m/var/folders/yq/ns90sjt10y724n5d18pd2jj00000gn/T/ipykernel_64134/2415448014.py\u001b[0m in \u001b[0;36m<module>\u001b[0;34m\u001b[0m\n\u001b[1;32m      1\u001b[0m \u001b[0;31m# Trying to access an index that doesn't exist will throw an error\u001b[0m\u001b[0;34m\u001b[0m\u001b[0;34m\u001b[0m\u001b[0m\n\u001b[0;32m----> 2\u001b[0;31m \u001b[0mx\u001b[0m\u001b[0;34m[\u001b[0m\u001b[0;36m4\u001b[0m\u001b[0;34m]\u001b[0m \u001b[0;34m=\u001b[0m \u001b[0;36m10\u001b[0m\u001b[0;34m\u001b[0m\u001b[0;34m\u001b[0m\u001b[0m\n\u001b[0m",
      "\u001b[0;31mIndexError\u001b[0m: index 4 is out of bounds for axis 0 with size 4"
     ]
    }
   ],
   "source": [
    "# Trying to access an index that doesn't exist will throw an error\n",
    "x[4] = 10"
   ]
  },
  {
   "cell_type": "markdown",
   "id": "be3ee712-3d16-483b-ba01-2c04994ed087",
   "metadata": {},
   "source": [
    "All items in an array must of the same data type. If different typed items are added to an array, NumPy will do its best to convert all items to the same type.\n",
    "\n",
    "In the next example, notice how NumPy converts all items to strings."
   ]
  },
  {
   "cell_type": "code",
   "execution_count": 19,
   "id": "59e5eb68-201a-402f-9bb4-ade2408421c5",
   "metadata": {},
   "outputs": [
    {
     "data": {
      "text/plain": [
       "array(['1', '2', 'coconut'], dtype='<U21')"
      ]
     },
     "execution_count": 19,
     "metadata": {},
     "output_type": "execute_result"
    }
   ],
   "source": [
    "# Arrays cast every element they contain as the same data type\n",
    "arr = np.array([1, 2, 'coconut'])\n",
    "arr"
   ]
  },
  {
   "cell_type": "code",
   "execution_count": 20,
   "id": "de8347b5-8719-4110-ae96-f34ee0d2e13d",
   "metadata": {},
   "outputs": [
    {
     "name": "stdout",
     "output_type": "stream",
     "text": [
      "<class 'numpy.ndarray'>\n"
     ]
    }
   ],
   "source": [
    "# NumPy arrays are a class called `ndarray`\n",
    "print(type(arr))"
   ]
  },
  {
   "cell_type": "markdown",
   "id": "3a293f5e-c0ed-4d89-84da-a2d12c83dd6d",
   "metadata": {},
   "source": [
    "The `dtype` attribute is used to check the data type of the contents of an array."
   ]
  },
  {
   "cell_type": "code",
   "execution_count": 21,
   "id": "57461821-17fb-48d1-990c-00617409eaf6",
   "metadata": {},
   "outputs": [
    {
     "data": {
      "text/plain": [
       "dtype('int64')"
      ]
     },
     "execution_count": 21,
     "metadata": {},
     "output_type": "execute_result"
    }
   ],
   "source": [
    "# The dtype attribute returns the data type of an array's contents\n",
    "arr = np.array([1, 2, 3])\n",
    "arr.dtype"
   ]
  },
  {
   "cell_type": "markdown",
   "id": "3f8cc26b-2af9-46b1-83f1-9fbe356ac07e",
   "metadata": {},
   "source": [
    "As the `ndarray` implies, arrays can be multi-dimensional. A one-dimensional array has neither rows or columns. \n",
    "\n",
    "The `shape` attribute can be used to check the shape of an array.\n",
    "The `ndim` attribute can be used to check the number of dimensions of an array."
   ]
  },
  {
   "cell_type": "code",
   "execution_count": 22,
   "id": "24617781-c9bb-418e-a8e9-a0d90e5ee1d2",
   "metadata": {},
   "outputs": [
    {
     "data": {
      "text/plain": [
       "(3,)"
      ]
     },
     "execution_count": 22,
     "metadata": {},
     "output_type": "execute_result"
    }
   ],
   "source": [
    "# The shape attribute returns the number of elements in each dimension\n",
    "# of an array\n",
    "arr.shape"
   ]
  },
  {
   "cell_type": "code",
   "execution_count": 23,
   "id": "610a2efa-dca8-4af5-a9bf-1f849eb558e4",
   "metadata": {},
   "outputs": [
    {
     "data": {
      "text/plain": [
       "1"
      ]
     },
     "execution_count": 23,
     "metadata": {},
     "output_type": "execute_result"
    }
   ],
   "source": [
    "# The ndim attribute returns the number of dimensions in an array\n",
    "arr.ndim"
   ]
  },
  {
   "cell_type": "code",
   "execution_count": 24,
   "id": "57eda9be-8062-4efc-aacb-6cbe1d518709",
   "metadata": {},
   "outputs": [
    {
     "name": "stdout",
     "output_type": "stream",
     "text": [
      "(4, 2)\n",
      "2\n"
     ]
    },
    {
     "data": {
      "text/plain": [
       "array([[1, 2],\n",
       "       [3, 4],\n",
       "       [5, 6],\n",
       "       [7, 8]])"
      ]
     },
     "execution_count": 24,
     "metadata": {},
     "output_type": "execute_result"
    }
   ],
   "source": [
    "# Create a 2D array by passing a list of lists to np.array() function\n",
    "arr_2d = np.array([[1, 2], [3, 4], [5, 6], [7, 8]])\n",
    "print(arr_2d.shape)\n",
    "print(arr_2d.ndim)\n",
    "arr_2d"
   ]
  },
  {
   "cell_type": "code",
   "execution_count": 25,
   "id": "9071b244-2dbc-4ad7-9fca-df0dc23b7caa",
   "metadata": {},
   "outputs": [
    {
     "name": "stdout",
     "output_type": "stream",
     "text": [
      "(2, 2, 3)\n",
      "3\n"
     ]
    },
    {
     "data": {
      "text/plain": [
       "array([[[1, 2, 3],\n",
       "        [3, 4, 5]],\n",
       "\n",
       "       [[5, 6, 7],\n",
       "        [7, 8, 9]]])"
      ]
     },
     "execution_count": 25,
     "metadata": {},
     "output_type": "execute_result"
    }
   ],
   "source": [
    "# Create a 3D aray by passing a list of two lists of lists to np.array() function\n",
    "arr_3d = np.array([[[1, 2, 3],\n",
    "                   [3, 4, 5]],\n",
    "\n",
    "                  [[5, 6, 7],\n",
    "                   [7, 8, 9]]]\n",
    ")\n",
    "\n",
    "print(arr_3d.shape)\n",
    "print(arr_3d.ndim)\n",
    "arr_3d"
   ]
  },
  {
   "cell_type": "markdown",
   "id": "cb002587-eee7-4737-b8dd-65b3dd5445a2",
   "metadata": {},
   "source": [
    "NumPy allows developers to change the shape of an array using the `reshape()` method."
   ]
  },
  {
   "cell_type": "code",
   "execution_count": 26,
   "id": "585d91ba-a9f0-48e2-b587-11370204c756",
   "metadata": {},
   "outputs": [
    {
     "data": {
      "text/plain": [
       "array([[1, 2, 3, 4],\n",
       "       [5, 6, 7, 8]])"
      ]
     },
     "execution_count": 26,
     "metadata": {},
     "output_type": "execute_result"
    }
   ],
   "source": [
    "# The reshape() method changes the shape of an array\n",
    "arr_2d = arr_2d.reshape(2, 4)\n",
    "arr_2d"
   ]
  },
  {
   "cell_type": "code",
   "execution_count": 27,
   "id": "6e7296ab-8c65-477f-a0d5-b3a13ae6d910",
   "metadata": {},
   "outputs": [
    {
     "data": {
      "text/plain": [
       "3.0"
      ]
     },
     "execution_count": 27,
     "metadata": {},
     "output_type": "execute_result"
    }
   ],
   "source": [
    "# Create new array\n",
    "arr = np.array([1, 2, 3, 4, 5])\n",
    "\n",
    "# The mean() method returns the mean of the elements in an array\n",
    "np.mean(arr)"
   ]
  },
  {
   "cell_type": "code",
   "execution_count": 28,
   "id": "fa6af5c3-22af-4246-a871-fdad3c2976a1",
   "metadata": {},
   "outputs": [
    {
     "data": {
      "text/plain": [
       "array([0.        , 0.69314718, 1.09861229, 1.38629436, 1.60943791])"
      ]
     },
     "execution_count": 28,
     "metadata": {},
     "output_type": "execute_result"
    }
   ],
   "source": [
    "# The log() method returns the natural logarithm of the elements in an array\n",
    "np.log(arr)"
   ]
  },
  {
   "cell_type": "code",
   "execution_count": 29,
   "id": "5d4e61b5-0acc-4432-a3f0-d59afb16f5fa",
   "metadata": {},
   "outputs": [
    {
     "data": {
      "text/plain": [
       "5.0"
      ]
     },
     "execution_count": 29,
     "metadata": {},
     "output_type": "execute_result"
    }
   ],
   "source": [
    "# The floor() method returns the value of a number rounded down\n",
    "# to the nearest integer\n",
    "np.floor(5.7)"
   ]
  },
  {
   "cell_type": "code",
   "execution_count": 30,
   "id": "88a5fbc1-8f63-4e30-bedd-9e995ea0b2d6",
   "metadata": {},
   "outputs": [
    {
     "data": {
      "text/plain": [
       "6.0"
      ]
     },
     "execution_count": 30,
     "metadata": {},
     "output_type": "execute_result"
    }
   ],
   "source": [
    "# The floor() method returns the value of a number rounded up\n",
    "# to the nearest integer\n",
    "np.ceil(5.3)"
   ]
  },
  {
   "cell_type": "markdown",
   "id": "dc91287b-f163-4f5d-aa24-ebf72c7b6954",
   "metadata": {},
   "source": [
    "## Pandas"
   ]
  },
  {
   "cell_type": "code",
   "execution_count": 1,
   "id": "5475595a-bf7d-4642-87de-66f9ca8dccf6",
   "metadata": {},
   "outputs": [],
   "source": [
    "# NumPy and pandas are typically imported together.\n",
    "# np and pd are conventional aliases.\n",
    "import numpy as np\n",
    "import pandas as pd"
   ]
  },
  {
   "cell_type": "code",
   "execution_count": 2,
   "id": "e08de5bb-e9ce-4cf8-835f-6400b049fce5",
   "metadata": {},
   "outputs": [
    {
     "data": {
      "text/html": [
       "<div>\n",
       "<style scoped>\n",
       "    .dataframe tbody tr th:only-of-type {\n",
       "        vertical-align: middle;\n",
       "    }\n",
       "\n",
       "    .dataframe tbody tr th {\n",
       "        vertical-align: top;\n",
       "    }\n",
       "\n",
       "    .dataframe thead th {\n",
       "        text-align: right;\n",
       "    }\n",
       "</style>\n",
       "<table border=\"1\" class=\"dataframe\">\n",
       "  <thead>\n",
       "    <tr style=\"text-align: right;\">\n",
       "      <th></th>\n",
       "      <th>PassengerId</th>\n",
       "      <th>Survived</th>\n",
       "      <th>Pclass</th>\n",
       "      <th>Name</th>\n",
       "      <th>Sex</th>\n",
       "      <th>Age</th>\n",
       "      <th>SibSp</th>\n",
       "      <th>Parch</th>\n",
       "      <th>Ticket</th>\n",
       "      <th>Fare</th>\n",
       "      <th>Cabin</th>\n",
       "      <th>Embarked</th>\n",
       "    </tr>\n",
       "  </thead>\n",
       "  <tbody>\n",
       "    <tr>\n",
       "      <th>0</th>\n",
       "      <td>1</td>\n",
       "      <td>0</td>\n",
       "      <td>3</td>\n",
       "      <td>Braund, Mr. Owen Harris</td>\n",
       "      <td>male</td>\n",
       "      <td>22.0</td>\n",
       "      <td>1</td>\n",
       "      <td>0</td>\n",
       "      <td>A/5 21171</td>\n",
       "      <td>7.2500</td>\n",
       "      <td>NaN</td>\n",
       "      <td>S</td>\n",
       "    </tr>\n",
       "    <tr>\n",
       "      <th>1</th>\n",
       "      <td>2</td>\n",
       "      <td>1</td>\n",
       "      <td>1</td>\n",
       "      <td>Cumings, Mrs. John Bradley (Florence Briggs Th...</td>\n",
       "      <td>female</td>\n",
       "      <td>38.0</td>\n",
       "      <td>1</td>\n",
       "      <td>0</td>\n",
       "      <td>PC 17599</td>\n",
       "      <td>71.2833</td>\n",
       "      <td>C85</td>\n",
       "      <td>C</td>\n",
       "    </tr>\n",
       "    <tr>\n",
       "      <th>2</th>\n",
       "      <td>3</td>\n",
       "      <td>1</td>\n",
       "      <td>3</td>\n",
       "      <td>Heikkinen, Miss. Laina</td>\n",
       "      <td>female</td>\n",
       "      <td>26.0</td>\n",
       "      <td>0</td>\n",
       "      <td>0</td>\n",
       "      <td>STON/O2. 3101282</td>\n",
       "      <td>7.9250</td>\n",
       "      <td>NaN</td>\n",
       "      <td>S</td>\n",
       "    </tr>\n",
       "    <tr>\n",
       "      <th>3</th>\n",
       "      <td>4</td>\n",
       "      <td>1</td>\n",
       "      <td>1</td>\n",
       "      <td>Futrelle, Mrs. Jacques Heath (Lily May Peel)</td>\n",
       "      <td>female</td>\n",
       "      <td>35.0</td>\n",
       "      <td>1</td>\n",
       "      <td>0</td>\n",
       "      <td>113803</td>\n",
       "      <td>53.1000</td>\n",
       "      <td>C123</td>\n",
       "      <td>S</td>\n",
       "    </tr>\n",
       "    <tr>\n",
       "      <th>4</th>\n",
       "      <td>5</td>\n",
       "      <td>0</td>\n",
       "      <td>3</td>\n",
       "      <td>Allen, Mr. William Henry</td>\n",
       "      <td>male</td>\n",
       "      <td>35.0</td>\n",
       "      <td>0</td>\n",
       "      <td>0</td>\n",
       "      <td>373450</td>\n",
       "      <td>8.0500</td>\n",
       "      <td>NaN</td>\n",
       "      <td>S</td>\n",
       "    </tr>\n",
       "    <tr>\n",
       "      <th>5</th>\n",
       "      <td>6</td>\n",
       "      <td>0</td>\n",
       "      <td>3</td>\n",
       "      <td>Moran, Mr. James</td>\n",
       "      <td>male</td>\n",
       "      <td>NaN</td>\n",
       "      <td>0</td>\n",
       "      <td>0</td>\n",
       "      <td>330877</td>\n",
       "      <td>8.4583</td>\n",
       "      <td>NaN</td>\n",
       "      <td>Q</td>\n",
       "    </tr>\n",
       "    <tr>\n",
       "      <th>6</th>\n",
       "      <td>7</td>\n",
       "      <td>0</td>\n",
       "      <td>1</td>\n",
       "      <td>McCarthy, Mr. Timothy J</td>\n",
       "      <td>male</td>\n",
       "      <td>54.0</td>\n",
       "      <td>0</td>\n",
       "      <td>0</td>\n",
       "      <td>17463</td>\n",
       "      <td>51.8625</td>\n",
       "      <td>E46</td>\n",
       "      <td>S</td>\n",
       "    </tr>\n",
       "    <tr>\n",
       "      <th>7</th>\n",
       "      <td>8</td>\n",
       "      <td>0</td>\n",
       "      <td>3</td>\n",
       "      <td>Palsson, Master. Gosta Leonard</td>\n",
       "      <td>male</td>\n",
       "      <td>2.0</td>\n",
       "      <td>3</td>\n",
       "      <td>1</td>\n",
       "      <td>349909</td>\n",
       "      <td>21.0750</td>\n",
       "      <td>NaN</td>\n",
       "      <td>S</td>\n",
       "    </tr>\n",
       "    <tr>\n",
       "      <th>8</th>\n",
       "      <td>9</td>\n",
       "      <td>1</td>\n",
       "      <td>3</td>\n",
       "      <td>Johnson, Mrs. Oscar W (Elisabeth Vilhelmina Berg)</td>\n",
       "      <td>female</td>\n",
       "      <td>27.0</td>\n",
       "      <td>0</td>\n",
       "      <td>2</td>\n",
       "      <td>347742</td>\n",
       "      <td>11.1333</td>\n",
       "      <td>NaN</td>\n",
       "      <td>S</td>\n",
       "    </tr>\n",
       "    <tr>\n",
       "      <th>9</th>\n",
       "      <td>10</td>\n",
       "      <td>1</td>\n",
       "      <td>2</td>\n",
       "      <td>Nasser, Mrs. Nicholas (Adele Achem)</td>\n",
       "      <td>female</td>\n",
       "      <td>14.0</td>\n",
       "      <td>1</td>\n",
       "      <td>0</td>\n",
       "      <td>237736</td>\n",
       "      <td>30.0708</td>\n",
       "      <td>NaN</td>\n",
       "      <td>C</td>\n",
       "    </tr>\n",
       "    <tr>\n",
       "      <th>10</th>\n",
       "      <td>11</td>\n",
       "      <td>1</td>\n",
       "      <td>3</td>\n",
       "      <td>Sandstrom, Miss. Marguerite Rut</td>\n",
       "      <td>female</td>\n",
       "      <td>4.0</td>\n",
       "      <td>1</td>\n",
       "      <td>1</td>\n",
       "      <td>PP 9549</td>\n",
       "      <td>16.7000</td>\n",
       "      <td>G6</td>\n",
       "      <td>S</td>\n",
       "    </tr>\n",
       "    <tr>\n",
       "      <th>11</th>\n",
       "      <td>12</td>\n",
       "      <td>1</td>\n",
       "      <td>1</td>\n",
       "      <td>Bonnell, Miss. Elizabeth</td>\n",
       "      <td>female</td>\n",
       "      <td>58.0</td>\n",
       "      <td>0</td>\n",
       "      <td>0</td>\n",
       "      <td>113783</td>\n",
       "      <td>26.5500</td>\n",
       "      <td>C103</td>\n",
       "      <td>S</td>\n",
       "    </tr>\n",
       "    <tr>\n",
       "      <th>12</th>\n",
       "      <td>13</td>\n",
       "      <td>0</td>\n",
       "      <td>3</td>\n",
       "      <td>Saundercock, Mr. William Henry</td>\n",
       "      <td>male</td>\n",
       "      <td>20.0</td>\n",
       "      <td>0</td>\n",
       "      <td>0</td>\n",
       "      <td>A/5. 2151</td>\n",
       "      <td>8.0500</td>\n",
       "      <td>NaN</td>\n",
       "      <td>S</td>\n",
       "    </tr>\n",
       "    <tr>\n",
       "      <th>13</th>\n",
       "      <td>14</td>\n",
       "      <td>0</td>\n",
       "      <td>3</td>\n",
       "      <td>Andersson, Mr. Anders Johan</td>\n",
       "      <td>male</td>\n",
       "      <td>39.0</td>\n",
       "      <td>1</td>\n",
       "      <td>5</td>\n",
       "      <td>347082</td>\n",
       "      <td>31.2750</td>\n",
       "      <td>NaN</td>\n",
       "      <td>S</td>\n",
       "    </tr>\n",
       "    <tr>\n",
       "      <th>14</th>\n",
       "      <td>15</td>\n",
       "      <td>0</td>\n",
       "      <td>3</td>\n",
       "      <td>Vestrom, Miss. Hulda Amanda Adolfina</td>\n",
       "      <td>female</td>\n",
       "      <td>14.0</td>\n",
       "      <td>0</td>\n",
       "      <td>0</td>\n",
       "      <td>350406</td>\n",
       "      <td>7.8542</td>\n",
       "      <td>NaN</td>\n",
       "      <td>S</td>\n",
       "    </tr>\n",
       "    <tr>\n",
       "      <th>15</th>\n",
       "      <td>16</td>\n",
       "      <td>1</td>\n",
       "      <td>2</td>\n",
       "      <td>Hewlett, Mrs. (Mary D Kingcome)</td>\n",
       "      <td>female</td>\n",
       "      <td>55.0</td>\n",
       "      <td>0</td>\n",
       "      <td>0</td>\n",
       "      <td>248706</td>\n",
       "      <td>16.0000</td>\n",
       "      <td>NaN</td>\n",
       "      <td>S</td>\n",
       "    </tr>\n",
       "    <tr>\n",
       "      <th>16</th>\n",
       "      <td>17</td>\n",
       "      <td>0</td>\n",
       "      <td>3</td>\n",
       "      <td>Rice, Master. Eugene</td>\n",
       "      <td>male</td>\n",
       "      <td>2.0</td>\n",
       "      <td>4</td>\n",
       "      <td>1</td>\n",
       "      <td>382652</td>\n",
       "      <td>29.1250</td>\n",
       "      <td>NaN</td>\n",
       "      <td>Q</td>\n",
       "    </tr>\n",
       "    <tr>\n",
       "      <th>17</th>\n",
       "      <td>18</td>\n",
       "      <td>1</td>\n",
       "      <td>2</td>\n",
       "      <td>Williams, Mr. Charles Eugene</td>\n",
       "      <td>male</td>\n",
       "      <td>NaN</td>\n",
       "      <td>0</td>\n",
       "      <td>0</td>\n",
       "      <td>244373</td>\n",
       "      <td>13.0000</td>\n",
       "      <td>NaN</td>\n",
       "      <td>S</td>\n",
       "    </tr>\n",
       "    <tr>\n",
       "      <th>18</th>\n",
       "      <td>19</td>\n",
       "      <td>0</td>\n",
       "      <td>3</td>\n",
       "      <td>Vander Planke, Mrs. Julius (Emelia Maria Vande...</td>\n",
       "      <td>female</td>\n",
       "      <td>31.0</td>\n",
       "      <td>1</td>\n",
       "      <td>0</td>\n",
       "      <td>345763</td>\n",
       "      <td>18.0000</td>\n",
       "      <td>NaN</td>\n",
       "      <td>S</td>\n",
       "    </tr>\n",
       "    <tr>\n",
       "      <th>19</th>\n",
       "      <td>20</td>\n",
       "      <td>1</td>\n",
       "      <td>3</td>\n",
       "      <td>Masselmani, Mrs. Fatima</td>\n",
       "      <td>female</td>\n",
       "      <td>NaN</td>\n",
       "      <td>0</td>\n",
       "      <td>0</td>\n",
       "      <td>2649</td>\n",
       "      <td>7.2250</td>\n",
       "      <td>NaN</td>\n",
       "      <td>C</td>\n",
       "    </tr>\n",
       "    <tr>\n",
       "      <th>20</th>\n",
       "      <td>21</td>\n",
       "      <td>0</td>\n",
       "      <td>2</td>\n",
       "      <td>Fynney, Mr. Joseph J</td>\n",
       "      <td>male</td>\n",
       "      <td>35.0</td>\n",
       "      <td>0</td>\n",
       "      <td>0</td>\n",
       "      <td>239865</td>\n",
       "      <td>26.0000</td>\n",
       "      <td>NaN</td>\n",
       "      <td>S</td>\n",
       "    </tr>\n",
       "    <tr>\n",
       "      <th>21</th>\n",
       "      <td>22</td>\n",
       "      <td>1</td>\n",
       "      <td>2</td>\n",
       "      <td>Beesley, Mr. Lawrence</td>\n",
       "      <td>male</td>\n",
       "      <td>34.0</td>\n",
       "      <td>0</td>\n",
       "      <td>0</td>\n",
       "      <td>248698</td>\n",
       "      <td>13.0000</td>\n",
       "      <td>D56</td>\n",
       "      <td>S</td>\n",
       "    </tr>\n",
       "    <tr>\n",
       "      <th>22</th>\n",
       "      <td>23</td>\n",
       "      <td>1</td>\n",
       "      <td>3</td>\n",
       "      <td>McGowan, Miss. Anna \"Annie\"</td>\n",
       "      <td>female</td>\n",
       "      <td>15.0</td>\n",
       "      <td>0</td>\n",
       "      <td>0</td>\n",
       "      <td>330923</td>\n",
       "      <td>8.0292</td>\n",
       "      <td>NaN</td>\n",
       "      <td>Q</td>\n",
       "    </tr>\n",
       "    <tr>\n",
       "      <th>23</th>\n",
       "      <td>24</td>\n",
       "      <td>1</td>\n",
       "      <td>1</td>\n",
       "      <td>Sloper, Mr. William Thompson</td>\n",
       "      <td>male</td>\n",
       "      <td>28.0</td>\n",
       "      <td>0</td>\n",
       "      <td>0</td>\n",
       "      <td>113788</td>\n",
       "      <td>35.5000</td>\n",
       "      <td>A6</td>\n",
       "      <td>S</td>\n",
       "    </tr>\n",
       "    <tr>\n",
       "      <th>24</th>\n",
       "      <td>25</td>\n",
       "      <td>0</td>\n",
       "      <td>3</td>\n",
       "      <td>Palsson, Miss. Torborg Danira</td>\n",
       "      <td>female</td>\n",
       "      <td>8.0</td>\n",
       "      <td>3</td>\n",
       "      <td>1</td>\n",
       "      <td>349909</td>\n",
       "      <td>21.0750</td>\n",
       "      <td>NaN</td>\n",
       "      <td>S</td>\n",
       "    </tr>\n",
       "  </tbody>\n",
       "</table>\n",
       "</div>"
      ],
      "text/plain": [
       "    PassengerId  Survived  Pclass  \\\n",
       "0             1         0       3   \n",
       "1             2         1       1   \n",
       "2             3         1       3   \n",
       "3             4         1       1   \n",
       "4             5         0       3   \n",
       "5             6         0       3   \n",
       "6             7         0       1   \n",
       "7             8         0       3   \n",
       "8             9         1       3   \n",
       "9            10         1       2   \n",
       "10           11         1       3   \n",
       "11           12         1       1   \n",
       "12           13         0       3   \n",
       "13           14         0       3   \n",
       "14           15         0       3   \n",
       "15           16         1       2   \n",
       "16           17         0       3   \n",
       "17           18         1       2   \n",
       "18           19         0       3   \n",
       "19           20         1       3   \n",
       "20           21         0       2   \n",
       "21           22         1       2   \n",
       "22           23         1       3   \n",
       "23           24         1       1   \n",
       "24           25         0       3   \n",
       "\n",
       "                                                 Name     Sex   Age  SibSp  \\\n",
       "0                             Braund, Mr. Owen Harris    male  22.0      1   \n",
       "1   Cumings, Mrs. John Bradley (Florence Briggs Th...  female  38.0      1   \n",
       "2                              Heikkinen, Miss. Laina  female  26.0      0   \n",
       "3        Futrelle, Mrs. Jacques Heath (Lily May Peel)  female  35.0      1   \n",
       "4                            Allen, Mr. William Henry    male  35.0      0   \n",
       "5                                    Moran, Mr. James    male   NaN      0   \n",
       "6                             McCarthy, Mr. Timothy J    male  54.0      0   \n",
       "7                      Palsson, Master. Gosta Leonard    male   2.0      3   \n",
       "8   Johnson, Mrs. Oscar W (Elisabeth Vilhelmina Berg)  female  27.0      0   \n",
       "9                 Nasser, Mrs. Nicholas (Adele Achem)  female  14.0      1   \n",
       "10                    Sandstrom, Miss. Marguerite Rut  female   4.0      1   \n",
       "11                           Bonnell, Miss. Elizabeth  female  58.0      0   \n",
       "12                     Saundercock, Mr. William Henry    male  20.0      0   \n",
       "13                        Andersson, Mr. Anders Johan    male  39.0      1   \n",
       "14               Vestrom, Miss. Hulda Amanda Adolfina  female  14.0      0   \n",
       "15                   Hewlett, Mrs. (Mary D Kingcome)   female  55.0      0   \n",
       "16                               Rice, Master. Eugene    male   2.0      4   \n",
       "17                       Williams, Mr. Charles Eugene    male   NaN      0   \n",
       "18  Vander Planke, Mrs. Julius (Emelia Maria Vande...  female  31.0      1   \n",
       "19                            Masselmani, Mrs. Fatima  female   NaN      0   \n",
       "20                               Fynney, Mr. Joseph J    male  35.0      0   \n",
       "21                              Beesley, Mr. Lawrence    male  34.0      0   \n",
       "22                        McGowan, Miss. Anna \"Annie\"  female  15.0      0   \n",
       "23                       Sloper, Mr. William Thompson    male  28.0      0   \n",
       "24                      Palsson, Miss. Torborg Danira  female   8.0      3   \n",
       "\n",
       "    Parch            Ticket     Fare Cabin Embarked  \n",
       "0       0         A/5 21171   7.2500   NaN        S  \n",
       "1       0          PC 17599  71.2833   C85        C  \n",
       "2       0  STON/O2. 3101282   7.9250   NaN        S  \n",
       "3       0            113803  53.1000  C123        S  \n",
       "4       0            373450   8.0500   NaN        S  \n",
       "5       0            330877   8.4583   NaN        Q  \n",
       "6       0             17463  51.8625   E46        S  \n",
       "7       1            349909  21.0750   NaN        S  \n",
       "8       2            347742  11.1333   NaN        S  \n",
       "9       0            237736  30.0708   NaN        C  \n",
       "10      1           PP 9549  16.7000    G6        S  \n",
       "11      0            113783  26.5500  C103        S  \n",
       "12      0         A/5. 2151   8.0500   NaN        S  \n",
       "13      5            347082  31.2750   NaN        S  \n",
       "14      0            350406   7.8542   NaN        S  \n",
       "15      0            248706  16.0000   NaN        S  \n",
       "16      1            382652  29.1250   NaN        Q  \n",
       "17      0            244373  13.0000   NaN        S  \n",
       "18      0            345763  18.0000   NaN        S  \n",
       "19      0              2649   7.2250   NaN        C  \n",
       "20      0            239865  26.0000   NaN        S  \n",
       "21      0            248698  13.0000   D56        S  \n",
       "22      0            330923   8.0292   NaN        Q  \n",
       "23      0            113788  35.5000    A6        S  \n",
       "24      1            349909  21.0750   NaN        S  "
      ]
     },
     "execution_count": 2,
     "metadata": {},
     "output_type": "execute_result"
    }
   ],
   "source": [
    "# Read in data from a .csv file\n",
    "dataframe = pd.read_csv('https://raw.githubusercontent.com/adacert/titanic/main/train.csv')\n",
    "\n",
    "# Print the first 25 rows\n",
    "dataframe.head(25)"
   ]
  },
  {
   "cell_type": "code",
   "execution_count": 3,
   "id": "565d431e-c332-459b-9ed0-e2c9981f3062",
   "metadata": {},
   "outputs": [
    {
     "data": {
      "text/plain": [
       "29.69911764705882"
      ]
     },
     "execution_count": 3,
     "metadata": {},
     "output_type": "execute_result"
    }
   ],
   "source": [
    "# Calculate the mean of the Age column\n",
    "dataframe['Age'].mean()"
   ]
  },
  {
   "cell_type": "code",
   "execution_count": 4,
   "id": "ea59b22f-8594-4f1f-b687-e8017b21cd37",
   "metadata": {},
   "outputs": [
    {
     "data": {
      "text/plain": [
       "80.0"
      ]
     },
     "execution_count": 4,
     "metadata": {},
     "output_type": "execute_result"
    }
   ],
   "source": [
    "# Calculate the maximum value contained in the Age column\n",
    "dataframe['Age'].max()"
   ]
  },
  {
   "cell_type": "code",
   "execution_count": 5,
   "id": "1c094c65-c4dd-437f-baf2-5f4ffeb92af8",
   "metadata": {},
   "outputs": [
    {
     "data": {
      "text/plain": [
       "0.42"
      ]
     },
     "execution_count": 5,
     "metadata": {},
     "output_type": "execute_result"
    }
   ],
   "source": [
    "# Calculate the minimum value contained in the Age column\n",
    "dataframe['Age'].min()"
   ]
  },
  {
   "cell_type": "code",
   "execution_count": 6,
   "id": "3ce2d8d8-a8d8-41d9-9119-a33298680f1b",
   "metadata": {},
   "outputs": [
    {
     "data": {
      "text/plain": [
       "14.526497332334042"
      ]
     },
     "execution_count": 6,
     "metadata": {},
     "output_type": "execute_result"
    }
   ],
   "source": [
    "# Calculate the standard deviation of the values in the Age column\n",
    "dataframe['Age'].std()"
   ]
  },
  {
   "cell_type": "code",
   "execution_count": 7,
   "id": "9376dff3-7a09-4c8d-b9b9-d147ad1152e7",
   "metadata": {},
   "outputs": [
    {
     "data": {
      "text/plain": [
       "Pclass\n",
       "3    491\n",
       "1    216\n",
       "2    184\n",
       "Name: count, dtype: int64"
      ]
     },
     "execution_count": 7,
     "metadata": {},
     "output_type": "execute_result"
    }
   ],
   "source": [
    "# Return the number of rows that share the same value in the Pclass column\n",
    "dataframe['Pclass'].value_counts()"
   ]
  },
  {
   "cell_type": "code",
   "execution_count": 8,
   "id": "27a6e719-8924-4851-acd9-2f311a02e4fa",
   "metadata": {},
   "outputs": [
    {
     "data": {
      "text/html": [
       "<div>\n",
       "<style scoped>\n",
       "    .dataframe tbody tr th:only-of-type {\n",
       "        vertical-align: middle;\n",
       "    }\n",
       "\n",
       "    .dataframe tbody tr th {\n",
       "        vertical-align: top;\n",
       "    }\n",
       "\n",
       "    .dataframe thead th {\n",
       "        text-align: right;\n",
       "    }\n",
       "</style>\n",
       "<table border=\"1\" class=\"dataframe\">\n",
       "  <thead>\n",
       "    <tr style=\"text-align: right;\">\n",
       "      <th></th>\n",
       "      <th>PassengerId</th>\n",
       "      <th>Survived</th>\n",
       "      <th>Pclass</th>\n",
       "      <th>Age</th>\n",
       "      <th>SibSp</th>\n",
       "      <th>Parch</th>\n",
       "      <th>Fare</th>\n",
       "    </tr>\n",
       "  </thead>\n",
       "  <tbody>\n",
       "    <tr>\n",
       "      <th>count</th>\n",
       "      <td>891.000000</td>\n",
       "      <td>891.000000</td>\n",
       "      <td>891.000000</td>\n",
       "      <td>714.000000</td>\n",
       "      <td>891.000000</td>\n",
       "      <td>891.000000</td>\n",
       "      <td>891.000000</td>\n",
       "    </tr>\n",
       "    <tr>\n",
       "      <th>mean</th>\n",
       "      <td>446.000000</td>\n",
       "      <td>0.383838</td>\n",
       "      <td>2.308642</td>\n",
       "      <td>29.699118</td>\n",
       "      <td>0.523008</td>\n",
       "      <td>0.381594</td>\n",
       "      <td>32.204208</td>\n",
       "    </tr>\n",
       "    <tr>\n",
       "      <th>std</th>\n",
       "      <td>257.353842</td>\n",
       "      <td>0.486592</td>\n",
       "      <td>0.836071</td>\n",
       "      <td>14.526497</td>\n",
       "      <td>1.102743</td>\n",
       "      <td>0.806057</td>\n",
       "      <td>49.693429</td>\n",
       "    </tr>\n",
       "    <tr>\n",
       "      <th>min</th>\n",
       "      <td>1.000000</td>\n",
       "      <td>0.000000</td>\n",
       "      <td>1.000000</td>\n",
       "      <td>0.420000</td>\n",
       "      <td>0.000000</td>\n",
       "      <td>0.000000</td>\n",
       "      <td>0.000000</td>\n",
       "    </tr>\n",
       "    <tr>\n",
       "      <th>25%</th>\n",
       "      <td>223.500000</td>\n",
       "      <td>0.000000</td>\n",
       "      <td>2.000000</td>\n",
       "      <td>20.125000</td>\n",
       "      <td>0.000000</td>\n",
       "      <td>0.000000</td>\n",
       "      <td>7.910400</td>\n",
       "    </tr>\n",
       "    <tr>\n",
       "      <th>50%</th>\n",
       "      <td>446.000000</td>\n",
       "      <td>0.000000</td>\n",
       "      <td>3.000000</td>\n",
       "      <td>28.000000</td>\n",
       "      <td>0.000000</td>\n",
       "      <td>0.000000</td>\n",
       "      <td>14.454200</td>\n",
       "    </tr>\n",
       "    <tr>\n",
       "      <th>75%</th>\n",
       "      <td>668.500000</td>\n",
       "      <td>1.000000</td>\n",
       "      <td>3.000000</td>\n",
       "      <td>38.000000</td>\n",
       "      <td>1.000000</td>\n",
       "      <td>0.000000</td>\n",
       "      <td>31.000000</td>\n",
       "    </tr>\n",
       "    <tr>\n",
       "      <th>max</th>\n",
       "      <td>891.000000</td>\n",
       "      <td>1.000000</td>\n",
       "      <td>3.000000</td>\n",
       "      <td>80.000000</td>\n",
       "      <td>8.000000</td>\n",
       "      <td>6.000000</td>\n",
       "      <td>512.329200</td>\n",
       "    </tr>\n",
       "  </tbody>\n",
       "</table>\n",
       "</div>"
      ],
      "text/plain": [
       "       PassengerId    Survived      Pclass         Age       SibSp  \\\n",
       "count   891.000000  891.000000  891.000000  714.000000  891.000000   \n",
       "mean    446.000000    0.383838    2.308642   29.699118    0.523008   \n",
       "std     257.353842    0.486592    0.836071   14.526497    1.102743   \n",
       "min       1.000000    0.000000    1.000000    0.420000    0.000000   \n",
       "25%     223.500000    0.000000    2.000000   20.125000    0.000000   \n",
       "50%     446.000000    0.000000    3.000000   28.000000    0.000000   \n",
       "75%     668.500000    1.000000    3.000000   38.000000    1.000000   \n",
       "max     891.000000    1.000000    3.000000   80.000000    8.000000   \n",
       "\n",
       "            Parch        Fare  \n",
       "count  891.000000  891.000000  \n",
       "mean     0.381594   32.204208  \n",
       "std      0.806057   49.693429  \n",
       "min      0.000000    0.000000  \n",
       "25%      0.000000    7.910400  \n",
       "50%      0.000000   14.454200  \n",
       "75%      0.000000   31.000000  \n",
       "max      6.000000  512.329200  "
      ]
     },
     "execution_count": 8,
     "metadata": {},
     "output_type": "execute_result"
    }
   ],
   "source": [
    "# The describe() method returns summary statistics of the dataframe\n",
    "dataframe.describe()"
   ]
  },
  {
   "cell_type": "code",
   "execution_count": 9,
   "id": "278e67c2-7cd3-4020-ae40-249d57e7c213",
   "metadata": {},
   "outputs": [
    {
     "data": {
      "text/html": [
       "<div>\n",
       "<style scoped>\n",
       "    .dataframe tbody tr th:only-of-type {\n",
       "        vertical-align: middle;\n",
       "    }\n",
       "\n",
       "    .dataframe tbody tr th {\n",
       "        vertical-align: top;\n",
       "    }\n",
       "\n",
       "    .dataframe thead th {\n",
       "        text-align: right;\n",
       "    }\n",
       "</style>\n",
       "<table border=\"1\" class=\"dataframe\">\n",
       "  <thead>\n",
       "    <tr style=\"text-align: right;\">\n",
       "      <th></th>\n",
       "      <th>PassengerId</th>\n",
       "      <th>Survived</th>\n",
       "      <th>Pclass</th>\n",
       "      <th>Name</th>\n",
       "      <th>Sex</th>\n",
       "      <th>Age</th>\n",
       "      <th>SibSp</th>\n",
       "      <th>Parch</th>\n",
       "      <th>Ticket</th>\n",
       "      <th>Fare</th>\n",
       "      <th>Cabin</th>\n",
       "      <th>Embarked</th>\n",
       "    </tr>\n",
       "  </thead>\n",
       "  <tbody>\n",
       "    <tr>\n",
       "      <th>116</th>\n",
       "      <td>117</td>\n",
       "      <td>0</td>\n",
       "      <td>3</td>\n",
       "      <td>Connors, Mr. Patrick</td>\n",
       "      <td>male</td>\n",
       "      <td>70.5</td>\n",
       "      <td>0</td>\n",
       "      <td>0</td>\n",
       "      <td>370369</td>\n",
       "      <td>7.7500</td>\n",
       "      <td>NaN</td>\n",
       "      <td>Q</td>\n",
       "    </tr>\n",
       "    <tr>\n",
       "      <th>280</th>\n",
       "      <td>281</td>\n",
       "      <td>0</td>\n",
       "      <td>3</td>\n",
       "      <td>Duane, Mr. Frank</td>\n",
       "      <td>male</td>\n",
       "      <td>65.0</td>\n",
       "      <td>0</td>\n",
       "      <td>0</td>\n",
       "      <td>336439</td>\n",
       "      <td>7.7500</td>\n",
       "      <td>NaN</td>\n",
       "      <td>Q</td>\n",
       "    </tr>\n",
       "    <tr>\n",
       "      <th>326</th>\n",
       "      <td>327</td>\n",
       "      <td>0</td>\n",
       "      <td>3</td>\n",
       "      <td>Nysveen, Mr. Johan Hansen</td>\n",
       "      <td>male</td>\n",
       "      <td>61.0</td>\n",
       "      <td>0</td>\n",
       "      <td>0</td>\n",
       "      <td>345364</td>\n",
       "      <td>6.2375</td>\n",
       "      <td>NaN</td>\n",
       "      <td>S</td>\n",
       "    </tr>\n",
       "    <tr>\n",
       "      <th>483</th>\n",
       "      <td>484</td>\n",
       "      <td>1</td>\n",
       "      <td>3</td>\n",
       "      <td>Turkula, Mrs. (Hedwig)</td>\n",
       "      <td>female</td>\n",
       "      <td>63.0</td>\n",
       "      <td>0</td>\n",
       "      <td>0</td>\n",
       "      <td>4134</td>\n",
       "      <td>9.5875</td>\n",
       "      <td>NaN</td>\n",
       "      <td>S</td>\n",
       "    </tr>\n",
       "    <tr>\n",
       "      <th>851</th>\n",
       "      <td>852</td>\n",
       "      <td>0</td>\n",
       "      <td>3</td>\n",
       "      <td>Svensson, Mr. Johan</td>\n",
       "      <td>male</td>\n",
       "      <td>74.0</td>\n",
       "      <td>0</td>\n",
       "      <td>0</td>\n",
       "      <td>347060</td>\n",
       "      <td>7.7750</td>\n",
       "      <td>NaN</td>\n",
       "      <td>S</td>\n",
       "    </tr>\n",
       "  </tbody>\n",
       "</table>\n",
       "</div>"
      ],
      "text/plain": [
       "     PassengerId  Survived  Pclass                       Name     Sex   Age  \\\n",
       "116          117         0       3       Connors, Mr. Patrick    male  70.5   \n",
       "280          281         0       3           Duane, Mr. Frank    male  65.0   \n",
       "326          327         0       3  Nysveen, Mr. Johan Hansen    male  61.0   \n",
       "483          484         1       3     Turkula, Mrs. (Hedwig)  female  63.0   \n",
       "851          852         0       3        Svensson, Mr. Johan    male  74.0   \n",
       "\n",
       "     SibSp  Parch  Ticket    Fare Cabin Embarked  \n",
       "116      0      0  370369  7.7500   NaN        Q  \n",
       "280      0      0  336439  7.7500   NaN        Q  \n",
       "326      0      0  345364  6.2375   NaN        S  \n",
       "483      0      0    4134  9.5875   NaN        S  \n",
       "851      0      0  347060  7.7750   NaN        S  "
      ]
     },
     "execution_count": 9,
     "metadata": {},
     "output_type": "execute_result"
    }
   ],
   "source": [
    "# Filter the data to return only rows where value in Age column is greater than 60\n",
    "# and value in Pclass column equals 3\n",
    "dataframe[(dataframe['Age'] > 60) & (dataframe['Pclass'] == 3)]"
   ]
  },
  {
   "cell_type": "code",
   "execution_count": 10,
   "id": "c30e43e4-8528-43c5-b80c-cef7d0e5e4a3",
   "metadata": {},
   "outputs": [
    {
     "data": {
      "text/html": [
       "<div>\n",
       "<style scoped>\n",
       "    .dataframe tbody tr th:only-of-type {\n",
       "        vertical-align: middle;\n",
       "    }\n",
       "\n",
       "    .dataframe tbody tr th {\n",
       "        vertical-align: top;\n",
       "    }\n",
       "\n",
       "    .dataframe thead th {\n",
       "        text-align: right;\n",
       "    }\n",
       "</style>\n",
       "<table border=\"1\" class=\"dataframe\">\n",
       "  <thead>\n",
       "    <tr style=\"text-align: right;\">\n",
       "      <th></th>\n",
       "      <th>PassengerId</th>\n",
       "      <th>Survived</th>\n",
       "      <th>Pclass</th>\n",
       "      <th>Name</th>\n",
       "      <th>Sex</th>\n",
       "      <th>Age</th>\n",
       "      <th>SibSp</th>\n",
       "      <th>Parch</th>\n",
       "      <th>Ticket</th>\n",
       "      <th>Fare</th>\n",
       "      <th>Cabin</th>\n",
       "      <th>Embarked</th>\n",
       "      <th>2023_Fare</th>\n",
       "    </tr>\n",
       "  </thead>\n",
       "  <tbody>\n",
       "    <tr>\n",
       "      <th>0</th>\n",
       "      <td>1</td>\n",
       "      <td>0</td>\n",
       "      <td>3</td>\n",
       "      <td>Braund, Mr. Owen Harris</td>\n",
       "      <td>male</td>\n",
       "      <td>22.0</td>\n",
       "      <td>1</td>\n",
       "      <td>0</td>\n",
       "      <td>A/5 21171</td>\n",
       "      <td>7.2500</td>\n",
       "      <td>NaN</td>\n",
       "      <td>S</td>\n",
       "      <td>1059.515000</td>\n",
       "    </tr>\n",
       "    <tr>\n",
       "      <th>1</th>\n",
       "      <td>2</td>\n",
       "      <td>1</td>\n",
       "      <td>1</td>\n",
       "      <td>Cumings, Mrs. John Bradley (Florence Briggs Th...</td>\n",
       "      <td>female</td>\n",
       "      <td>38.0</td>\n",
       "      <td>1</td>\n",
       "      <td>0</td>\n",
       "      <td>PC 17599</td>\n",
       "      <td>71.2833</td>\n",
       "      <td>C85</td>\n",
       "      <td>C</td>\n",
       "      <td>10417.341462</td>\n",
       "    </tr>\n",
       "    <tr>\n",
       "      <th>2</th>\n",
       "      <td>3</td>\n",
       "      <td>1</td>\n",
       "      <td>3</td>\n",
       "      <td>Heikkinen, Miss. Laina</td>\n",
       "      <td>female</td>\n",
       "      <td>26.0</td>\n",
       "      <td>0</td>\n",
       "      <td>0</td>\n",
       "      <td>STON/O2. 3101282</td>\n",
       "      <td>7.9250</td>\n",
       "      <td>NaN</td>\n",
       "      <td>S</td>\n",
       "      <td>1158.159500</td>\n",
       "    </tr>\n",
       "    <tr>\n",
       "      <th>3</th>\n",
       "      <td>4</td>\n",
       "      <td>1</td>\n",
       "      <td>1</td>\n",
       "      <td>Futrelle, Mrs. Jacques Heath (Lily May Peel)</td>\n",
       "      <td>female</td>\n",
       "      <td>35.0</td>\n",
       "      <td>1</td>\n",
       "      <td>0</td>\n",
       "      <td>113803</td>\n",
       "      <td>53.1000</td>\n",
       "      <td>C123</td>\n",
       "      <td>S</td>\n",
       "      <td>7760.034000</td>\n",
       "    </tr>\n",
       "    <tr>\n",
       "      <th>4</th>\n",
       "      <td>5</td>\n",
       "      <td>0</td>\n",
       "      <td>3</td>\n",
       "      <td>Allen, Mr. William Henry</td>\n",
       "      <td>male</td>\n",
       "      <td>35.0</td>\n",
       "      <td>0</td>\n",
       "      <td>0</td>\n",
       "      <td>373450</td>\n",
       "      <td>8.0500</td>\n",
       "      <td>NaN</td>\n",
       "      <td>S</td>\n",
       "      <td>1176.427000</td>\n",
       "    </tr>\n",
       "    <tr>\n",
       "      <th>...</th>\n",
       "      <td>...</td>\n",
       "      <td>...</td>\n",
       "      <td>...</td>\n",
       "      <td>...</td>\n",
       "      <td>...</td>\n",
       "      <td>...</td>\n",
       "      <td>...</td>\n",
       "      <td>...</td>\n",
       "      <td>...</td>\n",
       "      <td>...</td>\n",
       "      <td>...</td>\n",
       "      <td>...</td>\n",
       "      <td>...</td>\n",
       "    </tr>\n",
       "    <tr>\n",
       "      <th>886</th>\n",
       "      <td>887</td>\n",
       "      <td>0</td>\n",
       "      <td>2</td>\n",
       "      <td>Montvila, Rev. Juozas</td>\n",
       "      <td>male</td>\n",
       "      <td>27.0</td>\n",
       "      <td>0</td>\n",
       "      <td>0</td>\n",
       "      <td>211536</td>\n",
       "      <td>13.0000</td>\n",
       "      <td>NaN</td>\n",
       "      <td>S</td>\n",
       "      <td>1899.820000</td>\n",
       "    </tr>\n",
       "    <tr>\n",
       "      <th>887</th>\n",
       "      <td>888</td>\n",
       "      <td>1</td>\n",
       "      <td>1</td>\n",
       "      <td>Graham, Miss. Margaret Edith</td>\n",
       "      <td>female</td>\n",
       "      <td>19.0</td>\n",
       "      <td>0</td>\n",
       "      <td>0</td>\n",
       "      <td>112053</td>\n",
       "      <td>30.0000</td>\n",
       "      <td>B42</td>\n",
       "      <td>S</td>\n",
       "      <td>4384.200000</td>\n",
       "    </tr>\n",
       "    <tr>\n",
       "      <th>888</th>\n",
       "      <td>889</td>\n",
       "      <td>0</td>\n",
       "      <td>3</td>\n",
       "      <td>Johnston, Miss. Catherine Helen \"Carrie\"</td>\n",
       "      <td>female</td>\n",
       "      <td>NaN</td>\n",
       "      <td>1</td>\n",
       "      <td>2</td>\n",
       "      <td>W./C. 6607</td>\n",
       "      <td>23.4500</td>\n",
       "      <td>NaN</td>\n",
       "      <td>S</td>\n",
       "      <td>3426.983000</td>\n",
       "    </tr>\n",
       "    <tr>\n",
       "      <th>889</th>\n",
       "      <td>890</td>\n",
       "      <td>1</td>\n",
       "      <td>1</td>\n",
       "      <td>Behr, Mr. Karl Howell</td>\n",
       "      <td>male</td>\n",
       "      <td>26.0</td>\n",
       "      <td>0</td>\n",
       "      <td>0</td>\n",
       "      <td>111369</td>\n",
       "      <td>30.0000</td>\n",
       "      <td>C148</td>\n",
       "      <td>C</td>\n",
       "      <td>4384.200000</td>\n",
       "    </tr>\n",
       "    <tr>\n",
       "      <th>890</th>\n",
       "      <td>891</td>\n",
       "      <td>0</td>\n",
       "      <td>3</td>\n",
       "      <td>Dooley, Mr. Patrick</td>\n",
       "      <td>male</td>\n",
       "      <td>32.0</td>\n",
       "      <td>0</td>\n",
       "      <td>0</td>\n",
       "      <td>370376</td>\n",
       "      <td>7.7500</td>\n",
       "      <td>NaN</td>\n",
       "      <td>Q</td>\n",
       "      <td>1132.585000</td>\n",
       "    </tr>\n",
       "  </tbody>\n",
       "</table>\n",
       "<p>891 rows × 13 columns</p>\n",
       "</div>"
      ],
      "text/plain": [
       "     PassengerId  Survived  Pclass  \\\n",
       "0              1         0       3   \n",
       "1              2         1       1   \n",
       "2              3         1       3   \n",
       "3              4         1       1   \n",
       "4              5         0       3   \n",
       "..           ...       ...     ...   \n",
       "886          887         0       2   \n",
       "887          888         1       1   \n",
       "888          889         0       3   \n",
       "889          890         1       1   \n",
       "890          891         0       3   \n",
       "\n",
       "                                                  Name     Sex   Age  SibSp  \\\n",
       "0                              Braund, Mr. Owen Harris    male  22.0      1   \n",
       "1    Cumings, Mrs. John Bradley (Florence Briggs Th...  female  38.0      1   \n",
       "2                               Heikkinen, Miss. Laina  female  26.0      0   \n",
       "3         Futrelle, Mrs. Jacques Heath (Lily May Peel)  female  35.0      1   \n",
       "4                             Allen, Mr. William Henry    male  35.0      0   \n",
       "..                                                 ...     ...   ...    ...   \n",
       "886                              Montvila, Rev. Juozas    male  27.0      0   \n",
       "887                       Graham, Miss. Margaret Edith  female  19.0      0   \n",
       "888           Johnston, Miss. Catherine Helen \"Carrie\"  female   NaN      1   \n",
       "889                              Behr, Mr. Karl Howell    male  26.0      0   \n",
       "890                                Dooley, Mr. Patrick    male  32.0      0   \n",
       "\n",
       "     Parch            Ticket     Fare Cabin Embarked     2023_Fare  \n",
       "0        0         A/5 21171   7.2500   NaN        S   1059.515000  \n",
       "1        0          PC 17599  71.2833   C85        C  10417.341462  \n",
       "2        0  STON/O2. 3101282   7.9250   NaN        S   1158.159500  \n",
       "3        0            113803  53.1000  C123        S   7760.034000  \n",
       "4        0            373450   8.0500   NaN        S   1176.427000  \n",
       "..     ...               ...      ...   ...      ...           ...  \n",
       "886      0            211536  13.0000   NaN        S   1899.820000  \n",
       "887      0            112053  30.0000   B42        S   4384.200000  \n",
       "888      2        W./C. 6607  23.4500   NaN        S   3426.983000  \n",
       "889      0            111369  30.0000  C148        C   4384.200000  \n",
       "890      0            370376   7.7500   NaN        Q   1132.585000  \n",
       "\n",
       "[891 rows x 13 columns]"
      ]
     },
     "execution_count": 10,
     "metadata": {},
     "output_type": "execute_result"
    }
   ],
   "source": [
    "# Create a new column called 2023_Fare that contains the inflation-adjusted\n",
    "# fare of each ticket in 2023 pounds\n",
    "dataframe['2023_Fare'] = dataframe['Fare'] * 146.14\n",
    "dataframe"
   ]
  },
  {
   "cell_type": "code",
   "execution_count": 11,
   "id": "823130a0-2cd3-491c-9940-58effed6d298",
   "metadata": {},
   "outputs": [
    {
     "data": {
      "text/plain": [
       "'Cumings, Mrs. John Bradley (Florence Briggs Thayer)'"
      ]
     },
     "execution_count": 11,
     "metadata": {},
     "output_type": "execute_result"
    }
   ],
   "source": [
    "# Use iloc to access data using index numbers.\n",
    "# Select row 1, column 3.\n",
    "dataframe.iloc[1][3]"
   ]
  },
  {
   "cell_type": "code",
   "execution_count": 12,
   "id": "d27617ae-3fa1-42dc-9cdf-04bf507566c5",
   "metadata": {},
   "outputs": [
    {
     "data": {
      "text/html": [
       "<div>\n",
       "<style scoped>\n",
       "    .dataframe tbody tr th:only-of-type {\n",
       "        vertical-align: middle;\n",
       "    }\n",
       "\n",
       "    .dataframe tbody tr th {\n",
       "        vertical-align: top;\n",
       "    }\n",
       "\n",
       "    .dataframe thead tr th {\n",
       "        text-align: left;\n",
       "    }\n",
       "\n",
       "    .dataframe thead tr:last-of-type th {\n",
       "        text-align: right;\n",
       "    }\n",
       "</style>\n",
       "<table border=\"1\" class=\"dataframe\">\n",
       "  <thead>\n",
       "    <tr>\n",
       "      <th></th>\n",
       "      <th></th>\n",
       "      <th colspan=\"2\" halign=\"left\">Fare</th>\n",
       "      <th>fare_avg</th>\n",
       "    </tr>\n",
       "    <tr>\n",
       "      <th></th>\n",
       "      <th></th>\n",
       "      <th>count</th>\n",
       "      <th>sum</th>\n",
       "      <th></th>\n",
       "    </tr>\n",
       "    <tr>\n",
       "      <th>Sex</th>\n",
       "      <th>Pclass</th>\n",
       "      <th></th>\n",
       "      <th></th>\n",
       "      <th></th>\n",
       "    </tr>\n",
       "  </thead>\n",
       "  <tbody>\n",
       "    <tr>\n",
       "      <th rowspan=\"3\" valign=\"top\">female</th>\n",
       "      <th>1</th>\n",
       "      <td>94</td>\n",
       "      <td>9975.8250</td>\n",
       "      <td>106.125798</td>\n",
       "    </tr>\n",
       "    <tr>\n",
       "      <th>2</th>\n",
       "      <td>76</td>\n",
       "      <td>1669.7292</td>\n",
       "      <td>21.970121</td>\n",
       "    </tr>\n",
       "    <tr>\n",
       "      <th>3</th>\n",
       "      <td>144</td>\n",
       "      <td>2321.1086</td>\n",
       "      <td>16.118810</td>\n",
       "    </tr>\n",
       "    <tr>\n",
       "      <th rowspan=\"3\" valign=\"top\">male</th>\n",
       "      <th>1</th>\n",
       "      <td>122</td>\n",
       "      <td>8201.5875</td>\n",
       "      <td>67.226127</td>\n",
       "    </tr>\n",
       "    <tr>\n",
       "      <th>2</th>\n",
       "      <td>108</td>\n",
       "      <td>2132.1125</td>\n",
       "      <td>19.741782</td>\n",
       "    </tr>\n",
       "    <tr>\n",
       "      <th>3</th>\n",
       "      <td>347</td>\n",
       "      <td>4393.5865</td>\n",
       "      <td>12.661633</td>\n",
       "    </tr>\n",
       "  </tbody>\n",
       "</table>\n",
       "</div>"
      ],
      "text/plain": [
       "               Fare               fare_avg\n",
       "              count        sum            \n",
       "Sex    Pclass                             \n",
       "female 1         94  9975.8250  106.125798\n",
       "       2         76  1669.7292   21.970121\n",
       "       3        144  2321.1086   16.118810\n",
       "male   1        122  8201.5875   67.226127\n",
       "       2        108  2132.1125   19.741782\n",
       "       3        347  4393.5865   12.661633"
      ]
     },
     "execution_count": 12,
     "metadata": {},
     "output_type": "execute_result"
    }
   ],
   "source": [
    "# Group customers by Sex and Pclass and calculate the total paid for each group\n",
    "# and the mean price paid for each group\n",
    "fare = dataframe.groupby(['Sex', 'Pclass']).agg({'Fare': ['count', 'sum']})\n",
    "fare['fare_avg'] = fare['Fare']['sum'] / fare['Fare']['count']\n",
    "fare"
   ]
  },
  {
   "cell_type": "code",
   "execution_count": 13,
   "id": "77e199d9-9d36-424d-a3c5-dd8fd91a988d",
   "metadata": {},
   "outputs": [
    {
     "data": {
      "text/html": [
       "<div>\n",
       "<style scoped>\n",
       "    .dataframe tbody tr th:only-of-type {\n",
       "        vertical-align: middle;\n",
       "    }\n",
       "\n",
       "    .dataframe tbody tr th {\n",
       "        vertical-align: top;\n",
       "    }\n",
       "\n",
       "    .dataframe thead th {\n",
       "        text-align: right;\n",
       "    }\n",
       "</style>\n",
       "<table border=\"1\" class=\"dataframe\">\n",
       "  <thead>\n",
       "    <tr style=\"text-align: right;\">\n",
       "      <th></th>\n",
       "      <th>col1</th>\n",
       "      <th>col2</th>\n",
       "    </tr>\n",
       "  </thead>\n",
       "  <tbody>\n",
       "    <tr>\n",
       "      <th>0</th>\n",
       "      <td>1</td>\n",
       "      <td>3</td>\n",
       "    </tr>\n",
       "    <tr>\n",
       "      <th>1</th>\n",
       "      <td>2</td>\n",
       "      <td>4</td>\n",
       "    </tr>\n",
       "  </tbody>\n",
       "</table>\n",
       "</div>"
      ],
      "text/plain": [
       "   col1  col2\n",
       "0     1     3\n",
       "1     2     4"
      ]
     },
     "execution_count": 13,
     "metadata": {},
     "output_type": "execute_result"
    }
   ],
   "source": [
    "import pandas as pd\n",
    "\n",
    "# Use pd.DataFrame() function to create a dataframe from a dictionary\n",
    "data = {'col1': [1, 2], 'col2': [3, 4]}\n",
    "df = pd.DataFrame(data=data)\n",
    "df"
   ]
  },
  {
   "cell_type": "code",
   "execution_count": 14,
   "id": "64683fb9-549d-4cae-b280-39b6d09e4518",
   "metadata": {},
   "outputs": [
    {
     "data": {
      "text/html": [
       "<div>\n",
       "<style scoped>\n",
       "    .dataframe tbody tr th:only-of-type {\n",
       "        vertical-align: middle;\n",
       "    }\n",
       "\n",
       "    .dataframe tbody tr th {\n",
       "        vertical-align: top;\n",
       "    }\n",
       "\n",
       "    .dataframe thead th {\n",
       "        text-align: right;\n",
       "    }\n",
       "</style>\n",
       "<table border=\"1\" class=\"dataframe\">\n",
       "  <thead>\n",
       "    <tr style=\"text-align: right;\">\n",
       "      <th></th>\n",
       "      <th>a</th>\n",
       "      <th>b</th>\n",
       "      <th>c</th>\n",
       "    </tr>\n",
       "  </thead>\n",
       "  <tbody>\n",
       "    <tr>\n",
       "      <th>x</th>\n",
       "      <td>1</td>\n",
       "      <td>2</td>\n",
       "      <td>3</td>\n",
       "    </tr>\n",
       "    <tr>\n",
       "      <th>y</th>\n",
       "      <td>4</td>\n",
       "      <td>5</td>\n",
       "      <td>6</td>\n",
       "    </tr>\n",
       "    <tr>\n",
       "      <th>z</th>\n",
       "      <td>7</td>\n",
       "      <td>8</td>\n",
       "      <td>9</td>\n",
       "    </tr>\n",
       "  </tbody>\n",
       "</table>\n",
       "</div>"
      ],
      "text/plain": [
       "   a  b  c\n",
       "x  1  2  3\n",
       "y  4  5  6\n",
       "z  7  8  9"
      ]
     },
     "execution_count": 14,
     "metadata": {},
     "output_type": "execute_result"
    }
   ],
   "source": [
    "# Use pd.DataFrame() function to create a dataframe from a numpy array\n",
    "df2 = pd.DataFrame(np.array([[1, 2, 3], [4, 5, 6], [7, 8, 9]]),\n",
    "                   columns=['a', 'b', 'c'], index=['x', 'y', 'z'])\n",
    "df2"
   ]
  },
  {
   "cell_type": "code",
   "execution_count": 17,
   "id": "427adf8c-2327-42ac-a0ae-dd86e73d7d09",
   "metadata": {},
   "outputs": [
    {
     "data": {
      "text/html": [
       "<div>\n",
       "<style scoped>\n",
       "    .dataframe tbody tr th:only-of-type {\n",
       "        vertical-align: middle;\n",
       "    }\n",
       "\n",
       "    .dataframe tbody tr th {\n",
       "        vertical-align: top;\n",
       "    }\n",
       "\n",
       "    .dataframe thead th {\n",
       "        text-align: right;\n",
       "    }\n",
       "</style>\n",
       "<table border=\"1\" class=\"dataframe\">\n",
       "  <thead>\n",
       "    <tr style=\"text-align: right;\">\n",
       "      <th></th>\n",
       "      <th>PassengerId</th>\n",
       "      <th>Survived</th>\n",
       "      <th>Pclass</th>\n",
       "      <th>Name</th>\n",
       "      <th>Sex</th>\n",
       "      <th>Age</th>\n",
       "      <th>SibSp</th>\n",
       "      <th>Parch</th>\n",
       "      <th>Ticket</th>\n",
       "      <th>Fare</th>\n",
       "      <th>Cabin</th>\n",
       "      <th>Embarked</th>\n",
       "    </tr>\n",
       "  </thead>\n",
       "  <tbody>\n",
       "    <tr>\n",
       "      <th>0</th>\n",
       "      <td>1</td>\n",
       "      <td>0</td>\n",
       "      <td>3</td>\n",
       "      <td>Braund, Mr. Owen Harris</td>\n",
       "      <td>male</td>\n",
       "      <td>22.0</td>\n",
       "      <td>1</td>\n",
       "      <td>0</td>\n",
       "      <td>A/5 21171</td>\n",
       "      <td>7.2500</td>\n",
       "      <td>NaN</td>\n",
       "      <td>S</td>\n",
       "    </tr>\n",
       "    <tr>\n",
       "      <th>1</th>\n",
       "      <td>2</td>\n",
       "      <td>1</td>\n",
       "      <td>1</td>\n",
       "      <td>Cumings, Mrs. John Bradley (Florence Briggs Th...</td>\n",
       "      <td>female</td>\n",
       "      <td>38.0</td>\n",
       "      <td>1</td>\n",
       "      <td>0</td>\n",
       "      <td>PC 17599</td>\n",
       "      <td>71.2833</td>\n",
       "      <td>C85</td>\n",
       "      <td>C</td>\n",
       "    </tr>\n",
       "    <tr>\n",
       "      <th>2</th>\n",
       "      <td>3</td>\n",
       "      <td>1</td>\n",
       "      <td>3</td>\n",
       "      <td>Heikkinen, Miss. Laina</td>\n",
       "      <td>female</td>\n",
       "      <td>26.0</td>\n",
       "      <td>0</td>\n",
       "      <td>0</td>\n",
       "      <td>STON/O2. 3101282</td>\n",
       "      <td>7.9250</td>\n",
       "      <td>NaN</td>\n",
       "      <td>S</td>\n",
       "    </tr>\n",
       "    <tr>\n",
       "      <th>3</th>\n",
       "      <td>4</td>\n",
       "      <td>1</td>\n",
       "      <td>1</td>\n",
       "      <td>Futrelle, Mrs. Jacques Heath (Lily May Peel)</td>\n",
       "      <td>female</td>\n",
       "      <td>35.0</td>\n",
       "      <td>1</td>\n",
       "      <td>0</td>\n",
       "      <td>113803</td>\n",
       "      <td>53.1000</td>\n",
       "      <td>C123</td>\n",
       "      <td>S</td>\n",
       "    </tr>\n",
       "    <tr>\n",
       "      <th>4</th>\n",
       "      <td>5</td>\n",
       "      <td>0</td>\n",
       "      <td>3</td>\n",
       "      <td>Allen, Mr. William Henry</td>\n",
       "      <td>male</td>\n",
       "      <td>35.0</td>\n",
       "      <td>0</td>\n",
       "      <td>0</td>\n",
       "      <td>373450</td>\n",
       "      <td>8.0500</td>\n",
       "      <td>NaN</td>\n",
       "      <td>S</td>\n",
       "    </tr>\n",
       "  </tbody>\n",
       "</table>\n",
       "</div>"
      ],
      "text/plain": [
       "   PassengerId  Survived  Pclass  \\\n",
       "0            1         0       3   \n",
       "1            2         1       1   \n",
       "2            3         1       3   \n",
       "3            4         1       1   \n",
       "4            5         0       3   \n",
       "\n",
       "                                                Name     Sex   Age  SibSp  \\\n",
       "0                            Braund, Mr. Owen Harris    male  22.0      1   \n",
       "1  Cumings, Mrs. John Bradley (Florence Briggs Th...  female  38.0      1   \n",
       "2                             Heikkinen, Miss. Laina  female  26.0      0   \n",
       "3       Futrelle, Mrs. Jacques Heath (Lily May Peel)  female  35.0      1   \n",
       "4                           Allen, Mr. William Henry    male  35.0      0   \n",
       "\n",
       "   Parch            Ticket     Fare Cabin Embarked  \n",
       "0      0         A/5 21171   7.2500   NaN        S  \n",
       "1      0          PC 17599  71.2833   C85        C  \n",
       "2      0  STON/O2. 3101282   7.9250   NaN        S  \n",
       "3      0            113803  53.1000  C123        S  \n",
       "4      0            373450   8.0500   NaN        S  "
      ]
     },
     "execution_count": 17,
     "metadata": {},
     "output_type": "execute_result"
    }
   ],
   "source": [
    "# Use pd.read_csv() function to create a dataframe from a .csv file\n",
    "# from a URL or filepath\n",
    "df3 = pd.read_csv('https://raw.githubusercontent.com/adacert/titanic/main/train.csv')\n",
    "df3.head()"
   ]
  },
  {
   "cell_type": "code",
   "execution_count": 19,
   "id": "db45b010-9734-4d7d-81cc-c21aa36f196d",
   "metadata": {},
   "outputs": [
    {
     "name": "stdout",
     "output_type": "stream",
     "text": [
      "<class 'pandas.core.series.Series'>\n",
      "<class 'pandas.core.series.Series'>\n"
     ]
    }
   ],
   "source": [
    "# Print class of first row\n",
    "print(type(df3.iloc[0]))\n",
    "\n",
    "# Print class of \"Name\" column\n",
    "print(type(df3['Name']))"
   ]
  },
  {
   "cell_type": "code",
   "execution_count": 20,
   "id": "e962ecee-6cea-4455-bdf5-b8da73069206",
   "metadata": {},
   "outputs": [
    {
     "data": {
      "text/html": [
       "<div>\n",
       "<style scoped>\n",
       "    .dataframe tbody tr th:only-of-type {\n",
       "        vertical-align: middle;\n",
       "    }\n",
       "\n",
       "    .dataframe tbody tr th {\n",
       "        vertical-align: top;\n",
       "    }\n",
       "\n",
       "    .dataframe thead th {\n",
       "        text-align: right;\n",
       "    }\n",
       "</style>\n",
       "<table border=\"1\" class=\"dataframe\">\n",
       "  <thead>\n",
       "    <tr style=\"text-align: right;\">\n",
       "      <th></th>\n",
       "      <th>PassengerId</th>\n",
       "      <th>Survived</th>\n",
       "      <th>Pclass</th>\n",
       "      <th>Name</th>\n",
       "      <th>Sex</th>\n",
       "      <th>Age</th>\n",
       "      <th>SibSp</th>\n",
       "      <th>Parch</th>\n",
       "      <th>Ticket</th>\n",
       "      <th>Fare</th>\n",
       "      <th>Cabin</th>\n",
       "      <th>Embarked</th>\n",
       "    </tr>\n",
       "  </thead>\n",
       "  <tbody>\n",
       "    <tr>\n",
       "      <th>0</th>\n",
       "      <td>1</td>\n",
       "      <td>0</td>\n",
       "      <td>3</td>\n",
       "      <td>Braund, Mr. Owen Harris</td>\n",
       "      <td>male</td>\n",
       "      <td>22.0</td>\n",
       "      <td>1</td>\n",
       "      <td>0</td>\n",
       "      <td>A/5 21171</td>\n",
       "      <td>7.2500</td>\n",
       "      <td>NaN</td>\n",
       "      <td>S</td>\n",
       "    </tr>\n",
       "    <tr>\n",
       "      <th>1</th>\n",
       "      <td>2</td>\n",
       "      <td>1</td>\n",
       "      <td>1</td>\n",
       "      <td>Cumings, Mrs. John Bradley (Florence Briggs Th...</td>\n",
       "      <td>female</td>\n",
       "      <td>38.0</td>\n",
       "      <td>1</td>\n",
       "      <td>0</td>\n",
       "      <td>PC 17599</td>\n",
       "      <td>71.2833</td>\n",
       "      <td>C85</td>\n",
       "      <td>C</td>\n",
       "    </tr>\n",
       "    <tr>\n",
       "      <th>2</th>\n",
       "      <td>3</td>\n",
       "      <td>1</td>\n",
       "      <td>3</td>\n",
       "      <td>Heikkinen, Miss. Laina</td>\n",
       "      <td>female</td>\n",
       "      <td>26.0</td>\n",
       "      <td>0</td>\n",
       "      <td>0</td>\n",
       "      <td>STON/O2. 3101282</td>\n",
       "      <td>7.9250</td>\n",
       "      <td>NaN</td>\n",
       "      <td>S</td>\n",
       "    </tr>\n",
       "    <tr>\n",
       "      <th>3</th>\n",
       "      <td>4</td>\n",
       "      <td>1</td>\n",
       "      <td>1</td>\n",
       "      <td>Futrelle, Mrs. Jacques Heath (Lily May Peel)</td>\n",
       "      <td>female</td>\n",
       "      <td>35.0</td>\n",
       "      <td>1</td>\n",
       "      <td>0</td>\n",
       "      <td>113803</td>\n",
       "      <td>53.1000</td>\n",
       "      <td>C123</td>\n",
       "      <td>S</td>\n",
       "    </tr>\n",
       "    <tr>\n",
       "      <th>4</th>\n",
       "      <td>5</td>\n",
       "      <td>0</td>\n",
       "      <td>3</td>\n",
       "      <td>Allen, Mr. William Henry</td>\n",
       "      <td>male</td>\n",
       "      <td>35.0</td>\n",
       "      <td>0</td>\n",
       "      <td>0</td>\n",
       "      <td>373450</td>\n",
       "      <td>8.0500</td>\n",
       "      <td>NaN</td>\n",
       "      <td>S</td>\n",
       "    </tr>\n",
       "  </tbody>\n",
       "</table>\n",
       "</div>"
      ],
      "text/plain": [
       "   PassengerId  Survived  Pclass  \\\n",
       "0            1         0       3   \n",
       "1            2         1       1   \n",
       "2            3         1       3   \n",
       "3            4         1       1   \n",
       "4            5         0       3   \n",
       "\n",
       "                                                Name     Sex   Age  SibSp  \\\n",
       "0                            Braund, Mr. Owen Harris    male  22.0      1   \n",
       "1  Cumings, Mrs. John Bradley (Florence Briggs Th...  female  38.0      1   \n",
       "2                             Heikkinen, Miss. Laina  female  26.0      0   \n",
       "3       Futrelle, Mrs. Jacques Heath (Lily May Peel)  female  35.0      1   \n",
       "4                           Allen, Mr. William Henry    male  35.0      0   \n",
       "\n",
       "   Parch            Ticket     Fare Cabin Embarked  \n",
       "0      0         A/5 21171   7.2500   NaN        S  \n",
       "1      0          PC 17599  71.2833   C85        C  \n",
       "2      0  STON/O2. 3101282   7.9250   NaN        S  \n",
       "3      0            113803  53.1000  C123        S  \n",
       "4      0            373450   8.0500   NaN        S  "
      ]
     },
     "execution_count": 20,
     "metadata": {},
     "output_type": "execute_result"
    }
   ],
   "source": [
    "# Create a copy of df3 named 'titanic'\n",
    "titanic = df3\n",
    "\n",
    "# The head() method outputs the first 5 rows of dataframe\n",
    "titanic.head()"
   ]
  },
  {
   "cell_type": "code",
   "execution_count": 21,
   "id": "585a8ef6-dedc-4eb7-b717-3b9ed74dfb92",
   "metadata": {},
   "outputs": [
    {
     "data": {
      "text/plain": [
       "Index(['PassengerId', 'Survived', 'Pclass', 'Name', 'Sex', 'Age', 'SibSp',\n",
       "       'Parch', 'Ticket', 'Fare', 'Cabin', 'Embarked'],\n",
       "      dtype='object')"
      ]
     },
     "execution_count": 21,
     "metadata": {},
     "output_type": "execute_result"
    }
   ],
   "source": [
    "# The columns attribute returns an Index object containing the dataframe's columns\n",
    "titanic.columns"
   ]
  },
  {
   "cell_type": "code",
   "execution_count": 22,
   "id": "cc2de6cb-e595-4448-bd87-8dbc216b69ee",
   "metadata": {},
   "outputs": [
    {
     "data": {
      "text/plain": [
       "(891, 12)"
      ]
     },
     "execution_count": 22,
     "metadata": {},
     "output_type": "execute_result"
    }
   ],
   "source": [
    "# The shape attribute returns the shape of the dataframe (rows, columns)\n",
    "titanic.shape"
   ]
  },
  {
   "cell_type": "code",
   "execution_count": 23,
   "id": "c4458e01-c942-4e0e-8e9c-6c8d99118195",
   "metadata": {},
   "outputs": [
    {
     "name": "stdout",
     "output_type": "stream",
     "text": [
      "<class 'pandas.core.frame.DataFrame'>\n",
      "RangeIndex: 891 entries, 0 to 890\n",
      "Data columns (total 12 columns):\n",
      " #   Column       Non-Null Count  Dtype  \n",
      "---  ------       --------------  -----  \n",
      " 0   PassengerId  891 non-null    int64  \n",
      " 1   Survived     891 non-null    int64  \n",
      " 2   Pclass       891 non-null    int64  \n",
      " 3   Name         891 non-null    object \n",
      " 4   Sex          891 non-null    object \n",
      " 5   Age          714 non-null    float64\n",
      " 6   SibSp        891 non-null    int64  \n",
      " 7   Parch        891 non-null    int64  \n",
      " 8   Ticket       891 non-null    object \n",
      " 9   Fare         891 non-null    float64\n",
      " 10  Cabin        204 non-null    object \n",
      " 11  Embarked     889 non-null    object \n",
      "dtypes: float64(2), int64(5), object(5)\n",
      "memory usage: 83.7+ KB\n"
     ]
    }
   ],
   "source": [
    "# The info() method returns summary information about the dataframe\n",
    "titanic.info()"
   ]
  },
  {
   "cell_type": "code",
   "execution_count": 24,
   "id": "5466a852-ee2e-4ac8-a36f-e06eca35a962",
   "metadata": {},
   "outputs": [
    {
     "data": {
      "text/plain": [
       "0      22.0\n",
       "1      38.0\n",
       "2      26.0\n",
       "3      35.0\n",
       "4      35.0\n",
       "       ... \n",
       "886    27.0\n",
       "887    19.0\n",
       "888     NaN\n",
       "889    26.0\n",
       "890    32.0\n",
       "Name: Age, Length: 891, dtype: float64"
      ]
     },
     "execution_count": 24,
     "metadata": {},
     "output_type": "execute_result"
    }
   ],
   "source": [
    "# You can select a column by name using brackets\n",
    "titanic['Age']"
   ]
  },
  {
   "cell_type": "code",
   "execution_count": 25,
   "id": "7dca4a62-63f8-4127-bd93-f3f81bf50592",
   "metadata": {},
   "outputs": [
    {
     "data": {
      "text/plain": [
       "0      22.0\n",
       "1      38.0\n",
       "2      26.0\n",
       "3      35.0\n",
       "4      35.0\n",
       "       ... \n",
       "886    27.0\n",
       "887    19.0\n",
       "888     NaN\n",
       "889    26.0\n",
       "890    32.0\n",
       "Name: Age, Length: 891, dtype: float64"
      ]
     },
     "execution_count": 25,
     "metadata": {},
     "output_type": "execute_result"
    }
   ],
   "source": [
    "# You can select a column by name using dot notation\n",
    "# only when its name contains no spaces or special characters\n",
    "titanic.Age"
   ]
  },
  {
   "cell_type": "code",
   "execution_count": 26,
   "id": "e923b647-e002-4350-b733-588edfcba3e0",
   "metadata": {},
   "outputs": [
    {
     "data": {
      "text/html": [
       "<div>\n",
       "<style scoped>\n",
       "    .dataframe tbody tr th:only-of-type {\n",
       "        vertical-align: middle;\n",
       "    }\n",
       "\n",
       "    .dataframe tbody tr th {\n",
       "        vertical-align: top;\n",
       "    }\n",
       "\n",
       "    .dataframe thead th {\n",
       "        text-align: right;\n",
       "    }\n",
       "</style>\n",
       "<table border=\"1\" class=\"dataframe\">\n",
       "  <thead>\n",
       "    <tr style=\"text-align: right;\">\n",
       "      <th></th>\n",
       "      <th>Name</th>\n",
       "      <th>Age</th>\n",
       "    </tr>\n",
       "  </thead>\n",
       "  <tbody>\n",
       "    <tr>\n",
       "      <th>0</th>\n",
       "      <td>Braund, Mr. Owen Harris</td>\n",
       "      <td>22.0</td>\n",
       "    </tr>\n",
       "    <tr>\n",
       "      <th>1</th>\n",
       "      <td>Cumings, Mrs. John Bradley (Florence Briggs Th...</td>\n",
       "      <td>38.0</td>\n",
       "    </tr>\n",
       "    <tr>\n",
       "      <th>2</th>\n",
       "      <td>Heikkinen, Miss. Laina</td>\n",
       "      <td>26.0</td>\n",
       "    </tr>\n",
       "    <tr>\n",
       "      <th>3</th>\n",
       "      <td>Futrelle, Mrs. Jacques Heath (Lily May Peel)</td>\n",
       "      <td>35.0</td>\n",
       "    </tr>\n",
       "    <tr>\n",
       "      <th>4</th>\n",
       "      <td>Allen, Mr. William Henry</td>\n",
       "      <td>35.0</td>\n",
       "    </tr>\n",
       "    <tr>\n",
       "      <th>...</th>\n",
       "      <td>...</td>\n",
       "      <td>...</td>\n",
       "    </tr>\n",
       "    <tr>\n",
       "      <th>886</th>\n",
       "      <td>Montvila, Rev. Juozas</td>\n",
       "      <td>27.0</td>\n",
       "    </tr>\n",
       "    <tr>\n",
       "      <th>887</th>\n",
       "      <td>Graham, Miss. Margaret Edith</td>\n",
       "      <td>19.0</td>\n",
       "    </tr>\n",
       "    <tr>\n",
       "      <th>888</th>\n",
       "      <td>Johnston, Miss. Catherine Helen \"Carrie\"</td>\n",
       "      <td>NaN</td>\n",
       "    </tr>\n",
       "    <tr>\n",
       "      <th>889</th>\n",
       "      <td>Behr, Mr. Karl Howell</td>\n",
       "      <td>26.0</td>\n",
       "    </tr>\n",
       "    <tr>\n",
       "      <th>890</th>\n",
       "      <td>Dooley, Mr. Patrick</td>\n",
       "      <td>32.0</td>\n",
       "    </tr>\n",
       "  </tbody>\n",
       "</table>\n",
       "<p>891 rows × 2 columns</p>\n",
       "</div>"
      ],
      "text/plain": [
       "                                                  Name   Age\n",
       "0                              Braund, Mr. Owen Harris  22.0\n",
       "1    Cumings, Mrs. John Bradley (Florence Briggs Th...  38.0\n",
       "2                               Heikkinen, Miss. Laina  26.0\n",
       "3         Futrelle, Mrs. Jacques Heath (Lily May Peel)  35.0\n",
       "4                             Allen, Mr. William Henry  35.0\n",
       "..                                                 ...   ...\n",
       "886                              Montvila, Rev. Juozas  27.0\n",
       "887                       Graham, Miss. Margaret Edith  19.0\n",
       "888           Johnston, Miss. Catherine Helen \"Carrie\"   NaN\n",
       "889                              Behr, Mr. Karl Howell  26.0\n",
       "890                                Dooley, Mr. Patrick  32.0\n",
       "\n",
       "[891 rows x 2 columns]"
      ]
     },
     "execution_count": 26,
     "metadata": {},
     "output_type": "execute_result"
    }
   ],
   "source": [
    "# You can create a DataFrame object of specific columns using a list\n",
    "# of column names inside brackets\n",
    "titanic[['Name', 'Age']]"
   ]
  },
  {
   "cell_type": "code",
   "execution_count": 27,
   "id": "93bdfd44-5fab-406a-a021-43403888bafd",
   "metadata": {},
   "outputs": [
    {
     "data": {
      "text/html": [
       "<div>\n",
       "<style scoped>\n",
       "    .dataframe tbody tr th:only-of-type {\n",
       "        vertical-align: middle;\n",
       "    }\n",
       "\n",
       "    .dataframe tbody tr th {\n",
       "        vertical-align: top;\n",
       "    }\n",
       "\n",
       "    .dataframe thead th {\n",
       "        text-align: right;\n",
       "    }\n",
       "</style>\n",
       "<table border=\"1\" class=\"dataframe\">\n",
       "  <thead>\n",
       "    <tr style=\"text-align: right;\">\n",
       "      <th></th>\n",
       "      <th>PassengerId</th>\n",
       "      <th>Survived</th>\n",
       "      <th>Pclass</th>\n",
       "      <th>Name</th>\n",
       "      <th>Sex</th>\n",
       "      <th>Age</th>\n",
       "      <th>SibSp</th>\n",
       "      <th>Parch</th>\n",
       "      <th>Ticket</th>\n",
       "      <th>Fare</th>\n",
       "      <th>Cabin</th>\n",
       "      <th>Embarked</th>\n",
       "    </tr>\n",
       "  </thead>\n",
       "  <tbody>\n",
       "    <tr>\n",
       "      <th>0</th>\n",
       "      <td>1</td>\n",
       "      <td>0</td>\n",
       "      <td>3</td>\n",
       "      <td>Braund, Mr. Owen Harris</td>\n",
       "      <td>male</td>\n",
       "      <td>22.0</td>\n",
       "      <td>1</td>\n",
       "      <td>0</td>\n",
       "      <td>A/5 21171</td>\n",
       "      <td>7.25</td>\n",
       "      <td>NaN</td>\n",
       "      <td>S</td>\n",
       "    </tr>\n",
       "  </tbody>\n",
       "</table>\n",
       "</div>"
      ],
      "text/plain": [
       "   PassengerId  Survived  Pclass                     Name   Sex   Age  SibSp  \\\n",
       "0            1         0       3  Braund, Mr. Owen Harris  male  22.0      1   \n",
       "\n",
       "   Parch     Ticket  Fare Cabin Embarked  \n",
       "0      0  A/5 21171  7.25   NaN        S  "
      ]
     },
     "execution_count": 27,
     "metadata": {},
     "output_type": "execute_result"
    }
   ],
   "source": [
    "# Use iloc to return a DataFrame view of the data in row 0\n",
    "titanic.iloc[[0]]"
   ]
  },
  {
   "cell_type": "code",
   "execution_count": 28,
   "id": "293b9ba6-331b-400d-9648-981fd4b1424c",
   "metadata": {},
   "outputs": [
    {
     "data": {
      "text/html": [
       "<div>\n",
       "<style scoped>\n",
       "    .dataframe tbody tr th:only-of-type {\n",
       "        vertical-align: middle;\n",
       "    }\n",
       "\n",
       "    .dataframe tbody tr th {\n",
       "        vertical-align: top;\n",
       "    }\n",
       "\n",
       "    .dataframe thead th {\n",
       "        text-align: right;\n",
       "    }\n",
       "</style>\n",
       "<table border=\"1\" class=\"dataframe\">\n",
       "  <thead>\n",
       "    <tr style=\"text-align: right;\">\n",
       "      <th></th>\n",
       "      <th>PassengerId</th>\n",
       "      <th>Survived</th>\n",
       "      <th>Pclass</th>\n",
       "      <th>Name</th>\n",
       "      <th>Sex</th>\n",
       "      <th>Age</th>\n",
       "      <th>SibSp</th>\n",
       "      <th>Parch</th>\n",
       "      <th>Ticket</th>\n",
       "      <th>Fare</th>\n",
       "      <th>Cabin</th>\n",
       "      <th>Embarked</th>\n",
       "    </tr>\n",
       "  </thead>\n",
       "  <tbody>\n",
       "    <tr>\n",
       "      <th>0</th>\n",
       "      <td>1</td>\n",
       "      <td>0</td>\n",
       "      <td>3</td>\n",
       "      <td>Braund, Mr. Owen Harris</td>\n",
       "      <td>male</td>\n",
       "      <td>22.0</td>\n",
       "      <td>1</td>\n",
       "      <td>0</td>\n",
       "      <td>A/5 21171</td>\n",
       "      <td>7.2500</td>\n",
       "      <td>NaN</td>\n",
       "      <td>S</td>\n",
       "    </tr>\n",
       "    <tr>\n",
       "      <th>1</th>\n",
       "      <td>2</td>\n",
       "      <td>1</td>\n",
       "      <td>1</td>\n",
       "      <td>Cumings, Mrs. John Bradley (Florence Briggs Th...</td>\n",
       "      <td>female</td>\n",
       "      <td>38.0</td>\n",
       "      <td>1</td>\n",
       "      <td>0</td>\n",
       "      <td>PC 17599</td>\n",
       "      <td>71.2833</td>\n",
       "      <td>C85</td>\n",
       "      <td>C</td>\n",
       "    </tr>\n",
       "    <tr>\n",
       "      <th>2</th>\n",
       "      <td>3</td>\n",
       "      <td>1</td>\n",
       "      <td>3</td>\n",
       "      <td>Heikkinen, Miss. Laina</td>\n",
       "      <td>female</td>\n",
       "      <td>26.0</td>\n",
       "      <td>0</td>\n",
       "      <td>0</td>\n",
       "      <td>STON/O2. 3101282</td>\n",
       "      <td>7.9250</td>\n",
       "      <td>NaN</td>\n",
       "      <td>S</td>\n",
       "    </tr>\n",
       "  </tbody>\n",
       "</table>\n",
       "</div>"
      ],
      "text/plain": [
       "   PassengerId  Survived  Pclass  \\\n",
       "0            1         0       3   \n",
       "1            2         1       1   \n",
       "2            3         1       3   \n",
       "\n",
       "                                                Name     Sex   Age  SibSp  \\\n",
       "0                            Braund, Mr. Owen Harris    male  22.0      1   \n",
       "1  Cumings, Mrs. John Bradley (Florence Briggs Th...  female  38.0      1   \n",
       "2                             Heikkinen, Miss. Laina  female  26.0      0   \n",
       "\n",
       "   Parch            Ticket     Fare Cabin Embarked  \n",
       "0      0         A/5 21171   7.2500   NaN        S  \n",
       "1      0          PC 17599  71.2833   C85        C  \n",
       "2      0  STON/O2. 3101282   7.9250   NaN        S  "
      ]
     },
     "execution_count": 28,
     "metadata": {},
     "output_type": "execute_result"
    }
   ],
   "source": [
    "# Use iloc to return a DataFrame view of the data in rows 0, 1, 2\n",
    "titanic.iloc[0:3]"
   ]
  },
  {
   "cell_type": "code",
   "execution_count": 29,
   "id": "1a4cfb76-fa2a-452a-863b-410c1e347f8b",
   "metadata": {},
   "outputs": [
    {
     "data": {
      "text/html": [
       "<div>\n",
       "<style scoped>\n",
       "    .dataframe tbody tr th:only-of-type {\n",
       "        vertical-align: middle;\n",
       "    }\n",
       "\n",
       "    .dataframe tbody tr th {\n",
       "        vertical-align: top;\n",
       "    }\n",
       "\n",
       "    .dataframe thead th {\n",
       "        text-align: right;\n",
       "    }\n",
       "</style>\n",
       "<table border=\"1\" class=\"dataframe\">\n",
       "  <thead>\n",
       "    <tr style=\"text-align: right;\">\n",
       "      <th></th>\n",
       "      <th>Name</th>\n",
       "      <th>Sex</th>\n",
       "    </tr>\n",
       "  </thead>\n",
       "  <tbody>\n",
       "    <tr>\n",
       "      <th>0</th>\n",
       "      <td>Braund, Mr. Owen Harris</td>\n",
       "      <td>male</td>\n",
       "    </tr>\n",
       "    <tr>\n",
       "      <th>1</th>\n",
       "      <td>Cumings, Mrs. John Bradley (Florence Briggs Th...</td>\n",
       "      <td>female</td>\n",
       "    </tr>\n",
       "    <tr>\n",
       "      <th>2</th>\n",
       "      <td>Heikkinen, Miss. Laina</td>\n",
       "      <td>female</td>\n",
       "    </tr>\n",
       "  </tbody>\n",
       "</table>\n",
       "</div>"
      ],
      "text/plain": [
       "                                                Name     Sex\n",
       "0                            Braund, Mr. Owen Harris    male\n",
       "1  Cumings, Mrs. John Bradley (Florence Briggs Th...  female\n",
       "2                             Heikkinen, Miss. Laina  female"
      ]
     },
     "execution_count": 29,
     "metadata": {},
     "output_type": "execute_result"
    }
   ],
   "source": [
    "# Use iloc to return a DataFrame view of rows 0-2 at columns 3 and 4\n",
    "titanic.iloc[0:3, [3, 4]]"
   ]
  },
  {
   "cell_type": "code",
   "execution_count": 30,
   "id": "2d1c1c0b-1941-40d1-88f5-d1fc18d01796",
   "metadata": {},
   "outputs": [
    {
     "data": {
      "text/html": [
       "<div>\n",
       "<style scoped>\n",
       "    .dataframe tbody tr th:only-of-type {\n",
       "        vertical-align: middle;\n",
       "    }\n",
       "\n",
       "    .dataframe tbody tr th {\n",
       "        vertical-align: top;\n",
       "    }\n",
       "\n",
       "    .dataframe thead th {\n",
       "        text-align: right;\n",
       "    }\n",
       "</style>\n",
       "<table border=\"1\" class=\"dataframe\">\n",
       "  <thead>\n",
       "    <tr style=\"text-align: right;\">\n",
       "      <th></th>\n",
       "      <th>Name</th>\n",
       "    </tr>\n",
       "  </thead>\n",
       "  <tbody>\n",
       "    <tr>\n",
       "      <th>0</th>\n",
       "      <td>Braund, Mr. Owen Harris</td>\n",
       "    </tr>\n",
       "    <tr>\n",
       "      <th>1</th>\n",
       "      <td>Cumings, Mrs. John Bradley (Florence Briggs Th...</td>\n",
       "    </tr>\n",
       "    <tr>\n",
       "      <th>2</th>\n",
       "      <td>Heikkinen, Miss. Laina</td>\n",
       "    </tr>\n",
       "    <tr>\n",
       "      <th>3</th>\n",
       "      <td>Futrelle, Mrs. Jacques Heath (Lily May Peel)</td>\n",
       "    </tr>\n",
       "    <tr>\n",
       "      <th>4</th>\n",
       "      <td>Allen, Mr. William Henry</td>\n",
       "    </tr>\n",
       "    <tr>\n",
       "      <th>...</th>\n",
       "      <td>...</td>\n",
       "    </tr>\n",
       "    <tr>\n",
       "      <th>886</th>\n",
       "      <td>Montvila, Rev. Juozas</td>\n",
       "    </tr>\n",
       "    <tr>\n",
       "      <th>887</th>\n",
       "      <td>Graham, Miss. Margaret Edith</td>\n",
       "    </tr>\n",
       "    <tr>\n",
       "      <th>888</th>\n",
       "      <td>Johnston, Miss. Catherine Helen \"Carrie\"</td>\n",
       "    </tr>\n",
       "    <tr>\n",
       "      <th>889</th>\n",
       "      <td>Behr, Mr. Karl Howell</td>\n",
       "    </tr>\n",
       "    <tr>\n",
       "      <th>890</th>\n",
       "      <td>Dooley, Mr. Patrick</td>\n",
       "    </tr>\n",
       "  </tbody>\n",
       "</table>\n",
       "<p>891 rows × 1 columns</p>\n",
       "</div>"
      ],
      "text/plain": [
       "                                                  Name\n",
       "0                              Braund, Mr. Owen Harris\n",
       "1    Cumings, Mrs. John Bradley (Florence Briggs Th...\n",
       "2                               Heikkinen, Miss. Laina\n",
       "3         Futrelle, Mrs. Jacques Heath (Lily May Peel)\n",
       "4                             Allen, Mr. William Henry\n",
       "..                                                 ...\n",
       "886                              Montvila, Rev. Juozas\n",
       "887                       Graham, Miss. Margaret Edith\n",
       "888           Johnston, Miss. Catherine Helen \"Carrie\"\n",
       "889                              Behr, Mr. Karl Howell\n",
       "890                                Dooley, Mr. Patrick\n",
       "\n",
       "[891 rows x 1 columns]"
      ]
     },
     "execution_count": 30,
     "metadata": {},
     "output_type": "execute_result"
    }
   ],
   "source": [
    "# Use iloc to return a DataFrame view of all rows at column 3\n",
    "titanic.iloc[:, [3]]"
   ]
  },
  {
   "cell_type": "code",
   "execution_count": 31,
   "id": "c0f6899e-5793-4489-a0e2-db6df1bfc32d",
   "metadata": {},
   "outputs": [
    {
     "data": {
      "text/plain": [
       "'Braund, Mr. Owen Harris'"
      ]
     },
     "execution_count": 31,
     "metadata": {},
     "output_type": "execute_result"
    }
   ],
   "source": [
    "# Use iloc to access value in row 0, column 3\n",
    "titanic.iloc[0, 3]"
   ]
  },
  {
   "cell_type": "code",
   "execution_count": 32,
   "id": "f4ab9f5d-ecac-490c-b184-395c054ce173",
   "metadata": {},
   "outputs": [
    {
     "data": {
      "text/html": [
       "<div>\n",
       "<style scoped>\n",
       "    .dataframe tbody tr th:only-of-type {\n",
       "        vertical-align: middle;\n",
       "    }\n",
       "\n",
       "    .dataframe tbody tr th {\n",
       "        vertical-align: top;\n",
       "    }\n",
       "\n",
       "    .dataframe thead th {\n",
       "        text-align: right;\n",
       "    }\n",
       "</style>\n",
       "<table border=\"1\" class=\"dataframe\">\n",
       "  <thead>\n",
       "    <tr style=\"text-align: right;\">\n",
       "      <th></th>\n",
       "      <th>Name</th>\n",
       "    </tr>\n",
       "  </thead>\n",
       "  <tbody>\n",
       "    <tr>\n",
       "      <th>0</th>\n",
       "      <td>Braund, Mr. Owen Harris</td>\n",
       "    </tr>\n",
       "    <tr>\n",
       "      <th>1</th>\n",
       "      <td>Cumings, Mrs. John Bradley (Florence Briggs Th...</td>\n",
       "    </tr>\n",
       "    <tr>\n",
       "      <th>2</th>\n",
       "      <td>Heikkinen, Miss. Laina</td>\n",
       "    </tr>\n",
       "    <tr>\n",
       "      <th>3</th>\n",
       "      <td>Futrelle, Mrs. Jacques Heath (Lily May Peel)</td>\n",
       "    </tr>\n",
       "  </tbody>\n",
       "</table>\n",
       "</div>"
      ],
      "text/plain": [
       "                                                Name\n",
       "0                            Braund, Mr. Owen Harris\n",
       "1  Cumings, Mrs. John Bradley (Florence Briggs Th...\n",
       "2                             Heikkinen, Miss. Laina\n",
       "3       Futrelle, Mrs. Jacques Heath (Lily May Peel)"
      ]
     },
     "execution_count": 32,
     "metadata": {},
     "output_type": "execute_result"
    }
   ],
   "source": [
    "# Use loc to access values in rows 0-3 at just the Name column\n",
    "titanic.loc[0:3, ['Name']]"
   ]
  },
  {
   "cell_type": "code",
   "execution_count": 33,
   "id": "18ef4ce8-99dc-41fa-ba58-de7cd2b9fc8f",
   "metadata": {},
   "outputs": [
    {
     "data": {
      "text/html": [
       "<div>\n",
       "<style scoped>\n",
       "    .dataframe tbody tr th:only-of-type {\n",
       "        vertical-align: middle;\n",
       "    }\n",
       "\n",
       "    .dataframe tbody tr th {\n",
       "        vertical-align: top;\n",
       "    }\n",
       "\n",
       "    .dataframe thead th {\n",
       "        text-align: right;\n",
       "    }\n",
       "</style>\n",
       "<table border=\"1\" class=\"dataframe\">\n",
       "  <thead>\n",
       "    <tr style=\"text-align: right;\">\n",
       "      <th></th>\n",
       "      <th>PassengerId</th>\n",
       "      <th>Survived</th>\n",
       "      <th>Pclass</th>\n",
       "      <th>Name</th>\n",
       "      <th>Sex</th>\n",
       "      <th>Age</th>\n",
       "      <th>SibSp</th>\n",
       "      <th>Parch</th>\n",
       "      <th>Ticket</th>\n",
       "      <th>Fare</th>\n",
       "      <th>Cabin</th>\n",
       "      <th>Embarked</th>\n",
       "      <th>Age_plus_100</th>\n",
       "    </tr>\n",
       "  </thead>\n",
       "  <tbody>\n",
       "    <tr>\n",
       "      <th>0</th>\n",
       "      <td>1</td>\n",
       "      <td>0</td>\n",
       "      <td>3</td>\n",
       "      <td>Braund, Mr. Owen Harris</td>\n",
       "      <td>male</td>\n",
       "      <td>22.0</td>\n",
       "      <td>1</td>\n",
       "      <td>0</td>\n",
       "      <td>A/5 21171</td>\n",
       "      <td>7.2500</td>\n",
       "      <td>NaN</td>\n",
       "      <td>S</td>\n",
       "      <td>122.0</td>\n",
       "    </tr>\n",
       "    <tr>\n",
       "      <th>1</th>\n",
       "      <td>2</td>\n",
       "      <td>1</td>\n",
       "      <td>1</td>\n",
       "      <td>Cumings, Mrs. John Bradley (Florence Briggs Th...</td>\n",
       "      <td>female</td>\n",
       "      <td>38.0</td>\n",
       "      <td>1</td>\n",
       "      <td>0</td>\n",
       "      <td>PC 17599</td>\n",
       "      <td>71.2833</td>\n",
       "      <td>C85</td>\n",
       "      <td>C</td>\n",
       "      <td>138.0</td>\n",
       "    </tr>\n",
       "    <tr>\n",
       "      <th>2</th>\n",
       "      <td>3</td>\n",
       "      <td>1</td>\n",
       "      <td>3</td>\n",
       "      <td>Heikkinen, Miss. Laina</td>\n",
       "      <td>female</td>\n",
       "      <td>26.0</td>\n",
       "      <td>0</td>\n",
       "      <td>0</td>\n",
       "      <td>STON/O2. 3101282</td>\n",
       "      <td>7.9250</td>\n",
       "      <td>NaN</td>\n",
       "      <td>S</td>\n",
       "      <td>126.0</td>\n",
       "    </tr>\n",
       "    <tr>\n",
       "      <th>3</th>\n",
       "      <td>4</td>\n",
       "      <td>1</td>\n",
       "      <td>1</td>\n",
       "      <td>Futrelle, Mrs. Jacques Heath (Lily May Peel)</td>\n",
       "      <td>female</td>\n",
       "      <td>35.0</td>\n",
       "      <td>1</td>\n",
       "      <td>0</td>\n",
       "      <td>113803</td>\n",
       "      <td>53.1000</td>\n",
       "      <td>C123</td>\n",
       "      <td>S</td>\n",
       "      <td>135.0</td>\n",
       "    </tr>\n",
       "    <tr>\n",
       "      <th>4</th>\n",
       "      <td>5</td>\n",
       "      <td>0</td>\n",
       "      <td>3</td>\n",
       "      <td>Allen, Mr. William Henry</td>\n",
       "      <td>male</td>\n",
       "      <td>35.0</td>\n",
       "      <td>0</td>\n",
       "      <td>0</td>\n",
       "      <td>373450</td>\n",
       "      <td>8.0500</td>\n",
       "      <td>NaN</td>\n",
       "      <td>S</td>\n",
       "      <td>135.0</td>\n",
       "    </tr>\n",
       "  </tbody>\n",
       "</table>\n",
       "</div>"
      ],
      "text/plain": [
       "   PassengerId  Survived  Pclass  \\\n",
       "0            1         0       3   \n",
       "1            2         1       1   \n",
       "2            3         1       3   \n",
       "3            4         1       1   \n",
       "4            5         0       3   \n",
       "\n",
       "                                                Name     Sex   Age  SibSp  \\\n",
       "0                            Braund, Mr. Owen Harris    male  22.0      1   \n",
       "1  Cumings, Mrs. John Bradley (Florence Briggs Th...  female  38.0      1   \n",
       "2                             Heikkinen, Miss. Laina  female  26.0      0   \n",
       "3       Futrelle, Mrs. Jacques Heath (Lily May Peel)  female  35.0      1   \n",
       "4                           Allen, Mr. William Henry    male  35.0      0   \n",
       "\n",
       "   Parch            Ticket     Fare Cabin Embarked  Age_plus_100  \n",
       "0      0         A/5 21171   7.2500   NaN        S         122.0  \n",
       "1      0          PC 17599  71.2833   C85        C         138.0  \n",
       "2      0  STON/O2. 3101282   7.9250   NaN        S         126.0  \n",
       "3      0            113803  53.1000  C123        S         135.0  \n",
       "4      0            373450   8.0500   NaN        S         135.0  "
      ]
     },
     "execution_count": 33,
     "metadata": {},
     "output_type": "execute_result"
    }
   ],
   "source": [
    "# Create a new column in the dataframe containing the value in the Age column + 100\n",
    "titanic['Age_plus_100'] = titanic['Age'] + 100\n",
    "titanic.head()"
   ]
  },
  {
   "cell_type": "markdown",
   "id": "ebcb39d2-c2a5-4642-accb-8e273ef99a73",
   "metadata": {},
   "source": [
    "### Boolean Masking\n",
    "\n",
    "*Boolean masking*, also called *boolean indexing*, is a feature in Python NumPy and Pandas that allows for the filtering of values in numpy arrays or Pandas data frames."
   ]
  },
  {
   "cell_type": "code",
   "execution_count": 36,
   "id": "65ff6f9b-8576-407f-bbc4-9e4f44a90a07",
   "metadata": {},
   "outputs": [
    {
     "data": {
      "text/html": [
       "<div>\n",
       "<style scoped>\n",
       "    .dataframe tbody tr th:only-of-type {\n",
       "        vertical-align: middle;\n",
       "    }\n",
       "\n",
       "    .dataframe tbody tr th {\n",
       "        vertical-align: top;\n",
       "    }\n",
       "\n",
       "    .dataframe thead th {\n",
       "        text-align: right;\n",
       "    }\n",
       "</style>\n",
       "<table border=\"1\" class=\"dataframe\">\n",
       "  <thead>\n",
       "    <tr style=\"text-align: right;\">\n",
       "      <th></th>\n",
       "      <th>planet</th>\n",
       "      <th>radius_km</th>\n",
       "      <th>moons</th>\n",
       "    </tr>\n",
       "  </thead>\n",
       "  <tbody>\n",
       "    <tr>\n",
       "      <th>0</th>\n",
       "      <td>Mercury</td>\n",
       "      <td>2440</td>\n",
       "      <td>0</td>\n",
       "    </tr>\n",
       "    <tr>\n",
       "      <th>1</th>\n",
       "      <td>Venus</td>\n",
       "      <td>6052</td>\n",
       "      <td>0</td>\n",
       "    </tr>\n",
       "    <tr>\n",
       "      <th>2</th>\n",
       "      <td>Earth</td>\n",
       "      <td>6371</td>\n",
       "      <td>1</td>\n",
       "    </tr>\n",
       "    <tr>\n",
       "      <th>3</th>\n",
       "      <td>Mars</td>\n",
       "      <td>3390</td>\n",
       "      <td>2</td>\n",
       "    </tr>\n",
       "    <tr>\n",
       "      <th>4</th>\n",
       "      <td>Jupiter</td>\n",
       "      <td>69911</td>\n",
       "      <td>80</td>\n",
       "    </tr>\n",
       "    <tr>\n",
       "      <th>5</th>\n",
       "      <td>Saturn</td>\n",
       "      <td>58232</td>\n",
       "      <td>83</td>\n",
       "    </tr>\n",
       "    <tr>\n",
       "      <th>6</th>\n",
       "      <td>Uranus</td>\n",
       "      <td>25362</td>\n",
       "      <td>27</td>\n",
       "    </tr>\n",
       "    <tr>\n",
       "      <th>7</th>\n",
       "      <td>Neptune</td>\n",
       "      <td>24622</td>\n",
       "      <td>14</td>\n",
       "    </tr>\n",
       "  </tbody>\n",
       "</table>\n",
       "</div>"
      ],
      "text/plain": [
       "    planet  radius_km  moons\n",
       "0  Mercury       2440      0\n",
       "1    Venus       6052      0\n",
       "2    Earth       6371      1\n",
       "3     Mars       3390      2\n",
       "4  Jupiter      69911     80\n",
       "5   Saturn      58232     83\n",
       "6   Uranus      25362     27\n",
       "7  Neptune      24622     14"
      ]
     },
     "execution_count": 36,
     "metadata": {},
     "output_type": "execute_result"
    }
   ],
   "source": [
    "# Instantiate a dictionary of planetary data\n",
    "data = {'planet': ['Mercury', 'Venus', 'Earth', 'Mars',\n",
    "                   'Jupiter', 'Saturn', 'Uranus', 'Neptune'],\n",
    "       'radius_km': [2440, 6052, 6371, 3390, 69911, 58232,\n",
    "                     25362, 24622],\n",
    "       'moons': [0, 0, 1, 2, 80, 83, 27, 14]\n",
    "        }\n",
    "\n",
    "# Use pd.DataFrame() function to convert dictionary to dataframe\n",
    "planets = pd.DataFrame(data)\n",
    "planets"
   ]
  },
  {
   "cell_type": "code",
   "execution_count": 42,
   "id": "91e3a1a5-3b2f-4087-8b50-e9f73f8d7bd0",
   "metadata": {},
   "outputs": [
    {
     "name": "stdout",
     "output_type": "stream",
     "text": [
      "Boolean masks are of type <class 'pandas.core.series.Series'>\n"
     ]
    },
    {
     "data": {
      "text/plain": [
       "0     True\n",
       "1     True\n",
       "2     True\n",
       "3     True\n",
       "4    False\n",
       "5    False\n",
       "6    False\n",
       "7     True\n",
       "Name: moons, dtype: bool"
      ]
     },
     "execution_count": 42,
     "metadata": {},
     "output_type": "execute_result"
    }
   ],
   "source": [
    "# Create a Boolean mask of planets with fewer than 20 moons\n",
    "mask = planets['moons'] < 20\n",
    "\n",
    "print(f'Boolean masks are of type {type(mask)}')\n",
    "mask"
   ]
  },
  {
   "cell_type": "code",
   "execution_count": 38,
   "id": "a2c909da-8807-46a0-a808-ebc50640459c",
   "metadata": {},
   "outputs": [
    {
     "data": {
      "text/html": [
       "<div>\n",
       "<style scoped>\n",
       "    .dataframe tbody tr th:only-of-type {\n",
       "        vertical-align: middle;\n",
       "    }\n",
       "\n",
       "    .dataframe tbody tr th {\n",
       "        vertical-align: top;\n",
       "    }\n",
       "\n",
       "    .dataframe thead th {\n",
       "        text-align: right;\n",
       "    }\n",
       "</style>\n",
       "<table border=\"1\" class=\"dataframe\">\n",
       "  <thead>\n",
       "    <tr style=\"text-align: right;\">\n",
       "      <th></th>\n",
       "      <th>planet</th>\n",
       "      <th>radius_km</th>\n",
       "      <th>moons</th>\n",
       "    </tr>\n",
       "  </thead>\n",
       "  <tbody>\n",
       "    <tr>\n",
       "      <th>0</th>\n",
       "      <td>Mercury</td>\n",
       "      <td>2440</td>\n",
       "      <td>0</td>\n",
       "    </tr>\n",
       "    <tr>\n",
       "      <th>1</th>\n",
       "      <td>Venus</td>\n",
       "      <td>6052</td>\n",
       "      <td>0</td>\n",
       "    </tr>\n",
       "    <tr>\n",
       "      <th>2</th>\n",
       "      <td>Earth</td>\n",
       "      <td>6371</td>\n",
       "      <td>1</td>\n",
       "    </tr>\n",
       "    <tr>\n",
       "      <th>3</th>\n",
       "      <td>Mars</td>\n",
       "      <td>3390</td>\n",
       "      <td>2</td>\n",
       "    </tr>\n",
       "    <tr>\n",
       "      <th>7</th>\n",
       "      <td>Neptune</td>\n",
       "      <td>24622</td>\n",
       "      <td>14</td>\n",
       "    </tr>\n",
       "  </tbody>\n",
       "</table>\n",
       "</div>"
      ],
      "text/plain": [
       "    planet  radius_km  moons\n",
       "0  Mercury       2440      0\n",
       "1    Venus       6052      0\n",
       "2    Earth       6371      1\n",
       "3     Mars       3390      2\n",
       "7  Neptune      24622     14"
      ]
     },
     "execution_count": 38,
     "metadata": {},
     "output_type": "execute_result"
    }
   ],
   "source": [
    "# Apply the Boolean mask to the dataframe to filter it so it contains\n",
    "# only the planets with fewer than 20 moons\n",
    "planets[mask]"
   ]
  },
  {
   "cell_type": "code",
   "execution_count": 43,
   "id": "b0517f9f-5047-46a0-ba52-71ed9557d94e",
   "metadata": {},
   "outputs": [
    {
     "data": {
      "text/html": [
       "<div>\n",
       "<style scoped>\n",
       "    .dataframe tbody tr th:only-of-type {\n",
       "        vertical-align: middle;\n",
       "    }\n",
       "\n",
       "    .dataframe tbody tr th {\n",
       "        vertical-align: top;\n",
       "    }\n",
       "\n",
       "    .dataframe thead th {\n",
       "        text-align: right;\n",
       "    }\n",
       "</style>\n",
       "<table border=\"1\" class=\"dataframe\">\n",
       "  <thead>\n",
       "    <tr style=\"text-align: right;\">\n",
       "      <th></th>\n",
       "      <th>planet</th>\n",
       "      <th>radius_km</th>\n",
       "      <th>moons</th>\n",
       "    </tr>\n",
       "  </thead>\n",
       "  <tbody>\n",
       "    <tr>\n",
       "      <th>0</th>\n",
       "      <td>Mercury</td>\n",
       "      <td>2440</td>\n",
       "      <td>0</td>\n",
       "    </tr>\n",
       "    <tr>\n",
       "      <th>1</th>\n",
       "      <td>Venus</td>\n",
       "      <td>6052</td>\n",
       "      <td>0</td>\n",
       "    </tr>\n",
       "    <tr>\n",
       "      <th>2</th>\n",
       "      <td>Earth</td>\n",
       "      <td>6371</td>\n",
       "      <td>1</td>\n",
       "    </tr>\n",
       "    <tr>\n",
       "      <th>3</th>\n",
       "      <td>Mars</td>\n",
       "      <td>3390</td>\n",
       "      <td>2</td>\n",
       "    </tr>\n",
       "    <tr>\n",
       "      <th>7</th>\n",
       "      <td>Neptune</td>\n",
       "      <td>24622</td>\n",
       "      <td>14</td>\n",
       "    </tr>\n",
       "  </tbody>\n",
       "</table>\n",
       "</div>"
      ],
      "text/plain": [
       "    planet  radius_km  moons\n",
       "0  Mercury       2440      0\n",
       "1    Venus       6052      0\n",
       "2    Earth       6371      1\n",
       "3     Mars       3390      2\n",
       "7  Neptune      24622     14"
      ]
     },
     "execution_count": 43,
     "metadata": {},
     "output_type": "execute_result"
    }
   ],
   "source": [
    "# Define the Boolean mask and apply it in a single line\n",
    "planets[planets['moons'] < 20]"
   ]
  },
  {
   "cell_type": "code",
   "execution_count": 44,
   "id": "060db49b-6901-4837-930f-1e456b831317",
   "metadata": {},
   "outputs": [
    {
     "data": {
      "text/html": [
       "<div>\n",
       "<style scoped>\n",
       "    .dataframe tbody tr th:only-of-type {\n",
       "        vertical-align: middle;\n",
       "    }\n",
       "\n",
       "    .dataframe tbody tr th {\n",
       "        vertical-align: top;\n",
       "    }\n",
       "\n",
       "    .dataframe thead th {\n",
       "        text-align: right;\n",
       "    }\n",
       "</style>\n",
       "<table border=\"1\" class=\"dataframe\">\n",
       "  <thead>\n",
       "    <tr style=\"text-align: right;\">\n",
       "      <th></th>\n",
       "      <th>planet</th>\n",
       "      <th>radius_km</th>\n",
       "      <th>moons</th>\n",
       "    </tr>\n",
       "  </thead>\n",
       "  <tbody>\n",
       "    <tr>\n",
       "      <th>0</th>\n",
       "      <td>Mercury</td>\n",
       "      <td>2440</td>\n",
       "      <td>0</td>\n",
       "    </tr>\n",
       "    <tr>\n",
       "      <th>1</th>\n",
       "      <td>Venus</td>\n",
       "      <td>6052</td>\n",
       "      <td>0</td>\n",
       "    </tr>\n",
       "    <tr>\n",
       "      <th>2</th>\n",
       "      <td>Earth</td>\n",
       "      <td>6371</td>\n",
       "      <td>1</td>\n",
       "    </tr>\n",
       "    <tr>\n",
       "      <th>3</th>\n",
       "      <td>Mars</td>\n",
       "      <td>3390</td>\n",
       "      <td>2</td>\n",
       "    </tr>\n",
       "    <tr>\n",
       "      <th>4</th>\n",
       "      <td>Jupiter</td>\n",
       "      <td>69911</td>\n",
       "      <td>80</td>\n",
       "    </tr>\n",
       "    <tr>\n",
       "      <th>5</th>\n",
       "      <td>Saturn</td>\n",
       "      <td>58232</td>\n",
       "      <td>83</td>\n",
       "    </tr>\n",
       "    <tr>\n",
       "      <th>6</th>\n",
       "      <td>Uranus</td>\n",
       "      <td>25362</td>\n",
       "      <td>27</td>\n",
       "    </tr>\n",
       "    <tr>\n",
       "      <th>7</th>\n",
       "      <td>Neptune</td>\n",
       "      <td>24622</td>\n",
       "      <td>14</td>\n",
       "    </tr>\n",
       "  </tbody>\n",
       "</table>\n",
       "</div>"
      ],
      "text/plain": [
       "    planet  radius_km  moons\n",
       "0  Mercury       2440      0\n",
       "1    Venus       6052      0\n",
       "2    Earth       6371      1\n",
       "3     Mars       3390      2\n",
       "4  Jupiter      69911     80\n",
       "5   Saturn      58232     83\n",
       "6   Uranus      25362     27\n",
       "7  Neptune      24622     14"
      ]
     },
     "execution_count": 44,
     "metadata": {},
     "output_type": "execute_result"
    }
   ],
   "source": [
    "# Boolean masks don't change the data. They're just views.\n",
    "planets"
   ]
  },
  {
   "cell_type": "code",
   "execution_count": 45,
   "id": "32247e55-c921-4ece-8b54-039b2c89644b",
   "metadata": {},
   "outputs": [
    {
     "data": {
      "text/html": [
       "<div>\n",
       "<style scoped>\n",
       "    .dataframe tbody tr th:only-of-type {\n",
       "        vertical-align: middle;\n",
       "    }\n",
       "\n",
       "    .dataframe tbody tr th {\n",
       "        vertical-align: top;\n",
       "    }\n",
       "\n",
       "    .dataframe thead th {\n",
       "        text-align: right;\n",
       "    }\n",
       "</style>\n",
       "<table border=\"1\" class=\"dataframe\">\n",
       "  <thead>\n",
       "    <tr style=\"text-align: right;\">\n",
       "      <th></th>\n",
       "      <th>planet</th>\n",
       "      <th>radius_km</th>\n",
       "      <th>moons</th>\n",
       "    </tr>\n",
       "  </thead>\n",
       "  <tbody>\n",
       "    <tr>\n",
       "      <th>0</th>\n",
       "      <td>Mercury</td>\n",
       "      <td>2440</td>\n",
       "      <td>0</td>\n",
       "    </tr>\n",
       "    <tr>\n",
       "      <th>1</th>\n",
       "      <td>Venus</td>\n",
       "      <td>6052</td>\n",
       "      <td>0</td>\n",
       "    </tr>\n",
       "    <tr>\n",
       "      <th>2</th>\n",
       "      <td>Earth</td>\n",
       "      <td>6371</td>\n",
       "      <td>1</td>\n",
       "    </tr>\n",
       "    <tr>\n",
       "      <th>3</th>\n",
       "      <td>Mars</td>\n",
       "      <td>3390</td>\n",
       "      <td>2</td>\n",
       "    </tr>\n",
       "    <tr>\n",
       "      <th>7</th>\n",
       "      <td>Neptune</td>\n",
       "      <td>24622</td>\n",
       "      <td>14</td>\n",
       "    </tr>\n",
       "  </tbody>\n",
       "</table>\n",
       "</div>"
      ],
      "text/plain": [
       "    planet  radius_km  moons\n",
       "0  Mercury       2440      0\n",
       "1    Venus       6052      0\n",
       "2    Earth       6371      1\n",
       "3     Mars       3390      2\n",
       "7  Neptune      24622     14"
      ]
     },
     "execution_count": 45,
     "metadata": {},
     "output_type": "execute_result"
    }
   ],
   "source": [
    "# You can assign a dataframe view to a named variable\n",
    "moons_under_20 = planets[mask]\n",
    "moons_under_20"
   ]
  },
  {
   "cell_type": "code",
   "execution_count": 46,
   "id": "7c6e60af-65e0-49e9-a9d8-446fc8f20072",
   "metadata": {},
   "outputs": [
    {
     "data": {
      "text/plain": [
       "0     True\n",
       "1     True\n",
       "2     True\n",
       "3     True\n",
       "4     True\n",
       "5     True\n",
       "6    False\n",
       "7    False\n",
       "Name: moons, dtype: bool"
      ]
     },
     "execution_count": 46,
     "metadata": {},
     "output_type": "execute_result"
    }
   ],
   "source": [
    "# Create a Boolean mask of planets with fewer than 10 moons OR more than 50 moons\n",
    "mask = (planets['moons'] < 10) | (planets['moons'] > 50)\n",
    "mask"
   ]
  },
  {
   "cell_type": "code",
   "execution_count": 47,
   "id": "e91f5d09-e665-4397-b17b-26c0298550e5",
   "metadata": {},
   "outputs": [
    {
     "data": {
      "text/html": [
       "<div>\n",
       "<style scoped>\n",
       "    .dataframe tbody tr th:only-of-type {\n",
       "        vertical-align: middle;\n",
       "    }\n",
       "\n",
       "    .dataframe tbody tr th {\n",
       "        vertical-align: top;\n",
       "    }\n",
       "\n",
       "    .dataframe thead th {\n",
       "        text-align: right;\n",
       "    }\n",
       "</style>\n",
       "<table border=\"1\" class=\"dataframe\">\n",
       "  <thead>\n",
       "    <tr style=\"text-align: right;\">\n",
       "      <th></th>\n",
       "      <th>planet</th>\n",
       "      <th>radius_km</th>\n",
       "      <th>moons</th>\n",
       "    </tr>\n",
       "  </thead>\n",
       "  <tbody>\n",
       "    <tr>\n",
       "      <th>0</th>\n",
       "      <td>Mercury</td>\n",
       "      <td>2440</td>\n",
       "      <td>0</td>\n",
       "    </tr>\n",
       "    <tr>\n",
       "      <th>1</th>\n",
       "      <td>Venus</td>\n",
       "      <td>6052</td>\n",
       "      <td>0</td>\n",
       "    </tr>\n",
       "    <tr>\n",
       "      <th>2</th>\n",
       "      <td>Earth</td>\n",
       "      <td>6371</td>\n",
       "      <td>1</td>\n",
       "    </tr>\n",
       "    <tr>\n",
       "      <th>3</th>\n",
       "      <td>Mars</td>\n",
       "      <td>3390</td>\n",
       "      <td>2</td>\n",
       "    </tr>\n",
       "    <tr>\n",
       "      <th>4</th>\n",
       "      <td>Jupiter</td>\n",
       "      <td>69911</td>\n",
       "      <td>80</td>\n",
       "    </tr>\n",
       "    <tr>\n",
       "      <th>5</th>\n",
       "      <td>Saturn</td>\n",
       "      <td>58232</td>\n",
       "      <td>83</td>\n",
       "    </tr>\n",
       "  </tbody>\n",
       "</table>\n",
       "</div>"
      ],
      "text/plain": [
       "    planet  radius_km  moons\n",
       "0  Mercury       2440      0\n",
       "1    Venus       6052      0\n",
       "2    Earth       6371      1\n",
       "3     Mars       3390      2\n",
       "4  Jupiter      69911     80\n",
       "5   Saturn      58232     83"
      ]
     },
     "execution_count": 47,
     "metadata": {},
     "output_type": "execute_result"
    }
   ],
   "source": [
    "# Apply the Boolean mask to filter the data\n",
    "planets[mask]"
   ]
  },
  {
   "cell_type": "code",
   "execution_count": 48,
   "id": "1707365b-dc9c-45a3-950d-576dd15ca436",
   "metadata": {},
   "outputs": [
    {
     "data": {
      "text/html": [
       "<div>\n",
       "<style scoped>\n",
       "    .dataframe tbody tr th:only-of-type {\n",
       "        vertical-align: middle;\n",
       "    }\n",
       "\n",
       "    .dataframe tbody tr th {\n",
       "        vertical-align: top;\n",
       "    }\n",
       "\n",
       "    .dataframe thead th {\n",
       "        text-align: right;\n",
       "    }\n",
       "</style>\n",
       "<table border=\"1\" class=\"dataframe\">\n",
       "  <thead>\n",
       "    <tr style=\"text-align: right;\">\n",
       "      <th></th>\n",
       "      <th>planet</th>\n",
       "      <th>radius_km</th>\n",
       "      <th>moons</th>\n",
       "    </tr>\n",
       "  </thead>\n",
       "  <tbody>\n",
       "    <tr>\n",
       "      <th>5</th>\n",
       "      <td>Saturn</td>\n",
       "      <td>58232</td>\n",
       "      <td>83</td>\n",
       "    </tr>\n",
       "  </tbody>\n",
       "</table>\n",
       "</div>"
      ],
      "text/plain": [
       "   planet  radius_km  moons\n",
       "5  Saturn      58232     83"
      ]
     },
     "execution_count": 48,
     "metadata": {},
     "output_type": "execute_result"
    }
   ],
   "source": [
    "# Create a Boolean mask of planets with more than 20 moons, excluding them if they\n",
    "# have 80 moons or if their radius is less than 50,000 km.\n",
    "mask = (planets['moons'] > 20) & ~(planets['moons'] == 80) & ~(planets['radius_km'] < 50000)\n",
    "\n",
    "# Apply the mask\n",
    "planets[mask]"
   ]
  },
  {
   "cell_type": "markdown",
   "id": "36ed3991-5db3-43c5-8e34-712113e87127",
   "metadata": {},
   "source": [
    "## Grouping and Aggregation"
   ]
  },
  {
   "cell_type": "code",
   "execution_count": 50,
   "id": "a5ef486c-885d-4e30-8bc0-09e43d535a93",
   "metadata": {},
   "outputs": [
    {
     "data": {
      "text/html": [
       "<div>\n",
       "<style scoped>\n",
       "    .dataframe tbody tr th:only-of-type {\n",
       "        vertical-align: middle;\n",
       "    }\n",
       "\n",
       "    .dataframe tbody tr th {\n",
       "        vertical-align: top;\n",
       "    }\n",
       "\n",
       "    .dataframe thead th {\n",
       "        text-align: right;\n",
       "    }\n",
       "</style>\n",
       "<table border=\"1\" class=\"dataframe\">\n",
       "  <thead>\n",
       "    <tr style=\"text-align: right;\">\n",
       "      <th></th>\n",
       "      <th>planet</th>\n",
       "      <th>radius_km</th>\n",
       "      <th>moons</th>\n",
       "      <th>type</th>\n",
       "      <th>rings</th>\n",
       "      <th>mean_temp_c</th>\n",
       "      <th>magnetic_field</th>\n",
       "    </tr>\n",
       "  </thead>\n",
       "  <tbody>\n",
       "    <tr>\n",
       "      <th>0</th>\n",
       "      <td>Mercury</td>\n",
       "      <td>2440</td>\n",
       "      <td>0</td>\n",
       "      <td>terrestrial</td>\n",
       "      <td>no</td>\n",
       "      <td>167</td>\n",
       "      <td>yes</td>\n",
       "    </tr>\n",
       "    <tr>\n",
       "      <th>1</th>\n",
       "      <td>Venus</td>\n",
       "      <td>6052</td>\n",
       "      <td>0</td>\n",
       "      <td>terrestrial</td>\n",
       "      <td>no</td>\n",
       "      <td>464</td>\n",
       "      <td>no</td>\n",
       "    </tr>\n",
       "    <tr>\n",
       "      <th>2</th>\n",
       "      <td>Earth</td>\n",
       "      <td>6371</td>\n",
       "      <td>1</td>\n",
       "      <td>terrestrial</td>\n",
       "      <td>no</td>\n",
       "      <td>15</td>\n",
       "      <td>yes</td>\n",
       "    </tr>\n",
       "    <tr>\n",
       "      <th>3</th>\n",
       "      <td>Mars</td>\n",
       "      <td>3390</td>\n",
       "      <td>2</td>\n",
       "      <td>terrestrial</td>\n",
       "      <td>no</td>\n",
       "      <td>-65</td>\n",
       "      <td>no</td>\n",
       "    </tr>\n",
       "    <tr>\n",
       "      <th>4</th>\n",
       "      <td>Jupiter</td>\n",
       "      <td>69911</td>\n",
       "      <td>80</td>\n",
       "      <td>gas giant</td>\n",
       "      <td>yes</td>\n",
       "      <td>-110</td>\n",
       "      <td>yes</td>\n",
       "    </tr>\n",
       "    <tr>\n",
       "      <th>5</th>\n",
       "      <td>Saturn</td>\n",
       "      <td>58232</td>\n",
       "      <td>83</td>\n",
       "      <td>gas giant</td>\n",
       "      <td>yes</td>\n",
       "      <td>-140</td>\n",
       "      <td>yes</td>\n",
       "    </tr>\n",
       "    <tr>\n",
       "      <th>6</th>\n",
       "      <td>Uranus</td>\n",
       "      <td>25362</td>\n",
       "      <td>27</td>\n",
       "      <td>ice giant</td>\n",
       "      <td>yes</td>\n",
       "      <td>-195</td>\n",
       "      <td>yes</td>\n",
       "    </tr>\n",
       "    <tr>\n",
       "      <th>7</th>\n",
       "      <td>Neptune</td>\n",
       "      <td>24622</td>\n",
       "      <td>14</td>\n",
       "      <td>ice giant</td>\n",
       "      <td>yes</td>\n",
       "      <td>-200</td>\n",
       "      <td>yes</td>\n",
       "    </tr>\n",
       "  </tbody>\n",
       "</table>\n",
       "</div>"
      ],
      "text/plain": [
       "    planet  radius_km  moons         type rings  mean_temp_c magnetic_field\n",
       "0  Mercury       2440      0  terrestrial    no          167            yes\n",
       "1    Venus       6052      0  terrestrial    no          464             no\n",
       "2    Earth       6371      1  terrestrial    no           15            yes\n",
       "3     Mars       3390      2  terrestrial    no          -65             no\n",
       "4  Jupiter      69911     80    gas giant   yes         -110            yes\n",
       "5   Saturn      58232     83    gas giant   yes         -140            yes\n",
       "6   Uranus      25362     27    ice giant   yes         -195            yes\n",
       "7  Neptune      24622     14    ice giant   yes         -200            yes"
      ]
     },
     "execution_count": 50,
     "metadata": {},
     "output_type": "execute_result"
    }
   ],
   "source": [
    "import numpy as np\n",
    "import pandas as pd\n",
    "\n",
    "# Instantiate a dictionary of planetary data\n",
    "data = {'planet': ['Mercury', 'Venus', 'Earth', 'Mars',\n",
    "                   'Jupiter', 'Saturn', 'Uranus', 'Neptune'],\n",
    "        'radius_km': [2440, 6052, 6371, 3390, 69911, 58232,\n",
    "                     25362, 24622],\n",
    "        'moons': [0, 0, 1, 2, 80, 83, 27, 14],\n",
    "        'type': ['terrestrial', 'terrestrial', 'terrestrial', 'terrestrial',\n",
    "                 'gas giant', 'gas giant', 'ice giant', 'ice giant'],\n",
    "        'rings': ['no', 'no', 'no', 'no', 'yes', 'yes', 'yes','yes'],\n",
    "        'mean_temp_c': [167, 464, 15, -65, -110, -140, -195, -200],\n",
    "        'magnetic_field': ['yes', 'no', 'yes', 'no', 'yes', 'yes', 'yes', 'yes']\n",
    "        }\n",
    "\n",
    "# Use pd.DataFrame() function to convert dictionary to dataframe\n",
    "planets = pd.DataFrame(data)\n",
    "planets"
   ]
  },
  {
   "cell_type": "markdown",
   "id": "1269417c-f3bb-4d6c-9031-4a2a58a5c1c7",
   "metadata": {},
   "source": [
    "The `DataFrameGroupBy` object is used for grouping."
   ]
  },
  {
   "cell_type": "code",
   "execution_count": 51,
   "id": "13d6a736-eb78-4b46-ae7e-c24ab10a5f55",
   "metadata": {},
   "outputs": [
    {
     "data": {
      "text/plain": [
       "<pandas.core.groupby.generic.DataFrameGroupBy object at 0x116dbf970>"
      ]
     },
     "execution_count": 51,
     "metadata": {},
     "output_type": "execute_result"
    }
   ],
   "source": [
    "# The groupby() function returns a groupby object\n",
    "planets.groupby(['type'])"
   ]
  },
  {
   "cell_type": "code",
   "execution_count": 53,
   "id": "cfc29feb-3395-4396-9a32-c22d060da24e",
   "metadata": {},
   "outputs": [
    {
     "data": {
      "text/html": [
       "<div>\n",
       "<style scoped>\n",
       "    .dataframe tbody tr th:only-of-type {\n",
       "        vertical-align: middle;\n",
       "    }\n",
       "\n",
       "    .dataframe tbody tr th {\n",
       "        vertical-align: top;\n",
       "    }\n",
       "\n",
       "    .dataframe thead th {\n",
       "        text-align: right;\n",
       "    }\n",
       "</style>\n",
       "<table border=\"1\" class=\"dataframe\">\n",
       "  <thead>\n",
       "    <tr style=\"text-align: right;\">\n",
       "      <th></th>\n",
       "      <th>planet</th>\n",
       "      <th>radius_km</th>\n",
       "      <th>moons</th>\n",
       "      <th>rings</th>\n",
       "      <th>mean_temp_c</th>\n",
       "      <th>magnetic_field</th>\n",
       "    </tr>\n",
       "    <tr>\n",
       "      <th>type</th>\n",
       "      <th></th>\n",
       "      <th></th>\n",
       "      <th></th>\n",
       "      <th></th>\n",
       "      <th></th>\n",
       "      <th></th>\n",
       "    </tr>\n",
       "  </thead>\n",
       "  <tbody>\n",
       "    <tr>\n",
       "      <th>gas giant</th>\n",
       "      <td>JupiterSaturn</td>\n",
       "      <td>128143</td>\n",
       "      <td>163</td>\n",
       "      <td>yesyes</td>\n",
       "      <td>-250</td>\n",
       "      <td>yesyes</td>\n",
       "    </tr>\n",
       "    <tr>\n",
       "      <th>ice giant</th>\n",
       "      <td>UranusNeptune</td>\n",
       "      <td>49984</td>\n",
       "      <td>41</td>\n",
       "      <td>yesyes</td>\n",
       "      <td>-395</td>\n",
       "      <td>yesyes</td>\n",
       "    </tr>\n",
       "    <tr>\n",
       "      <th>terrestrial</th>\n",
       "      <td>MercuryVenusEarthMars</td>\n",
       "      <td>18253</td>\n",
       "      <td>3</td>\n",
       "      <td>nononono</td>\n",
       "      <td>581</td>\n",
       "      <td>yesnoyesno</td>\n",
       "    </tr>\n",
       "  </tbody>\n",
       "</table>\n",
       "</div>"
      ],
      "text/plain": [
       "                            planet  radius_km  moons     rings  mean_temp_c  \\\n",
       "type                                                                          \n",
       "gas giant            JupiterSaturn     128143    163    yesyes         -250   \n",
       "ice giant            UranusNeptune      49984     41    yesyes         -395   \n",
       "terrestrial  MercuryVenusEarthMars      18253      3  nononono          581   \n",
       "\n",
       "            magnetic_field  \n",
       "type                        \n",
       "gas giant           yesyes  \n",
       "ice giant           yesyes  \n",
       "terrestrial     yesnoyesno  "
      ]
     },
     "execution_count": 53,
     "metadata": {},
     "output_type": "execute_result"
    }
   ],
   "source": [
    "# Apply the sum() function to the groupby object to get the sum\n",
    "# of the values in each numerical column for each group\n",
    "planets.groupby(['type']).sum()"
   ]
  },
  {
   "cell_type": "code",
   "execution_count": 67,
   "id": "f18ffe57-1bf8-46fa-85af-dd21723d59ac",
   "metadata": {},
   "outputs": [
    {
     "data": {
      "text/plain": [
       "pandas.core.frame.DataFrame"
      ]
     },
     "execution_count": 67,
     "metadata": {},
     "output_type": "execute_result"
    }
   ],
   "source": [
    "# Apply the sum function to the groupby object and select\n",
    "# only the 'moons' column\n",
    "planets.groupby(['type']).sum()[['moons']]"
   ]
  },
  {
   "cell_type": "code",
   "execution_count": 75,
   "id": "4d9a800f-9894-43a0-99d3-2e6f51ec87af",
   "metadata": {},
   "outputs": [
    {
     "data": {
      "text/html": [
       "<div>\n",
       "<style scoped>\n",
       "    .dataframe tbody tr th:only-of-type {\n",
       "        vertical-align: middle;\n",
       "    }\n",
       "\n",
       "    .dataframe tbody tr th {\n",
       "        vertical-align: top;\n",
       "    }\n",
       "\n",
       "    .dataframe thead th {\n",
       "        text-align: right;\n",
       "    }\n",
       "</style>\n",
       "<table border=\"1\" class=\"dataframe\">\n",
       "  <thead>\n",
       "    <tr style=\"text-align: right;\">\n",
       "      <th></th>\n",
       "      <th></th>\n",
       "      <th>moons</th>\n",
       "      <th>radius_km</th>\n",
       "      <th>mean_temp_c</th>\n",
       "    </tr>\n",
       "    <tr>\n",
       "      <th>type</th>\n",
       "      <th>magnetic_field</th>\n",
       "      <th></th>\n",
       "      <th></th>\n",
       "      <th></th>\n",
       "    </tr>\n",
       "  </thead>\n",
       "  <tbody>\n",
       "    <tr>\n",
       "      <th>gas giant</th>\n",
       "      <th>yes</th>\n",
       "      <td>81.5</td>\n",
       "      <td>64071.5</td>\n",
       "      <td>-125.0</td>\n",
       "    </tr>\n",
       "    <tr>\n",
       "      <th>ice giant</th>\n",
       "      <th>yes</th>\n",
       "      <td>20.5</td>\n",
       "      <td>24992.0</td>\n",
       "      <td>-197.5</td>\n",
       "    </tr>\n",
       "    <tr>\n",
       "      <th rowspan=\"2\" valign=\"top\">terrestrial</th>\n",
       "      <th>no</th>\n",
       "      <td>1.0</td>\n",
       "      <td>4721.0</td>\n",
       "      <td>199.5</td>\n",
       "    </tr>\n",
       "    <tr>\n",
       "      <th>yes</th>\n",
       "      <td>0.5</td>\n",
       "      <td>4405.5</td>\n",
       "      <td>91.0</td>\n",
       "    </tr>\n",
       "  </tbody>\n",
       "</table>\n",
       "</div>"
      ],
      "text/plain": [
       "                            moons  radius_km  mean_temp_c\n",
       "type        magnetic_field                               \n",
       "gas giant   yes              81.5    64071.5       -125.0\n",
       "ice giant   yes              20.5    24992.0       -197.5\n",
       "terrestrial no                1.0     4721.0        199.5\n",
       "            yes               0.5     4405.5         91.0"
      ]
     },
     "execution_count": 75,
     "metadata": {},
     "output_type": "execute_result"
    }
   ],
   "source": [
    "# Create a df from the numeric fields and the fields we want to aggregate by\n",
    "dfn = planets[['moons', 'radius_km', 'mean_temp_c', 'type', 'magnetic_field']]\n",
    "\n",
    "# Group by type and magnetic_field and get the mean of the values\n",
    "dfn.groupby(['type', 'magnetic_field']).mean()[['moons', 'radius_km', 'mean_temp_c']]\n",
    "# planets.groupby(['type', 'magnetic_field']).mean()['moons']"
   ]
  },
  {
   "cell_type": "code",
   "execution_count": 78,
   "id": "c78b0604-4d00-457e-9aa8-5f4338137b3f",
   "metadata": {},
   "outputs": [
    {
     "data": {
      "text/html": [
       "<div>\n",
       "<style scoped>\n",
       "    .dataframe tbody tr th:only-of-type {\n",
       "        vertical-align: middle;\n",
       "    }\n",
       "\n",
       "    .dataframe tbody tr th {\n",
       "        vertical-align: top;\n",
       "    }\n",
       "\n",
       "    .dataframe thead tr th {\n",
       "        text-align: left;\n",
       "    }\n",
       "\n",
       "    .dataframe thead tr:last-of-type th {\n",
       "        text-align: right;\n",
       "    }\n",
       "</style>\n",
       "<table border=\"1\" class=\"dataframe\">\n",
       "  <thead>\n",
       "    <tr>\n",
       "      <th></th>\n",
       "      <th colspan=\"2\" halign=\"left\">moons</th>\n",
       "      <th colspan=\"2\" halign=\"left\">radius_km</th>\n",
       "      <th colspan=\"2\" halign=\"left\">mean_temp_c</th>\n",
       "    </tr>\n",
       "    <tr>\n",
       "      <th></th>\n",
       "      <th>mean</th>\n",
       "      <th>median</th>\n",
       "      <th>mean</th>\n",
       "      <th>median</th>\n",
       "      <th>mean</th>\n",
       "      <th>median</th>\n",
       "    </tr>\n",
       "    <tr>\n",
       "      <th>type</th>\n",
       "      <th></th>\n",
       "      <th></th>\n",
       "      <th></th>\n",
       "      <th></th>\n",
       "      <th></th>\n",
       "      <th></th>\n",
       "    </tr>\n",
       "  </thead>\n",
       "  <tbody>\n",
       "    <tr>\n",
       "      <th>gas giant</th>\n",
       "      <td>81.50</td>\n",
       "      <td>81.5</td>\n",
       "      <td>64071.50</td>\n",
       "      <td>64071.5</td>\n",
       "      <td>-125.00</td>\n",
       "      <td>-125.0</td>\n",
       "    </tr>\n",
       "    <tr>\n",
       "      <th>ice giant</th>\n",
       "      <td>20.50</td>\n",
       "      <td>20.5</td>\n",
       "      <td>24992.00</td>\n",
       "      <td>24992.0</td>\n",
       "      <td>-197.50</td>\n",
       "      <td>-197.5</td>\n",
       "    </tr>\n",
       "    <tr>\n",
       "      <th>terrestrial</th>\n",
       "      <td>0.75</td>\n",
       "      <td>0.5</td>\n",
       "      <td>4563.25</td>\n",
       "      <td>4721.0</td>\n",
       "      <td>145.25</td>\n",
       "      <td>91.0</td>\n",
       "    </tr>\n",
       "  </tbody>\n",
       "</table>\n",
       "</div>"
      ],
      "text/plain": [
       "             moons        radius_km          mean_temp_c       \n",
       "              mean median      mean   median        mean median\n",
       "type                                                           \n",
       "gas giant    81.50   81.5  64071.50  64071.5     -125.00 -125.0\n",
       "ice giant    20.50   20.5  24992.00  24992.0     -197.50 -197.5\n",
       "terrestrial   0.75    0.5   4563.25   4721.0      145.25   91.0"
      ]
     },
     "execution_count": 78,
     "metadata": {},
     "output_type": "execute_result"
    }
   ],
   "source": [
    "# Group by type, then use the agg() function to get the mean and median\n",
    "# of the values in the numeric columns for each group\n",
    "dfn = planets[['moons', 'radius_km', 'mean_temp_c', 'type']]\n",
    "\n",
    "dfn.groupby(['type']).agg(['mean', 'median'])"
   ]
  },
  {
   "cell_type": "code",
   "execution_count": 79,
   "id": "17bca988-e036-4767-b562-6b4b7ea45b06",
   "metadata": {},
   "outputs": [
    {
     "data": {
      "text/html": [
       "<div>\n",
       "<style scoped>\n",
       "    .dataframe tbody tr th:only-of-type {\n",
       "        vertical-align: middle;\n",
       "    }\n",
       "\n",
       "    .dataframe tbody tr th {\n",
       "        vertical-align: top;\n",
       "    }\n",
       "\n",
       "    .dataframe thead tr th {\n",
       "        text-align: left;\n",
       "    }\n",
       "\n",
       "    .dataframe thead tr:last-of-type th {\n",
       "        text-align: right;\n",
       "    }\n",
       "</style>\n",
       "<table border=\"1\" class=\"dataframe\">\n",
       "  <thead>\n",
       "    <tr>\n",
       "      <th></th>\n",
       "      <th></th>\n",
       "      <th colspan=\"2\" halign=\"left\">moons</th>\n",
       "      <th colspan=\"2\" halign=\"left\">radius_km</th>\n",
       "      <th colspan=\"2\" halign=\"left\">mean_temp_c</th>\n",
       "    </tr>\n",
       "    <tr>\n",
       "      <th></th>\n",
       "      <th></th>\n",
       "      <th>mean</th>\n",
       "      <th>max</th>\n",
       "      <th>mean</th>\n",
       "      <th>max</th>\n",
       "      <th>mean</th>\n",
       "      <th>max</th>\n",
       "    </tr>\n",
       "    <tr>\n",
       "      <th>type</th>\n",
       "      <th>magnetic_field</th>\n",
       "      <th></th>\n",
       "      <th></th>\n",
       "      <th></th>\n",
       "      <th></th>\n",
       "      <th></th>\n",
       "      <th></th>\n",
       "    </tr>\n",
       "  </thead>\n",
       "  <tbody>\n",
       "    <tr>\n",
       "      <th>gas giant</th>\n",
       "      <th>yes</th>\n",
       "      <td>81.5</td>\n",
       "      <td>83</td>\n",
       "      <td>64071.5</td>\n",
       "      <td>69911</td>\n",
       "      <td>-125.0</td>\n",
       "      <td>-110</td>\n",
       "    </tr>\n",
       "    <tr>\n",
       "      <th>ice giant</th>\n",
       "      <th>yes</th>\n",
       "      <td>20.5</td>\n",
       "      <td>27</td>\n",
       "      <td>24992.0</td>\n",
       "      <td>25362</td>\n",
       "      <td>-197.5</td>\n",
       "      <td>-195</td>\n",
       "    </tr>\n",
       "    <tr>\n",
       "      <th rowspan=\"2\" valign=\"top\">terrestrial</th>\n",
       "      <th>no</th>\n",
       "      <td>1.0</td>\n",
       "      <td>2</td>\n",
       "      <td>4721.0</td>\n",
       "      <td>6052</td>\n",
       "      <td>199.5</td>\n",
       "      <td>464</td>\n",
       "    </tr>\n",
       "    <tr>\n",
       "      <th>yes</th>\n",
       "      <td>0.5</td>\n",
       "      <td>1</td>\n",
       "      <td>4405.5</td>\n",
       "      <td>6371</td>\n",
       "      <td>91.0</td>\n",
       "      <td>167</td>\n",
       "    </tr>\n",
       "  </tbody>\n",
       "</table>\n",
       "</div>"
      ],
      "text/plain": [
       "                           moons     radius_km        mean_temp_c     \n",
       "                            mean max      mean    max        mean  max\n",
       "type        magnetic_field                                            \n",
       "gas giant   yes             81.5  83   64071.5  69911      -125.0 -110\n",
       "ice giant   yes             20.5  27   24992.0  25362      -197.5 -195\n",
       "terrestrial no               1.0   2    4721.0   6052       199.5  464\n",
       "            yes              0.5   1    4405.5   6371        91.0  167"
      ]
     },
     "execution_count": 79,
     "metadata": {},
     "output_type": "execute_result"
    }
   ],
   "source": [
    "# Group by type and magnetic_field, then use the agg() function to get the\n",
    "# mean and max of the values in the numeric columns for each group\n",
    "dfn = planets[['moons', 'radius_km', 'mean_temp_c', 'type', 'magnetic_field']]\n",
    "dfn.groupby(['type', 'magnetic_field']).agg(['mean', 'max'])"
   ]
  },
  {
   "cell_type": "code",
   "execution_count": 80,
   "id": "b6ba1c27-d264-4bae-a14b-099f43feda1e",
   "metadata": {},
   "outputs": [],
   "source": [
    "# Define a function that returns the 90 percentile of an array\n",
    "def percentile_90(x):\n",
    "    return x.quantile(0.9)"
   ]
  },
  {
   "cell_type": "code",
   "execution_count": 81,
   "id": "64ca3f94-658b-46b3-bd0a-a443fb685eff",
   "metadata": {},
   "outputs": [
    {
     "data": {
      "text/html": [
       "<div>\n",
       "<style scoped>\n",
       "    .dataframe tbody tr th:only-of-type {\n",
       "        vertical-align: middle;\n",
       "    }\n",
       "\n",
       "    .dataframe tbody tr th {\n",
       "        vertical-align: top;\n",
       "    }\n",
       "\n",
       "    .dataframe thead tr th {\n",
       "        text-align: left;\n",
       "    }\n",
       "\n",
       "    .dataframe thead tr:last-of-type th {\n",
       "        text-align: right;\n",
       "    }\n",
       "</style>\n",
       "<table border=\"1\" class=\"dataframe\">\n",
       "  <thead>\n",
       "    <tr>\n",
       "      <th></th>\n",
       "      <th></th>\n",
       "      <th colspan=\"2\" halign=\"left\">moons</th>\n",
       "      <th colspan=\"2\" halign=\"left\">radius_km</th>\n",
       "      <th colspan=\"2\" halign=\"left\">mean_temp_c</th>\n",
       "    </tr>\n",
       "    <tr>\n",
       "      <th></th>\n",
       "      <th></th>\n",
       "      <th>mean</th>\n",
       "      <th>percentile_90</th>\n",
       "      <th>mean</th>\n",
       "      <th>percentile_90</th>\n",
       "      <th>mean</th>\n",
       "      <th>percentile_90</th>\n",
       "    </tr>\n",
       "    <tr>\n",
       "      <th>type</th>\n",
       "      <th>magnetic_field</th>\n",
       "      <th></th>\n",
       "      <th></th>\n",
       "      <th></th>\n",
       "      <th></th>\n",
       "      <th></th>\n",
       "      <th></th>\n",
       "    </tr>\n",
       "  </thead>\n",
       "  <tbody>\n",
       "    <tr>\n",
       "      <th>gas giant</th>\n",
       "      <th>yes</th>\n",
       "      <td>81.5</td>\n",
       "      <td>82.7</td>\n",
       "      <td>64071.5</td>\n",
       "      <td>68743.1</td>\n",
       "      <td>-125.0</td>\n",
       "      <td>-113.0</td>\n",
       "    </tr>\n",
       "    <tr>\n",
       "      <th>ice giant</th>\n",
       "      <th>yes</th>\n",
       "      <td>20.5</td>\n",
       "      <td>25.7</td>\n",
       "      <td>24992.0</td>\n",
       "      <td>25288.0</td>\n",
       "      <td>-197.5</td>\n",
       "      <td>-195.5</td>\n",
       "    </tr>\n",
       "    <tr>\n",
       "      <th rowspan=\"2\" valign=\"top\">terrestrial</th>\n",
       "      <th>no</th>\n",
       "      <td>1.0</td>\n",
       "      <td>1.8</td>\n",
       "      <td>4721.0</td>\n",
       "      <td>5785.8</td>\n",
       "      <td>199.5</td>\n",
       "      <td>411.1</td>\n",
       "    </tr>\n",
       "    <tr>\n",
       "      <th>yes</th>\n",
       "      <td>0.5</td>\n",
       "      <td>0.9</td>\n",
       "      <td>4405.5</td>\n",
       "      <td>5977.9</td>\n",
       "      <td>91.0</td>\n",
       "      <td>151.8</td>\n",
       "    </tr>\n",
       "  </tbody>\n",
       "</table>\n",
       "</div>"
      ],
      "text/plain": [
       "                           moons               radius_km                \\\n",
       "                            mean percentile_90      mean percentile_90   \n",
       "type        magnetic_field                                               \n",
       "gas giant   yes             81.5          82.7   64071.5       68743.1   \n",
       "ice giant   yes             20.5          25.7   24992.0       25288.0   \n",
       "terrestrial no               1.0           1.8    4721.0        5785.8   \n",
       "            yes              0.5           0.9    4405.5        5977.9   \n",
       "\n",
       "                           mean_temp_c                \n",
       "                                  mean percentile_90  \n",
       "type        magnetic_field                            \n",
       "gas giant   yes                 -125.0        -113.0  \n",
       "ice giant   yes                 -197.5        -195.5  \n",
       "terrestrial no                   199.5         411.1  \n",
       "            yes                   91.0         151.8  "
      ]
     },
     "execution_count": 81,
     "metadata": {},
     "output_type": "execute_result"
    }
   ],
   "source": [
    "# Group by type and magnetic_field, then use the agg() function to apply the\n",
    "# mean and the custom-defined `percentile_90()` function to the numeric\n",
    "# columns for each group\n",
    "dfn = planets[['moons', 'radius_km', 'mean_temp_c', 'type', 'magnetic_field']]\n",
    "dfn.groupby(['type', 'magnetic_field']).agg(['mean', percentile_90])"
   ]
  },
  {
   "cell_type": "markdown",
   "id": "2e6ce6a0-896b-4c1c-8531-6b4d5cec0a30",
   "metadata": {},
   "source": [
    "## Merging and Joining\n",
    "\n",
    "For two dataframes that are formatted identically, the `concat()` function can be used to join the dataframes together into one.\n",
    "\n",
    "For two dataframes that are not formatted identically, the `merge()` function can be used to create a new dataframe from the columns of both source dataframes."
   ]
  },
  {
   "cell_type": "code",
   "execution_count": 84,
   "id": "dfd1164a-6787-4644-8f1e-97a8f20b185a",
   "metadata": {},
   "outputs": [
    {
     "data": {
      "text/html": [
       "<div>\n",
       "<style scoped>\n",
       "    .dataframe tbody tr th:only-of-type {\n",
       "        vertical-align: middle;\n",
       "    }\n",
       "\n",
       "    .dataframe tbody tr th {\n",
       "        vertical-align: top;\n",
       "    }\n",
       "\n",
       "    .dataframe thead th {\n",
       "        text-align: right;\n",
       "    }\n",
       "</style>\n",
       "<table border=\"1\" class=\"dataframe\">\n",
       "  <thead>\n",
       "    <tr style=\"text-align: right;\">\n",
       "      <th></th>\n",
       "      <th>planet</th>\n",
       "      <th>radius_km</th>\n",
       "      <th>moons</th>\n",
       "    </tr>\n",
       "  </thead>\n",
       "  <tbody>\n",
       "    <tr>\n",
       "      <th>0</th>\n",
       "      <td>Mercury</td>\n",
       "      <td>2440</td>\n",
       "      <td>0</td>\n",
       "    </tr>\n",
       "    <tr>\n",
       "      <th>1</th>\n",
       "      <td>Venus</td>\n",
       "      <td>6052</td>\n",
       "      <td>0</td>\n",
       "    </tr>\n",
       "    <tr>\n",
       "      <th>2</th>\n",
       "      <td>Earth</td>\n",
       "      <td>6371</td>\n",
       "      <td>1</td>\n",
       "    </tr>\n",
       "    <tr>\n",
       "      <th>3</th>\n",
       "      <td>Mars</td>\n",
       "      <td>3390</td>\n",
       "      <td>2</td>\n",
       "    </tr>\n",
       "  </tbody>\n",
       "</table>\n",
       "</div>"
      ],
      "text/plain": [
       "    planet  radius_km  moons\n",
       "0  Mercury       2440      0\n",
       "1    Venus       6052      0\n",
       "2    Earth       6371      1\n",
       "3     Mars       3390      2"
      ]
     },
     "execution_count": 84,
     "metadata": {},
     "output_type": "execute_result"
    }
   ],
   "source": [
    "import numpy as np\n",
    "import pandas as pd\n",
    "\n",
    "# Instantiate a dictionary of planetary data\n",
    "data = {'planet': ['Mercury', 'Venus', 'Earth', 'Mars'],\n",
    "        'radius_km': [2440, 6052, 6371, 3390],\n",
    "        'moons': [0, 0, 1, 2],\n",
    "        }\n",
    "# Use pd.DataFrame() function to convert dictionary to dataframe\n",
    "df1 = pd.DataFrame(data)\n",
    "df1"
   ]
  },
  {
   "cell_type": "code",
   "execution_count": 85,
   "id": "34d52afa-9230-4a6e-8be8-de4f9a43442a",
   "metadata": {},
   "outputs": [
    {
     "data": {
      "text/html": [
       "<div>\n",
       "<style scoped>\n",
       "    .dataframe tbody tr th:only-of-type {\n",
       "        vertical-align: middle;\n",
       "    }\n",
       "\n",
       "    .dataframe tbody tr th {\n",
       "        vertical-align: top;\n",
       "    }\n",
       "\n",
       "    .dataframe thead th {\n",
       "        text-align: right;\n",
       "    }\n",
       "</style>\n",
       "<table border=\"1\" class=\"dataframe\">\n",
       "  <thead>\n",
       "    <tr style=\"text-align: right;\">\n",
       "      <th></th>\n",
       "      <th>planet</th>\n",
       "      <th>radius_km</th>\n",
       "      <th>moons</th>\n",
       "    </tr>\n",
       "  </thead>\n",
       "  <tbody>\n",
       "    <tr>\n",
       "      <th>0</th>\n",
       "      <td>Jupiter</td>\n",
       "      <td>69911</td>\n",
       "      <td>80</td>\n",
       "    </tr>\n",
       "    <tr>\n",
       "      <th>1</th>\n",
       "      <td>Saturn</td>\n",
       "      <td>58232</td>\n",
       "      <td>83</td>\n",
       "    </tr>\n",
       "    <tr>\n",
       "      <th>2</th>\n",
       "      <td>Uranus</td>\n",
       "      <td>25362</td>\n",
       "      <td>27</td>\n",
       "    </tr>\n",
       "    <tr>\n",
       "      <th>3</th>\n",
       "      <td>Neptune</td>\n",
       "      <td>24622</td>\n",
       "      <td>14</td>\n",
       "    </tr>\n",
       "  </tbody>\n",
       "</table>\n",
       "</div>"
      ],
      "text/plain": [
       "    planet  radius_km  moons\n",
       "0  Jupiter      69911     80\n",
       "1   Saturn      58232     83\n",
       "2   Uranus      25362     27\n",
       "3  Neptune      24622     14"
      ]
     },
     "execution_count": 85,
     "metadata": {},
     "output_type": "execute_result"
    }
   ],
   "source": [
    "# Instantiate a dictionary of planetary data\n",
    "data = {'planet': ['Jupiter', 'Saturn', 'Uranus', 'Neptune'],\n",
    "        'radius_km': [69911, 58232, 25362, 24622],\n",
    "        'moons': [80, 83, 27, 14],\n",
    "        }\n",
    "# Use pd.DataFrame() function to convert dictionary to dataframe\n",
    "df2 = pd.DataFrame(data)\n",
    "df2"
   ]
  },
  {
   "cell_type": "markdown",
   "id": "7cc7d5a6-8eae-4b8b-867a-fea1d54e7d34",
   "metadata": {},
   "source": [
    "The `pd.concat()` function can combine the two dataframes along axis 0, with the second dataframe being added as new rows to the first dataframe."
   ]
  },
  {
   "cell_type": "code",
   "execution_count": 86,
   "id": "675b2eb6-4c1b-431f-9c98-d59dbef86a0a",
   "metadata": {},
   "outputs": [
    {
     "data": {
      "text/html": [
       "<div>\n",
       "<style scoped>\n",
       "    .dataframe tbody tr th:only-of-type {\n",
       "        vertical-align: middle;\n",
       "    }\n",
       "\n",
       "    .dataframe tbody tr th {\n",
       "        vertical-align: top;\n",
       "    }\n",
       "\n",
       "    .dataframe thead th {\n",
       "        text-align: right;\n",
       "    }\n",
       "</style>\n",
       "<table border=\"1\" class=\"dataframe\">\n",
       "  <thead>\n",
       "    <tr style=\"text-align: right;\">\n",
       "      <th></th>\n",
       "      <th>planet</th>\n",
       "      <th>radius_km</th>\n",
       "      <th>moons</th>\n",
       "    </tr>\n",
       "  </thead>\n",
       "  <tbody>\n",
       "    <tr>\n",
       "      <th>0</th>\n",
       "      <td>Mercury</td>\n",
       "      <td>2440</td>\n",
       "      <td>0</td>\n",
       "    </tr>\n",
       "    <tr>\n",
       "      <th>1</th>\n",
       "      <td>Venus</td>\n",
       "      <td>6052</td>\n",
       "      <td>0</td>\n",
       "    </tr>\n",
       "    <tr>\n",
       "      <th>2</th>\n",
       "      <td>Earth</td>\n",
       "      <td>6371</td>\n",
       "      <td>1</td>\n",
       "    </tr>\n",
       "    <tr>\n",
       "      <th>3</th>\n",
       "      <td>Mars</td>\n",
       "      <td>3390</td>\n",
       "      <td>2</td>\n",
       "    </tr>\n",
       "    <tr>\n",
       "      <th>0</th>\n",
       "      <td>Jupiter</td>\n",
       "      <td>69911</td>\n",
       "      <td>80</td>\n",
       "    </tr>\n",
       "    <tr>\n",
       "      <th>1</th>\n",
       "      <td>Saturn</td>\n",
       "      <td>58232</td>\n",
       "      <td>83</td>\n",
       "    </tr>\n",
       "    <tr>\n",
       "      <th>2</th>\n",
       "      <td>Uranus</td>\n",
       "      <td>25362</td>\n",
       "      <td>27</td>\n",
       "    </tr>\n",
       "    <tr>\n",
       "      <th>3</th>\n",
       "      <td>Neptune</td>\n",
       "      <td>24622</td>\n",
       "      <td>14</td>\n",
       "    </tr>\n",
       "  </tbody>\n",
       "</table>\n",
       "</div>"
      ],
      "text/plain": [
       "    planet  radius_km  moons\n",
       "0  Mercury       2440      0\n",
       "1    Venus       6052      0\n",
       "2    Earth       6371      1\n",
       "3     Mars       3390      2\n",
       "0  Jupiter      69911     80\n",
       "1   Saturn      58232     83\n",
       "2   Uranus      25362     27\n",
       "3  Neptune      24622     14"
      ]
     },
     "execution_count": 86,
     "metadata": {},
     "output_type": "execute_result"
    }
   ],
   "source": [
    "# The pd.concat() function can combine the two dataframes along axis 0,\n",
    "# with the second dataframe being added as new rows to the first dataframe\n",
    "df3 = pd.concat([df1, df2], axis=0)\n",
    "df3"
   ]
  },
  {
   "cell_type": "code",
   "execution_count": 87,
   "id": "2fcbe335-2021-4a78-9886-c6ca97add217",
   "metadata": {},
   "outputs": [
    {
     "data": {
      "text/html": [
       "<div>\n",
       "<style scoped>\n",
       "    .dataframe tbody tr th:only-of-type {\n",
       "        vertical-align: middle;\n",
       "    }\n",
       "\n",
       "    .dataframe tbody tr th {\n",
       "        vertical-align: top;\n",
       "    }\n",
       "\n",
       "    .dataframe thead th {\n",
       "        text-align: right;\n",
       "    }\n",
       "</style>\n",
       "<table border=\"1\" class=\"dataframe\">\n",
       "  <thead>\n",
       "    <tr style=\"text-align: right;\">\n",
       "      <th></th>\n",
       "      <th>planet</th>\n",
       "      <th>radius_km</th>\n",
       "      <th>moons</th>\n",
       "    </tr>\n",
       "  </thead>\n",
       "  <tbody>\n",
       "    <tr>\n",
       "      <th>0</th>\n",
       "      <td>Mercury</td>\n",
       "      <td>2440</td>\n",
       "      <td>0</td>\n",
       "    </tr>\n",
       "    <tr>\n",
       "      <th>1</th>\n",
       "      <td>Venus</td>\n",
       "      <td>6052</td>\n",
       "      <td>0</td>\n",
       "    </tr>\n",
       "    <tr>\n",
       "      <th>2</th>\n",
       "      <td>Earth</td>\n",
       "      <td>6371</td>\n",
       "      <td>1</td>\n",
       "    </tr>\n",
       "    <tr>\n",
       "      <th>3</th>\n",
       "      <td>Mars</td>\n",
       "      <td>3390</td>\n",
       "      <td>2</td>\n",
       "    </tr>\n",
       "    <tr>\n",
       "      <th>4</th>\n",
       "      <td>Jupiter</td>\n",
       "      <td>69911</td>\n",
       "      <td>80</td>\n",
       "    </tr>\n",
       "    <tr>\n",
       "      <th>5</th>\n",
       "      <td>Saturn</td>\n",
       "      <td>58232</td>\n",
       "      <td>83</td>\n",
       "    </tr>\n",
       "    <tr>\n",
       "      <th>6</th>\n",
       "      <td>Uranus</td>\n",
       "      <td>25362</td>\n",
       "      <td>27</td>\n",
       "    </tr>\n",
       "    <tr>\n",
       "      <th>7</th>\n",
       "      <td>Neptune</td>\n",
       "      <td>24622</td>\n",
       "      <td>14</td>\n",
       "    </tr>\n",
       "  </tbody>\n",
       "</table>\n",
       "</div>"
      ],
      "text/plain": [
       "    planet  radius_km  moons\n",
       "0  Mercury       2440      0\n",
       "1    Venus       6052      0\n",
       "2    Earth       6371      1\n",
       "3     Mars       3390      2\n",
       "4  Jupiter      69911     80\n",
       "5   Saturn      58232     83\n",
       "6   Uranus      25362     27\n",
       "7  Neptune      24622     14"
      ]
     },
     "execution_count": 87,
     "metadata": {},
     "output_type": "execute_result"
    }
   ],
   "source": [
    "# Reset the row indices\n",
    "df3 = df3.reset_index(drop=True)\n",
    "df3"
   ]
  },
  {
   "cell_type": "code",
   "execution_count": 88,
   "id": "87cc6682-f830-4bdd-b681-7e8071df0e7c",
   "metadata": {},
   "outputs": [],
   "source": [
    "# NOTE: THIS CELL WAS NOT SHOWN IN THE INSTRUCTIONAL VIDEO, BUT WAS RUN AS A\n",
    "#       SETUP CELL\n",
    "data = {'planet': ['Earth', 'Mars','Jupiter', 'Saturn', 'Uranus',\n",
    "                   'Neptune', 'Janssen', 'Tadmor'],\n",
    "        'type': ['terrestrial', 'terrestrial','gas giant', 'gas giant',\n",
    "                 'ice giant', 'ice giant', 'super earth','gas giant'],\n",
    "        'rings': ['no', 'no', 'yes', 'yes', 'yes','yes', 'no', None],\n",
    "        'mean_temp_c': [15, -65, -110, -140, -195, -200, None, None],\n",
    "        'magnetic_field': ['yes', 'no', 'yes', 'yes', 'yes', 'yes', None, None],\n",
    "        'life': [1, 0, 0, 0, 0, 0, 1, 1]\n",
    "        }\n",
    "df4 = pd.DataFrame(data)"
   ]
  },
  {
   "cell_type": "code",
   "execution_count": 89,
   "id": "58a6a34b-6708-44eb-9a3b-0d75c6ea1cb6",
   "metadata": {},
   "outputs": [
    {
     "data": {
      "text/html": [
       "<div>\n",
       "<style scoped>\n",
       "    .dataframe tbody tr th:only-of-type {\n",
       "        vertical-align: middle;\n",
       "    }\n",
       "\n",
       "    .dataframe tbody tr th {\n",
       "        vertical-align: top;\n",
       "    }\n",
       "\n",
       "    .dataframe thead th {\n",
       "        text-align: right;\n",
       "    }\n",
       "</style>\n",
       "<table border=\"1\" class=\"dataframe\">\n",
       "  <thead>\n",
       "    <tr style=\"text-align: right;\">\n",
       "      <th></th>\n",
       "      <th>planet</th>\n",
       "      <th>type</th>\n",
       "      <th>rings</th>\n",
       "      <th>mean_temp_c</th>\n",
       "      <th>magnetic_field</th>\n",
       "      <th>life</th>\n",
       "    </tr>\n",
       "  </thead>\n",
       "  <tbody>\n",
       "    <tr>\n",
       "      <th>0</th>\n",
       "      <td>Earth</td>\n",
       "      <td>terrestrial</td>\n",
       "      <td>no</td>\n",
       "      <td>15.0</td>\n",
       "      <td>yes</td>\n",
       "      <td>1</td>\n",
       "    </tr>\n",
       "    <tr>\n",
       "      <th>1</th>\n",
       "      <td>Mars</td>\n",
       "      <td>terrestrial</td>\n",
       "      <td>no</td>\n",
       "      <td>-65.0</td>\n",
       "      <td>no</td>\n",
       "      <td>0</td>\n",
       "    </tr>\n",
       "    <tr>\n",
       "      <th>2</th>\n",
       "      <td>Jupiter</td>\n",
       "      <td>gas giant</td>\n",
       "      <td>yes</td>\n",
       "      <td>-110.0</td>\n",
       "      <td>yes</td>\n",
       "      <td>0</td>\n",
       "    </tr>\n",
       "    <tr>\n",
       "      <th>3</th>\n",
       "      <td>Saturn</td>\n",
       "      <td>gas giant</td>\n",
       "      <td>yes</td>\n",
       "      <td>-140.0</td>\n",
       "      <td>yes</td>\n",
       "      <td>0</td>\n",
       "    </tr>\n",
       "    <tr>\n",
       "      <th>4</th>\n",
       "      <td>Uranus</td>\n",
       "      <td>ice giant</td>\n",
       "      <td>yes</td>\n",
       "      <td>-195.0</td>\n",
       "      <td>yes</td>\n",
       "      <td>0</td>\n",
       "    </tr>\n",
       "    <tr>\n",
       "      <th>5</th>\n",
       "      <td>Neptune</td>\n",
       "      <td>ice giant</td>\n",
       "      <td>yes</td>\n",
       "      <td>-200.0</td>\n",
       "      <td>yes</td>\n",
       "      <td>0</td>\n",
       "    </tr>\n",
       "    <tr>\n",
       "      <th>6</th>\n",
       "      <td>Janssen</td>\n",
       "      <td>super earth</td>\n",
       "      <td>no</td>\n",
       "      <td>NaN</td>\n",
       "      <td>None</td>\n",
       "      <td>1</td>\n",
       "    </tr>\n",
       "    <tr>\n",
       "      <th>7</th>\n",
       "      <td>Tadmor</td>\n",
       "      <td>gas giant</td>\n",
       "      <td>None</td>\n",
       "      <td>NaN</td>\n",
       "      <td>None</td>\n",
       "      <td>1</td>\n",
       "    </tr>\n",
       "  </tbody>\n",
       "</table>\n",
       "</div>"
      ],
      "text/plain": [
       "    planet         type rings  mean_temp_c magnetic_field  life\n",
       "0    Earth  terrestrial    no         15.0            yes     1\n",
       "1     Mars  terrestrial    no        -65.0             no     0\n",
       "2  Jupiter    gas giant   yes       -110.0            yes     0\n",
       "3   Saturn    gas giant   yes       -140.0            yes     0\n",
       "4   Uranus    ice giant   yes       -195.0            yes     0\n",
       "5  Neptune    ice giant   yes       -200.0            yes     0\n",
       "6  Janssen  super earth    no          NaN           None     1\n",
       "7   Tadmor    gas giant  None          NaN           None     1"
      ]
     },
     "execution_count": 89,
     "metadata": {},
     "output_type": "execute_result"
    }
   ],
   "source": [
    "df4"
   ]
  },
  {
   "cell_type": "code",
   "execution_count": 90,
   "id": "628b7a68-77cd-4902-b84d-8456ce791d2d",
   "metadata": {},
   "outputs": [
    {
     "data": {
      "text/html": [
       "<div>\n",
       "<style scoped>\n",
       "    .dataframe tbody tr th:only-of-type {\n",
       "        vertical-align: middle;\n",
       "    }\n",
       "\n",
       "    .dataframe tbody tr th {\n",
       "        vertical-align: top;\n",
       "    }\n",
       "\n",
       "    .dataframe thead th {\n",
       "        text-align: right;\n",
       "    }\n",
       "</style>\n",
       "<table border=\"1\" class=\"dataframe\">\n",
       "  <thead>\n",
       "    <tr style=\"text-align: right;\">\n",
       "      <th></th>\n",
       "      <th>planet</th>\n",
       "      <th>radius_km</th>\n",
       "      <th>moons</th>\n",
       "      <th>type</th>\n",
       "      <th>rings</th>\n",
       "      <th>mean_temp_c</th>\n",
       "      <th>magnetic_field</th>\n",
       "      <th>life</th>\n",
       "    </tr>\n",
       "  </thead>\n",
       "  <tbody>\n",
       "    <tr>\n",
       "      <th>0</th>\n",
       "      <td>Earth</td>\n",
       "      <td>6371</td>\n",
       "      <td>1</td>\n",
       "      <td>terrestrial</td>\n",
       "      <td>no</td>\n",
       "      <td>15.0</td>\n",
       "      <td>yes</td>\n",
       "      <td>1</td>\n",
       "    </tr>\n",
       "    <tr>\n",
       "      <th>1</th>\n",
       "      <td>Mars</td>\n",
       "      <td>3390</td>\n",
       "      <td>2</td>\n",
       "      <td>terrestrial</td>\n",
       "      <td>no</td>\n",
       "      <td>-65.0</td>\n",
       "      <td>no</td>\n",
       "      <td>0</td>\n",
       "    </tr>\n",
       "    <tr>\n",
       "      <th>2</th>\n",
       "      <td>Jupiter</td>\n",
       "      <td>69911</td>\n",
       "      <td>80</td>\n",
       "      <td>gas giant</td>\n",
       "      <td>yes</td>\n",
       "      <td>-110.0</td>\n",
       "      <td>yes</td>\n",
       "      <td>0</td>\n",
       "    </tr>\n",
       "    <tr>\n",
       "      <th>3</th>\n",
       "      <td>Saturn</td>\n",
       "      <td>58232</td>\n",
       "      <td>83</td>\n",
       "      <td>gas giant</td>\n",
       "      <td>yes</td>\n",
       "      <td>-140.0</td>\n",
       "      <td>yes</td>\n",
       "      <td>0</td>\n",
       "    </tr>\n",
       "    <tr>\n",
       "      <th>4</th>\n",
       "      <td>Uranus</td>\n",
       "      <td>25362</td>\n",
       "      <td>27</td>\n",
       "      <td>ice giant</td>\n",
       "      <td>yes</td>\n",
       "      <td>-195.0</td>\n",
       "      <td>yes</td>\n",
       "      <td>0</td>\n",
       "    </tr>\n",
       "    <tr>\n",
       "      <th>5</th>\n",
       "      <td>Neptune</td>\n",
       "      <td>24622</td>\n",
       "      <td>14</td>\n",
       "      <td>ice giant</td>\n",
       "      <td>yes</td>\n",
       "      <td>-200.0</td>\n",
       "      <td>yes</td>\n",
       "      <td>0</td>\n",
       "    </tr>\n",
       "  </tbody>\n",
       "</table>\n",
       "</div>"
      ],
      "text/plain": [
       "    planet  radius_km  moons         type rings  mean_temp_c magnetic_field  \\\n",
       "0    Earth       6371      1  terrestrial    no         15.0            yes   \n",
       "1     Mars       3390      2  terrestrial    no        -65.0             no   \n",
       "2  Jupiter      69911     80    gas giant   yes       -110.0            yes   \n",
       "3   Saturn      58232     83    gas giant   yes       -140.0            yes   \n",
       "4   Uranus      25362     27    ice giant   yes       -195.0            yes   \n",
       "5  Neptune      24622     14    ice giant   yes       -200.0            yes   \n",
       "\n",
       "   life  \n",
       "0     1  \n",
       "1     0  \n",
       "2     0  \n",
       "3     0  \n",
       "4     0  \n",
       "5     0  "
      ]
     },
     "execution_count": 90,
     "metadata": {},
     "output_type": "execute_result"
    }
   ],
   "source": [
    "# Use pd.merge() to combine dataframes.\n",
    "# Inner merge retains only keys that appear in both dataframes.\n",
    "inner = pd.merge(df3, df4, on='planet', how='inner')\n",
    "inner"
   ]
  },
  {
   "cell_type": "code",
   "execution_count": 91,
   "id": "66b01261-b622-4334-9447-1913ded3a289",
   "metadata": {},
   "outputs": [
    {
     "data": {
      "text/html": [
       "<div>\n",
       "<style scoped>\n",
       "    .dataframe tbody tr th:only-of-type {\n",
       "        vertical-align: middle;\n",
       "    }\n",
       "\n",
       "    .dataframe tbody tr th {\n",
       "        vertical-align: top;\n",
       "    }\n",
       "\n",
       "    .dataframe thead th {\n",
       "        text-align: right;\n",
       "    }\n",
       "</style>\n",
       "<table border=\"1\" class=\"dataframe\">\n",
       "  <thead>\n",
       "    <tr style=\"text-align: right;\">\n",
       "      <th></th>\n",
       "      <th>planet</th>\n",
       "      <th>radius_km</th>\n",
       "      <th>moons</th>\n",
       "      <th>type</th>\n",
       "      <th>rings</th>\n",
       "      <th>mean_temp_c</th>\n",
       "      <th>magnetic_field</th>\n",
       "      <th>life</th>\n",
       "    </tr>\n",
       "  </thead>\n",
       "  <tbody>\n",
       "    <tr>\n",
       "      <th>0</th>\n",
       "      <td>Mercury</td>\n",
       "      <td>2440.0</td>\n",
       "      <td>0.0</td>\n",
       "      <td>NaN</td>\n",
       "      <td>NaN</td>\n",
       "      <td>NaN</td>\n",
       "      <td>NaN</td>\n",
       "      <td>NaN</td>\n",
       "    </tr>\n",
       "    <tr>\n",
       "      <th>1</th>\n",
       "      <td>Venus</td>\n",
       "      <td>6052.0</td>\n",
       "      <td>0.0</td>\n",
       "      <td>NaN</td>\n",
       "      <td>NaN</td>\n",
       "      <td>NaN</td>\n",
       "      <td>NaN</td>\n",
       "      <td>NaN</td>\n",
       "    </tr>\n",
       "    <tr>\n",
       "      <th>2</th>\n",
       "      <td>Earth</td>\n",
       "      <td>6371.0</td>\n",
       "      <td>1.0</td>\n",
       "      <td>terrestrial</td>\n",
       "      <td>no</td>\n",
       "      <td>15.0</td>\n",
       "      <td>yes</td>\n",
       "      <td>1.0</td>\n",
       "    </tr>\n",
       "    <tr>\n",
       "      <th>3</th>\n",
       "      <td>Mars</td>\n",
       "      <td>3390.0</td>\n",
       "      <td>2.0</td>\n",
       "      <td>terrestrial</td>\n",
       "      <td>no</td>\n",
       "      <td>-65.0</td>\n",
       "      <td>no</td>\n",
       "      <td>0.0</td>\n",
       "    </tr>\n",
       "    <tr>\n",
       "      <th>4</th>\n",
       "      <td>Jupiter</td>\n",
       "      <td>69911.0</td>\n",
       "      <td>80.0</td>\n",
       "      <td>gas giant</td>\n",
       "      <td>yes</td>\n",
       "      <td>-110.0</td>\n",
       "      <td>yes</td>\n",
       "      <td>0.0</td>\n",
       "    </tr>\n",
       "    <tr>\n",
       "      <th>5</th>\n",
       "      <td>Saturn</td>\n",
       "      <td>58232.0</td>\n",
       "      <td>83.0</td>\n",
       "      <td>gas giant</td>\n",
       "      <td>yes</td>\n",
       "      <td>-140.0</td>\n",
       "      <td>yes</td>\n",
       "      <td>0.0</td>\n",
       "    </tr>\n",
       "    <tr>\n",
       "      <th>6</th>\n",
       "      <td>Uranus</td>\n",
       "      <td>25362.0</td>\n",
       "      <td>27.0</td>\n",
       "      <td>ice giant</td>\n",
       "      <td>yes</td>\n",
       "      <td>-195.0</td>\n",
       "      <td>yes</td>\n",
       "      <td>0.0</td>\n",
       "    </tr>\n",
       "    <tr>\n",
       "      <th>7</th>\n",
       "      <td>Neptune</td>\n",
       "      <td>24622.0</td>\n",
       "      <td>14.0</td>\n",
       "      <td>ice giant</td>\n",
       "      <td>yes</td>\n",
       "      <td>-200.0</td>\n",
       "      <td>yes</td>\n",
       "      <td>0.0</td>\n",
       "    </tr>\n",
       "    <tr>\n",
       "      <th>8</th>\n",
       "      <td>Janssen</td>\n",
       "      <td>NaN</td>\n",
       "      <td>NaN</td>\n",
       "      <td>super earth</td>\n",
       "      <td>no</td>\n",
       "      <td>NaN</td>\n",
       "      <td>None</td>\n",
       "      <td>1.0</td>\n",
       "    </tr>\n",
       "    <tr>\n",
       "      <th>9</th>\n",
       "      <td>Tadmor</td>\n",
       "      <td>NaN</td>\n",
       "      <td>NaN</td>\n",
       "      <td>gas giant</td>\n",
       "      <td>None</td>\n",
       "      <td>NaN</td>\n",
       "      <td>None</td>\n",
       "      <td>1.0</td>\n",
       "    </tr>\n",
       "  </tbody>\n",
       "</table>\n",
       "</div>"
      ],
      "text/plain": [
       "    planet  radius_km  moons         type rings  mean_temp_c magnetic_field  \\\n",
       "0  Mercury     2440.0    0.0          NaN   NaN          NaN            NaN   \n",
       "1    Venus     6052.0    0.0          NaN   NaN          NaN            NaN   \n",
       "2    Earth     6371.0    1.0  terrestrial    no         15.0            yes   \n",
       "3     Mars     3390.0    2.0  terrestrial    no        -65.0             no   \n",
       "4  Jupiter    69911.0   80.0    gas giant   yes       -110.0            yes   \n",
       "5   Saturn    58232.0   83.0    gas giant   yes       -140.0            yes   \n",
       "6   Uranus    25362.0   27.0    ice giant   yes       -195.0            yes   \n",
       "7  Neptune    24622.0   14.0    ice giant   yes       -200.0            yes   \n",
       "8  Janssen        NaN    NaN  super earth    no          NaN           None   \n",
       "9   Tadmor        NaN    NaN    gas giant  None          NaN           None   \n",
       "\n",
       "   life  \n",
       "0   NaN  \n",
       "1   NaN  \n",
       "2   1.0  \n",
       "3   0.0  \n",
       "4   0.0  \n",
       "5   0.0  \n",
       "6   0.0  \n",
       "7   0.0  \n",
       "8   1.0  \n",
       "9   1.0  "
      ]
     },
     "execution_count": 91,
     "metadata": {},
     "output_type": "execute_result"
    }
   ],
   "source": [
    "# Use pd.merge() to combine dataframes.\n",
    "# Outer merge retains all keys from both dataframes.\n",
    "outer = pd.merge(df3, df4, on='planet', how='outer')\n",
    "outer"
   ]
  },
  {
   "cell_type": "code",
   "execution_count": 92,
   "id": "94c7d47f-41bd-4cd8-85d6-84b1b193914e",
   "metadata": {},
   "outputs": [
    {
     "data": {
      "text/html": [
       "<div>\n",
       "<style scoped>\n",
       "    .dataframe tbody tr th:only-of-type {\n",
       "        vertical-align: middle;\n",
       "    }\n",
       "\n",
       "    .dataframe tbody tr th {\n",
       "        vertical-align: top;\n",
       "    }\n",
       "\n",
       "    .dataframe thead th {\n",
       "        text-align: right;\n",
       "    }\n",
       "</style>\n",
       "<table border=\"1\" class=\"dataframe\">\n",
       "  <thead>\n",
       "    <tr style=\"text-align: right;\">\n",
       "      <th></th>\n",
       "      <th>planet</th>\n",
       "      <th>radius_km</th>\n",
       "      <th>moons</th>\n",
       "      <th>type</th>\n",
       "      <th>rings</th>\n",
       "      <th>mean_temp_c</th>\n",
       "      <th>magnetic_field</th>\n",
       "      <th>life</th>\n",
       "    </tr>\n",
       "  </thead>\n",
       "  <tbody>\n",
       "    <tr>\n",
       "      <th>0</th>\n",
       "      <td>Mercury</td>\n",
       "      <td>2440</td>\n",
       "      <td>0</td>\n",
       "      <td>NaN</td>\n",
       "      <td>NaN</td>\n",
       "      <td>NaN</td>\n",
       "      <td>NaN</td>\n",
       "      <td>NaN</td>\n",
       "    </tr>\n",
       "    <tr>\n",
       "      <th>1</th>\n",
       "      <td>Venus</td>\n",
       "      <td>6052</td>\n",
       "      <td>0</td>\n",
       "      <td>NaN</td>\n",
       "      <td>NaN</td>\n",
       "      <td>NaN</td>\n",
       "      <td>NaN</td>\n",
       "      <td>NaN</td>\n",
       "    </tr>\n",
       "    <tr>\n",
       "      <th>2</th>\n",
       "      <td>Earth</td>\n",
       "      <td>6371</td>\n",
       "      <td>1</td>\n",
       "      <td>terrestrial</td>\n",
       "      <td>no</td>\n",
       "      <td>15.0</td>\n",
       "      <td>yes</td>\n",
       "      <td>1.0</td>\n",
       "    </tr>\n",
       "    <tr>\n",
       "      <th>3</th>\n",
       "      <td>Mars</td>\n",
       "      <td>3390</td>\n",
       "      <td>2</td>\n",
       "      <td>terrestrial</td>\n",
       "      <td>no</td>\n",
       "      <td>-65.0</td>\n",
       "      <td>no</td>\n",
       "      <td>0.0</td>\n",
       "    </tr>\n",
       "    <tr>\n",
       "      <th>4</th>\n",
       "      <td>Jupiter</td>\n",
       "      <td>69911</td>\n",
       "      <td>80</td>\n",
       "      <td>gas giant</td>\n",
       "      <td>yes</td>\n",
       "      <td>-110.0</td>\n",
       "      <td>yes</td>\n",
       "      <td>0.0</td>\n",
       "    </tr>\n",
       "    <tr>\n",
       "      <th>5</th>\n",
       "      <td>Saturn</td>\n",
       "      <td>58232</td>\n",
       "      <td>83</td>\n",
       "      <td>gas giant</td>\n",
       "      <td>yes</td>\n",
       "      <td>-140.0</td>\n",
       "      <td>yes</td>\n",
       "      <td>0.0</td>\n",
       "    </tr>\n",
       "    <tr>\n",
       "      <th>6</th>\n",
       "      <td>Uranus</td>\n",
       "      <td>25362</td>\n",
       "      <td>27</td>\n",
       "      <td>ice giant</td>\n",
       "      <td>yes</td>\n",
       "      <td>-195.0</td>\n",
       "      <td>yes</td>\n",
       "      <td>0.0</td>\n",
       "    </tr>\n",
       "    <tr>\n",
       "      <th>7</th>\n",
       "      <td>Neptune</td>\n",
       "      <td>24622</td>\n",
       "      <td>14</td>\n",
       "      <td>ice giant</td>\n",
       "      <td>yes</td>\n",
       "      <td>-200.0</td>\n",
       "      <td>yes</td>\n",
       "      <td>0.0</td>\n",
       "    </tr>\n",
       "  </tbody>\n",
       "</table>\n",
       "</div>"
      ],
      "text/plain": [
       "    planet  radius_km  moons         type rings  mean_temp_c magnetic_field  \\\n",
       "0  Mercury       2440      0          NaN   NaN          NaN            NaN   \n",
       "1    Venus       6052      0          NaN   NaN          NaN            NaN   \n",
       "2    Earth       6371      1  terrestrial    no         15.0            yes   \n",
       "3     Mars       3390      2  terrestrial    no        -65.0             no   \n",
       "4  Jupiter      69911     80    gas giant   yes       -110.0            yes   \n",
       "5   Saturn      58232     83    gas giant   yes       -140.0            yes   \n",
       "6   Uranus      25362     27    ice giant   yes       -195.0            yes   \n",
       "7  Neptune      24622     14    ice giant   yes       -200.0            yes   \n",
       "\n",
       "   life  \n",
       "0   NaN  \n",
       "1   NaN  \n",
       "2   1.0  \n",
       "3   0.0  \n",
       "4   0.0  \n",
       "5   0.0  \n",
       "6   0.0  \n",
       "7   0.0  "
      ]
     },
     "execution_count": 92,
     "metadata": {},
     "output_type": "execute_result"
    }
   ],
   "source": [
    "# Use pd.merge() to combine dataframes.\n",
    "# Left merge retains only keys that appear in the left dataframe.\n",
    "left = pd.merge(df3, df4, on='planet', how='left')\n",
    "left"
   ]
  },
  {
   "cell_type": "code",
   "execution_count": 93,
   "id": "4d78a457-1570-4c74-8baa-5a2041d6e717",
   "metadata": {},
   "outputs": [
    {
     "data": {
      "text/html": [
       "<div>\n",
       "<style scoped>\n",
       "    .dataframe tbody tr th:only-of-type {\n",
       "        vertical-align: middle;\n",
       "    }\n",
       "\n",
       "    .dataframe tbody tr th {\n",
       "        vertical-align: top;\n",
       "    }\n",
       "\n",
       "    .dataframe thead th {\n",
       "        text-align: right;\n",
       "    }\n",
       "</style>\n",
       "<table border=\"1\" class=\"dataframe\">\n",
       "  <thead>\n",
       "    <tr style=\"text-align: right;\">\n",
       "      <th></th>\n",
       "      <th>planet</th>\n",
       "      <th>radius_km</th>\n",
       "      <th>moons</th>\n",
       "      <th>type</th>\n",
       "      <th>rings</th>\n",
       "      <th>mean_temp_c</th>\n",
       "      <th>magnetic_field</th>\n",
       "      <th>life</th>\n",
       "    </tr>\n",
       "  </thead>\n",
       "  <tbody>\n",
       "    <tr>\n",
       "      <th>0</th>\n",
       "      <td>Earth</td>\n",
       "      <td>6371.0</td>\n",
       "      <td>1.0</td>\n",
       "      <td>terrestrial</td>\n",
       "      <td>no</td>\n",
       "      <td>15.0</td>\n",
       "      <td>yes</td>\n",
       "      <td>1</td>\n",
       "    </tr>\n",
       "    <tr>\n",
       "      <th>1</th>\n",
       "      <td>Mars</td>\n",
       "      <td>3390.0</td>\n",
       "      <td>2.0</td>\n",
       "      <td>terrestrial</td>\n",
       "      <td>no</td>\n",
       "      <td>-65.0</td>\n",
       "      <td>no</td>\n",
       "      <td>0</td>\n",
       "    </tr>\n",
       "    <tr>\n",
       "      <th>2</th>\n",
       "      <td>Jupiter</td>\n",
       "      <td>69911.0</td>\n",
       "      <td>80.0</td>\n",
       "      <td>gas giant</td>\n",
       "      <td>yes</td>\n",
       "      <td>-110.0</td>\n",
       "      <td>yes</td>\n",
       "      <td>0</td>\n",
       "    </tr>\n",
       "    <tr>\n",
       "      <th>3</th>\n",
       "      <td>Saturn</td>\n",
       "      <td>58232.0</td>\n",
       "      <td>83.0</td>\n",
       "      <td>gas giant</td>\n",
       "      <td>yes</td>\n",
       "      <td>-140.0</td>\n",
       "      <td>yes</td>\n",
       "      <td>0</td>\n",
       "    </tr>\n",
       "    <tr>\n",
       "      <th>4</th>\n",
       "      <td>Uranus</td>\n",
       "      <td>25362.0</td>\n",
       "      <td>27.0</td>\n",
       "      <td>ice giant</td>\n",
       "      <td>yes</td>\n",
       "      <td>-195.0</td>\n",
       "      <td>yes</td>\n",
       "      <td>0</td>\n",
       "    </tr>\n",
       "    <tr>\n",
       "      <th>5</th>\n",
       "      <td>Neptune</td>\n",
       "      <td>24622.0</td>\n",
       "      <td>14.0</td>\n",
       "      <td>ice giant</td>\n",
       "      <td>yes</td>\n",
       "      <td>-200.0</td>\n",
       "      <td>yes</td>\n",
       "      <td>0</td>\n",
       "    </tr>\n",
       "    <tr>\n",
       "      <th>6</th>\n",
       "      <td>Janssen</td>\n",
       "      <td>NaN</td>\n",
       "      <td>NaN</td>\n",
       "      <td>super earth</td>\n",
       "      <td>no</td>\n",
       "      <td>NaN</td>\n",
       "      <td>None</td>\n",
       "      <td>1</td>\n",
       "    </tr>\n",
       "    <tr>\n",
       "      <th>7</th>\n",
       "      <td>Tadmor</td>\n",
       "      <td>NaN</td>\n",
       "      <td>NaN</td>\n",
       "      <td>gas giant</td>\n",
       "      <td>None</td>\n",
       "      <td>NaN</td>\n",
       "      <td>None</td>\n",
       "      <td>1</td>\n",
       "    </tr>\n",
       "  </tbody>\n",
       "</table>\n",
       "</div>"
      ],
      "text/plain": [
       "    planet  radius_km  moons         type rings  mean_temp_c magnetic_field  \\\n",
       "0    Earth     6371.0    1.0  terrestrial    no         15.0            yes   \n",
       "1     Mars     3390.0    2.0  terrestrial    no        -65.0             no   \n",
       "2  Jupiter    69911.0   80.0    gas giant   yes       -110.0            yes   \n",
       "3   Saturn    58232.0   83.0    gas giant   yes       -140.0            yes   \n",
       "4   Uranus    25362.0   27.0    ice giant   yes       -195.0            yes   \n",
       "5  Neptune    24622.0   14.0    ice giant   yes       -200.0            yes   \n",
       "6  Janssen        NaN    NaN  super earth    no          NaN           None   \n",
       "7   Tadmor        NaN    NaN    gas giant  None          NaN           None   \n",
       "\n",
       "   life  \n",
       "0     1  \n",
       "1     0  \n",
       "2     0  \n",
       "3     0  \n",
       "4     0  \n",
       "5     0  \n",
       "6     1  \n",
       "7     1  "
      ]
     },
     "execution_count": 93,
     "metadata": {},
     "output_type": "execute_result"
    }
   ],
   "source": [
    "# Use pd.merge() to combine dataframes.\n",
    "# Right merge retains only keys that appear in right dataframe.\n",
    "right = pd.merge(df3, df4, on='planet', how='right')\n",
    "right"
   ]
  },
  {
   "cell_type": "code",
   "execution_count": null,
   "id": "34aca1b9-1cd3-4728-9d78-b6e952a59b41",
   "metadata": {},
   "outputs": [],
   "source": []
  }
 ],
 "metadata": {
  "kernelspec": {
   "display_name": "Python 3 (ipykernel)",
   "language": "python",
   "name": "python3"
  },
  "language_info": {
   "codemirror_mode": {
    "name": "ipython",
    "version": 3
   },
   "file_extension": ".py",
   "mimetype": "text/x-python",
   "name": "python",
   "nbconvert_exporter": "python",
   "pygments_lexer": "ipython3",
   "version": "3.9.7"
  }
 },
 "nbformat": 4,
 "nbformat_minor": 5
}
